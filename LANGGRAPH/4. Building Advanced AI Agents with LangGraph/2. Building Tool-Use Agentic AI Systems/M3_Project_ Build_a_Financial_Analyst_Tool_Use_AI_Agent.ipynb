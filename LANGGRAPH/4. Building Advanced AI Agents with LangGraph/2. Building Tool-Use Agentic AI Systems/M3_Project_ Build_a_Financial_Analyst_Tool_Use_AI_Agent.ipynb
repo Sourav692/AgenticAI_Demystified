{
 "cells": [
  {
   "cell_type": "markdown",
   "metadata": {
    "application/vnd.databricks.v1+cell": {
     "cellMetadata": {
      "byteLimit": 2048000,
      "rowLimit": 10000
     },
     "inputWidgets": {},
     "nuid": "cf007d4c-4412-4109-8f36-7262ce38786c",
     "showTitle": false,
     "tableResultSettingsMap": {},
     "title": ""
    },
    "id": "8pdRDlVs1MJs"
   },
   "source": [
    "# Build a Financial Analyst Tool-Use AI Agent"
   ]
  },
  {
   "cell_type": "markdown",
   "metadata": {
    "application/vnd.databricks.v1+cell": {
     "cellMetadata": {
      "byteLimit": 2048000,
      "rowLimit": 10000
     },
     "inputWidgets": {},
     "nuid": "977fa40b-4b2c-4b34-af61-25906e1fdeae",
     "showTitle": false,
     "tableResultSettingsMap": {},
     "title": ""
    },
    "id": "NYBpZTjLnEXb"
   },
   "source": [
    "This project will focus on building a Tool-Use Agentic AI System which acts as a Financial Analyst & Advisor.\n",
    "\n",
    "![](https://i.imgur.com/sHevAT8.png)\n",
    "\n",
    "\n",
    "### Financial Analyst Tool-Use Agentic AI System\n",
    "\n",
    "In this project, we will design a **Financial Analyst Tool-Use Agentic AI System** to assist investors with accurate, up-to-date stock market insights. We will be building the complete agent from scratch using **LangGraph**, a cutting-edge alternative to LangChain. The workflow comprises the following components:\n",
    "\n",
    "1. **Agent System Prompt**:\n",
    "   - The agent is designed to validate input queries for relevance and specificity.\n",
    "   - It provides comprehensive market analysis or stock-specific insights depending on the user's query.\n",
    "   - For invalid queries, the agent responds professionally and guides the user appropriately.\n",
    "\n",
    "\n",
    "   **Flows**:\n",
    "   - **Flow 1**: For general market trends, the agent analyzes data and suggests stock opportunities using tools like `SEARCH_WEB` and `GET_GENERAL_MARKET_DATA`.\n",
    "   - **Flow 2**: For stock-specific queries, the agent validates the stock ticker, retrieves relevant data, and provides insights using tools such as `GET_STOCK_FUNDAMENTAL_INDICATOR_METRICS` and `GET_STOCK_PRICE_METRICS`.\n",
    "\n",
    "2. **Financial Analysis Tools**:\n",
    "   The system integrates multiple tools to get useful financial data and metrics:\n",
    "   - **SEARCH_WEB**: Fetches general stock market information from the web.\n",
    "   - **GET_STOCK_FUNDAMENTAL_INDICATOR_METRICS**: Provides insights into key financial metrics such as P/E ratio, ROE, etc.\n",
    "   - **GET_STOCK_NEWS**: Extracts the latest news and updates related to stocks or markets.\n",
    "   - **GET_GENERAL_MARKET_DATA**: Fetches data on overall market trends and performance.\n",
    "   - **GET_STOCK_TICKER**: Validates and fetches stock ticker symbols based on user queries.\n",
    "   - **GET_STOCK_PRICE_METRICS**: Retrieves price trends, performance, and metrics for specific stocks.\n",
    "\n",
    "3. **Stock Market Data Providers**:\n",
    "   The system ensures real-time, reliable data by integrating with top providers like Yahoo Finance, Finviz, TMX, Cboe, and more, through platforms like **OpenBB**.\n",
    "\n",
    "4. **Message Trimmer**:\n",
    "   A newly introduced component trims agent state message history to ensure they are well within the context window limit of the LLM.\n",
    "\n",
    "5. **Tool-Use Agentic Framework**:\n",
    "   The system employs **ReAct reasoning**, combining logical reasoning with dynamic tool usage. This framework ensures precise and actionable results by dynamically selecting the right tools based on the query.\n",
    "\n",
    "6. **Final Response**:\n",
    "   After processing the data from tool calls, the agentic system generates the final response.\n",
    "\n"
   ]
  },
  {
   "cell_type": "markdown",
   "metadata": {
    "application/vnd.databricks.v1+cell": {
     "cellMetadata": {
      "byteLimit": 2048000,
      "rowLimit": 10000
     },
     "inputWidgets": {},
     "nuid": "99252462-c655-4327-95f0-81e2ff2ca569",
     "showTitle": false,
     "tableResultSettingsMap": {},
     "title": ""
    },
    "id": "L1KvMtf54l0d"
   },
   "source": [
    "## Install OpenAI, LangGraph and LangChain dependencies"
   ]
  },
  {
   "cell_type": "code",
   "execution_count": 0,
   "metadata": {
    "application/vnd.databricks.v1+cell": {
     "cellMetadata": {
      "byteLimit": 2048000,
      "rowLimit": 10000
     },
     "inputWidgets": {},
     "nuid": "0ed6b158-71f0-4d95-87d4-18bda3cea833",
     "showTitle": false,
     "tableResultSettingsMap": {},
     "title": ""
    },
    "colab": {
     "base_uri": "https://localhost:8080/"
    },
    "id": "2evPp14fy258",
    "outputId": "5ea12113-e034-4ee1-8289-7f6e6c8f957d"
   },
   "outputs": [],
   "source": [
    "!pip install langchain==0.3.14\n",
    "!pip install langchain-openai==0.3.0\n",
    "!pip install langchain-community==0.3.14\n",
    "!pip install langgraph==0.2.64\n",
    "# fix yfinance to stable version\n",
    "!pip install yfinance==0.2.51"
   ]
  },
  {
   "cell_type": "code",
   "execution_count": 0,
   "metadata": {
    "application/vnd.databricks.v1+cell": {
     "cellMetadata": {
      "byteLimit": 2048000,
      "rowLimit": 10000
     },
     "inputWidgets": {},
     "nuid": "d8c6f394-d663-4d45-abb4-ae3d3f3acaa8",
     "showTitle": false,
     "tableResultSettingsMap": {},
     "title": ""
    }
   },
   "outputs": [],
   "source": [
    "dbutils.library.restartPython()"
   ]
  },
  {
   "cell_type": "markdown",
   "metadata": {
    "application/vnd.databricks.v1+cell": {
     "cellMetadata": {
      "byteLimit": 2048000,
      "rowLimit": 10000
     },
     "inputWidgets": {},
     "nuid": "d8e9bef2-8b38-4d84-8b8c-78a8ca93767f",
     "showTitle": false,
     "tableResultSettingsMap": {},
     "title": ""
    },
    "id": "pSE8EoRXyuxx"
   },
   "source": [
    "## Install OpenBB"
   ]
  },
  {
   "cell_type": "code",
   "execution_count": 0,
   "metadata": {
    "application/vnd.databricks.v1+cell": {
     "cellMetadata": {
      "byteLimit": 2048000,
      "rowLimit": 10000
     },
     "inputWidgets": {},
     "nuid": "ef46a362-8580-4c18-9237-d317788efb0b",
     "showTitle": false,
     "tableResultSettingsMap": {},
     "title": ""
    },
    "colab": {
     "base_uri": "https://localhost:8080/",
     "height": 1000
    },
    "id": "fO4gOIVIjGH7",
    "outputId": "fb20e45e-8f94-432b-adcc-4df8156687c3"
   },
   "outputs": [],
   "source": [
    "!pip install openbb[all]==4.3.5"
   ]
  },
  {
   "cell_type": "code",
   "execution_count": 0,
   "metadata": {
    "application/vnd.databricks.v1+cell": {
     "cellMetadata": {
      "byteLimit": 2048000,
      "rowLimit": 10000
     },
     "inputWidgets": {},
     "nuid": "3bb2cfc7-f2f9-4489-b738-1a9633a1d1b4",
     "showTitle": false,
     "tableResultSettingsMap": {},
     "title": ""
    }
   },
   "outputs": [],
   "source": [
    "dbutils.library.restartPython()"
   ]
  },
  {
   "cell_type": "markdown",
   "metadata": {
    "application/vnd.databricks.v1+cell": {
     "cellMetadata": {
      "byteLimit": 2048000,
      "rowLimit": 10000
     },
     "inputWidgets": {},
     "nuid": "5638e619-004d-4541-8d88-33c01bd1c73f",
     "showTitle": false,
     "tableResultSettingsMap": {},
     "title": ""
    },
    "id": "H9c37cLnSrbg"
   },
   "source": [
    "## Enter Open AI API Key"
   ]
  },
  {
   "cell_type": "code",
   "execution_count": 0,
   "metadata": {
    "application/vnd.databricks.v1+cell": {
     "cellMetadata": {
      "byteLimit": 2048000,
      "rowLimit": 10000
     },
     "inputWidgets": {},
     "nuid": "b108237b-12d5-4332-b492-d3e8700d1085",
     "showTitle": false,
     "tableResultSettingsMap": {},
     "title": ""
    },
    "colab": {
     "base_uri": "https://localhost:8080/"
    },
    "id": "cv3JzCEx_PAd",
    "outputId": "da160662-63ad-4b87-be92-ec73d8e05e3f"
   },
   "outputs": [],
   "source": [
    "from getpass import getpass\n",
    "\n",
    "OPENAI_KEY = getpass('Enter Open AI API Key: ')"
   ]
  },
  {
   "cell_type": "markdown",
   "metadata": {
    "application/vnd.databricks.v1+cell": {
     "cellMetadata": {
      "byteLimit": 2048000,
      "rowLimit": 10000
     },
     "inputWidgets": {},
     "nuid": "0cd9be90-06c0-4f43-9fab-5892049e2b2d",
     "showTitle": false,
     "tableResultSettingsMap": {},
     "title": ""
    },
    "id": "djj1pH6A04BX"
   },
   "source": [
    "## Enter OpenBB Key\n",
    "\n",
    "Get a free API key from [here](https://my.openbb.co/app/platform/pat)"
   ]
  },
  {
   "cell_type": "code",
   "execution_count": 0,
   "metadata": {
    "application/vnd.databricks.v1+cell": {
     "cellMetadata": {
      "byteLimit": 2048000,
      "rowLimit": 10000
     },
     "inputWidgets": {},
     "nuid": "a73c3162-a3fd-4840-a8f1-367ecfdd4f8e",
     "showTitle": false,
     "tableResultSettingsMap": {},
     "title": ""
    },
    "colab": {
     "base_uri": "https://localhost:8080/"
    },
    "id": "q2sKDYgEqOaP",
    "outputId": "21f38d89-7f9c-4153-de10-cb6d343196c2"
   },
   "outputs": [],
   "source": [
    "from getpass import getpass\n",
    "\n",
    "OPENBB_PAT = getpass('Enter OpenBB Personal Access Token (PAT): ')"
   ]
  },
  {
   "cell_type": "markdown",
   "metadata": {
    "application/vnd.databricks.v1+cell": {
     "cellMetadata": {
      "byteLimit": 2048000,
      "rowLimit": 10000
     },
     "inputWidgets": {},
     "nuid": "c4668b58-216e-46dc-b174-4081df19678f",
     "showTitle": false,
     "tableResultSettingsMap": {},
     "title": ""
    },
    "id": "ucWRRI3QztL2"
   },
   "source": [
    "## Enter Tavily Search API Key\n",
    "\n",
    "Get a free API key from [here](https://tavily.com/#api)"
   ]
  },
  {
   "cell_type": "code",
   "execution_count": 0,
   "metadata": {
    "application/vnd.databricks.v1+cell": {
     "cellMetadata": {
      "byteLimit": 2048000,
      "rowLimit": 10000
     },
     "inputWidgets": {},
     "nuid": "0fd03f54-82c8-4fc8-a246-f2e1a27f7257",
     "showTitle": false,
     "tableResultSettingsMap": {},
     "title": ""
    },
    "colab": {
     "base_uri": "https://localhost:8080/"
    },
    "id": "mK-1WLzOrJdb",
    "outputId": "4093232c-1f15-426b-aca6-e035ed3145b9"
   },
   "outputs": [],
   "source": [
    "TAVILY_API_KEY = getpass('Enter Tavily Search API Key: ')"
   ]
  },
  {
   "cell_type": "markdown",
   "metadata": {
    "application/vnd.databricks.v1+cell": {
     "cellMetadata": {
      "byteLimit": 2048000,
      "rowLimit": 10000
     },
     "inputWidgets": {},
     "nuid": "a792d713-87a5-4c12-9085-58cb39a7e326",
     "showTitle": false,
     "tableResultSettingsMap": {},
     "title": ""
    },
    "id": "1T0s0um5Svfa"
   },
   "source": [
    "## Setup Environment Variables"
   ]
  },
  {
   "cell_type": "code",
   "execution_count": 0,
   "metadata": {
    "application/vnd.databricks.v1+cell": {
     "cellMetadata": {
      "byteLimit": 2048000,
      "rowLimit": 10000
     },
     "inputWidgets": {},
     "nuid": "e6abb514-a81d-42f2-bd3a-697f0210cc28",
     "showTitle": false,
     "tableResultSettingsMap": {},
     "title": ""
    },
    "id": "x1YSuHNF_lbh"
   },
   "outputs": [],
   "source": [
    "import os\n",
    "\n",
    "os.environ['OPENAI_API_KEY'] = OPENAI_KEY\n",
    "os.environ['TAVILY_API_KEY'] = TAVILY_API_KEY"
   ]
  },
  {
   "cell_type": "code",
   "execution_count": 0,
   "metadata": {
    "application/vnd.databricks.v1+cell": {
     "cellMetadata": {
      "byteLimit": 2048000,
      "rowLimit": 10000
     },
     "inputWidgets": {},
     "nuid": "2aefec6f-d141-45bf-a0b8-b3c2a02b8fa9",
     "showTitle": false,
     "tableResultSettingsMap": {},
     "title": ""
    }
   },
   "outputs": [],
   "source": [
    "import os\n",
    "\n",
    "# Create the specified directory and any necessary parent directories if they do not exist.. This is needed when try to run using Databricks. In Local this is not needed.\n",
    "os.makedirs(\n",
    "    \"/Workspace/Users/sourav.banerjee@databricks.com/AgenticAI_Demystified/LANGGRAPH/4. Building Advanced AI Agents with LangGraph/.ruff_cache/0.13.3\",\n",
    "    exist_ok=True\n",
    ")"
   ]
  },
  {
   "cell_type": "code",
   "execution_count": 0,
   "metadata": {
    "application/vnd.databricks.v1+cell": {
     "cellMetadata": {
      "byteLimit": 2048000,
      "rowLimit": 10000
     },
     "inputWidgets": {},
     "nuid": "5940422c-d2f6-42cf-8341-1cca126a30d1",
     "showTitle": false,
     "tableResultSettingsMap": {},
     "title": ""
    },
    "colab": {
     "base_uri": "https://localhost:8080/"
    },
    "id": "V4a3LQeClFoi",
    "outputId": "951ccd36-23e4-43cd-9a58-3ea25b9ce6b2"
   },
   "outputs": [],
   "source": [
    "from openbb import obb\n",
    "# takes 1 min to setup\n",
    "obb.account.login(pat=OPENBB_PAT)\n"
   ]
  },
  {
   "cell_type": "markdown",
   "metadata": {
    "application/vnd.databricks.v1+cell": {
     "cellMetadata": {},
     "inputWidgets": {},
     "nuid": "97021265-b255-4940-ad91-28ea4ed0ee80",
     "showTitle": false,
     "tableResultSettingsMap": {},
     "title": ""
    },
    "id": "TW0QaP_RzG2h"
   },
   "source": [
    "## Create Financial Tools\n",
    "\n",
    "**Financial Analysis Tools**:\n",
    "   The system integrates multiple tools to get useful financial data and metrics:\n",
    "   - **SEARCH_WEB**: Fetches general stock market information from the web.\n",
    "   - **GET_STOCK_FUNDAMENTAL_INDICATOR_METRICS**: Provides insights into key financial metrics such as P/E ratio, ROE, etc.\n",
    "   - **GET_STOCK_NEWS**: Extracts the latest news and updates related to stocks or markets.\n",
    "   - **GET_GENERAL_MARKET_DATA**: Fetches data on overall market trends and performance.\n",
    "   - **GET_STOCK_TICKER**: Validates and fetches stock ticker symbols based on user queries.\n",
    "   - **GET_STOCK_PRICE_METRICS**: Retrieves price trends, performance, and metrics for specific stocks."
   ]
  },
  {
   "cell_type": "code",
   "execution_count": 0,
   "metadata": {
    "application/vnd.databricks.v1+cell": {
     "cellMetadata": {
      "byteLimit": 2048000,
      "rowLimit": 10000
     },
     "inputWidgets": {},
     "nuid": "737dfd8b-04ee-4ad6-97af-561859e5370b",
     "showTitle": false,
     "tableResultSettingsMap": {},
     "title": ""
    },
    "id": "Ue8xgu9WpuPi"
   },
   "outputs": [],
   "source": [
    "from langchain_community.utilities.tavily_search import TavilySearchAPIWrapper\n",
    "from langchain_core.tools import tool\n",
    "import json\n",
    "import requests\n",
    "from tqdm import tqdm\n",
    "from bs4 import BeautifulSoup\n",
    "from datetime import datetime, timedelta\n",
    "\n",
    "tavily_search = TavilySearchAPIWrapper()\n",
    "\n",
    "@tool\n",
    "def search_web(query: str, num_results=8) -> list:\n",
    "    \"\"\"Search the web for a query. Userful for general information or general news\"\"\"\n",
    "    results = tavily_search.raw_results(query=query,\n",
    "                                        max_results=num_results,\n",
    "                                        search_depth='advanced',\n",
    "                                        include_answer=False,\n",
    "                                        include_raw_content=True)\n",
    "    return results\n",
    "\n",
    "@tool\n",
    "def get_stock_ticker_symbol(stock_name: str) -> str:\n",
    "    \"\"\"Get the symbol, name and CIK for any publicly traded company\"\"\"\n",
    "    # Use OpenBB to search for stock ticker symbol and company details by name.\n",
    "    # The provider \"sec\" fetches data from the U.S. Securities and Exchange Commission (SEC).\n",
    "    res = obb.equity.search(stock_name, provider=\"sec\")\n",
    "\n",
    "    # Convert the result to a DataFrame and format it as markdown for readability.\n",
    "    stock_ticker_details = res.to_df().to_markdown()\n",
    "\n",
    "    # Prepare the output with the stock details.\n",
    "    output = \"\"\"Here are the details of the company and its stock ticker symbol:\\n\\n\"\"\" + stock_ticker_details\n",
    "    return output\n",
    "\n",
    "@tool\n",
    "def get_stock_price_metrics(stock_ticker: str) -> str:\n",
    "    \"\"\"Get historical stock price data, stock price quote and price performance data\n",
    "       like price changes for a specific stock ticker\"\"\"\n",
    "\n",
    "    # Fetch the latest stock price quote using \"cboe\" provider.\n",
    "    res = obb.equity.price.quote(stock_ticker, provider='cboe')\n",
    "    price_quote = res.to_df().to_markdown()\n",
    "\n",
    "    # Retrieve stock price performance metrics (e.g., percentage change) using \"finviz\" provider.\n",
    "    res = obb.equity.price.performance(symbol=stock_ticker, provider='finviz')\n",
    "    price_performance = res.to_df().to_markdown()\n",
    "\n",
    "    # Fetch historical price data for the past year using \"yfinance\" provider.\n",
    "    end_date = datetime.now()\n",
    "    start_date = (end_date - timedelta(days=365)).strftime(\"%Y-%m-%d\")\n",
    "    res = obb.equity.price.historical(symbol=stock_ticker, start_date=start_date,\n",
    "                                      interval='1d', provider='yfinance')\n",
    "    price_historical = res.to_df().to_markdown()\n",
    "\n",
    "    # Combine the results into a formatted output.\n",
    "    output = (\"\"\"Here are the stock price metrics and data for the stock ticker symbol \"\"\" + stock_ticker + \"\"\": \\n\\n\"\"\" +\n",
    "              \"Price Quote Metrics:\\n\\n\" + price_quote +\n",
    "              \"\\n\\nPrice Performance Metrics:\\n\\n\" + price_performance +\n",
    "              \"\\n\\nPrice Historical Data:\\n\\n\" + price_historical)\n",
    "    return output\n",
    "\n",
    "@tool\n",
    "def get_stock_fundamental_indicator_metrics(stock_ticker: str) -> str:\n",
    "    \"\"\"Get fundamental indicator metrics for a specific stock ticker\"\"\"\n",
    "\n",
    "    # Retrieve fundamental financial ratios (e.g., P/E ratio, ROE) using \"fmp\" provider.\n",
    "    res = obb.equity.fundamental.ratios(symbol=stock_ticker, period='annual',\n",
    "                                        limit=10, provider='fmp')\n",
    "    fundamental_ratios = res.to_df().to_markdown()\n",
    "\n",
    "    # Fetch additional fundamental metrics (e.g., EBITDA, revenue growth) using \"yfinance\" provider.\n",
    "    res = obb.equity.fundamental.metrics(symbol=stock_ticker, period='annual',\n",
    "                                        limit=10, provider='yfinance')\n",
    "    fundamental_metrics = res.to_df().to_markdown()\n",
    "\n",
    "    # Combine fundamental ratios and metrics into a single output.\n",
    "    output = (\"\"\"Here are the fundamental indicator metrics and data for the stock ticker symbol \"\"\" + stock_ticker + \"\"\": \\n\\n\"\"\" +\n",
    "              \"Fundamental Ratios:\\n\\n\" + fundamental_ratios +\n",
    "              \"\\n\\nFundamental Metrics:\\n\\n\" + fundamental_metrics)\n",
    "    return output\n",
    "\n",
    "@tool\n",
    "def get_stock_news(stock_ticker: str) -> str:\n",
    "    \"\"\"Get news article headlines for a specific stock ticker\"\"\"\n",
    "\n",
    "    # Define the date range to fetch news (last 45 days).\n",
    "    end_date = datetime.now()\n",
    "    start_date = (end_date - timedelta(days=45)).strftime(\"%Y-%m-%d\")\n",
    "\n",
    "    # Retrieve news headlines for the stock using \"tmx\" provider.\n",
    "    # res = obb.news.company(symbol=stock_ticker, start_date=start_date, provider='tmx', limit=50)\n",
    "    # Change the provide to Polygon. As tmx now support only CANADA Companies\n",
    "    res = obb.news.company(symbol=stock_ticker, start_date=start_date, provider='polygon', limit=50)\n",
    "    news = res.to_df()\n",
    "\n",
    "    # Extract relevant columns (symbols and titles) and format as markdown.\n",
    "    news = news[['symbols', 'title']].to_markdown()\n",
    "\n",
    "    # Prepare the output with the news headlines.\n",
    "    output = (\"\"\"Here are the recent news headlines for the stock ticker symbol \"\"\" + stock_ticker + \"\"\": \\n\\n\"\"\" + news)\n",
    "    return output\n",
    "\n",
    "@tool\n",
    "def get_general_market_data() -> str:\n",
    "    \"\"\"Get general data and indicators for the whole stock market including,\n",
    "       most actively traded stocks based on volume, top price gainers and top price losers.\n",
    "       Useful when you want an overview of the market and what stocks to look at.\"\"\"\n",
    "\n",
    "    # Retrieve the most actively traded stocks using \"yfinance\" provider.\n",
    "    res = obb.equity.discovery.active(sort='desc', provider='yfinance', limit=15)\n",
    "    most_active_stocks = res.to_df().to_markdown()\n",
    "\n",
    "    # Fetch the top price gainers using \"yfinance\" provider.\n",
    "    res = obb.equity.discovery.gainers(sort='desc', provider='yfinance', limit=15)\n",
    "    price_gainers = res.to_df().to_markdown()\n",
    "\n",
    "    # Retrieve the top price losers using \"yfinance\" provider.\n",
    "    res = obb.equity.discovery.losers(sort='desc', provider='yfinance', limit=15)\n",
    "    price_losers = res.to_df().to_markdown()\n",
    "\n",
    "    # Combine the market data into a single formatted output.\n",
    "    output = (\"\"\"Here's some detailed information of the stock market which includes most actively traded stocks, gainers and losers:\\n\\n\"\"\" +\n",
    "              \"Most actively traded stocks:\\n\\n\" + most_active_stocks +\n",
    "              \"\\n\\nTop price gainers:\\n\\n\" + price_gainers +\n",
    "              \"\\n\\nTop price losers:\\n\\n\" + price_losers)\n",
    "    return output\n"
   ]
  },
  {
   "cell_type": "code",
   "execution_count": 0,
   "metadata": {
    "application/vnd.databricks.v1+cell": {
     "cellMetadata": {
      "byteLimit": 2048000,
      "rowLimit": 10000
     },
     "inputWidgets": {},
     "nuid": "a26cda10-744c-40f9-b46a-8c1643cb3307",
     "showTitle": false,
     "tableResultSettingsMap": {},
     "title": ""
    }
   },
   "outputs": [],
   "source": [
    "# from openbb import obb\n",
    "# help(obb.news.company)"
   ]
  },
  {
   "cell_type": "markdown",
   "metadata": {
    "application/vnd.databricks.v1+cell": {
     "cellMetadata": {},
     "inputWidgets": {},
     "nuid": "a387b0c7-be26-439e-89f1-d1674d793b0c",
     "showTitle": false,
     "tableResultSettingsMap": {},
     "title": ""
    },
    "id": "EaMKKIDk2FvX"
   },
   "source": [
    "## Try out Defined Tools"
   ]
  },
  {
   "cell_type": "code",
   "execution_count": 0,
   "metadata": {
    "application/vnd.databricks.v1+cell": {
     "cellMetadata": {
      "byteLimit": 2048000,
      "rowLimit": 10000
     },
     "inputWidgets": {},
     "nuid": "80fa64ef-61e2-4ac9-94fc-0de348ddaa47",
     "showTitle": false,
     "tableResultSettingsMap": {},
     "title": ""
    },
    "colab": {
     "base_uri": "https://localhost:8080/",
     "height": 1000
    },
    "id": "reeYrrrTvtNG",
    "jupyter": {
     "outputs_hidden": true
    },
    "outputId": "d715b2e6-587b-497b-d559-d0f9314796a8"
   },
   "outputs": [],
   "source": [
    "from IPython.display import display, Markdown\n",
    "\n",
    "response = get_general_market_data.invoke({})\n",
    "display(Markdown(response))"
   ]
  },
  {
   "cell_type": "code",
   "execution_count": 0,
   "metadata": {
    "application/vnd.databricks.v1+cell": {
     "cellMetadata": {
      "byteLimit": 2048000,
      "rowLimit": 10000
     },
     "inputWidgets": {},
     "nuid": "034bd49c-9032-4264-b6c8-1edda132f0e1",
     "showTitle": false,
     "tableResultSettingsMap": {},
     "title": ""
    }
   },
   "outputs": [],
   "source": [
    "response = search_web.invoke('Who is ceo of Nvidia')\n",
    "display(Markdown(response[\"results\"][0][\"content\"]))"
   ]
  },
  {
   "cell_type": "code",
   "execution_count": 0,
   "metadata": {
    "application/vnd.databricks.v1+cell": {
     "cellMetadata": {
      "byteLimit": 2048000,
      "rowLimit": 10000
     },
     "inputWidgets": {},
     "nuid": "b1cad925-8084-4dfd-955d-0188ea1ae623",
     "showTitle": false,
     "tableResultSettingsMap": {},
     "title": ""
    },
    "colab": {
     "base_uri": "https://localhost:8080/",
     "height": 110
    },
    "id": "d3qIPWLEHv-C",
    "outputId": "8a3125f4-ef05-4ebe-c4be-051009d15f74"
   },
   "outputs": [],
   "source": [
    "response = get_stock_ticker_symbol.invoke('Nvidia')\n",
    "display(Markdown(response))"
   ]
  },
  {
   "cell_type": "code",
   "execution_count": 0,
   "metadata": {
    "application/vnd.databricks.v1+cell": {
     "cellMetadata": {
      "byteLimit": 2048000,
      "rowLimit": 10000
     },
     "inputWidgets": {},
     "nuid": "6c66b4d1-f054-44f4-a109-677118279b04",
     "showTitle": false,
     "tableResultSettingsMap": {},
     "title": ""
    },
    "colab": {
     "base_uri": "https://localhost:8080/",
     "height": 1000
    },
    "id": "v1o0b_OVBIWT",
    "outputId": "ca7e6763-5edb-46b3-9ef3-a64641af75d1"
   },
   "outputs": [],
   "source": [
    "response = get_stock_price_metrics.invoke('NVDA')\n",
    "display(Markdown(response))"
   ]
  },
  {
   "cell_type": "code",
   "execution_count": 0,
   "metadata": {
    "application/vnd.databricks.v1+cell": {
     "cellMetadata": {
      "byteLimit": 2048000,
      "rowLimit": 10000
     },
     "inputWidgets": {},
     "nuid": "e80e6fe6-8870-4fd9-ae18-d75ac817b7f3",
     "showTitle": false,
     "tableResultSettingsMap": {},
     "title": ""
    }
   },
   "outputs": [],
   "source": [
    "obb.user.credentials.fmp_api_key = \"pfK8AP344Oiw4xOKdNMChZarDUjUYfDz\""
   ]
  },
  {
   "cell_type": "code",
   "execution_count": 0,
   "metadata": {
    "application/vnd.databricks.v1+cell": {
     "cellMetadata": {
      "byteLimit": 2048000,
      "rowLimit": 10000
     },
     "inputWidgets": {},
     "nuid": "b8bd4bca-ef9c-4c37-94a1-87807d0fc5a1",
     "showTitle": false,
     "tableResultSettingsMap": {},
     "title": ""
    }
   },
   "outputs": [],
   "source": [
    "obb.user.credentials.polygon_api_key =\"PVLKbutCZ7E9CipXHSxFKUPoQeQnoYO7\""
   ]
  },
  {
   "cell_type": "code",
   "execution_count": 0,
   "metadata": {
    "application/vnd.databricks.v1+cell": {
     "cellMetadata": {
      "byteLimit": 2048000,
      "rowLimit": 10000
     },
     "inputWidgets": {},
     "nuid": "1b7b5c6a-ba79-4fae-ac01-877d0c7be85f",
     "showTitle": false,
     "tableResultSettingsMap": {},
     "title": ""
    },
    "colab": {
     "base_uri": "https://localhost:8080/",
     "height": 1000
    },
    "id": "0gizQVvfzRSl",
    "jupyter": {
     "outputs_hidden": true
    },
    "outputId": "b0e6899e-bb20-4b42-f431-30adaf2e0be5"
   },
   "outputs": [],
   "source": [
    "response = get_stock_news.invoke('NVDA')\n",
    "display(Markdown(response))"
   ]
  },
  {
   "cell_type": "markdown",
   "metadata": {
    "application/vnd.databricks.v1+cell": {
     "cellMetadata": {},
     "inputWidgets": {},
     "nuid": "4785572c-327c-4bc4-95b1-60d4f4f3851b",
     "showTitle": false,
     "tableResultSettingsMap": {},
     "title": ""
    },
    "id": "JPcJl2m-vYMZ"
   },
   "source": [
    "## Build the Tool-Use Financial Agentic Graph with LangGraph\n"
   ]
  },
  {
   "cell_type": "code",
   "execution_count": 0,
   "metadata": {
    "application/vnd.databricks.v1+cell": {
     "cellMetadata": {
      "byteLimit": 2048000,
      "rowLimit": 10000
     },
     "inputWidgets": {},
     "nuid": "7e03112f-c77b-431e-9c0a-9eb8b91f198a",
     "showTitle": false,
     "tableResultSettingsMap": {},
     "title": ""
    },
    "id": "RaZ88m_mnZ87"
   },
   "outputs": [],
   "source": [
    "AGENT_SYS_PROMPT = \"\"\"Role: You are an AI stock market assistant tasked with providing investors\n",
    "with up-to-date, detailed information on individual stocks or advice based on general market data.\n",
    "\n",
    "Objective: Assist data-driven stock market investors by giving accurate,\n",
    "complete, but concise information relevant to their questions about individual\n",
    "stocks or general advice on useful stocks based on general market data and trends.\n",
    "\n",
    "Capabilities: You are given a number of tools as functions. Use as many tools\n",
    "as needed to ensure all information provided is timely, accurate, concise,\n",
    "relevant, and responsive to the user's query.\n",
    "\n",
    "Starting Flow:\n",
    "Input validation: Determine if the input is asking about a specific company\n",
    "or stock ticker (Flow 2). If not, check if they are asking for general advice on potentially useful stocks\n",
    "based on current market data (Flow 1). Otherwise, respond in a friendly, positive, professional tone\n",
    "that you don't have information to answer as you can only provide financial advice based on market data.\n",
    "For each of the flows related to valid questions use the following instructions:\n",
    "\n",
    "Flow 1:\n",
    "A. Market Analysis: If the query is valid and the user wants to get general advice on the market\n",
    "or stocks worth looking into for investing, leverage the general market data tool to get relevant data.\n",
    "In case you need more information then you can also use web search.\n",
    "\n",
    "Flow 2:\n",
    "A. Symbol extraction. If the query is valid and is related to a specific company or companies,\n",
    "extract the company name or ticker symbol from the question.\n",
    "If a company name is given, look up the ticker symbol using a tool.\n",
    "If the ticker symbol is not found based on the company, try to\n",
    "correct the spelling and try again, like changing \"microsfot\" to \"microsoft\",\n",
    "or broadening the search, like changing \"southwest airlines\" to a shorter variation\n",
    "like \"southwest\" and increasing \"limit\" to 10 or more. If the company or ticker is\n",
    "still unclear based on the question or conversation so far, and the results of the\n",
    "symbol lookup, then ask the user to clarify which company or ticker.\n",
    "\n",
    "B. Information retrieval. Determine what data the user is seeking on the symbol\n",
    "identified. Use the appropriate tools to fetch the requested information. Only use\n",
    "data obtained from the tools. You may use multiple tools in a sequence. For instance,\n",
    "first determine the company's symbol, then retrieve price data using the symbol\n",
    "and fundamental indicator data etc. For specific queries only retrieve data using the most relevant tool.\n",
    "If detailed analysis is needed, you can call multiple tools to retrieve data first.\n",
    "In case you still need more information then you can also use web search.\n",
    "\n",
    "Response Generation Flow:\n",
    "Compose Response: Analyze the retrieved data carefully and provide a comprehensive answer to the user in a clear and concise format,\n",
    "in a friendly professional tone, emphasizing the data retrieved.\n",
    "If the user asks for recommendations you can give some recommendations\n",
    "but emphasize the user to do their own research before investing.\n",
    "When generating the final response in markdown,\n",
    "if there are special characters in the text, such as the dollar symbol,\n",
    "ensure they are escaped properly for correct rendering e.g $25.5 should become \\$25.5\n",
    "\n",
    "Example Interaction:\n",
    "User asks: \"What is the PE ratio for Eli Lilly?\"\n",
    "Chatbot recognizes 'Eli Lilly' as a company name.\n",
    "Chatbot uses symbol lookup to find the ticker for Eli Lilly, returning LLY.\n",
    "Chatbot retrieves the PE ratio using the proper function with symbol LLY.\n",
    "Chatbot responds: \"The PE ratio for Eli Lilly (symbol: LLY) as of May 12, 2024 is 30.\"\n",
    "\n",
    "Check carefully and only call the tools which are specifically named below.\n",
    "Only use data obtained from these tools.\n",
    "\"\"\""
   ]
  },
  {
   "cell_type": "code",
   "execution_count": 0,
   "metadata": {
    "application/vnd.databricks.v1+cell": {
     "cellMetadata": {
      "byteLimit": 2048000,
      "rowLimit": 10000
     },
     "inputWidgets": {},
     "nuid": "98668a25-1129-463c-860b-c807592ed85c",
     "showTitle": false,
     "tableResultSettingsMap": {},
     "title": ""
    },
    "colab": {
     "base_uri": "https://localhost:8080/"
    },
    "id": "1q8nEDoHnv6E",
    "outputId": "5823fb10-1010-47dc-bc78-776a7c9af4ad"
   },
   "outputs": [],
   "source": [
    "import tiktoken\n",
    "# just checking size of the system prompt so we do not cross 128K context window limit when trimming messages later\n",
    "enc = tiktoken.encoding_for_model(\"gpt-4o\")\n",
    "tokens = enc.encode(AGENT_SYS_PROMPT)\n",
    "print(f\"Number of tokens: {len(tokens)}\")"
   ]
  },
  {
   "cell_type": "markdown",
   "metadata": {
    "application/vnd.databricks.v1+cell": {
     "cellMetadata": {},
     "inputWidgets": {},
     "nuid": "6414f035-7a66-4ae3-920c-6c20f676033e",
     "showTitle": false,
     "tableResultSettingsMap": {},
     "title": ""
    },
    "id": "fMaJvMR93kJe"
   },
   "source": [
    "### Key Steps:\n",
    "\n",
    "1. **State Definition**:\n",
    "   - The `State` class defines the structure of the conversation state, which holds the list of messages.\n",
    "\n",
    "2. **Tools Setup**:\n",
    "   - The `tools` list contains functions the agent can use to fetch data or perform actions (e.g., stock data, web search).\n",
    "\n",
    "3. **LLM Initialization**:\n",
    "   - The `ChatOpenAI` instance is initialized with GPT-4o and bound to the tools, enabling the agent to use them when needed.\n",
    "\n",
    "4. **Chatbot Node**:\n",
    "   - The `chatbot` function processes user input, trims the conversation history to avoid exceeding token limits, and generates a response using the LLM.\n",
    "\n",
    "5. **Tool Node**:\n",
    "   - The `ToolNode` handles the execution of tools when the agent decides to use them (e.g., fetching stock prices or searching the web).\n",
    "\n",
    "6. **Graph Construction**:\n",
    "   - The graph is built by adding nodes (chatbot and tools) and edges, with conditional logic to decide when to use tools or end the conversation.\n",
    "\n",
    "7. **Agent Compilation**:\n",
    "   - The graph is compiled into a runnable agent (`financial_analyst_agent`), which can process user inputs and interact with tools as needed."
   ]
  },
  {
   "cell_type": "code",
   "execution_count": 0,
   "metadata": {
    "application/vnd.databricks.v1+cell": {
     "cellMetadata": {
      "byteLimit": 2048000,
      "rowLimit": 10000
     },
     "inputWidgets": {},
     "nuid": "bd6d3b08-abdd-4eaf-b301-2648e93baff8",
     "showTitle": false,
     "tableResultSettingsMap": {},
     "title": ""
    },
    "id": "rdBRSLehwMm_"
   },
   "outputs": [],
   "source": [
    "from typing import Annotated\n",
    "from langchain_openai import ChatOpenAI\n",
    "from langchain_core.messages import BaseMessage\n",
    "from typing_extensions import TypedDict\n",
    "from langgraph.graph import StateGraph, START, END\n",
    "from langgraph.graph.message import add_messages\n",
    "from langgraph.prebuilt import ToolNode, tools_condition\n",
    "from langchain_core.messages import HumanMessage, SystemMessage, RemoveMessage\n",
    "from langchain_core.messages import trim_messages\n",
    "\n",
    "# Define the state of the graph, which holds the conversation messages\n",
    "class State(TypedDict):\n",
    "    messages: Annotated[list, add_messages]\n",
    "\n",
    "# Initialize the graph builder with the defined state\n",
    "graph_builder = StateGraph(State)\n",
    "\n",
    "# List of tools the agent can use (e.g., fetching stock data, searching the web)\n",
    "tools = [\n",
    "    get_stock_ticker_symbol,\n",
    "    get_stock_price_metrics,\n",
    "    get_stock_fundamental_indicator_metrics,\n",
    "    get_stock_news,\n",
    "    search_web,\n",
    "    get_general_market_data\n",
    "]\n",
    "\n",
    "# Initialize the LLM (GPT-4) and bind the tools to it\n",
    "llm = ChatOpenAI(model=\"gpt-4o\", temperature=0)\n",
    "llm_with_tools = llm.bind_tools(tools)\n",
    "\n",
    "# System message to guide the agent's behavior\n",
    "SYS_MSG = SystemMessage(content=AGENT_SYS_PROMPT)\n",
    "\n",
    "# Define the chatbot node, which processes user input and generates responses\n",
    "def chatbot(state: State):\n",
    "    # Trim messages to avoid exceeding token limits\n",
    "    messages = trim_messages(\n",
    "        state[\"messages\"],\n",
    "        max_tokens=127000,\n",
    "        strategy=\"last\", # keep last 127K tokens in messages\n",
    "        token_counter=ChatOpenAI(model=\"gpt-4o\"),\n",
    "        include_system=True, # keep system message always\n",
    "        allow_partial=True, # trim messages to partial content if needed\n",
    "\n",
    "    )\n",
    "    # Invoke the LLM with the system message and trimmed conversation history\n",
    "    return {\"messages\": [llm_with_tools.invoke([SYS_MSG] + messages)]}\n",
    "\n",
    "# Add the chatbot node to the graph\n",
    "graph_builder.add_node(\"chatbot\", chatbot)\n",
    "\n",
    "# Add a node for executing tools (e.g., fetching data, searching the web)\n",
    "tool_node = ToolNode(tools=tools)\n",
    "graph_builder.add_node(\"tools\", tool_node)\n",
    "\n",
    "# Add conditional edges: the chatbot decides whether to use tools or end the conversation\n",
    "graph_builder.add_conditional_edges(\n",
    "    \"chatbot\",\n",
    "    tools_condition,\n",
    "    ['tools', END]\n",
    ")\n",
    "\n",
    "# After using a tool, return to the chatbot to decide the next step\n",
    "graph_builder.add_edge(\"tools\", \"chatbot\")\n",
    "\n",
    "# Set the chatbot as the entry point of the graph\n",
    "graph_builder.set_entry_point(\"chatbot\")\n",
    "\n",
    "# Compile the graph into a runnable agent\n",
    "financial_analyst_agent = graph_builder.compile()"
   ]
  },
  {
   "cell_type": "code",
   "execution_count": 0,
   "metadata": {
    "application/vnd.databricks.v1+cell": {
     "cellMetadata": {
      "byteLimit": 2048000,
      "rowLimit": 10000
     },
     "inputWidgets": {},
     "nuid": "51cd8c15-603e-4c1a-91a7-53ba6fef8cd2",
     "showTitle": false,
     "tableResultSettingsMap": {},
     "title": ""
    },
    "colab": {
     "base_uri": "https://localhost:8080/",
     "height": 266
    },
    "id": "LWi44TWcoHpD",
    "outputId": "59df4918-0090-46b2-9e53-bc018e6b5429"
   },
   "outputs": [],
   "source": [
    "from IPython.display import display, Image\n",
    "\n",
    "Image(financial_analyst_agent.get_graph().draw_mermaid_png())"
   ]
  },
  {
   "cell_type": "markdown",
   "metadata": {
    "application/vnd.databricks.v1+cell": {
     "cellMetadata": {},
     "inputWidgets": {},
     "nuid": "7188f0ca-c7df-4ed9-8061-ac0fc6b96df8",
     "showTitle": false,
     "tableResultSettingsMap": {},
     "title": ""
    },
    "id": "MSrZ1Vc830lq"
   },
   "source": [
    "## Test the Agent"
   ]
  },
  {
   "cell_type": "code",
   "execution_count": 0,
   "metadata": {
    "application/vnd.databricks.v1+cell": {
     "cellMetadata": {
      "byteLimit": 2048000,
      "rowLimit": 10000
     },
     "inputWidgets": {},
     "nuid": "a85065ad-5c85-4ba4-a1e9-506bf39f7169",
     "showTitle": false,
     "tableResultSettingsMap": {},
     "title": ""
    },
    "colab": {
     "base_uri": "https://localhost:8080/",
     "height": 81
    },
    "id": "OuDmCFh_bnqG",
    "outputId": "154b72b5-0338-461d-a56c-0e58fdd45e46"
   },
   "outputs": [],
   "source": [
    "from IPython.display import display, Markdown\n",
    "\n",
    "response = llm.invoke('what is the PE ratio of Nvidia?')\n",
    "display(Markdown(response.content))"
   ]
  },
  {
   "cell_type": "code",
   "execution_count": 0,
   "metadata": {
    "application/vnd.databricks.v1+cell": {
     "cellMetadata": {
      "byteLimit": 2048000,
      "rowLimit": 10000
     },
     "inputWidgets": {},
     "nuid": "f407ad90-e7d0-4e82-93a6-e943636ceceb",
     "showTitle": false,
     "tableResultSettingsMap": {},
     "title": ""
    },
    "id": "dabt40FjQXyK"
   },
   "outputs": [],
   "source": [
    "def call_agent(agent, prompt, user_config={\"configurable\": {\"thread_id\": \"any\"}}):\n",
    "    events = agent.stream(\n",
    "        {\"messages\": [{\"role\": \"user\", \"content\": prompt}]},\n",
    "        user_config,\n",
    "        stream_mode=\"values\",\n",
    "    )\n",
    "\n",
    "    for event in events:\n",
    "        event[\"messages\"][-1].pretty_print()\n",
    "\n",
    "    print()\n",
    "    print('Final Response:\\n')\n",
    "    display(Markdown(event[\"messages\"][-1].content))"
   ]
  },
  {
   "cell_type": "code",
   "execution_count": 0,
   "metadata": {
    "application/vnd.databricks.v1+cell": {
     "cellMetadata": {
      "byteLimit": 2048000,
      "rowLimit": 10000
     },
     "inputWidgets": {},
     "nuid": "a3724058-a2b0-42a4-8376-adf0ddf9841b",
     "showTitle": false,
     "tableResultSettingsMap": {},
     "title": ""
    },
    "colab": {
     "base_uri": "https://localhost:8080/",
     "height": 1000
    },
    "id": "c0HQVltpsKPK",
    "outputId": "1065d817-1f52-4c26-c330-fcf4eec6822e"
   },
   "outputs": [],
   "source": [
    "query = 'How is Nvidia doing and it is worth investing in it or its competitors?'\n",
    "call_agent(financial_analyst_agent, query)"
   ]
  },
  {
   "cell_type": "code",
   "execution_count": 0,
   "metadata": {
    "application/vnd.databricks.v1+cell": {
     "cellMetadata": {
      "byteLimit": 2048000,
      "rowLimit": 10000
     },
     "inputWidgets": {},
     "nuid": "b9c7b3ce-e7ec-460c-929f-3c84f93bc9af",
     "showTitle": false,
     "tableResultSettingsMap": {},
     "title": ""
    },
    "colab": {
     "base_uri": "https://localhost:8080/",
     "height": 934
    },
    "id": "_IpCPBMIog7K",
    "outputId": "24c61487-399a-44fd-8791-07cb22b651c4"
   },
   "outputs": [],
   "source": [
    "query = 'what is the PE ratio of Nvidia?'\n",
    "call_agent(financial_analyst_agent, query)"
   ]
  },
  {
   "cell_type": "code",
   "execution_count": 0,
   "metadata": {
    "application/vnd.databricks.v1+cell": {
     "cellMetadata": {
      "byteLimit": 2048000,
      "rowLimit": 10000
     },
     "inputWidgets": {},
     "nuid": "d0b906dd-1ea0-446a-86b0-34901f40462d",
     "showTitle": false,
     "tableResultSettingsMap": {},
     "title": ""
    },
    "colab": {
     "base_uri": "https://localhost:8080/",
     "height": 1000
    },
    "id": "oEdjrx5NQhi7",
    "outputId": "0aa04cba-43d7-4d6e-ef85-93064073ec68"
   },
   "outputs": [],
   "source": [
    "query = 'what is the PE ratio of Intel?'\n",
    "call_agent(financial_analyst_agent, query)"
   ]
  },
  {
   "cell_type": "code",
   "execution_count": 0,
   "metadata": {
    "application/vnd.databricks.v1+cell": {
     "cellMetadata": {
      "byteLimit": 2048000,
      "rowLimit": 10000
     },
     "inputWidgets": {},
     "nuid": "b2b2354e-c764-4b4c-a151-717d6e410ed9",
     "showTitle": false,
     "tableResultSettingsMap": {},
     "title": ""
    },
    "colab": {
     "base_uri": "https://localhost:8080/",
     "height": 257
    },
    "id": "d31YzMp0QePA",
    "outputId": "d090ef48-af53-4bd7-f271-371ed25ceebe"
   },
   "outputs": [],
   "source": [
    "query = 'which is better?'\n",
    "call_agent(financial_analyst_agent, query)"
   ]
  },
  {
   "cell_type": "code",
   "execution_count": 0,
   "metadata": {
    "application/vnd.databricks.v1+cell": {
     "cellMetadata": {
      "byteLimit": 2048000,
      "rowLimit": 10000
     },
     "inputWidgets": {},
     "nuid": "d2a37173-cbfd-45a7-8314-06d726c051cc",
     "showTitle": false,
     "tableResultSettingsMap": {},
     "title": ""
    },
    "colab": {
     "base_uri": "https://localhost:8080/",
     "height": 1000
    },
    "id": "GTa_jKd7-TW5",
    "outputId": "9ba142b8-aaf6-4cf9-a3dc-3c99afa292b2"
   },
   "outputs": [],
   "source": [
    "query = 'Get detailed information of how Nvidia and Intel are doing and do a comparative analysis of which stock might be better?'\n",
    "call_agent(financial_analyst_agent, query)"
   ]
  },
  {
   "cell_type": "markdown",
   "metadata": {
    "application/vnd.databricks.v1+cell": {
     "cellMetadata": {},
     "inputWidgets": {},
     "nuid": "99cccd3d-d159-4710-aee1-e53196bee6d1",
     "showTitle": false,
     "tableResultSettingsMap": {},
     "title": ""
    },
    "id": "dtXAlOdBxt-j"
   },
   "source": [
    "We have successfully built an AI Agent which can do detailed financial analysis for us but it is not yet conversational. We will add in the that functionality in the next videos"
   ]
  },
  {
   "cell_type": "code",
   "execution_count": 0,
   "metadata": {
    "application/vnd.databricks.v1+cell": {
     "cellMetadata": {},
     "inputWidgets": {},
     "nuid": "729380d5-946f-4003-a115-5571da66842c",
     "showTitle": false,
     "tableResultSettingsMap": {},
     "title": ""
    }
   },
   "outputs": [],
   "source": []
  }
 ],
 "metadata": {
  "application/vnd.databricks.v1+notebook": {
   "computePreferences": null,
   "dashboards": [
    {
     "elements": [
      {
       "dashboardResultIndex": null,
       "elementNUID": "d2a37173-cbfd-45a7-8314-06d726c051cc",
       "elementType": "command",
       "guid": "005f8de4-5659-4177-a4b7-66363083a615",
       "options": null,
       "position": {
        "height": 6,
        "width": 12,
        "x": 0,
        "y": 0,
        "z": null
       },
       "resultIndex": null
      },
      {
       "dashboardResultIndex": null,
       "elementNUID": "7188f0ca-c7df-4ed9-8061-ac0fc6b96df8",
       "elementType": "command",
       "guid": "069b7634-b271-49a1-931b-befefd46ae8d",
       "options": null,
       "position": {
        "height": 6,
        "width": 12,
        "x": 0,
        "y": 6,
        "z": null
       },
       "resultIndex": null
      },
      {
       "dashboardResultIndex": null,
       "elementNUID": "51cd8c15-603e-4c1a-91a7-53ba6fef8cd2",
       "elementType": "command",
       "guid": "0f1ce464-7cf1-4347-bb4a-1a51c17f9eb4",
       "options": null,
       "position": {
        "height": 6,
        "width": 12,
        "x": 0,
        "y": 12,
        "z": null
       },
       "resultIndex": null
      },
      {
       "dashboardResultIndex": null,
       "elementNUID": "cf007d4c-4412-4109-8f36-7262ce38786c",
       "elementType": "command",
       "guid": "1243a663-d729-4e49-8064-c633acfc0833",
       "options": null,
       "position": {
        "height": 6,
        "width": 12,
        "x": 0,
        "y": 18,
        "z": null
       },
       "resultIndex": null
      },
      {
       "dashboardResultIndex": null,
       "elementNUID": "a792d713-87a5-4c12-9085-58cb39a7e326",
       "elementType": "command",
       "guid": "12ab715f-67cd-4ca8-a3e7-88333da6e51d",
       "options": null,
       "position": {
        "height": 6,
        "width": 12,
        "x": 0,
        "y": 24,
        "z": null
       },
       "resultIndex": null
      },
      {
       "dashboardResultIndex": null,
       "elementNUID": "80fa64ef-61e2-4ac9-94fc-0de348ddaa47",
       "elementType": "command",
       "guid": "1fed297d-263d-4925-b8ba-a3888db4a52d",
       "options": null,
       "position": {
        "height": 6,
        "width": 12,
        "x": 0,
        "y": 30,
        "z": null
       },
       "resultIndex": null
      },
      {
       "dashboardResultIndex": null,
       "elementNUID": "6414f035-7a66-4ae3-920c-6c20f676033e",
       "elementType": "command",
       "guid": "4285f6f2-91fb-4092-bc60-65e17c796fc7",
       "options": null,
       "position": {
        "height": 6,
        "width": 12,
        "x": 0,
        "y": 36,
        "z": null
       },
       "resultIndex": null
      },
      {
       "dashboardResultIndex": null,
       "elementNUID": "99252462-c655-4327-95f0-81e2ff2ca569",
       "elementType": "command",
       "guid": "4a53682e-e413-4e63-8ea7-cd80679e399e",
       "options": null,
       "position": {
        "height": 6,
        "width": 12,
        "x": 0,
        "y": 42,
        "z": null
       },
       "resultIndex": null
      },
      {
       "dashboardResultIndex": null,
       "elementNUID": "97021265-b255-4940-ad91-28ea4ed0ee80",
       "elementType": "command",
       "guid": "529e2128-f7a5-46f0-8f83-ec954060a36c",
       "options": null,
       "position": {
        "height": 6,
        "width": 12,
        "x": 0,
        "y": 48,
        "z": null
       },
       "resultIndex": null
      },
      {
       "dashboardResultIndex": null,
       "elementNUID": "4785572c-327c-4bc4-95b1-60d4f4f3851b",
       "elementType": "command",
       "guid": "59872172-8e07-4c7d-b1f3-f6dc15cf4036",
       "options": null,
       "position": {
        "height": 6,
        "width": 12,
        "x": 0,
        "y": 54,
        "z": null
       },
       "resultIndex": null
      },
      {
       "dashboardResultIndex": null,
       "elementNUID": "b9c7b3ce-e7ec-460c-929f-3c84f93bc9af",
       "elementType": "command",
       "guid": "5b345621-d58f-47bd-a829-b386a0c6fdf8",
       "options": null,
       "position": {
        "height": 6,
        "width": 12,
        "x": 0,
        "y": 60,
        "z": null
       },
       "resultIndex": null
      },
      {
       "dashboardResultIndex": null,
       "elementNUID": "a387b0c7-be26-439e-89f1-d1674d793b0c",
       "elementType": "command",
       "guid": "6c42e996-f744-4476-8f22-4bee718b1844",
       "options": null,
       "position": {
        "height": 6,
        "width": 12,
        "x": 0,
        "y": 66,
        "z": null
       },
       "resultIndex": null
      },
      {
       "dashboardResultIndex": null,
       "elementNUID": "0cd9be90-06c0-4f43-9fab-5892049e2b2d",
       "elementType": "command",
       "guid": "752c15e1-8ae5-4896-8903-225bc8ce5698",
       "options": null,
       "position": {
        "height": 6,
        "width": 12,
        "x": 0,
        "y": 72,
        "z": null
       },
       "resultIndex": null
      },
      {
       "dashboardResultIndex": null,
       "elementNUID": "6c66b4d1-f054-44f4-a109-677118279b04",
       "elementType": "command",
       "guid": "79e3b406-29ef-4fc3-8e3d-f2c9861202ec",
       "options": null,
       "position": {
        "height": 6,
        "width": 12,
        "x": 0,
        "y": 78,
        "z": null
       },
       "resultIndex": null
      },
      {
       "dashboardResultIndex": null,
       "elementNUID": "99cccd3d-d159-4710-aee1-e53196bee6d1",
       "elementType": "command",
       "guid": "916a3087-5129-4807-8b2b-c918f1883fa5",
       "options": null,
       "position": {
        "height": 6,
        "width": 12,
        "x": 0,
        "y": 84,
        "z": null
       },
       "resultIndex": null
      },
      {
       "dashboardResultIndex": null,
       "elementNUID": "d8e9bef2-8b38-4d84-8b8c-78a8ca93767f",
       "elementType": "command",
       "guid": "96855597-00d7-44d2-bec3-d9d85a2d9eb1",
       "options": null,
       "position": {
        "height": 6,
        "width": 12,
        "x": 0,
        "y": 90,
        "z": null
       },
       "resultIndex": null
      },
      {
       "dashboardResultIndex": null,
       "elementNUID": "5638e619-004d-4541-8d88-33c01bd1c73f",
       "elementType": "command",
       "guid": "973c349d-e5e0-4ef7-9499-534e23c6b4f1",
       "options": null,
       "position": {
        "height": 6,
        "width": 12,
        "x": 0,
        "y": 96,
        "z": null
       },
       "resultIndex": null
      },
      {
       "dashboardResultIndex": null,
       "elementNUID": "d0b906dd-1ea0-446a-86b0-34901f40462d",
       "elementType": "command",
       "guid": "aad01352-36e2-4bc8-97ee-c33372bddb19",
       "options": null,
       "position": {
        "height": 6,
        "width": 12,
        "x": 0,
        "y": 102,
        "z": null
       },
       "resultIndex": null
      },
      {
       "dashboardResultIndex": null,
       "elementNUID": "b2b2354e-c764-4b4c-a151-717d6e410ed9",
       "elementType": "command",
       "guid": "bec7e5ff-d748-40c7-bbc9-84712064cba3",
       "options": null,
       "position": {
        "height": 6,
        "width": 12,
        "x": 0,
        "y": 108,
        "z": null
       },
       "resultIndex": null
      },
      {
       "dashboardResultIndex": null,
       "elementNUID": "a85065ad-5c85-4ba4-a1e9-506bf39f7169",
       "elementType": "command",
       "guid": "c1d28b49-a286-464e-b69c-8183e83890f5",
       "options": null,
       "position": {
        "height": 6,
        "width": 12,
        "x": 0,
        "y": 114,
        "z": null
       },
       "resultIndex": null
      },
      {
       "dashboardResultIndex": null,
       "elementNUID": "b1cad925-8084-4dfd-955d-0188ea1ae623",
       "elementType": "command",
       "guid": "c3f0b7ae-6d42-4dba-ac0d-73fb5244333c",
       "options": null,
       "position": {
        "height": 6,
        "width": 12,
        "x": 0,
        "y": 120,
        "z": null
       },
       "resultIndex": null
      },
      {
       "dashboardResultIndex": null,
       "elementNUID": "977fa40b-4b2c-4b34-af61-25906e1fdeae",
       "elementType": "command",
       "guid": "d700f3b9-e708-4dea-a84d-0993de1a5d6f",
       "options": null,
       "position": {
        "height": 6,
        "width": 12,
        "x": 0,
        "y": 126,
        "z": null
       },
       "resultIndex": null
      },
      {
       "dashboardResultIndex": null,
       "elementNUID": "c4668b58-216e-46dc-b174-4081df19678f",
       "elementType": "command",
       "guid": "dc83cb4f-2fb0-4dfe-b5a7-a74915542358",
       "options": null,
       "position": {
        "height": 6,
        "width": 12,
        "x": 0,
        "y": 132,
        "z": null
       },
       "resultIndex": null
      },
      {
       "dashboardResultIndex": null,
       "elementNUID": "a3724058-a2b0-42a4-8376-adf0ddf9841b",
       "elementType": "command",
       "guid": "f30f1744-a0c6-4ffc-946b-a9984e3e41ef",
       "options": null,
       "position": {
        "height": 6,
        "width": 12,
        "x": 0,
        "y": 138,
        "z": null
       },
       "resultIndex": null
      }
     ],
     "globalVars": {},
     "guid": "",
     "layoutOption": {
      "grid": true,
      "stack": true
     },
     "nuid": "5d3cd536-df25-47ed-9d3a-6e4abe57203f",
     "origId": 5900526137948273,
     "title": "Untitled",
     "version": "DashboardViewV1",
     "width": 1024
    }
   ],
   "environmentMetadata": null,
   "inputWidgetPreferences": null,
   "language": "python",
   "notebookMetadata": {
    "pythonIndentUnit": 4
   },
   "notebookName": "M3_Project_ Build_a_Financial_Analyst_Tool_Use_AI_Agent",
   "widgets": {}
  },
  "colab": {
   "provenance": []
  },
  "kernelspec": {
   "display_name": "Python 3",
   "name": "python3"
  },
  "language_info": {
   "name": "python"
  }
 },
 "nbformat": 4,
 "nbformat_minor": 0
}
