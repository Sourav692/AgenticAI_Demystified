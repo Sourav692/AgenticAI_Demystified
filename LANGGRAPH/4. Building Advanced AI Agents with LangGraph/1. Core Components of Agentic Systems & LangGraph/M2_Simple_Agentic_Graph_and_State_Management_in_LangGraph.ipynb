{
 "cells": [
  {
   "cell_type": "markdown",
   "metadata": {
    "application/vnd.databricks.v1+cell": {
     "cellMetadata": {},
     "inputWidgets": {},
     "nuid": "9ed9662f-a9d7-433b-a654-4e7f3842c904",
     "showTitle": false,
     "tableResultSettingsMap": {},
     "title": ""
    },
    "id": "50fa7f8a-8764-4bb9-9968-48b681a0e4f1"
   },
   "source": [
    "# Building a Simple Agent Graph and Managing States\n",
    "\n",
    "In this hands-on demo we will understand how states work in an agentic graph and also how to build a simple agentic graph just like the one shown below.\n",
    "\n",
    "![](https://i.imgur.com/ILcvB2y.png)"
   ]
  },
  {
   "cell_type": "markdown",
   "metadata": {
    "application/vnd.databricks.v1+cell": {
     "cellMetadata": {},
     "inputWidgets": {},
     "nuid": "a8db0318-397b-4a9f-a361-7932319326e3",
     "showTitle": false,
     "tableResultSettingsMap": {},
     "title": ""
    },
    "id": "tIiCs9qKEddB"
   },
   "source": [
    "## Install Dependencies"
   ]
  },
  {
   "cell_type": "code",
   "execution_count": 0,
   "metadata": {
    "application/vnd.databricks.v1+cell": {
     "cellMetadata": {},
     "inputWidgets": {},
     "nuid": "31fef400-fe61-453b-905f-e1b157a10ea8",
     "showTitle": false,
     "tableResultSettingsMap": {},
     "title": ""
    },
    "colab": {
     "base_uri": "https://localhost:8080/"
    },
    "id": "ff151ef1-fa30-482a-94da-8f49964afbc3",
    "outputId": "ea6ee65f-f197-4fb8-a0b1-58e2a6363b4f"
   },
   "outputs": [],
   "source": [
    "!pip install langchain==0.3.14\n",
    "!pip install langgraph==0.2.66"
   ]
  },
  {
   "cell_type": "markdown",
   "metadata": {
    "application/vnd.databricks.v1+cell": {
     "cellMetadata": {},
     "inputWidgets": {},
     "nuid": "38001b88-60f7-4d86-9e88-1bb5fdd5cfcc",
     "showTitle": false,
     "tableResultSettingsMap": {},
     "title": ""
    },
    "id": "5999f8d0-989f-4638-8ade-5c257cbadfe8"
   },
   "source": [
    "## State\n",
    "\n",
    "First, define the [State](https://langchain-ai.github.io/langgraph/concepts/low_level/#state) of the graph.\n",
    "\n",
    "The State schema serves as the input schema for all Nodes and Edges in the graph. This is basically the schema of the shared context or data messages passes throughout the graph across all the nodes and edges.\n",
    "\n",
    "Let's use the `TypedDict` class from python's `typing` module as our schema, which provides type hints for the keys."
   ]
  },
  {
   "cell_type": "code",
   "execution_count": 0,
   "metadata": {
    "application/vnd.databricks.v1+cell": {
     "cellMetadata": {},
     "inputWidgets": {},
     "nuid": "14f18783-3f80-4a91-bcc6-bb6295e46a56",
     "showTitle": false,
     "tableResultSettingsMap": {},
     "title": ""
    },
    "id": "6a90709b-ddfa-4671-8acc-c59969a29991"
   },
   "outputs": [],
   "source": [
    "from typing_extensions import TypedDict\n",
    "\n",
    "class State(TypedDict):\n",
    "    messages: str"
   ]
  },
  {
   "cell_type": "markdown",
   "metadata": {
    "application/vnd.databricks.v1+cell": {
     "cellMetadata": {},
     "inputWidgets": {},
     "nuid": "633f0efe-b16d-45a0-af02-df1e3b24e1f7",
     "showTitle": false,
     "tableResultSettingsMap": {},
     "title": ""
    },
    "id": "888509e1-cbde-4c03-99a0-2560dd2e262d"
   },
   "source": [
    "## Nodes\n",
    "\n",
    "[Nodes](https://langchain-ai.github.io/langgraph/concepts/low_level/#nodes) are just python functions where we implement some custom logic, call some tools, LLMs etc.\n",
    "\n",
    "The first positional argument is the state, as defined above. This gives the node the current state of the agent including the latest output messages, previous inputs etc.\n",
    "\n",
    "Because the state is a `TypedDict` with schema as defined above, each node can access the key, `messages`, with `state['messages']`.\n",
    "\n",
    "Each node returns a new value of the state key `messages`.\n",
    "  \n",
    "By default, the new value returned by each node [will overwrite](https://langchain-ai.github.io/langgraph/concepts/low_level/#reducers) the prior state value. (We will show shortly how to update new values to the state instead of overwriting)"
   ]
  },
  {
   "cell_type": "code",
   "execution_count": 0,
   "metadata": {
    "application/vnd.databricks.v1+cell": {
     "cellMetadata": {},
     "inputWidgets": {},
     "nuid": "a6de8f83-5fe6-4652-848d-f1f0e9234c65",
     "showTitle": false,
     "tableResultSettingsMap": {},
     "title": ""
    },
    "id": "e8aabcb7-494c-4d35-be08-f81c76d75a6b"
   },
   "outputs": [],
   "source": [
    "def node_1(state: State) -> State:\n",
    "    print(\"---Node 1---\")\n",
    "    state = state['messages']\n",
    "    return {\"messages\": \"Hello this is node 1\"} # agent state gets written with a new updated value"
   ]
  },
  {
   "cell_type": "markdown",
   "metadata": {
    "application/vnd.databricks.v1+cell": {
     "cellMetadata": {},
     "inputWidgets": {},
     "nuid": "31a22e43-2322-4098-b63f-317b682e73e5",
     "showTitle": false,
     "tableResultSettingsMap": {},
     "title": ""
    },
    "id": "u1O6ubxEGshx"
   },
   "source": [
    "## Edges\n",
    "\n",
    "[Edges](https://langchain-ai.github.io/langgraph/concepts/low_level/#edges) connect the nodes.\n",
    "\n",
    "Normal Edges are used if you want to *always* go from, for example, `node_1` to `node_2`."
   ]
  },
  {
   "cell_type": "markdown",
   "metadata": {
    "application/vnd.databricks.v1+cell": {
     "cellMetadata": {},
     "inputWidgets": {},
     "nuid": "069b5e36-784e-44b4-8273-08e80ddc6e8d",
     "showTitle": false,
     "tableResultSettingsMap": {},
     "title": ""
    },
    "id": "5o5AFN75G1ib"
   },
   "source": [
    "## Build the Graph with Nodes and Edges and the State"
   ]
  },
  {
   "cell_type": "code",
   "execution_count": 0,
   "metadata": {
    "application/vnd.databricks.v1+cell": {
     "cellMetadata": {},
     "inputWidgets": {},
     "nuid": "cfc93345-13c2-473e-ae06-d3cddfcaf432",
     "showTitle": false,
     "tableResultSettingsMap": {},
     "title": ""
    },
    "colab": {
     "base_uri": "https://localhost:8080/",
     "height": 251
    },
    "id": "IJvHs_Py3uCV",
    "outputId": "a27e789e-603b-450e-bf14-41b0f61ffaa4"
   },
   "outputs": [],
   "source": [
    "from langgraph.graph import StateGraph, START, END\n",
    "from IPython.display import Image, display\n",
    "\n",
    "# Build graph\n",
    "builder = StateGraph(State)\n",
    "builder.add_node(\"node_1\", node_1)\n",
    "\n",
    "# Logic\n",
    "builder.add_edge(START, \"node_1\")\n",
    "builder.add_edge(\"node_1\", END)\n",
    "\n",
    "# Add\n",
    "graph = builder.compile()\n",
    "\n",
    "# View\n",
    "display(Image(graph.get_graph().draw_mermaid_png()))"
   ]
  },
  {
   "cell_type": "markdown",
   "metadata": {
    "application/vnd.databricks.v1+cell": {
     "cellMetadata": {},
     "inputWidgets": {},
     "nuid": "c6ddca10-a345-4459-a5ba-e4e00a394c32",
     "showTitle": false,
     "tableResultSettingsMap": {},
     "title": ""
    },
    "id": "tAt1hK2AG6Bk"
   },
   "source": [
    "## Test the Graph"
   ]
  },
  {
   "cell_type": "code",
   "execution_count": 0,
   "metadata": {
    "application/vnd.databricks.v1+cell": {
     "cellMetadata": {},
     "inputWidgets": {},
     "nuid": "c79e43ad-8097-4b28-bbae-06068e6db8c7",
     "showTitle": false,
     "tableResultSettingsMap": {},
     "title": ""
    },
    "colab": {
     "base_uri": "https://localhost:8080/"
    },
    "id": "JR2L3D5Y3uH9",
    "outputId": "3598968d-46be-4c82-df62-651022cb810a"
   },
   "outputs": [],
   "source": [
    "graph.invoke({\"messages\": \"Hi, how are you?.\"})"
   ]
  },
  {
   "cell_type": "markdown",
   "metadata": {
    "application/vnd.databricks.v1+cell": {
     "cellMetadata": {},
     "inputWidgets": {},
     "nuid": "f741be46-8ea2-474b-a656-955a9de50ca0",
     "showTitle": false,
     "tableResultSettingsMap": {},
     "title": ""
    },
    "id": "iFOUd7RLHBwg"
   },
   "source": [
    "## Graph with custom State Schema\n",
    "\n",
    "You can define your own state schema with multiple fields and manipulate them inside the graph as shown below"
   ]
  },
  {
   "cell_type": "code",
   "execution_count": 0,
   "metadata": {
    "application/vnd.databricks.v1+cell": {
     "cellMetadata": {},
     "inputWidgets": {},
     "nuid": "a11b9a92-90f0-415b-89dd-6e1947d5d437",
     "showTitle": false,
     "tableResultSettingsMap": {},
     "title": ""
    },
    "id": "Pp5IhgSF3uKA"
   },
   "outputs": [],
   "source": [
    "from langgraph.graph import StateGraph, START, END\n",
    "\n",
    "# Define the state structure\n",
    "class State(TypedDict):\n",
    "    data: str\n",
    "    counter: int\n",
    "\n",
    "# Initialize the StateGraph with the state schema\n",
    "graph_builder = StateGraph(State)\n",
    "\n",
    "# Add nodes and edges to your graph\n",
    "# Define a node that processes the state\n",
    "def process_state(state: State) -> State:\n",
    "    print(f\"Current data: {state['data']}, Counter: {state['counter']}\")\n",
    "    return {\"data\": state[\"data\"].upper(), \"counter\": state[\"counter\"] + 1}\n",
    "\n",
    "# Add the node AND edges to the graph\n",
    "graph_builder.add_node(\"process_state\", process_state)\n",
    "graph_builder.add_edge(START, \"process_state\")\n",
    "graph_builder.add_edge(\"process_state\", END)\n",
    "\n",
    "# Compile the graph\n",
    "graph = graph_builder.compile()"
   ]
  },
  {
   "cell_type": "code",
   "execution_count": 0,
   "metadata": {
    "application/vnd.databricks.v1+cell": {
     "cellMetadata": {},
     "inputWidgets": {},
     "nuid": "f438d92f-1e01-4ffd-983f-4005c88a7bcf",
     "showTitle": false,
     "tableResultSettingsMap": {},
     "title": ""
    },
    "colab": {
     "base_uri": "https://localhost:8080/",
     "height": 251
    },
    "id": "gEji1u3MX9OR",
    "outputId": "9d14d738-0f14-4c10-fdf6-deef266f2cb0"
   },
   "outputs": [],
   "source": [
    "display(Image(graph.get_graph().draw_mermaid_png()))"
   ]
  },
  {
   "cell_type": "code",
   "execution_count": 0,
   "metadata": {
    "application/vnd.databricks.v1+cell": {
     "cellMetadata": {},
     "inputWidgets": {},
     "nuid": "b22ae201-814e-47cf-b058-1ef597a2cf18",
     "showTitle": false,
     "tableResultSettingsMap": {},
     "title": ""
    },
    "colab": {
     "base_uri": "https://localhost:8080/"
    },
    "id": "Skdc5uhvR7At",
    "outputId": "16a33c32-0114-4de0-ba2f-080df64088b4"
   },
   "outputs": [],
   "source": [
    "# Execute the graph with an initial state\n",
    "initial_state = {\"data\": \"hello world\", \"counter\": 0}\n",
    "result = graph.invoke(initial_state)\n",
    "\n",
    "# Print the result\n",
    "print(\"Final State:\", result)"
   ]
  },
  {
   "cell_type": "markdown",
   "metadata": {
    "application/vnd.databricks.v1+cell": {
     "cellMetadata": {},
     "inputWidgets": {},
     "nuid": "4d6befe4-e4b2-4b7f-b4b3-ac58720b6889",
     "showTitle": false,
     "tableResultSettingsMap": {},
     "title": ""
    },
    "id": "VBnnQo_cHS40"
   },
   "source": [
    "## Graph with multiple processing nodes\n",
    "\n",
    "So far we have built a graph with one node, lets now build one with three processing nodes and update (and overwrite) the overall state of the agent in each node"
   ]
  },
  {
   "cell_type": "code",
   "execution_count": 0,
   "metadata": {
    "application/vnd.databricks.v1+cell": {
     "cellMetadata": {},
     "inputWidgets": {},
     "nuid": "7828cc7a-e475-481d-8a78-19fa184deb5f",
     "showTitle": false,
     "tableResultSettingsMap": {},
     "title": ""
    },
    "id": "xG5z3i4kH88n"
   },
   "outputs": [],
   "source": [
    "from typing_extensions import TypedDict\n",
    "\n",
    "class State(TypedDict):\n",
    "    messages: str"
   ]
  },
  {
   "cell_type": "code",
   "execution_count": 0,
   "metadata": {
    "application/vnd.databricks.v1+cell": {
     "cellMetadata": {},
     "inputWidgets": {},
     "nuid": "c29d9680-c672-49a0-865f-41ba183a20d2",
     "showTitle": false,
     "tableResultSettingsMap": {},
     "title": ""
    },
    "id": "JTCvoMus3uMo"
   },
   "outputs": [],
   "source": [
    "def node_1(state: State) -> State:\n",
    "    print(\"---Node 1---\")\n",
    "    state = state['messages']\n",
    "    return {\"messages\": \"Hello this is node 1\"}\n",
    "\n",
    "def node_2(state):\n",
    "    print(\"---Node 2---\")\n",
    "    state = state['messages']\n",
    "    return {\"messages\": \"Hello this is node 2\"}\n",
    "\n",
    "def final_node(state):\n",
    "    print(\"---Node 3---\")\n",
    "    state = state['messages']\n",
    "    return {\"messages\": \"Hello this is the final node\"}"
   ]
  },
  {
   "cell_type": "code",
   "execution_count": 0,
   "metadata": {
    "application/vnd.databricks.v1+cell": {
     "cellMetadata": {},
     "inputWidgets": {},
     "nuid": "9d7192ef-7437-4eea-a9b2-ea2acf4346fd",
     "showTitle": false,
     "tableResultSettingsMap": {},
     "title": ""
    },
    "colab": {
     "base_uri": "https://localhost:8080/",
     "height": 449
    },
    "id": "l6Mmlmma4pmu",
    "outputId": "80e54612-dd08-46ca-d5f7-8f2ac1ba70b5"
   },
   "outputs": [],
   "source": [
    "# Build graph\n",
    "builder = StateGraph(State)\n",
    "builder.add_node(\"node_1\", node_1)\n",
    "builder.add_node(\"node_2\", node_2)\n",
    "builder.add_node(\"node_3\", final_node)\n",
    "\n",
    "# Logic\n",
    "builder.add_edge(START, \"node_1\")\n",
    "builder.add_edge(\"node_1\", \"node_2\")\n",
    "builder.add_edge(\"node_2\", \"node_3\")\n",
    "builder.add_edge(\"node_3\", END)\n",
    "\n",
    "\n",
    "# Add\n",
    "graph = builder.compile()\n",
    "\n",
    "# View\n",
    "display(Image(graph.get_graph().draw_mermaid_png()))"
   ]
  },
  {
   "cell_type": "code",
   "execution_count": 0,
   "metadata": {
    "application/vnd.databricks.v1+cell": {
     "cellMetadata": {},
     "inputWidgets": {},
     "nuid": "632aca3d-6fcf-48b8-84bd-5db796b6a3ae",
     "showTitle": false,
     "tableResultSettingsMap": {},
     "title": ""
    },
    "colab": {
     "base_uri": "https://localhost:8080/"
    },
    "id": "4bVyl9RX47tn",
    "outputId": "b93a413f-42c2-4e97-d463-73acbe99e3ca"
   },
   "outputs": [],
   "source": [
    "graph.invoke({\"messages\": \"Hi, how are you?.\"})"
   ]
  },
  {
   "cell_type": "markdown",
   "metadata": {
    "application/vnd.databricks.v1+cell": {
     "cellMetadata": {},
     "inputWidgets": {},
     "nuid": "16167605-456f-4558-97c2-3d9b8b15dd87",
     "showTitle": false,
     "tableResultSettingsMap": {},
     "title": ""
    },
    "id": "R_cIq_M2IAdA"
   },
   "source": [
    "The state gets overwritten each time in each node which is something which we do not want. We want the agent to be aware of what is happening in each node and store all the intermediate messages also.\n",
    "\n",
    "Imagine a tool call happening only to get overwritten by something else!\n",
    "\n",
    "This is where reducer functions can be used to update and append to the overall agent's state schema instead of overwriting"
   ]
  },
  {
   "cell_type": "markdown",
   "metadata": {
    "application/vnd.databricks.v1+cell": {
     "cellMetadata": {},
     "inputWidgets": {},
     "nuid": "96a1bd55-4dff-4006-be4f-8e8532f5a874",
     "showTitle": false,
     "tableResultSettingsMap": {},
     "title": ""
    },
    "id": "oLAPfQ7BIYcm"
   },
   "source": [
    "## Graph with multiple processing nodes\n",
    "\n",
    "So far we have built a graph with one node, lets now build one with three processing nodes and update the overall state of the agent in each node without overwriting the overall state"
   ]
  },
  {
   "cell_type": "code",
   "execution_count": 0,
   "metadata": {
    "application/vnd.databricks.v1+cell": {
     "cellMetadata": {},
     "inputWidgets": {},
     "nuid": "2464d0b6-f207-4f1f-a488-66478e91cd58",
     "showTitle": false,
     "tableResultSettingsMap": {},
     "title": ""
    },
    "colab": {
     "base_uri": "https://localhost:8080/",
     "height": 449
    },
    "id": "5eCXQdqL4_pD",
    "outputId": "629adf61-57c0-4fbb-c82d-6af1423dbeb3"
   },
   "outputs": [],
   "source": [
    "from typing import Annotated\n",
    "from langgraph.graph.message import add_messages\n",
    "\n",
    "class State(TypedDict):\n",
    "    messages: Annotated[list, add_messages] # the reducer helps in appending to the state\n",
    "\n",
    "def node_1(state: State) -> State:\n",
    "    print(\"---Node 1---\")\n",
    "    state = state['messages']\n",
    "    return {\"messages\": \"Hello this is node 1\"}\n",
    "\n",
    "def node_2(state):\n",
    "    print(\"---Node 2---\")\n",
    "    state = state['messages']\n",
    "    return {\"messages\": \"Hello this is node 2\"}\n",
    "\n",
    "def final_node(state):\n",
    "    print(\"---Node 3---\")\n",
    "    state = state['messages']\n",
    "    return {\"messages\": \"Hello this is the final node\"}\n",
    "\n",
    "# Build graph\n",
    "builder = StateGraph(State)\n",
    "builder.add_node(\"node_1\", node_1)\n",
    "builder.add_node(\"node_2\", node_2)\n",
    "builder.add_node(\"node_3\", final_node)\n",
    "\n",
    "# Logic\n",
    "builder.add_edge(START, \"node_1\")\n",
    "builder.add_edge(\"node_1\", \"node_2\")\n",
    "builder.add_edge(\"node_2\", \"node_3\")\n",
    "builder.add_edge(\"node_3\", END)\n",
    "\n",
    "\n",
    "# Add\n",
    "graph = builder.compile()\n",
    "\n",
    "# View\n",
    "display(Image(graph.get_graph().draw_mermaid_png()))"
   ]
  },
  {
   "cell_type": "code",
   "execution_count": 0,
   "metadata": {
    "application/vnd.databricks.v1+cell": {
     "cellMetadata": {},
     "inputWidgets": {},
     "nuid": "f1210700-0992-4977-a5f7-432960192764",
     "showTitle": false,
     "tableResultSettingsMap": {},
     "title": ""
    },
    "colab": {
     "base_uri": "https://localhost:8080/"
    },
    "id": "tynHTQXeEkli",
    "outputId": "099b6c72-1a97-41b3-f23a-24dac6c588d6"
   },
   "outputs": [],
   "source": [
    "response = graph.invoke({\"messages\": \"Hi, how are you?.\"})\n",
    "response"
   ]
  },
  {
   "cell_type": "code",
   "execution_count": 0,
   "metadata": {
    "application/vnd.databricks.v1+cell": {
     "cellMetadata": {},
     "inputWidgets": {},
     "nuid": "9216c762-ef28-4d8c-8e18-0da7358b5aad",
     "showTitle": false,
     "tableResultSettingsMap": {},
     "title": ""
    },
    "colab": {
     "base_uri": "https://localhost:8080/"
    },
    "id": "ksqAzjYzo7k8",
    "outputId": "f44a007a-b567-46b5-93e0-9e618cb4a33c"
   },
   "outputs": [],
   "source": [
    "response['messages'][-1]"
   ]
  }
 ],
 "metadata": {
  "application/vnd.databricks.v1+notebook": {
   "computePreferences": null,
   "dashboards": [],
   "environmentMetadata": null,
   "inputWidgetPreferences": null,
   "language": "python",
   "notebookMetadata": {},
   "notebookName": "M2_Simple_Agentic_Graph_and_State_Management_in_LangGraph",
   "widgets": {}
  },
  "colab": {
   "provenance": []
  },
  "kernelspec": {
   "display_name": "Python 3 (ipykernel)",
   "language": "python",
   "name": "python3"
  },
  "language_info": {
   "name": "python"
  }
 },
 "nbformat": 4,
 "nbformat_minor": 0
}
