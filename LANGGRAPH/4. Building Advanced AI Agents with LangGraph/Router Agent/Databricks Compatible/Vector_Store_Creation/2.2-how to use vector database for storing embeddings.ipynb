{
 "cells": [
  {
   "cell_type": "code",
   "execution_count": 0,
   "metadata": {
    "application/vnd.databricks.v1+cell": {
     "cellMetadata": {
      "byteLimit": 2048000,
      "rowLimit": 10000
     },
     "inputWidgets": {},
     "nuid": "48b7aa47-9d86-4e01-8c7c-6fff6e9e0901",
     "showTitle": false,
     "tableResultSettingsMap": {},
     "title": ""
    }
   },
   "outputs": [],
   "source": [
    "!pip install -q langchain==0.3.14\n",
    "!pip install -q langchain-openai==0.3.0\n",
    "!pip install -q langchain-community==0.3.14\n",
    "!pip install -q langgraph==0.2.64"
   ]
  },
  {
   "cell_type": "code",
   "execution_count": 0,
   "metadata": {
    "application/vnd.databricks.v1+cell": {
     "cellMetadata": {
      "byteLimit": 2048000,
      "rowLimit": 10000
     },
     "inputWidgets": {},
     "nuid": "88565fa8-1e8e-4fc6-a9e0-c16e1965f2da",
     "showTitle": false,
     "tableResultSettingsMap": {},
     "title": ""
    }
   },
   "outputs": [],
   "source": [
    "%pip install -U -qqqq databricks-langchain uv databricks-agents mlflow-skinny[databricks]"
   ]
  },
  {
   "cell_type": "code",
   "execution_count": 0,
   "metadata": {
    "application/vnd.databricks.v1+cell": {
     "cellMetadata": {
      "byteLimit": 2048000,
      "rowLimit": 10000
     },
     "inputWidgets": {},
     "nuid": "d95b1e68-6baf-42e8-bcb2-4b6c6fd28904",
     "showTitle": false,
     "tableResultSettingsMap": {},
     "title": ""
    }
   },
   "outputs": [],
   "source": [
    "!pip install jq"
   ]
  },
  {
   "cell_type": "code",
   "execution_count": 0,
   "metadata": {
    "application/vnd.databricks.v1+cell": {
     "cellMetadata": {
      "byteLimit": 2048000,
      "rowLimit": 10000
     },
     "inputWidgets": {},
     "nuid": "b2ec28bd-9810-4750-b84d-25f44752bb02",
     "showTitle": false,
     "tableResultSettingsMap": {},
     "title": ""
    }
   },
   "outputs": [],
   "source": [
    "dbutils.library.restartPython()"
   ]
  },
  {
   "cell_type": "code",
   "execution_count": 0,
   "metadata": {
    "application/vnd.databricks.v1+cell": {
     "cellMetadata": {
      "byteLimit": 2048000,
      "rowLimit": 10000
     },
     "inputWidgets": {},
     "nuid": "a3dd71bf-51ed-4106-8cb2-becd81ccc91b",
     "showTitle": false,
     "tableResultSettingsMap": {},
     "title": ""
    }
   },
   "outputs": [],
   "source": [
    "%pip install databricks-vectorsearch\n",
    "dbutils.library.restartPython()"
   ]
  },
  {
   "cell_type": "code",
   "execution_count": 0,
   "metadata": {
    "application/vnd.databricks.v1+cell": {
     "cellMetadata": {
      "byteLimit": 2048000,
      "rowLimit": 10000
     },
     "inputWidgets": {},
     "nuid": "ff50f820-fc78-4907-b813-f0e61de53bbb",
     "showTitle": false,
     "tableResultSettingsMap": {},
     "title": ""
    }
   },
   "outputs": [],
   "source": [
    "# import json\n",
    "# file_path = \"../../docs/router_agent_documents.json\"\n",
    "\n",
    "# with open(file_path, \"r\") as f:\n",
    "#     knowledge_base = json.load(f)\n",
    "\n",
    "# knowledge_base[:3]"
   ]
  },
  {
   "cell_type": "code",
   "execution_count": 0,
   "metadata": {
    "application/vnd.databricks.v1+cell": {
     "cellMetadata": {
      "byteLimit": 2048000,
      "rowLimit": 10000
     },
     "inputWidgets": {},
     "nuid": "7417e33e-55bf-416c-9954-331983303e6c",
     "showTitle": false,
     "tableResultSettingsMap": {},
     "title": ""
    }
   },
   "outputs": [],
   "source": [
    "# knowledge_base"
   ]
  },
  {
   "cell_type": "code",
   "execution_count": 0,
   "metadata": {
    "application/vnd.databricks.v1+cell": {
     "cellMetadata": {
      "byteLimit": 2048000,
      "rowLimit": 10000
     },
     "inputWidgets": {},
     "nuid": "161799a0-e55d-42f8-be2f-cb59dde07efd",
     "showTitle": false,
     "tableResultSettingsMap": {},
     "title": ""
    }
   },
   "outputs": [],
   "source": [
    "from langchain_community.document_loaders import JSONLoader\n",
    "\n",
    "file_path = \"../../docs/router_agent_documents.json\"\n",
    "\n",
    "# Load the document\n",
    "loader = JSONLoader(file_path,jq_schema='.',\n",
    "                    text_content=False)\n",
    "documents = loader.load()\n",
    "\n",
    "print(f\"Loaded {len(documents)} document(s).\")\n",
    "\n",
    "print(documents[0].metadata)\n",
    "print(documents[0].page_content[:1000])"
   ]
  },
  {
   "cell_type": "code",
   "execution_count": 0,
   "metadata": {
    "application/vnd.databricks.v1+cell": {
     "cellMetadata": {
      "byteLimit": 2048000,
      "rowLimit": 10000
     },
     "inputWidgets": {},
     "nuid": "12c94997-2764-4385-a137-9bd60d6b8707",
     "showTitle": false,
     "tableResultSettingsMap": {},
     "title": ""
    }
   },
   "outputs": [],
   "source": [
    "documents[0].metadata"
   ]
  },
  {
   "cell_type": "code",
   "execution_count": 0,
   "metadata": {
    "application/vnd.databricks.v1+cell": {
     "cellMetadata": {
      "byteLimit": 2048000,
      "rowLimit": 10000
     },
     "inputWidgets": {},
     "nuid": "5da7a61f-7073-4a49-bb1e-d5e573d90669",
     "showTitle": false,
     "tableResultSettingsMap": {},
     "title": ""
    }
   },
   "outputs": [],
   "source": [
    "documents[0].page_content"
   ]
  },
  {
   "cell_type": "code",
   "execution_count": 0,
   "metadata": {
    "application/vnd.databricks.v1+cell": {
     "cellMetadata": {
      "byteLimit": 2048000,
      "rowLimit": 10000
     },
     "inputWidgets": {},
     "nuid": "014d0419-f3e0-4fd3-8c07-ab4c612a0cdc",
     "showTitle": false,
     "tableResultSettingsMap": {},
     "title": ""
    }
   },
   "outputs": [],
   "source": [
    "from langchain_community.document_loaders import JSONLoader\n",
    "\n",
    "file_path = \"../../docs/router_agent_documents.json\"\n",
    "\n",
    "# Load the document\n",
    "loader = JSONLoader(file_path,jq_schema='.messages[]',\n",
    "                    text_content=False)\n",
    "documents = loader.load()\n",
    "\n",
    "print(f\"Loaded {len(documents)} document(s).\")\n",
    "\n",
    "print(documents[0].metadata)\n",
    "print(documents[0].page_content[:1000])"
   ]
  },
  {
   "cell_type": "code",
   "execution_count": 0,
   "metadata": {
    "application/vnd.databricks.v1+cell": {
     "cellMetadata": {
      "byteLimit": 2048000,
      "rowLimit": 10000
     },
     "inputWidgets": {},
     "nuid": "ec773e0c-d9b0-42f8-9311-7c8f6388f6e7",
     "showTitle": false,
     "tableResultSettingsMap": {},
     "title": ""
    }
   },
   "outputs": [],
   "source": [
    "from langchain.text_splitter import RecursiveCharacterTextSplitter\n",
    "\n",
    "text_splitter = RecursiveCharacterTextSplitter(\n",
    "    chunk_size=800,      # ~800 characters per chunk\n",
    "    chunk_overlap=100,   # 100 characters overlap to preserve context\n",
    ")\n",
    "\n",
    "docs = text_splitter.split_documents(documents)\n",
    "\n",
    "print(f\"Created {len(docs)} chunks.\")\n",
    "\n",
    "\n",
    "\n",
    "print(docs)"
   ]
  },
  {
   "cell_type": "code",
   "execution_count": 0,
   "metadata": {
    "application/vnd.databricks.v1+cell": {
     "cellMetadata": {
      "byteLimit": 2048000,
      "rowLimit": 10000
     },
     "inputWidgets": {},
     "nuid": "5c99672c-7645-4c55-b451-e58673667d03",
     "showTitle": false,
     "tableResultSettingsMap": {},
     "title": ""
    }
   },
   "outputs": [],
   "source": [
    "catalog = \"agentic_ai\"\n",
    "schema = \"langgraph\""
   ]
  },
  {
   "cell_type": "code",
   "execution_count": 0,
   "metadata": {
    "application/vnd.databricks.v1+cell": {
     "cellMetadata": {
      "byteLimit": 2048000,
      "rowLimit": 10000
     },
     "inputWidgets": {},
     "nuid": "c1d8c3ab-48b7-406f-805d-81a5c2b91324",
     "showTitle": false,
     "tableResultSettingsMap": {},
     "title": ""
    }
   },
   "outputs": [],
   "source": [
    "import json"
   ]
  },
  {
   "cell_type": "code",
   "execution_count": 0,
   "metadata": {
    "application/vnd.databricks.v1+cell": {
     "cellMetadata": {
      "byteLimit": 2048000,
      "rowLimit": 10000
     },
     "inputWidgets": {},
     "nuid": "12eaf73f-ee60-4b26-acf4-d54dc9f846e8",
     "showTitle": false,
     "tableResultSettingsMap": {},
     "title": ""
    }
   },
   "outputs": [],
   "source": [
    "chunk_data = []\n",
    "for i, d in enumerate(docs):\n",
    "    page_content = json.loads(d.page_content)\n",
    "    chunk_data.append({\n",
    "    \"chunk_id\": i + 1,\n",
    "    \"content\": page_content[\"text\"],\n",
    "    \"category\": page_content[\"metadata\"][\"category\"]\n",
    "    })\n",
    "\n",
    "\n",
    "# Convert to dataframe\n",
    "\n",
    "spark_df = spark.createDataFrame(chunk_data)\n",
    "\n",
    "# Save as Delta\n",
    "spark_df.write.format(\"delta\").mode(\"overwrite\").saveAsTable(f\"{catalog}.{schema}.router_agent_chunks\")\n"
   ]
  },
  {
   "cell_type": "code",
   "execution_count": 0,
   "metadata": {
    "application/vnd.databricks.v1+cell": {
     "cellMetadata": {
      "byteLimit": 2048000,
      "implicitDf": true,
      "rowLimit": 10000
     },
     "inputWidgets": {},
     "nuid": "d12d50d4-1d97-40df-a663-c76398bb0a43",
     "showTitle": false,
     "tableResultSettingsMap": {
      "0": {
       "dataGridStateBlob": "{\"version\":1,\"tableState\":{\"columnPinning\":{\"left\":[\"#row_number#\"],\"right\":[]},\"columnSizing\":{},\"columnVisibility\":{}},\"settings\":{\"columns\":{}},\"syncTimestamp\":1760891183948}",
       "filterBlob": null,
       "queryPlanFiltersBlob": null,
       "tableResultIndex": 0
      }
     },
     "title": ""
    }
   },
   "outputs": [],
   "source": [
    "display(spark.table(\"agentic_ai.langgraph.router_agent_chunks\"))"
   ]
  },
  {
   "cell_type": "code",
   "execution_count": 0,
   "metadata": {
    "application/vnd.databricks.v1+cell": {
     "cellMetadata": {
      "byteLimit": 2048000,
      "rowLimit": 10000
     },
     "inputWidgets": {},
     "nuid": "6244529e-7e62-4f51-a1c3-6e32c42def2f",
     "showTitle": false,
     "tableResultSettingsMap": {},
     "title": ""
    }
   },
   "outputs": [],
   "source": [
    "spark.sql(\"ALTER TABLE agentic_ai.langgraph.router_agent_chunks SET TBLPROPERTIES (delta.enableChangeDataFeed = true)\")"
   ]
  },
  {
   "cell_type": "markdown",
   "metadata": {
    "application/vnd.databricks.v1+cell": {
     "cellMetadata": {
      "byteLimit": 2048000,
      "rowLimit": 10000
     },
     "inputWidgets": {},
     "nuid": "b8489ae9-1bd4-4e68-8080-6ed96067a3a5",
     "showTitle": false,
     "tableResultSettingsMap": {},
     "title": ""
    }
   },
   "source": [
    "### Now you can create vector serach index using this table, Follow the below doc\n",
    "\n",
    "https://docs.databricks.com/aws/en/generative-ai/create-query-vector-search"
   ]
  },
  {
   "cell_type": "markdown",
   "metadata": {
    "application/vnd.databricks.v1+cell": {
     "cellMetadata": {
      "byteLimit": 2048000,
      "rowLimit": 10000
     },
     "inputWidgets": {},
     "nuid": "e2594544-4f5f-4e67-8909-afd2d50f0e0b",
     "showTitle": false,
     "tableResultSettingsMap": {},
     "title": ""
    }
   },
   "source": [
    "## Create a vector search endpoint"
   ]
  },
  {
   "cell_type": "code",
   "execution_count": 0,
   "metadata": {
    "application/vnd.databricks.v1+cell": {
     "cellMetadata": {
      "byteLimit": 2048000,
      "rowLimit": 10000
     },
     "inputWidgets": {},
     "nuid": "da5e4e7c-8989-45fa-b9dc-f6afb750b7cb",
     "showTitle": false,
     "tableResultSettingsMap": {},
     "title": ""
    }
   },
   "outputs": [],
   "source": [
    "from databricks.vector_search.client import VectorSearchClient"
   ]
  },
  {
   "cell_type": "code",
   "execution_count": 0,
   "metadata": {
    "application/vnd.databricks.v1+cell": {
     "cellMetadata": {
      "byteLimit": 2048000,
      "rowLimit": 10000
     },
     "inputWidgets": {},
     "nuid": "7695871f-3986-4e15-b7c1-50d7f265a44e",
     "showTitle": false,
     "tableResultSettingsMap": {},
     "title": ""
    }
   },
   "outputs": [],
   "source": [
    "# The following line automatically generates a PAT Token for authentication\n",
    "client = VectorSearchClient()\n",
    "\n",
    "# The following line uses the service principal token for authentication\n",
    "# client = VectorSearchClient(service_principal_client_id=<CLIENT_ID>,service_principal_client_secret=<CLIENT_SECRET>)\n",
    "\n",
    "client.create_endpoint(\n",
    "    name=\"router_agent_endpoint\",\n",
    "    endpoint_type=\"STANDARD\" # or \"STORAGE_OPTIMIZED\"\n",
    ")"
   ]
  },
  {
   "cell_type": "markdown",
   "metadata": {
    "application/vnd.databricks.v1+cell": {
     "cellMetadata": {
      "byteLimit": 2048000,
      "rowLimit": 10000
     },
     "inputWidgets": {},
     "nuid": "a4b0e5da-d732-491b-8bf9-d0e87a48c7a3",
     "showTitle": false,
     "tableResultSettingsMap": {},
     "title": ""
    }
   },
   "source": [
    "## Create Vector Search Index"
   ]
  },
  {
   "cell_type": "code",
   "execution_count": 0,
   "metadata": {
    "application/vnd.databricks.v1+cell": {
     "cellMetadata": {
      "byteLimit": 2048000,
      "rowLimit": 10000
     },
     "inputWidgets": {},
     "nuid": "626637a9-25f4-44c2-abdb-d8ef3ba39ce0",
     "showTitle": false,
     "tableResultSettingsMap": {},
     "title": ""
    }
   },
   "outputs": [],
   "source": [
    "# The following example creates a Delta Sync Index with self-managed embeddings.\n",
    "\n",
    "\n",
    "endpoint_name=\"router_agent_endpoint\"\n",
    "source_table_name=\"agentic_ai.langgraph.router_agent_chunks\"\n",
    "index_name=\"agentic_ai.langgraph.router_agent_index\"\n",
    "\n",
    "\n",
    "client = VectorSearchClient()\n",
    "\n",
    "index = client.create_delta_sync_index(\n",
    "  endpoint_name=endpoint_name,\n",
    "  source_table_name=source_table_name,\n",
    "  index_name=index_name,\n",
    "  pipeline_type=\"TRIGGERED\",\n",
    "  primary_key=\"chunk_id\",\n",
    "  embedding_source_column=\"content\",\n",
    "  embedding_model_endpoint_name=\"databricks-gte-large-en\", # This model is used for ingestion, and is also used for querying unless model_endpoint_name_for_query is specified.\n",
    ")"
   ]
  },
  {
   "cell_type": "markdown",
   "metadata": {
    "application/vnd.databricks.v1+cell": {
     "cellMetadata": {
      "byteLimit": 2048000,
      "rowLimit": 10000
     },
     "inputWidgets": {},
     "nuid": "1f89b2b5-c9b6-453c-9cff-ed94e80e8b6a",
     "showTitle": false,
     "tableResultSettingsMap": {},
     "title": ""
    }
   },
   "source": [
    "## Query a vector search endpoint"
   ]
  },
  {
   "cell_type": "code",
   "execution_count": 0,
   "metadata": {
    "application/vnd.databricks.v1+cell": {
     "cellMetadata": {
      "byteLimit": 2048000,
      "rowLimit": 10000
     },
     "inputWidgets": {},
     "nuid": "10157a15-6adf-4b17-9d16-42f036af5162",
     "showTitle": false,
     "tableResultSettingsMap": {},
     "title": ""
    }
   },
   "outputs": [],
   "source": [
    "# Delta Sync Index with embeddings computed by Databricks\n",
    "\n",
    "from databricks.vector_search.client import VectorSearchClient\n",
    "\n",
    "client = VectorSearchClient()\n",
    "\n",
    "endpoint_name=\"router_agent_endpoint\"\n",
    "source_table_name=\"agentic_ai.langgraph.router_agent_chunks\"\n",
    "index_name=\"agentic_ai.langgraph.router_agent_index\"\n",
    "\n",
    "index = client.get_index(endpoint_name=endpoint_name, index_name=index_name)\n",
    "\n",
    "results = index.similarity_search(\n",
    "    query_text=\"what is your refund policy?\",\n",
    "    columns=[\"content\",\"category\"],  # Ensure only columns present in the index are listed\n",
    "    num_results=3,\n",
    "    filters={\"category\": [\"general\"]},\n",
    "    query_type=\"hybrid\"\n",
    ")\n",
    "results"
   ]
  },
  {
   "cell_type": "code",
   "execution_count": 0,
   "metadata": {
    "application/vnd.databricks.v1+cell": {
     "cellMetadata": {
      "byteLimit": 2048000,
      "rowLimit": 10000
     },
     "inputWidgets": {},
     "nuid": "2142cbb5-1221-495c-8335-8449fb7da96d",
     "showTitle": false,
     "tableResultSettingsMap": {},
     "title": ""
    }
   },
   "outputs": [],
   "source": [
    "# Filter is case sensitive. So if we use General iso general we would not get any similar document.\n",
    "results = index.similarity_search(\n",
    "    query_text=\"what is your refund policy?\",\n",
    "    columns=[\"content\",\"category\"],  # Ensure only columns present in the index are listed\n",
    "    num_results=3,\n",
    "    filters={\"category\": [\"General\"]},\n",
    "    query_type=\"hybrid\"\n",
    ")\n",
    "results"
   ]
  },
  {
   "cell_type": "markdown",
   "metadata": {
    "application/vnd.databricks.v1+cell": {
     "cellMetadata": {
      "byteLimit": 2048000,
      "rowLimit": 10000
     },
     "inputWidgets": {},
     "nuid": "2858ac67-58bc-429e-bc98-4e1f88895f10",
     "showTitle": false,
     "tableResultSettingsMap": {},
     "title": ""
    }
   },
   "source": [
    "\n",
    "## Convert results to LangChain documents\n",
    "The first column retrieved is loaded into page_content, and the rest into metadata."
   ]
  },
  {
   "cell_type": "code",
   "execution_count": 0,
   "metadata": {
    "application/vnd.databricks.v1+cell": {
     "cellMetadata": {
      "byteLimit": 2048000,
      "rowLimit": 10000
     },
     "inputWidgets": {},
     "nuid": "543a4f73-2ac2-4294-b29d-dae3b1a753c4",
     "showTitle": false,
     "tableResultSettingsMap": {},
     "title": ""
    }
   },
   "outputs": [],
   "source": [
    "from langchain.schema import Document\n",
    "from typing import List\n",
    "\n",
    "def convert_vector_search_to_documents(results) -> List[Document]:\n",
    "  column_names = []\n",
    "  for column in results[\"manifest\"][\"columns\"]:\n",
    "      column_names.append(column)\n",
    "\n",
    "  langchain_docs = []\n",
    "  for item in results[\"result\"][\"data_array\"]:\n",
    "      metadata = {}\n",
    "      score = item[-1]\n",
    "      # print(score)\n",
    "      i = 1\n",
    "      for field in item[1:-1]:\n",
    "          # print(field + \"--\")\n",
    "          metadata[column_names[i][\"name\"]] = field\n",
    "          i = i + 1\n",
    "      doc = Document(page_content=item[0], metadata=metadata)  # , 9)\n",
    "      langchain_docs.append(doc)\n",
    "  return langchain_docs\n",
    "\n",
    "langchain_docs = convert_vector_search_to_documents(results)\n",
    "\n",
    "langchain_docs"
   ]
  },
  {
   "cell_type": "code",
   "execution_count": 0,
   "metadata": {
    "application/vnd.databricks.v1+cell": {
     "cellMetadata": {
      "byteLimit": 2048000,
      "rowLimit": 10000
     },
     "inputWidgets": {},
     "nuid": "418408b1-6f89-4685-8b70-b8dcbfb51ac8",
     "showTitle": false,
     "tableResultSettingsMap": {},
     "title": ""
    }
   },
   "outputs": [],
   "source": [
    "for elem in langchain_docs:\n",
    "    print(type(elem))"
   ]
  },
  {
   "cell_type": "code",
   "execution_count": 0,
   "metadata": {
    "application/vnd.databricks.v1+cell": {
     "cellMetadata": {
      "byteLimit": 2048000,
      "rowLimit": 10000
     },
     "inputWidgets": {},
     "nuid": "404923e1-e4a3-47ec-a657-2324400b524b",
     "showTitle": false,
     "tableResultSettingsMap": {},
     "title": ""
    }
   },
   "outputs": [],
   "source": [
    "retrieved_content = \"\\n\\n\".join(doc.page_content for doc in langchain_docs)\n",
    "retrieved_content"
   ]
  },
  {
   "cell_type": "code",
   "execution_count": 0,
   "metadata": {
    "application/vnd.databricks.v1+cell": {
     "cellMetadata": {
      "byteLimit": 2048000,
      "rowLimit": 10000
     },
     "inputWidgets": {},
     "nuid": "531b3f5e-3be4-409e-befa-8815733271bb",
     "showTitle": false,
     "tableResultSettingsMap": {},
     "title": ""
    }
   },
   "outputs": [],
   "source": []
  }
 ],
 "metadata": {
  "application/vnd.databricks.v1+notebook": {
   "computePreferences": {
    "hardware": {
     "accelerator": null,
     "gpuPoolId": null,
     "memory": null
    }
   },
   "dashboards": [],
   "environmentMetadata": {
    "base_environment": "",
    "dependencies": [
     "-r /Workspace/Users/real.anirvan@gmail.com/ai-agents-masterclass/requirements.txt"
    ],
    "environment_version": "3"
   },
   "inputWidgetPreferences": null,
   "language": "python",
   "notebookMetadata": {
    "mostRecentlyExecutedCommandWithImplicitDF": {
     "commandId": -1,
     "dataframes": [
      "_sqldf"
     ]
    },
    "pythonIndentUnit": 2
   },
   "notebookName": "2.2-how to use vector database for storing embeddings",
   "widgets": {}
  },
  "language_info": {
   "name": "python"
  }
 },
 "nbformat": 4,
 "nbformat_minor": 0
}
