{
 "cells": [
  {
   "cell_type": "markdown",
   "metadata": {
    "application/vnd.databricks.v1+cell": {
     "cellMetadata": {},
     "inputWidgets": {},
     "nuid": "b2a876ca-728f-4735-accd-baac5d239a89",
     "showTitle": false,
     "tableResultSettingsMap": {},
     "title": ""
    },
    "id": "-EveXIp8R-f1"
   },
   "source": [
    "# Build a Reflective Self-Correcting Code Generation AI Agent\n",
    "\n",
    "In this project we will be building an intelligent self-correction code generation AI Agent which can generate working code for user problems, leverage the reflection pattern to examine and test the code and improve and correct it.\n",
    "\n",
    "![](https://i.imgur.com/koLDCZL.png)\n",
    "\n",
    "### Reflective Self-Correcting Code Generation AI Agent\n",
    "\n",
    "This project focuses on building a **Reflective Self-Correcting Code Generation AI Agent**, designed to iteratively generate, execute, and refine code to achieve accurate solutions. The workflow integrates reflective reasoning and error analysis to ensure robust and functional code generation. The workflow includes the following components:\n",
    "\n",
    "1. **Code Generation**:\n",
    "   - The system utilizes **OpenAI GPT-4o** to generate code based on the user's input and problem requirements.\n",
    "   - Code is generated following a predefined schema, including:\n",
    "     - **Prefix**: Problem description or setup requirements.\n",
    "     - **Imports**: Necessary libraries or dependencies.\n",
    "     - **Code**: Functional implementation of the solution.\n",
    "\n",
    "2. **Code Execution and Reflection**:\n",
    "   - The generated code is executed, and the results are analyzed.\n",
    "   - If an error occurs, feedback is provided to refine the code:\n",
    "     - **Error Feedback**: Captures errors or unexpected behaviors during execution.\n",
    "     - **Reflection**: GPT-4o reflects on the error feedback to iteratively improve the solution.\n",
    "\n",
    "3. **Iterative Correction Loop**:\n",
    "   - The system repeats the generate-execute-reflect cycle until:\n",
    "     - A successful solution is achieved (no errors).\n",
    "     - The attempt count exceeds a predefined threshold (`N`), ensuring the loop terminates if a solution cannot be reached.\n",
    "\n",
    "4. **Attempt Counter**:\n",
    "   - Tracks the number of attempts (`K`) and increments with each iteration.\n",
    "   - If the attempt count exceeds the predefined threshold, the process halts, and the user is informed.\n",
    "\n",
    "5. **Final Validation**:\n",
    "   - Once the code passes execution without errors, the refined solution is presented to the user as the final output.\n",
    "\n",
    "6. **User Feedback Loop**:\n",
    "   - If the user is unsatisfied with the solution, the process can be restarted to refine the code further or adjust the requirements.\n",
    "\n",
    "\n"
   ]
  },
  {
   "cell_type": "markdown",
   "metadata": {
    "application/vnd.databricks.v1+cell": {
     "cellMetadata": {},
     "inputWidgets": {},
     "nuid": "10f30026-c2d4-4551-b7cb-f8f83b3c9379",
     "showTitle": false,
     "tableResultSettingsMap": {},
     "title": ""
    },
    "id": "9hEI3WL328vZ"
   },
   "source": [
    "## Install OpenAI, LangGraph and LangChain dependencies"
   ]
  },
  {
   "cell_type": "code",
   "execution_count": 0,
   "metadata": {
    "application/vnd.databricks.v1+cell": {
     "cellMetadata": {
      "byteLimit": 2048000,
      "rowLimit": 10000
     },
     "inputWidgets": {},
     "nuid": "c5f46ee7-0bff-4092-bedd-57e3b98c2d1d",
     "showTitle": false,
     "tableResultSettingsMap": {},
     "title": ""
    },
    "id": "avUQykrKR-f3"
   },
   "outputs": [],
   "source": [
    "!pip install langchain==0.3.14\n",
    "!pip install langchain-openai==0.3.0\n",
    "!pip install langchain-community==0.3.14\n",
    "!pip install langgraph==0.2.64"
   ]
  },
  {
   "cell_type": "markdown",
   "metadata": {
    "application/vnd.databricks.v1+cell": {
     "cellMetadata": {},
     "inputWidgets": {},
     "nuid": "d9b827e6-71fc-4a3d-8757-e431afe81810",
     "showTitle": false,
     "tableResultSettingsMap": {},
     "title": ""
    },
    "id": "oVQrgISwSMot"
   },
   "source": [
    "## Enter Open AI API Key"
   ]
  },
  {
   "cell_type": "code",
   "execution_count": 0,
   "metadata": {
    "application/vnd.databricks.v1+cell": {
     "cellMetadata": {
      "byteLimit": 2048000,
      "rowLimit": 10000
     },
     "inputWidgets": {},
     "nuid": "d688a120-ed99-4af3-8455-87a8e46161a1",
     "showTitle": false,
     "tableResultSettingsMap": {},
     "title": ""
    },
    "id": "HRu22wfvSMou"
   },
   "outputs": [],
   "source": [
    "from getpass import getpass\n",
    "\n",
    "OPENAI_KEY = getpass('Enter Open AI API Key: ')"
   ]
  },
  {
   "cell_type": "markdown",
   "metadata": {
    "application/vnd.databricks.v1+cell": {
     "cellMetadata": {},
     "inputWidgets": {},
     "nuid": "2ac1cb25-a8b5-493e-a519-bd911c1cf877",
     "showTitle": false,
     "tableResultSettingsMap": {},
     "title": ""
    },
    "id": "MZgfE9EsJSdt"
   },
   "source": [
    "## Setup Environment Variables"
   ]
  },
  {
   "cell_type": "code",
   "execution_count": 0,
   "metadata": {
    "application/vnd.databricks.v1+cell": {
     "cellMetadata": {
      "byteLimit": 2048000,
      "rowLimit": 10000
     },
     "inputWidgets": {},
     "nuid": "aba91603-6e9f-461a-ac32-5e517f11d4da",
     "showTitle": false,
     "tableResultSettingsMap": {},
     "title": ""
    },
    "id": "ZbqbvcbmJSdu"
   },
   "outputs": [],
   "source": [
    "import os\n",
    "\n",
    "os.environ['OPENAI_API_KEY'] = OPENAI_KEY"
   ]
  },
  {
   "cell_type": "markdown",
   "metadata": {
    "application/vnd.databricks.v1+cell": {
     "cellMetadata": {},
     "inputWidgets": {},
     "nuid": "01faaae7-f2dd-44c2-9187-49ab76e7a726",
     "showTitle": false,
     "tableResultSettingsMap": {},
     "title": ""
    },
    "id": "Y0QSiCCsR-f6"
   },
   "source": [
    "## Build Code Generator"
   ]
  },
  {
   "cell_type": "code",
   "execution_count": 0,
   "metadata": {
    "application/vnd.databricks.v1+cell": {
     "cellMetadata": {
      "byteLimit": 2048000,
      "rowLimit": 10000
     },
     "inputWidgets": {},
     "nuid": "cc9f0719-c636-4bc6-b211-9f97794345fd",
     "showTitle": false,
     "tableResultSettingsMap": {},
     "title": ""
    },
    "id": "0ucT0JZHR-f6"
   },
   "outputs": [],
   "source": [
    "from langchain_openai import ChatOpenAI\n",
    "from langchain.prompts.chat import ChatPromptTemplate\n",
    "from pydantic import BaseModel, Field\n",
    "\n",
    "\n",
    "# Initialize GPT-4o\n",
    "llm = ChatOpenAI(model_name=\"gpt-4o\", temperature=0)\n",
    "\n",
    "# Prompt\n",
    "CODE_GEN_SYS_PROMPT = [\n",
    "        (\n",
    "            \"system\",\n",
    "            \"\"\"You are a coding assistant.\n",
    "                Ensure any code you provide can be executed with all required imports and variables defined.\n",
    "                Make sure point 3 below has some code to run and execute any code or functions which you define\n",
    "\n",
    "                Structure your answer as follows:\n",
    "                  1) a prefix describing the code solution\n",
    "                  2) the imports (if no imports needed keep it empty string)\n",
    "                  3) the functioning code blocks\n",
    "\n",
    "                Here is the user question:\"\"\",\n",
    "        )\n",
    "]\n",
    "\n",
    "# Data model\n",
    "class Code(BaseModel):\n",
    "    \"\"\"Schema for code solutions to questions about coding.\"\"\"\n",
    "\n",
    "    prefix: str = Field(description=\"Description of the problem and approach\")\n",
    "    imports: str = Field(description=\"Just the import statements of the code\")\n",
    "    code: str = Field(description=\"Code blocks not including import statements\")\n",
    "\n",
    "# LLM\n",
    "code_generator = llm.with_structured_output(Code)"
   ]
  },
  {
   "cell_type": "code",
   "execution_count": 0,
   "metadata": {
    "application/vnd.databricks.v1+cell": {
     "cellMetadata": {
      "byteLimit": 2048000,
      "rowLimit": 10000
     },
     "inputWidgets": {},
     "nuid": "ff5f6145-ae07-44dd-89d2-161820cb0b8e",
     "showTitle": false,
     "tableResultSettingsMap": {},
     "title": ""
    },
    "colab": {
     "base_uri": "https://localhost:8080/"
    },
    "id": "TGeNQYjDTMwY",
    "outputId": "67df01ec-9af5-4eda-c161-c6e60f860862"
   },
   "outputs": [],
   "source": [
    "question = \"How to create fibonacci series\"\n",
    "messages = [(\"user\", question)]\n",
    "\n",
    "result = code_generator.invoke(CODE_GEN_SYS_PROMPT + messages)\n",
    "result"
   ]
  },
  {
   "cell_type": "code",
   "execution_count": 0,
   "metadata": {
    "application/vnd.databricks.v1+cell": {
     "cellMetadata": {
      "byteLimit": 2048000,
      "rowLimit": 10000
     },
     "inputWidgets": {},
     "nuid": "76d3f5e4-9ebc-40b5-84ee-ddbf16f5360d",
     "showTitle": false,
     "tableResultSettingsMap": {},
     "title": ""
    },
    "colab": {
     "base_uri": "https://localhost:8080/"
    },
    "id": "iwqUwqtIThC2",
    "outputId": "88b32052-851e-4d15-e949-54b49bcb95e8"
   },
   "outputs": [],
   "source": [
    "print(result.code)"
   ]
  },
  {
   "cell_type": "code",
   "execution_count": 0,
   "metadata": {
    "application/vnd.databricks.v1+cell": {
     "cellMetadata": {
      "byteLimit": 2048000,
      "rowLimit": 10000
     },
     "inputWidgets": {},
     "nuid": "f5d4197f-527c-42e8-a3c8-29dfab594921",
     "showTitle": false,
     "tableResultSettingsMap": {},
     "title": ""
    },
    "colab": {
     "base_uri": "https://localhost:8080/"
    },
    "id": "qxkRKJuh2mXX",
    "outputId": "f8b37fb1-5e07-47cb-e80f-ba491c23c10a"
   },
   "outputs": [],
   "source": [
    "print(result.imports)"
   ]
  },
  {
   "cell_type": "markdown",
   "metadata": {
    "application/vnd.databricks.v1+cell": {
     "cellMetadata": {},
     "inputWidgets": {},
     "nuid": "0a2e7c2f-035f-4d68-b353-0366406eb63e",
     "showTitle": false,
     "tableResultSettingsMap": {},
     "title": ""
    },
    "id": "wREDcQKQR-f7"
   },
   "source": [
    "We create a chain that returns structured data for code solutions. We’ll feed it the user’s question plus the system directive in the prompt above."
   ]
  },
  {
   "cell_type": "markdown",
   "metadata": {
    "application/vnd.databricks.v1+cell": {
     "cellMetadata": {},
     "inputWidgets": {},
     "nuid": "f25d6432-52ce-4492-988b-77010937119d",
     "showTitle": false,
     "tableResultSettingsMap": {},
     "title": ""
    },
    "id": "YZ1pviPJR-f7"
   },
   "source": [
    "## Build Agent Graph Node Functions\n",
    "\n",
    "The key focus here will be to create the function implementations of the main nodes in our graph which will include:\n",
    "\n",
    "-  **Generate** a code solution\n",
    "-  **Check code** imports and code execution and add error messages if any\n",
    "- **Conditional routing** to regenerate code by reflecting on the errors if any OR stop generation\n",
    "\n"
   ]
  },
  {
   "cell_type": "markdown",
   "metadata": {
    "application/vnd.databricks.v1+cell": {
     "cellMetadata": {},
     "inputWidgets": {},
     "nuid": "70d19617-3101-4fe7-a8e0-14deac741f38",
     "showTitle": false,
     "tableResultSettingsMap": {},
     "title": ""
    },
    "id": "uyAVd79ZNkzq"
   },
   "source": [
    "### Create Agent State Schema"
   ]
  },
  {
   "cell_type": "code",
   "execution_count": 0,
   "metadata": {
    "application/vnd.databricks.v1+cell": {
     "cellMetadata": {
      "byteLimit": 2048000,
      "rowLimit": 10000
     },
     "inputWidgets": {},
     "nuid": "4e46223b-b240-42bb-85c4-fe372f5b33b1",
     "showTitle": false,
     "tableResultSettingsMap": {},
     "title": ""
    },
    "id": "kkLFqqP7R-f8"
   },
   "outputs": [],
   "source": [
    "from typing import TypedDict, Annotated, List\n",
    "from langgraph.graph.message import AnyMessage, add_messages\n",
    "from langchain_core.messages import HumanMessage\n",
    "\n",
    "class CodeGenState(TypedDict):\n",
    "    \"\"\"\n",
    "    Represents the state of our graph.\n",
    "\n",
    "    Attributes:\n",
    "        error_flag : Binary flag for control flow to indicate whether test error was tripped\n",
    "        messages : With user question, error messages, reasoning\n",
    "        code_solution : Code solution\n",
    "        attempts : Number of tries\n",
    "    \"\"\"\n",
    "    error_flag: str\n",
    "    messages: Annotated[List[AnyMessage], add_messages]\n",
    "    code_solution: str\n",
    "    attempts: int"
   ]
  },
  {
   "cell_type": "markdown",
   "metadata": {
    "application/vnd.databricks.v1+cell": {
     "cellMetadata": {},
     "inputWidgets": {},
     "nuid": "d40adf04-b198-4431-a012-8bea7c69141b",
     "showTitle": false,
     "tableResultSettingsMap": {},
     "title": ""
    },
    "id": "nItiFjSyR-f8"
   },
   "source": [
    "### Node 1: Generate Code"
   ]
  },
  {
   "cell_type": "code",
   "execution_count": 0,
   "metadata": {
    "application/vnd.databricks.v1+cell": {
     "cellMetadata": {
      "byteLimit": 2048000,
      "rowLimit": 10000
     },
     "inputWidgets": {},
     "nuid": "3cb22c1e-6e85-4fb3-a90e-fe6fdceaeb13",
     "showTitle": false,
     "tableResultSettingsMap": {},
     "title": ""
    },
    "id": "9PysfORUR-f8"
   },
   "outputs": [],
   "source": [
    "\n",
    "def generate_code(state: CodeGenState) -> CodeGenState:\n",
    "    \"\"\"Generate code solution from GPT-4o, structured as prefix/imports/code.\"\"\"\n",
    "    print(\"--- GENERATING CODE SOLUTION ---\")\n",
    "    msgs = state[\"messages\"]\n",
    "    attempts_so_far = state[\"attempts\"]\n",
    "\n",
    "    # Call code_generation_chain\n",
    "    code_soln = code_generator.invoke(CODE_GEN_SYS_PROMPT + msgs)\n",
    "\n",
    "    # We'll record the chain's answer as a new assistant message in conversation.\n",
    "    new_msg_content = (f\"Here is my solution attempt:\\n\\nDescription: {code_soln.prefix}\\n\\n\"\n",
    "                       f\"Imports: {code_soln.imports}\\n\\n\"\n",
    "                       f\"Code:\\n{code_soln.code}\")\n",
    "\n",
    "    msgs.append((\"assistant\", new_msg_content))\n",
    "    attempts_so_far += 1\n",
    "\n",
    "    return {\n",
    "        \"messages\": msgs,\n",
    "        \"code_solution\": code_soln,\n",
    "        \"attempts\": attempts_so_far\n",
    "    }"
   ]
  },
  {
   "cell_type": "markdown",
   "metadata": {
    "application/vnd.databricks.v1+cell": {
     "cellMetadata": {},
     "inputWidgets": {},
     "nuid": "29b3a620-30ff-4af6-8303-391f9b7208cf",
     "showTitle": false,
     "tableResultSettingsMap": {},
     "title": ""
    },
    "id": "VlcJl7KfR-f9"
   },
   "source": [
    "### Node 2: Check Code\n",
    "\n",
    "We try to `exec` the imports, then `exec` the code. If errors occur, we pass them back to the conversation. Otherwise, success."
   ]
  },
  {
   "cell_type": "code",
   "execution_count": 0,
   "metadata": {
    "application/vnd.databricks.v1+cell": {
     "cellMetadata": {
      "byteLimit": 2048000,
      "rowLimit": 10000
     },
     "inputWidgets": {},
     "nuid": "22ca0141-0d65-4ced-9a1c-99534e6fced9",
     "showTitle": false,
     "tableResultSettingsMap": {},
     "title": ""
    },
    "colab": {
     "base_uri": "https://localhost:8080/"
    },
    "id": "bogJImiLiRrs",
    "outputId": "f05b71bc-2757-4bb4-8639-cfef0d4932a1"
   },
   "outputs": [],
   "source": [
    "# sample code of how exec works\n",
    "user_code = \"\"\"\n",
    "x = 5\n",
    "y = 15\n",
    "print('Result:', x * y)\n",
    "\"\"\"\n",
    "exec(user_code)"
   ]
  },
  {
   "cell_type": "code",
   "execution_count": 0,
   "metadata": {
    "application/vnd.databricks.v1+cell": {
     "cellMetadata": {
      "byteLimit": 2048000,
      "rowLimit": 10000
     },
     "inputWidgets": {},
     "nuid": "e008a143-dd57-4ac7-bf95-bbc11b629cf3",
     "showTitle": false,
     "tableResultSettingsMap": {},
     "title": ""
    },
    "id": "UZIEvj5JR-f9"
   },
   "outputs": [],
   "source": [
    "def check_code_execution(state: CodeGenState) -> CodeGenState:\n",
    "    print(\"--- CHECKING CODE EXECUTION ---\")\n",
    "    msgs = state[\"messages\"]\n",
    "    code_soln = state[\"code_solution\"]\n",
    "    imports_str = code_soln.imports\n",
    "    code_str = code_soln.code\n",
    "    attempts = state[\"attempts\"]\n",
    "\n",
    "    # Attempt to import:\n",
    "    try:\n",
    "        exec(imports_str)\n",
    "    except Exception as e:\n",
    "        # Import failed\n",
    "        print(\"---CODE IMPORT CHECK: FAILED---\")\n",
    "        error_msg = f\"\"\"Import test failed!\n",
    "                        Here is the exception trace details:\n",
    "                        {e}.\n",
    "\n",
    "                        Please fix the import section.\"\"\"\n",
    "\n",
    "        msgs.append((\"user\", error_msg))\n",
    "        return {\n",
    "            \"code_solution\": code_soln,\n",
    "            \"attempts\": attempts,\n",
    "            \"messages\": msgs,\n",
    "            \"error_flag\": \"yes\"\n",
    "        }\n",
    "\n",
    "    # Attempt to run code:\n",
    "    try:\n",
    "        scope = {}\n",
    "        exec(f\"{imports_str}\\n{code_str}\", scope)\n",
    "    except Exception as e:\n",
    "        print(\"---CODE BLOCK CHECK: FAILED---\")\n",
    "        error_msg =  f\"\"\"Your code solution failed the code execution test!\n",
    "                            Here is the exception trace details:\n",
    "                            {e}\n",
    "\n",
    "                            Reflect on this error and your prior attempt to solve the problem.\n",
    "\n",
    "                            (1) State what you think went wrong with the prior solution\n",
    "                            (2) try to solve this problem again.\n",
    "\n",
    "                            Return the FULL SOLUTION.\n",
    "\n",
    "                            Use the code tool to structure the output with a prefix, imports, and code block.\"\"\"\n",
    "\n",
    "        msgs.append((\"user\", error_msg))\n",
    "        return {\n",
    "            \"code_solution\": code_soln,\n",
    "            \"attempts\": attempts,\n",
    "            \"messages\": msgs,\n",
    "            \"error_flag\": \"yes\"\n",
    "        }\n",
    "\n",
    "    # If no errors:\n",
    "    print(\"--- NO ERRORS FOUND ---\")\n",
    "    return {\n",
    "            \"code_solution\": code_soln,\n",
    "            \"attempts\": attempts,\n",
    "            \"messages\": msgs,\n",
    "            \"error_flag\": \"no\"\n",
    "    }"
   ]
  },
  {
   "cell_type": "markdown",
   "metadata": {
    "application/vnd.databricks.v1+cell": {
     "cellMetadata": {},
     "inputWidgets": {},
     "nuid": "bb741ca6-29a7-41dd-a706-e257f6d3ac5b",
     "showTitle": false,
     "tableResultSettingsMap": {},
     "title": ""
    },
    "id": "mYDXdIUuR-f9"
   },
   "source": [
    "### Conditional Routing to Decide Next Step"
   ]
  },
  {
   "cell_type": "code",
   "execution_count": 0,
   "metadata": {
    "application/vnd.databricks.v1+cell": {
     "cellMetadata": {
      "byteLimit": 2048000,
      "rowLimit": 10000
     },
     "inputWidgets": {},
     "nuid": "9626af30-d1dc-4978-8c60-43050aecca71",
     "showTitle": false,
     "tableResultSettingsMap": {},
     "title": ""
    },
    "id": "BCHA7wMfR-f9"
   },
   "outputs": [],
   "source": [
    "MAX_ATTEMPTS = 3\n",
    "\n",
    "def decide_next(state: CodeGenState) -> str:\n",
    "    \"\"\"If error or attempts < MAX_ATTEMPTS => go generate. Else end.\"\"\"\n",
    "    err = state[\"error_flag\"]\n",
    "    attempts = state[\"attempts\"]\n",
    "    if err == \"no\" or attempts >= MAX_ATTEMPTS:\n",
    "        print(\"--- DECISION: FINISH ---\")\n",
    "        return \"__end__\"\n",
    "    else:\n",
    "        print(\"--- DECISION: RETRY ---\")\n",
    "        return \"generate_code\""
   ]
  },
  {
   "cell_type": "markdown",
   "metadata": {
    "application/vnd.databricks.v1+cell": {
     "cellMetadata": {},
     "inputWidgets": {},
     "nuid": "80d439cb-cd09-4a3b-b499-6896ae142245",
     "showTitle": false,
     "tableResultSettingsMap": {},
     "title": ""
    },
    "id": "Cx1zepdwR-f9"
   },
   "source": [
    "## Build the Reflection Agentic Graph\n",
    "\n",
    "We'll define the nodes and edges in LangGraph, then run it."
   ]
  },
  {
   "cell_type": "code",
   "execution_count": 0,
   "metadata": {
    "application/vnd.databricks.v1+cell": {
     "cellMetadata": {
      "byteLimit": 2048000,
      "rowLimit": 10000
     },
     "inputWidgets": {},
     "nuid": "a30b6dcc-8be5-4e59-8617-b23a70fc2f68",
     "showTitle": false,
     "tableResultSettingsMap": {},
     "title": ""
    },
    "id": "-QTi1pcVR-f-"
   },
   "outputs": [],
   "source": [
    "from langgraph.graph import StateGraph, END\n",
    "from langchain_core.messages import HumanMessage\n",
    "\n",
    "graph = StateGraph(CodeGenState)\n",
    "\n",
    "# Add nodes:\n",
    "graph.add_node(\"generate_code\", generate_code)\n",
    "graph.add_node(\"check_code\", check_code_execution)\n",
    "\n",
    "# Edges:\n",
    "graph.set_entry_point(\"generate_code\")\n",
    "graph.add_edge(\"generate_code\", \"check_code\")\n",
    "graph.add_conditional_edges(\n",
    "    \"check_code\",\n",
    "    decide_next,\n",
    "    [END, \"generate_code\"]\n",
    ")\n",
    "\n",
    "coder_agent = graph.compile()\n"
   ]
  },
  {
   "cell_type": "code",
   "execution_count": 0,
   "metadata": {
    "application/vnd.databricks.v1+cell": {
     "cellMetadata": {
      "byteLimit": 2048000,
      "rowLimit": 10000
     },
     "inputWidgets": {},
     "nuid": "bfad4dc2-321a-46c6-ae7d-fd192171f12a",
     "showTitle": false,
     "tableResultSettingsMap": {},
     "title": ""
    },
    "colab": {
     "base_uri": "https://localhost:8080/",
     "height": 350
    },
    "id": "GKqe7NjadtfJ",
    "outputId": "f5228d79-478c-4ef0-9b24-102344812659"
   },
   "outputs": [],
   "source": [
    "from IPython.display import display, Image, Markdown\n",
    "\n",
    "display(Image(coder_agent.get_graph().draw_mermaid_png()))"
   ]
  },
  {
   "cell_type": "markdown",
   "metadata": {
    "application/vnd.databricks.v1+cell": {
     "cellMetadata": {},
     "inputWidgets": {},
     "nuid": "b2581f56-b0e1-44c4-9d4e-b5fc56c95bad",
     "showTitle": false,
     "tableResultSettingsMap": {},
     "title": ""
    },
    "id": "yKO8GSxiR-f-"
   },
   "source": [
    "## Run and Test the Agent"
   ]
  },
  {
   "cell_type": "code",
   "execution_count": 0,
   "metadata": {
    "application/vnd.databricks.v1+cell": {
     "cellMetadata": {
      "byteLimit": 2048000,
      "rowLimit": 10000
     },
     "inputWidgets": {},
     "nuid": "abb06cc7-0dc6-4a8a-8a9e-67fc332af615",
     "showTitle": false,
     "tableResultSettingsMap": {},
     "title": ""
    },
    "id": "9WJ6dD3Eepen"
   },
   "outputs": [],
   "source": [
    "from langchain_core.messages import HumanMessage\n",
    "\n",
    "def call_reflection_coding_agent(agent, prompt, verbose=False):\n",
    "    events = agent.stream(\n",
    "        {\"messages\": [HumanMessage(content=prompt)], \"attempts\": 0},\n",
    "        stream_mode=\"values\",\n",
    "    )\n",
    "\n",
    "    print('Running Agent. Please wait...')\n",
    "    for event in events:\n",
    "        if verbose:\n",
    "            event[\"messages\"][-1].pretty_print()\n",
    "\n",
    "    print('\\n\\nFinal Solution:')\n",
    "    print(\"\\nDescription:\\n\" + event[\"code_solution\"].prefix +\n",
    "          \"\\nCode:\\n\"+event[\"code_solution\"].imports + '\\n\\n' + event[\"code_solution\"].code)"
   ]
  },
  {
   "cell_type": "code",
   "execution_count": 0,
   "metadata": {
    "application/vnd.databricks.v1+cell": {
     "cellMetadata": {
      "byteLimit": 2048000,
      "rowLimit": 10000
     },
     "inputWidgets": {},
     "nuid": "f767a16f-8d50-4778-a2fa-bbe1092bf4b6",
     "showTitle": false,
     "tableResultSettingsMap": {},
     "title": ""
    },
    "colab": {
     "base_uri": "https://localhost:8080/"
    },
    "id": "XtkvnDbefDsN",
    "outputId": "36ea37b6-301e-421f-da20-1c14431d32fd"
   },
   "outputs": [],
   "source": [
    "prompt = \"write some code to demonstrate how to do a pivot table in pandas\"\n",
    "call_reflection_coding_agent(coder_agent, prompt, verbose=True)"
   ]
  },
  {
   "cell_type": "code",
   "execution_count": 0,
   "metadata": {
    "application/vnd.databricks.v1+cell": {
     "cellMetadata": {
      "byteLimit": 2048000,
      "rowLimit": 10000
     },
     "inputWidgets": {},
     "nuid": "cd310f32-540c-4ad5-a4ee-fd7433fd338b",
     "showTitle": false,
     "tableResultSettingsMap": {},
     "title": ""
    },
    "colab": {
     "base_uri": "https://localhost:8080/"
    },
    "id": "oChd321sfSuE",
    "outputId": "d4975f3d-8888-41b9-beeb-97e2a708ef75"
   },
   "outputs": [],
   "source": [
    "prompt = \"write some code to scrape data from any wikipedia page\"\n",
    "call_reflection_coding_agent(coder_agent, prompt, verbose=True)"
   ]
  },
  {
   "cell_type": "code",
   "execution_count": 0,
   "metadata": {
    "application/vnd.databricks.v1+cell": {
     "cellMetadata": {
      "byteLimit": 2048000,
      "rowLimit": 10000
     },
     "inputWidgets": {},
     "nuid": "0abce32e-e206-4cb5-8dfa-343b98653043",
     "showTitle": false,
     "tableResultSettingsMap": {},
     "title": ""
    },
    "colab": {
     "base_uri": "https://localhost:8080/"
    },
    "id": "x87LQC39fw1U",
    "outputId": "aeec2be7-f24a-4530-c501-541771b196aa"
   },
   "outputs": [],
   "source": [
    "prompt = \"\"\"Give me working code to get data from Twitter using API\"\"\"\n",
    "call_reflection_coding_agent(coder_agent, prompt, verbose=True)"
   ]
  },
  {
   "cell_type": "code",
   "execution_count": 0,
   "metadata": {
    "application/vnd.databricks.v1+cell": {
     "cellMetadata": {
      "byteLimit": 2048000,
      "rowLimit": 10000
     },
     "inputWidgets": {},
     "nuid": "5375d20b-f43d-4897-adb5-23dcf95d1d9d",
     "showTitle": false,
     "tableResultSettingsMap": {},
     "title": ""
    },
    "colab": {
     "base_uri": "https://localhost:8080/",
     "height": 1000,
     "referenced_widgets": [
      "7a0b493a8f01472c9a61c640e952f0f7",
      "83ae4bb485104e14abcc6f7c7b60ba3d",
      "64e47da0c8aa44af835aa0e30150294c",
      "ee500f570f304160acb715c6b00cd236",
      "bb7d8e1cbb824e73b89ff73a24768cae",
      "eeaf0ac3d2bc43c58e78036416217285",
      "2c96baf1be004193bd98b93b23deef04",
      "0b82beadca9f48d88769ab96540d09e9",
      "e71e12e226e14fa5a63f8dfbe696aa94",
      "fef52b8172f649de919d8f3d68c8cee1",
      "045a5cb3cb4347ccad78fe28e37cb56c",
      "eca8a9ab2ccc429e888a369522fa14f3",
      "588b121da6454b3b8c5d9a71966d01bd",
      "511d77ef6ed043dc8a7a44cf7f610115",
      "2304b2fbdb574ce28ddb3aa0857b125b",
      "a1c019623ce542399533684a80090771",
      "2f0c0a41d0bc4608860f314cde2dadf0",
      "a88e73b9f2af4c58bc44aa1cc8a414fa",
      "869aaf1c022a48e79209719e9998c499",
      "540d85ade4bc4a5693cfce545bb3c061",
      "61a70cdc20a4410c922ace16692206da",
      "f132ee49c4a040f4891c525aced7a692",
      "3f317244ce484f568df200ea3d401346",
      "4c08fd0039f540f5848a077014b410d7",
      "6be0a60eebad4b759c4dd9ccbcacc3b8",
      "174269ed4b334850b834ad5fc8835ecc",
      "c54f1c082ee24e01a03f27296ad1f926",
      "47e72fae6e8c4f5f9f5508321a87e0ca",
      "be7521b633b940fda794e388fc859668",
      "a7808e62088d4878978574c8dcfd9c65",
      "b7838347ac8b4fc38ff1c177c7b29c16",
      "9dfc8fadcba54896a7fbb2237e9fd74d",
      "d2e192c6b21b46e6a8788f4a4b5ba92b",
      "a98ff8e7e03149b8ba8a4df45d64c0b8",
      "5c8d93b2c0044cda95f1f3b8b6f4ab9b",
      "dc95db6884734d9fa24106b23842252f",
      "c303b39b68e244148b4039280d393327",
      "aee08eb6ee0245f3bc052705d901f1e1",
      "5cb53b28433c4e32875fd93e216fc61d",
      "b3edcb443c8a4f84b97f1c091a1ba7af",
      "4358b3ec606940428d00114d795bc982",
      "d37ad6ac566c4df79b8b70fc3cbca94f",
      "4ef519e3baa449a7952bbb919ac825d6",
      "470408cd284943998d825ad75f77e876"
     ]
    },
    "id": "kPoCwfT5jXpr",
    "outputId": "4a28d056-2eae-423b-b5c2-443d12cc9162"
   },
   "outputs": [],
   "source": [
    "prompt = \"\"\"Give me working code to do sentiment analysis using transformers\"\"\"\n",
    "call_reflection_coding_agent(coder_agent, prompt, verbose=True)"
   ]
  },
  {
   "cell_type": "code",
   "execution_count": 0,
   "metadata": {
    "application/vnd.databricks.v1+cell": {
     "cellMetadata": {},
     "inputWidgets": {},
     "nuid": "b302b9b6-0f76-44b6-9104-709facf73666",
     "showTitle": false,
     "tableResultSettingsMap": {},
     "title": ""
    },
    "id": "6aJkj24K1m9x"
   },
   "outputs": [],
   "source": []
  }
 ],
 "metadata": {
  "application/vnd.databricks.v1+notebook": {
   "computePreferences": null,
   "dashboards": [],
   "environmentMetadata": null,
   "inputWidgetPreferences": null,
   "language": "python",
   "notebookMetadata": {
    "pythonIndentUnit": 4
   },
   "notebookName": "M6_Project_ Build_a_Reflective_Self_Correcting_Code_Generation_AI_Agent",
   "widgets": {}
  },
  "colab": {
   "provenance": []
  },
  "kernelspec": {
   "display_name": "Python 3",
   "name": "python3"
  },
  "language_info": {
   "name": "python"
  },
  "widgets": {
   "application/vnd.jupyter.widget-state+json": {
    "045a5cb3cb4347ccad78fe28e37cb56c": {
     "model_module": "@jupyter-widgets/controls",
     "model_module_version": "1.5.0",
     "model_name": "DescriptionStyleModel",
     "state": {
      "_model_module": "@jupyter-widgets/controls",
      "_model_module_version": "1.5.0",
      "_model_name": "DescriptionStyleModel",
      "_view_count": null,
      "_view_module": "@jupyter-widgets/base",
      "_view_module_version": "1.2.0",
      "_view_name": "StyleView",
      "description_width": ""
     }
    },
    "0b82beadca9f48d88769ab96540d09e9": {
     "model_module": "@jupyter-widgets/base",
     "model_module_version": "1.2.0",
     "model_name": "LayoutModel",
     "state": {
      "_model_module": "@jupyter-widgets/base",
      "_model_module_version": "1.2.0",
      "_model_name": "LayoutModel",
      "_view_count": null,
      "_view_module": "@jupyter-widgets/base",
      "_view_module_version": "1.2.0",
      "_view_name": "LayoutView",
      "align_content": null,
      "align_items": null,
      "align_self": null,
      "border": null,
      "bottom": null,
      "display": null,
      "flex": null,
      "flex_flow": null,
      "grid_area": null,
      "grid_auto_columns": null,
      "grid_auto_flow": null,
      "grid_auto_rows": null,
      "grid_column": null,
      "grid_gap": null,
      "grid_row": null,
      "grid_template_areas": null,
      "grid_template_columns": null,
      "grid_template_rows": null,
      "height": null,
      "justify_content": null,
      "justify_items": null,
      "left": null,
      "margin": null,
      "max_height": null,
      "max_width": null,
      "min_height": null,
      "min_width": null,
      "object_fit": null,
      "object_position": null,
      "order": null,
      "overflow": null,
      "overflow_x": null,
      "overflow_y": null,
      "padding": null,
      "right": null,
      "top": null,
      "visibility": null,
      "width": null
     }
    },
    "174269ed4b334850b834ad5fc8835ecc": {
     "model_module": "@jupyter-widgets/controls",
     "model_module_version": "1.5.0",
     "model_name": "HTMLModel",
     "state": {
      "_dom_classes": [],
      "_model_module": "@jupyter-widgets/controls",
      "_model_module_version": "1.5.0",
      "_model_name": "HTMLModel",
      "_view_count": null,
      "_view_module": "@jupyter-widgets/controls",
      "_view_module_version": "1.5.0",
      "_view_name": "HTMLView",
      "description": "",
      "description_tooltip": null,
      "layout": "IPY_MODEL_9dfc8fadcba54896a7fbb2237e9fd74d",
      "placeholder": "​",
      "style": "IPY_MODEL_d2e192c6b21b46e6a8788f4a4b5ba92b",
      "value": " 48.0/48.0 [00:00&lt;00:00, 2.00kB/s]"
     }
    },
    "2304b2fbdb574ce28ddb3aa0857b125b": {
     "model_module": "@jupyter-widgets/controls",
     "model_module_version": "1.5.0",
     "model_name": "HTMLModel",
     "state": {
      "_dom_classes": [],
      "_model_module": "@jupyter-widgets/controls",
      "_model_module_version": "1.5.0",
      "_model_name": "HTMLModel",
      "_view_count": null,
      "_view_module": "@jupyter-widgets/controls",
      "_view_module_version": "1.5.0",
      "_view_name": "HTMLView",
      "description": "",
      "description_tooltip": null,
      "layout": "IPY_MODEL_61a70cdc20a4410c922ace16692206da",
      "placeholder": "​",
      "style": "IPY_MODEL_f132ee49c4a040f4891c525aced7a692",
      "value": " 268M/268M [00:02&lt;00:00, 125MB/s]"
     }
    },
    "2c96baf1be004193bd98b93b23deef04": {
     "model_module": "@jupyter-widgets/controls",
     "model_module_version": "1.5.0",
     "model_name": "DescriptionStyleModel",
     "state": {
      "_model_module": "@jupyter-widgets/controls",
      "_model_module_version": "1.5.0",
      "_model_name": "DescriptionStyleModel",
      "_view_count": null,
      "_view_module": "@jupyter-widgets/base",
      "_view_module_version": "1.2.0",
      "_view_name": "StyleView",
      "description_width": ""
     }
    },
    "2f0c0a41d0bc4608860f314cde2dadf0": {
     "model_module": "@jupyter-widgets/base",
     "model_module_version": "1.2.0",
     "model_name": "LayoutModel",
     "state": {
      "_model_module": "@jupyter-widgets/base",
      "_model_module_version": "1.2.0",
      "_model_name": "LayoutModel",
      "_view_count": null,
      "_view_module": "@jupyter-widgets/base",
      "_view_module_version": "1.2.0",
      "_view_name": "LayoutView",
      "align_content": null,
      "align_items": null,
      "align_self": null,
      "border": null,
      "bottom": null,
      "display": null,
      "flex": null,
      "flex_flow": null,
      "grid_area": null,
      "grid_auto_columns": null,
      "grid_auto_flow": null,
      "grid_auto_rows": null,
      "grid_column": null,
      "grid_gap": null,
      "grid_row": null,
      "grid_template_areas": null,
      "grid_template_columns": null,
      "grid_template_rows": null,
      "height": null,
      "justify_content": null,
      "justify_items": null,
      "left": null,
      "margin": null,
      "max_height": null,
      "max_width": null,
      "min_height": null,
      "min_width": null,
      "object_fit": null,
      "object_position": null,
      "order": null,
      "overflow": null,
      "overflow_x": null,
      "overflow_y": null,
      "padding": null,
      "right": null,
      "top": null,
      "visibility": null,
      "width": null
     }
    },
    "3f317244ce484f568df200ea3d401346": {
     "model_module": "@jupyter-widgets/controls",
     "model_module_version": "1.5.0",
     "model_name": "HBoxModel",
     "state": {
      "_dom_classes": [],
      "_model_module": "@jupyter-widgets/controls",
      "_model_module_version": "1.5.0",
      "_model_name": "HBoxModel",
      "_view_count": null,
      "_view_module": "@jupyter-widgets/controls",
      "_view_module_version": "1.5.0",
      "_view_name": "HBoxView",
      "box_style": "",
      "children": [
       "IPY_MODEL_4c08fd0039f540f5848a077014b410d7",
       "IPY_MODEL_6be0a60eebad4b759c4dd9ccbcacc3b8",
       "IPY_MODEL_174269ed4b334850b834ad5fc8835ecc"
      ],
      "layout": "IPY_MODEL_c54f1c082ee24e01a03f27296ad1f926"
     }
    },
    "4358b3ec606940428d00114d795bc982": {
     "model_module": "@jupyter-widgets/base",
     "model_module_version": "1.2.0",
     "model_name": "LayoutModel",
     "state": {
      "_model_module": "@jupyter-widgets/base",
      "_model_module_version": "1.2.0",
      "_model_name": "LayoutModel",
      "_view_count": null,
      "_view_module": "@jupyter-widgets/base",
      "_view_module_version": "1.2.0",
      "_view_name": "LayoutView",
      "align_content": null,
      "align_items": null,
      "align_self": null,
      "border": null,
      "bottom": null,
      "display": null,
      "flex": null,
      "flex_flow": null,
      "grid_area": null,
      "grid_auto_columns": null,
      "grid_auto_flow": null,
      "grid_auto_rows": null,
      "grid_column": null,
      "grid_gap": null,
      "grid_row": null,
      "grid_template_areas": null,
      "grid_template_columns": null,
      "grid_template_rows": null,
      "height": null,
      "justify_content": null,
      "justify_items": null,
      "left": null,
      "margin": null,
      "max_height": null,
      "max_width": null,
      "min_height": null,
      "min_width": null,
      "object_fit": null,
      "object_position": null,
      "order": null,
      "overflow": null,
      "overflow_x": null,
      "overflow_y": null,
      "padding": null,
      "right": null,
      "top": null,
      "visibility": null,
      "width": null
     }
    },
    "470408cd284943998d825ad75f77e876": {
     "model_module": "@jupyter-widgets/controls",
     "model_module_version": "1.5.0",
     "model_name": "DescriptionStyleModel",
     "state": {
      "_model_module": "@jupyter-widgets/controls",
      "_model_module_version": "1.5.0",
      "_model_name": "DescriptionStyleModel",
      "_view_count": null,
      "_view_module": "@jupyter-widgets/base",
      "_view_module_version": "1.2.0",
      "_view_name": "StyleView",
      "description_width": ""
     }
    },
    "47e72fae6e8c4f5f9f5508321a87e0ca": {
     "model_module": "@jupyter-widgets/base",
     "model_module_version": "1.2.0",
     "model_name": "LayoutModel",
     "state": {
      "_model_module": "@jupyter-widgets/base",
      "_model_module_version": "1.2.0",
      "_model_name": "LayoutModel",
      "_view_count": null,
      "_view_module": "@jupyter-widgets/base",
      "_view_module_version": "1.2.0",
      "_view_name": "LayoutView",
      "align_content": null,
      "align_items": null,
      "align_self": null,
      "border": null,
      "bottom": null,
      "display": null,
      "flex": null,
      "flex_flow": null,
      "grid_area": null,
      "grid_auto_columns": null,
      "grid_auto_flow": null,
      "grid_auto_rows": null,
      "grid_column": null,
      "grid_gap": null,
      "grid_row": null,
      "grid_template_areas": null,
      "grid_template_columns": null,
      "grid_template_rows": null,
      "height": null,
      "justify_content": null,
      "justify_items": null,
      "left": null,
      "margin": null,
      "max_height": null,
      "max_width": null,
      "min_height": null,
      "min_width": null,
      "object_fit": null,
      "object_position": null,
      "order": null,
      "overflow": null,
      "overflow_x": null,
      "overflow_y": null,
      "padding": null,
      "right": null,
      "top": null,
      "visibility": null,
      "width": null
     }
    },
    "4c08fd0039f540f5848a077014b410d7": {
     "model_module": "@jupyter-widgets/controls",
     "model_module_version": "1.5.0",
     "model_name": "HTMLModel",
     "state": {
      "_dom_classes": [],
      "_model_module": "@jupyter-widgets/controls",
      "_model_module_version": "1.5.0",
      "_model_name": "HTMLModel",
      "_view_count": null,
      "_view_module": "@jupyter-widgets/controls",
      "_view_module_version": "1.5.0",
      "_view_name": "HTMLView",
      "description": "",
      "description_tooltip": null,
      "layout": "IPY_MODEL_47e72fae6e8c4f5f9f5508321a87e0ca",
      "placeholder": "​",
      "style": "IPY_MODEL_be7521b633b940fda794e388fc859668",
      "value": "tokenizer_config.json: 100%"
     }
    },
    "4ef519e3baa449a7952bbb919ac825d6": {
     "model_module": "@jupyter-widgets/base",
     "model_module_version": "1.2.0",
     "model_name": "LayoutModel",
     "state": {
      "_model_module": "@jupyter-widgets/base",
      "_model_module_version": "1.2.0",
      "_model_name": "LayoutModel",
      "_view_count": null,
      "_view_module": "@jupyter-widgets/base",
      "_view_module_version": "1.2.0",
      "_view_name": "LayoutView",
      "align_content": null,
      "align_items": null,
      "align_self": null,
      "border": null,
      "bottom": null,
      "display": null,
      "flex": null,
      "flex_flow": null,
      "grid_area": null,
      "grid_auto_columns": null,
      "grid_auto_flow": null,
      "grid_auto_rows": null,
      "grid_column": null,
      "grid_gap": null,
      "grid_row": null,
      "grid_template_areas": null,
      "grid_template_columns": null,
      "grid_template_rows": null,
      "height": null,
      "justify_content": null,
      "justify_items": null,
      "left": null,
      "margin": null,
      "max_height": null,
      "max_width": null,
      "min_height": null,
      "min_width": null,
      "object_fit": null,
      "object_position": null,
      "order": null,
      "overflow": null,
      "overflow_x": null,
      "overflow_y": null,
      "padding": null,
      "right": null,
      "top": null,
      "visibility": null,
      "width": null
     }
    },
    "511d77ef6ed043dc8a7a44cf7f610115": {
     "model_module": "@jupyter-widgets/controls",
     "model_module_version": "1.5.0",
     "model_name": "FloatProgressModel",
     "state": {
      "_dom_classes": [],
      "_model_module": "@jupyter-widgets/controls",
      "_model_module_version": "1.5.0",
      "_model_name": "FloatProgressModel",
      "_view_count": null,
      "_view_module": "@jupyter-widgets/controls",
      "_view_module_version": "1.5.0",
      "_view_name": "ProgressView",
      "bar_style": "success",
      "description": "",
      "description_tooltip": null,
      "layout": "IPY_MODEL_869aaf1c022a48e79209719e9998c499",
      "max": 267832558,
      "min": 0,
      "orientation": "horizontal",
      "style": "IPY_MODEL_540d85ade4bc4a5693cfce545bb3c061",
      "value": 267832558
     }
    },
    "540d85ade4bc4a5693cfce545bb3c061": {
     "model_module": "@jupyter-widgets/controls",
     "model_module_version": "1.5.0",
     "model_name": "ProgressStyleModel",
     "state": {
      "_model_module": "@jupyter-widgets/controls",
      "_model_module_version": "1.5.0",
      "_model_name": "ProgressStyleModel",
      "_view_count": null,
      "_view_module": "@jupyter-widgets/base",
      "_view_module_version": "1.2.0",
      "_view_name": "StyleView",
      "bar_color": null,
      "description_width": ""
     }
    },
    "588b121da6454b3b8c5d9a71966d01bd": {
     "model_module": "@jupyter-widgets/controls",
     "model_module_version": "1.5.0",
     "model_name": "HTMLModel",
     "state": {
      "_dom_classes": [],
      "_model_module": "@jupyter-widgets/controls",
      "_model_module_version": "1.5.0",
      "_model_name": "HTMLModel",
      "_view_count": null,
      "_view_module": "@jupyter-widgets/controls",
      "_view_module_version": "1.5.0",
      "_view_name": "HTMLView",
      "description": "",
      "description_tooltip": null,
      "layout": "IPY_MODEL_2f0c0a41d0bc4608860f314cde2dadf0",
      "placeholder": "​",
      "style": "IPY_MODEL_a88e73b9f2af4c58bc44aa1cc8a414fa",
      "value": "model.safetensors: 100%"
     }
    },
    "5c8d93b2c0044cda95f1f3b8b6f4ab9b": {
     "model_module": "@jupyter-widgets/controls",
     "model_module_version": "1.5.0",
     "model_name": "HTMLModel",
     "state": {
      "_dom_classes": [],
      "_model_module": "@jupyter-widgets/controls",
      "_model_module_version": "1.5.0",
      "_model_name": "HTMLModel",
      "_view_count": null,
      "_view_module": "@jupyter-widgets/controls",
      "_view_module_version": "1.5.0",
      "_view_name": "HTMLView",
      "description": "",
      "description_tooltip": null,
      "layout": "IPY_MODEL_5cb53b28433c4e32875fd93e216fc61d",
      "placeholder": "​",
      "style": "IPY_MODEL_b3edcb443c8a4f84b97f1c091a1ba7af",
      "value": "vocab.txt: 100%"
     }
    },
    "5cb53b28433c4e32875fd93e216fc61d": {
     "model_module": "@jupyter-widgets/base",
     "model_module_version": "1.2.0",
     "model_name": "LayoutModel",
     "state": {
      "_model_module": "@jupyter-widgets/base",
      "_model_module_version": "1.2.0",
      "_model_name": "LayoutModel",
      "_view_count": null,
      "_view_module": "@jupyter-widgets/base",
      "_view_module_version": "1.2.0",
      "_view_name": "LayoutView",
      "align_content": null,
      "align_items": null,
      "align_self": null,
      "border": null,
      "bottom": null,
      "display": null,
      "flex": null,
      "flex_flow": null,
      "grid_area": null,
      "grid_auto_columns": null,
      "grid_auto_flow": null,
      "grid_auto_rows": null,
      "grid_column": null,
      "grid_gap": null,
      "grid_row": null,
      "grid_template_areas": null,
      "grid_template_columns": null,
      "grid_template_rows": null,
      "height": null,
      "justify_content": null,
      "justify_items": null,
      "left": null,
      "margin": null,
      "max_height": null,
      "max_width": null,
      "min_height": null,
      "min_width": null,
      "object_fit": null,
      "object_position": null,
      "order": null,
      "overflow": null,
      "overflow_x": null,
      "overflow_y": null,
      "padding": null,
      "right": null,
      "top": null,
      "visibility": null,
      "width": null
     }
    },
    "61a70cdc20a4410c922ace16692206da": {
     "model_module": "@jupyter-widgets/base",
     "model_module_version": "1.2.0",
     "model_name": "LayoutModel",
     "state": {
      "_model_module": "@jupyter-widgets/base",
      "_model_module_version": "1.2.0",
      "_model_name": "LayoutModel",
      "_view_count": null,
      "_view_module": "@jupyter-widgets/base",
      "_view_module_version": "1.2.0",
      "_view_name": "LayoutView",
      "align_content": null,
      "align_items": null,
      "align_self": null,
      "border": null,
      "bottom": null,
      "display": null,
      "flex": null,
      "flex_flow": null,
      "grid_area": null,
      "grid_auto_columns": null,
      "grid_auto_flow": null,
      "grid_auto_rows": null,
      "grid_column": null,
      "grid_gap": null,
      "grid_row": null,
      "grid_template_areas": null,
      "grid_template_columns": null,
      "grid_template_rows": null,
      "height": null,
      "justify_content": null,
      "justify_items": null,
      "left": null,
      "margin": null,
      "max_height": null,
      "max_width": null,
      "min_height": null,
      "min_width": null,
      "object_fit": null,
      "object_position": null,
      "order": null,
      "overflow": null,
      "overflow_x": null,
      "overflow_y": null,
      "padding": null,
      "right": null,
      "top": null,
      "visibility": null,
      "width": null
     }
    },
    "64e47da0c8aa44af835aa0e30150294c": {
     "model_module": "@jupyter-widgets/controls",
     "model_module_version": "1.5.0",
     "model_name": "FloatProgressModel",
     "state": {
      "_dom_classes": [],
      "_model_module": "@jupyter-widgets/controls",
      "_model_module_version": "1.5.0",
      "_model_name": "FloatProgressModel",
      "_view_count": null,
      "_view_module": "@jupyter-widgets/controls",
      "_view_module_version": "1.5.0",
      "_view_name": "ProgressView",
      "bar_style": "success",
      "description": "",
      "description_tooltip": null,
      "layout": "IPY_MODEL_0b82beadca9f48d88769ab96540d09e9",
      "max": 629,
      "min": 0,
      "orientation": "horizontal",
      "style": "IPY_MODEL_e71e12e226e14fa5a63f8dfbe696aa94",
      "value": 629
     }
    },
    "6be0a60eebad4b759c4dd9ccbcacc3b8": {
     "model_module": "@jupyter-widgets/controls",
     "model_module_version": "1.5.0",
     "model_name": "FloatProgressModel",
     "state": {
      "_dom_classes": [],
      "_model_module": "@jupyter-widgets/controls",
      "_model_module_version": "1.5.0",
      "_model_name": "FloatProgressModel",
      "_view_count": null,
      "_view_module": "@jupyter-widgets/controls",
      "_view_module_version": "1.5.0",
      "_view_name": "ProgressView",
      "bar_style": "success",
      "description": "",
      "description_tooltip": null,
      "layout": "IPY_MODEL_a7808e62088d4878978574c8dcfd9c65",
      "max": 48,
      "min": 0,
      "orientation": "horizontal",
      "style": "IPY_MODEL_b7838347ac8b4fc38ff1c177c7b29c16",
      "value": 48
     }
    },
    "7a0b493a8f01472c9a61c640e952f0f7": {
     "model_module": "@jupyter-widgets/controls",
     "model_module_version": "1.5.0",
     "model_name": "HBoxModel",
     "state": {
      "_dom_classes": [],
      "_model_module": "@jupyter-widgets/controls",
      "_model_module_version": "1.5.0",
      "_model_name": "HBoxModel",
      "_view_count": null,
      "_view_module": "@jupyter-widgets/controls",
      "_view_module_version": "1.5.0",
      "_view_name": "HBoxView",
      "box_style": "",
      "children": [
       "IPY_MODEL_83ae4bb485104e14abcc6f7c7b60ba3d",
       "IPY_MODEL_64e47da0c8aa44af835aa0e30150294c",
       "IPY_MODEL_ee500f570f304160acb715c6b00cd236"
      ],
      "layout": "IPY_MODEL_bb7d8e1cbb824e73b89ff73a24768cae"
     }
    },
    "83ae4bb485104e14abcc6f7c7b60ba3d": {
     "model_module": "@jupyter-widgets/controls",
     "model_module_version": "1.5.0",
     "model_name": "HTMLModel",
     "state": {
      "_dom_classes": [],
      "_model_module": "@jupyter-widgets/controls",
      "_model_module_version": "1.5.0",
      "_model_name": "HTMLModel",
      "_view_count": null,
      "_view_module": "@jupyter-widgets/controls",
      "_view_module_version": "1.5.0",
      "_view_name": "HTMLView",
      "description": "",
      "description_tooltip": null,
      "layout": "IPY_MODEL_eeaf0ac3d2bc43c58e78036416217285",
      "placeholder": "​",
      "style": "IPY_MODEL_2c96baf1be004193bd98b93b23deef04",
      "value": "config.json: 100%"
     }
    },
    "869aaf1c022a48e79209719e9998c499": {
     "model_module": "@jupyter-widgets/base",
     "model_module_version": "1.2.0",
     "model_name": "LayoutModel",
     "state": {
      "_model_module": "@jupyter-widgets/base",
      "_model_module_version": "1.2.0",
      "_model_name": "LayoutModel",
      "_view_count": null,
      "_view_module": "@jupyter-widgets/base",
      "_view_module_version": "1.2.0",
      "_view_name": "LayoutView",
      "align_content": null,
      "align_items": null,
      "align_self": null,
      "border": null,
      "bottom": null,
      "display": null,
      "flex": null,
      "flex_flow": null,
      "grid_area": null,
      "grid_auto_columns": null,
      "grid_auto_flow": null,
      "grid_auto_rows": null,
      "grid_column": null,
      "grid_gap": null,
      "grid_row": null,
      "grid_template_areas": null,
      "grid_template_columns": null,
      "grid_template_rows": null,
      "height": null,
      "justify_content": null,
      "justify_items": null,
      "left": null,
      "margin": null,
      "max_height": null,
      "max_width": null,
      "min_height": null,
      "min_width": null,
      "object_fit": null,
      "object_position": null,
      "order": null,
      "overflow": null,
      "overflow_x": null,
      "overflow_y": null,
      "padding": null,
      "right": null,
      "top": null,
      "visibility": null,
      "width": null
     }
    },
    "9dfc8fadcba54896a7fbb2237e9fd74d": {
     "model_module": "@jupyter-widgets/base",
     "model_module_version": "1.2.0",
     "model_name": "LayoutModel",
     "state": {
      "_model_module": "@jupyter-widgets/base",
      "_model_module_version": "1.2.0",
      "_model_name": "LayoutModel",
      "_view_count": null,
      "_view_module": "@jupyter-widgets/base",
      "_view_module_version": "1.2.0",
      "_view_name": "LayoutView",
      "align_content": null,
      "align_items": null,
      "align_self": null,
      "border": null,
      "bottom": null,
      "display": null,
      "flex": null,
      "flex_flow": null,
      "grid_area": null,
      "grid_auto_columns": null,
      "grid_auto_flow": null,
      "grid_auto_rows": null,
      "grid_column": null,
      "grid_gap": null,
      "grid_row": null,
      "grid_template_areas": null,
      "grid_template_columns": null,
      "grid_template_rows": null,
      "height": null,
      "justify_content": null,
      "justify_items": null,
      "left": null,
      "margin": null,
      "max_height": null,
      "max_width": null,
      "min_height": null,
      "min_width": null,
      "object_fit": null,
      "object_position": null,
      "order": null,
      "overflow": null,
      "overflow_x": null,
      "overflow_y": null,
      "padding": null,
      "right": null,
      "top": null,
      "visibility": null,
      "width": null
     }
    },
    "a1c019623ce542399533684a80090771": {
     "model_module": "@jupyter-widgets/base",
     "model_module_version": "1.2.0",
     "model_name": "LayoutModel",
     "state": {
      "_model_module": "@jupyter-widgets/base",
      "_model_module_version": "1.2.0",
      "_model_name": "LayoutModel",
      "_view_count": null,
      "_view_module": "@jupyter-widgets/base",
      "_view_module_version": "1.2.0",
      "_view_name": "LayoutView",
      "align_content": null,
      "align_items": null,
      "align_self": null,
      "border": null,
      "bottom": null,
      "display": null,
      "flex": null,
      "flex_flow": null,
      "grid_area": null,
      "grid_auto_columns": null,
      "grid_auto_flow": null,
      "grid_auto_rows": null,
      "grid_column": null,
      "grid_gap": null,
      "grid_row": null,
      "grid_template_areas": null,
      "grid_template_columns": null,
      "grid_template_rows": null,
      "height": null,
      "justify_content": null,
      "justify_items": null,
      "left": null,
      "margin": null,
      "max_height": null,
      "max_width": null,
      "min_height": null,
      "min_width": null,
      "object_fit": null,
      "object_position": null,
      "order": null,
      "overflow": null,
      "overflow_x": null,
      "overflow_y": null,
      "padding": null,
      "right": null,
      "top": null,
      "visibility": null,
      "width": null
     }
    },
    "a7808e62088d4878978574c8dcfd9c65": {
     "model_module": "@jupyter-widgets/base",
     "model_module_version": "1.2.0",
     "model_name": "LayoutModel",
     "state": {
      "_model_module": "@jupyter-widgets/base",
      "_model_module_version": "1.2.0",
      "_model_name": "LayoutModel",
      "_view_count": null,
      "_view_module": "@jupyter-widgets/base",
      "_view_module_version": "1.2.0",
      "_view_name": "LayoutView",
      "align_content": null,
      "align_items": null,
      "align_self": null,
      "border": null,
      "bottom": null,
      "display": null,
      "flex": null,
      "flex_flow": null,
      "grid_area": null,
      "grid_auto_columns": null,
      "grid_auto_flow": null,
      "grid_auto_rows": null,
      "grid_column": null,
      "grid_gap": null,
      "grid_row": null,
      "grid_template_areas": null,
      "grid_template_columns": null,
      "grid_template_rows": null,
      "height": null,
      "justify_content": null,
      "justify_items": null,
      "left": null,
      "margin": null,
      "max_height": null,
      "max_width": null,
      "min_height": null,
      "min_width": null,
      "object_fit": null,
      "object_position": null,
      "order": null,
      "overflow": null,
      "overflow_x": null,
      "overflow_y": null,
      "padding": null,
      "right": null,
      "top": null,
      "visibility": null,
      "width": null
     }
    },
    "a88e73b9f2af4c58bc44aa1cc8a414fa": {
     "model_module": "@jupyter-widgets/controls",
     "model_module_version": "1.5.0",
     "model_name": "DescriptionStyleModel",
     "state": {
      "_model_module": "@jupyter-widgets/controls",
      "_model_module_version": "1.5.0",
      "_model_name": "DescriptionStyleModel",
      "_view_count": null,
      "_view_module": "@jupyter-widgets/base",
      "_view_module_version": "1.2.0",
      "_view_name": "StyleView",
      "description_width": ""
     }
    },
    "a98ff8e7e03149b8ba8a4df45d64c0b8": {
     "model_module": "@jupyter-widgets/controls",
     "model_module_version": "1.5.0",
     "model_name": "HBoxModel",
     "state": {
      "_dom_classes": [],
      "_model_module": "@jupyter-widgets/controls",
      "_model_module_version": "1.5.0",
      "_model_name": "HBoxModel",
      "_view_count": null,
      "_view_module": "@jupyter-widgets/controls",
      "_view_module_version": "1.5.0",
      "_view_name": "HBoxView",
      "box_style": "",
      "children": [
       "IPY_MODEL_5c8d93b2c0044cda95f1f3b8b6f4ab9b",
       "IPY_MODEL_dc95db6884734d9fa24106b23842252f",
       "IPY_MODEL_c303b39b68e244148b4039280d393327"
      ],
      "layout": "IPY_MODEL_aee08eb6ee0245f3bc052705d901f1e1"
     }
    },
    "aee08eb6ee0245f3bc052705d901f1e1": {
     "model_module": "@jupyter-widgets/base",
     "model_module_version": "1.2.0",
     "model_name": "LayoutModel",
     "state": {
      "_model_module": "@jupyter-widgets/base",
      "_model_module_version": "1.2.0",
      "_model_name": "LayoutModel",
      "_view_count": null,
      "_view_module": "@jupyter-widgets/base",
      "_view_module_version": "1.2.0",
      "_view_name": "LayoutView",
      "align_content": null,
      "align_items": null,
      "align_self": null,
      "border": null,
      "bottom": null,
      "display": null,
      "flex": null,
      "flex_flow": null,
      "grid_area": null,
      "grid_auto_columns": null,
      "grid_auto_flow": null,
      "grid_auto_rows": null,
      "grid_column": null,
      "grid_gap": null,
      "grid_row": null,
      "grid_template_areas": null,
      "grid_template_columns": null,
      "grid_template_rows": null,
      "height": null,
      "justify_content": null,
      "justify_items": null,
      "left": null,
      "margin": null,
      "max_height": null,
      "max_width": null,
      "min_height": null,
      "min_width": null,
      "object_fit": null,
      "object_position": null,
      "order": null,
      "overflow": null,
      "overflow_x": null,
      "overflow_y": null,
      "padding": null,
      "right": null,
      "top": null,
      "visibility": null,
      "width": null
     }
    },
    "b3edcb443c8a4f84b97f1c091a1ba7af": {
     "model_module": "@jupyter-widgets/controls",
     "model_module_version": "1.5.0",
     "model_name": "DescriptionStyleModel",
     "state": {
      "_model_module": "@jupyter-widgets/controls",
      "_model_module_version": "1.5.0",
      "_model_name": "DescriptionStyleModel",
      "_view_count": null,
      "_view_module": "@jupyter-widgets/base",
      "_view_module_version": "1.2.0",
      "_view_name": "StyleView",
      "description_width": ""
     }
    },
    "b7838347ac8b4fc38ff1c177c7b29c16": {
     "model_module": "@jupyter-widgets/controls",
     "model_module_version": "1.5.0",
     "model_name": "ProgressStyleModel",
     "state": {
      "_model_module": "@jupyter-widgets/controls",
      "_model_module_version": "1.5.0",
      "_model_name": "ProgressStyleModel",
      "_view_count": null,
      "_view_module": "@jupyter-widgets/base",
      "_view_module_version": "1.2.0",
      "_view_name": "StyleView",
      "bar_color": null,
      "description_width": ""
     }
    },
    "bb7d8e1cbb824e73b89ff73a24768cae": {
     "model_module": "@jupyter-widgets/base",
     "model_module_version": "1.2.0",
     "model_name": "LayoutModel",
     "state": {
      "_model_module": "@jupyter-widgets/base",
      "_model_module_version": "1.2.0",
      "_model_name": "LayoutModel",
      "_view_count": null,
      "_view_module": "@jupyter-widgets/base",
      "_view_module_version": "1.2.0",
      "_view_name": "LayoutView",
      "align_content": null,
      "align_items": null,
      "align_self": null,
      "border": null,
      "bottom": null,
      "display": null,
      "flex": null,
      "flex_flow": null,
      "grid_area": null,
      "grid_auto_columns": null,
      "grid_auto_flow": null,
      "grid_auto_rows": null,
      "grid_column": null,
      "grid_gap": null,
      "grid_row": null,
      "grid_template_areas": null,
      "grid_template_columns": null,
      "grid_template_rows": null,
      "height": null,
      "justify_content": null,
      "justify_items": null,
      "left": null,
      "margin": null,
      "max_height": null,
      "max_width": null,
      "min_height": null,
      "min_width": null,
      "object_fit": null,
      "object_position": null,
      "order": null,
      "overflow": null,
      "overflow_x": null,
      "overflow_y": null,
      "padding": null,
      "right": null,
      "top": null,
      "visibility": null,
      "width": null
     }
    },
    "be7521b633b940fda794e388fc859668": {
     "model_module": "@jupyter-widgets/controls",
     "model_module_version": "1.5.0",
     "model_name": "DescriptionStyleModel",
     "state": {
      "_model_module": "@jupyter-widgets/controls",
      "_model_module_version": "1.5.0",
      "_model_name": "DescriptionStyleModel",
      "_view_count": null,
      "_view_module": "@jupyter-widgets/base",
      "_view_module_version": "1.2.0",
      "_view_name": "StyleView",
      "description_width": ""
     }
    },
    "c303b39b68e244148b4039280d393327": {
     "model_module": "@jupyter-widgets/controls",
     "model_module_version": "1.5.0",
     "model_name": "HTMLModel",
     "state": {
      "_dom_classes": [],
      "_model_module": "@jupyter-widgets/controls",
      "_model_module_version": "1.5.0",
      "_model_name": "HTMLModel",
      "_view_count": null,
      "_view_module": "@jupyter-widgets/controls",
      "_view_module_version": "1.5.0",
      "_view_name": "HTMLView",
      "description": "",
      "description_tooltip": null,
      "layout": "IPY_MODEL_4ef519e3baa449a7952bbb919ac825d6",
      "placeholder": "​",
      "style": "IPY_MODEL_470408cd284943998d825ad75f77e876",
      "value": " 232k/232k [00:00&lt;00:00, 2.62MB/s]"
     }
    },
    "c54f1c082ee24e01a03f27296ad1f926": {
     "model_module": "@jupyter-widgets/base",
     "model_module_version": "1.2.0",
     "model_name": "LayoutModel",
     "state": {
      "_model_module": "@jupyter-widgets/base",
      "_model_module_version": "1.2.0",
      "_model_name": "LayoutModel",
      "_view_count": null,
      "_view_module": "@jupyter-widgets/base",
      "_view_module_version": "1.2.0",
      "_view_name": "LayoutView",
      "align_content": null,
      "align_items": null,
      "align_self": null,
      "border": null,
      "bottom": null,
      "display": null,
      "flex": null,
      "flex_flow": null,
      "grid_area": null,
      "grid_auto_columns": null,
      "grid_auto_flow": null,
      "grid_auto_rows": null,
      "grid_column": null,
      "grid_gap": null,
      "grid_row": null,
      "grid_template_areas": null,
      "grid_template_columns": null,
      "grid_template_rows": null,
      "height": null,
      "justify_content": null,
      "justify_items": null,
      "left": null,
      "margin": null,
      "max_height": null,
      "max_width": null,
      "min_height": null,
      "min_width": null,
      "object_fit": null,
      "object_position": null,
      "order": null,
      "overflow": null,
      "overflow_x": null,
      "overflow_y": null,
      "padding": null,
      "right": null,
      "top": null,
      "visibility": null,
      "width": null
     }
    },
    "d2e192c6b21b46e6a8788f4a4b5ba92b": {
     "model_module": "@jupyter-widgets/controls",
     "model_module_version": "1.5.0",
     "model_name": "DescriptionStyleModel",
     "state": {
      "_model_module": "@jupyter-widgets/controls",
      "_model_module_version": "1.5.0",
      "_model_name": "DescriptionStyleModel",
      "_view_count": null,
      "_view_module": "@jupyter-widgets/base",
      "_view_module_version": "1.2.0",
      "_view_name": "StyleView",
      "description_width": ""
     }
    },
    "d37ad6ac566c4df79b8b70fc3cbca94f": {
     "model_module": "@jupyter-widgets/controls",
     "model_module_version": "1.5.0",
     "model_name": "ProgressStyleModel",
     "state": {
      "_model_module": "@jupyter-widgets/controls",
      "_model_module_version": "1.5.0",
      "_model_name": "ProgressStyleModel",
      "_view_count": null,
      "_view_module": "@jupyter-widgets/base",
      "_view_module_version": "1.2.0",
      "_view_name": "StyleView",
      "bar_color": null,
      "description_width": ""
     }
    },
    "dc95db6884734d9fa24106b23842252f": {
     "model_module": "@jupyter-widgets/controls",
     "model_module_version": "1.5.0",
     "model_name": "FloatProgressModel",
     "state": {
      "_dom_classes": [],
      "_model_module": "@jupyter-widgets/controls",
      "_model_module_version": "1.5.0",
      "_model_name": "FloatProgressModel",
      "_view_count": null,
      "_view_module": "@jupyter-widgets/controls",
      "_view_module_version": "1.5.0",
      "_view_name": "ProgressView",
      "bar_style": "success",
      "description": "",
      "description_tooltip": null,
      "layout": "IPY_MODEL_4358b3ec606940428d00114d795bc982",
      "max": 231508,
      "min": 0,
      "orientation": "horizontal",
      "style": "IPY_MODEL_d37ad6ac566c4df79b8b70fc3cbca94f",
      "value": 231508
     }
    },
    "e71e12e226e14fa5a63f8dfbe696aa94": {
     "model_module": "@jupyter-widgets/controls",
     "model_module_version": "1.5.0",
     "model_name": "ProgressStyleModel",
     "state": {
      "_model_module": "@jupyter-widgets/controls",
      "_model_module_version": "1.5.0",
      "_model_name": "ProgressStyleModel",
      "_view_count": null,
      "_view_module": "@jupyter-widgets/base",
      "_view_module_version": "1.2.0",
      "_view_name": "StyleView",
      "bar_color": null,
      "description_width": ""
     }
    },
    "eca8a9ab2ccc429e888a369522fa14f3": {
     "model_module": "@jupyter-widgets/controls",
     "model_module_version": "1.5.0",
     "model_name": "HBoxModel",
     "state": {
      "_dom_classes": [],
      "_model_module": "@jupyter-widgets/controls",
      "_model_module_version": "1.5.0",
      "_model_name": "HBoxModel",
      "_view_count": null,
      "_view_module": "@jupyter-widgets/controls",
      "_view_module_version": "1.5.0",
      "_view_name": "HBoxView",
      "box_style": "",
      "children": [
       "IPY_MODEL_588b121da6454b3b8c5d9a71966d01bd",
       "IPY_MODEL_511d77ef6ed043dc8a7a44cf7f610115",
       "IPY_MODEL_2304b2fbdb574ce28ddb3aa0857b125b"
      ],
      "layout": "IPY_MODEL_a1c019623ce542399533684a80090771"
     }
    },
    "ee500f570f304160acb715c6b00cd236": {
     "model_module": "@jupyter-widgets/controls",
     "model_module_version": "1.5.0",
     "model_name": "HTMLModel",
     "state": {
      "_dom_classes": [],
      "_model_module": "@jupyter-widgets/controls",
      "_model_module_version": "1.5.0",
      "_model_name": "HTMLModel",
      "_view_count": null,
      "_view_module": "@jupyter-widgets/controls",
      "_view_module_version": "1.5.0",
      "_view_name": "HTMLView",
      "description": "",
      "description_tooltip": null,
      "layout": "IPY_MODEL_fef52b8172f649de919d8f3d68c8cee1",
      "placeholder": "​",
      "style": "IPY_MODEL_045a5cb3cb4347ccad78fe28e37cb56c",
      "value": " 629/629 [00:00&lt;00:00, 23.9kB/s]"
     }
    },
    "eeaf0ac3d2bc43c58e78036416217285": {
     "model_module": "@jupyter-widgets/base",
     "model_module_version": "1.2.0",
     "model_name": "LayoutModel",
     "state": {
      "_model_module": "@jupyter-widgets/base",
      "_model_module_version": "1.2.0",
      "_model_name": "LayoutModel",
      "_view_count": null,
      "_view_module": "@jupyter-widgets/base",
      "_view_module_version": "1.2.0",
      "_view_name": "LayoutView",
      "align_content": null,
      "align_items": null,
      "align_self": null,
      "border": null,
      "bottom": null,
      "display": null,
      "flex": null,
      "flex_flow": null,
      "grid_area": null,
      "grid_auto_columns": null,
      "grid_auto_flow": null,
      "grid_auto_rows": null,
      "grid_column": null,
      "grid_gap": null,
      "grid_row": null,
      "grid_template_areas": null,
      "grid_template_columns": null,
      "grid_template_rows": null,
      "height": null,
      "justify_content": null,
      "justify_items": null,
      "left": null,
      "margin": null,
      "max_height": null,
      "max_width": null,
      "min_height": null,
      "min_width": null,
      "object_fit": null,
      "object_position": null,
      "order": null,
      "overflow": null,
      "overflow_x": null,
      "overflow_y": null,
      "padding": null,
      "right": null,
      "top": null,
      "visibility": null,
      "width": null
     }
    },
    "f132ee49c4a040f4891c525aced7a692": {
     "model_module": "@jupyter-widgets/controls",
     "model_module_version": "1.5.0",
     "model_name": "DescriptionStyleModel",
     "state": {
      "_model_module": "@jupyter-widgets/controls",
      "_model_module_version": "1.5.0",
      "_model_name": "DescriptionStyleModel",
      "_view_count": null,
      "_view_module": "@jupyter-widgets/base",
      "_view_module_version": "1.2.0",
      "_view_name": "StyleView",
      "description_width": ""
     }
    },
    "fef52b8172f649de919d8f3d68c8cee1": {
     "model_module": "@jupyter-widgets/base",
     "model_module_version": "1.2.0",
     "model_name": "LayoutModel",
     "state": {
      "_model_module": "@jupyter-widgets/base",
      "_model_module_version": "1.2.0",
      "_model_name": "LayoutModel",
      "_view_count": null,
      "_view_module": "@jupyter-widgets/base",
      "_view_module_version": "1.2.0",
      "_view_name": "LayoutView",
      "align_content": null,
      "align_items": null,
      "align_self": null,
      "border": null,
      "bottom": null,
      "display": null,
      "flex": null,
      "flex_flow": null,
      "grid_area": null,
      "grid_auto_columns": null,
      "grid_auto_flow": null,
      "grid_auto_rows": null,
      "grid_column": null,
      "grid_gap": null,
      "grid_row": null,
      "grid_template_areas": null,
      "grid_template_columns": null,
      "grid_template_rows": null,
      "height": null,
      "justify_content": null,
      "justify_items": null,
      "left": null,
      "margin": null,
      "max_height": null,
      "max_width": null,
      "min_height": null,
      "min_width": null,
      "object_fit": null,
      "object_position": null,
      "order": null,
      "overflow": null,
      "overflow_x": null,
      "overflow_y": null,
      "padding": null,
      "right": null,
      "top": null,
      "visibility": null,
      "width": null
     }
    }
   }
  }
 },
 "nbformat": 4,
 "nbformat_minor": 0
}
