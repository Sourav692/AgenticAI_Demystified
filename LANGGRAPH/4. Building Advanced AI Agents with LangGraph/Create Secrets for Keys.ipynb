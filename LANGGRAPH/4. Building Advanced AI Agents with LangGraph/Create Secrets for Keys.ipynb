{
 "cells": [
  {
   "cell_type": "code",
   "execution_count": 0,
   "metadata": {
    "application/vnd.databricks.v1+cell": {
     "cellMetadata": {
      "byteLimit": 2048000,
      "rowLimit": 10000
     },
     "inputWidgets": {},
     "nuid": "5eb36ef3-357a-499e-af60-89989a081151",
     "showTitle": true,
     "tableResultSettingsMap": {},
     "title": "API Keys"
    }
   },
   "outputs": [],
   "source": [
    "OPENAI_API_KEY = \"sk-proj*****************************\"\n",
    "LANGCHAIN_API_KEY = \"lsv2_pt_***************************\"\n",
    "OPENBB_PAT = \"eyJhbGciOiJI***************************\"\n",
    "TAVILY_API_KEY = \"tvly-dev-****************************\"\n",
    "HF_TOKEN = \"hf_tcqmyi*******************************\"\n",
    "HUGGINGFACEHUB_API_TOKEN = \"hf_tcqmyi*******************************\"\n",
    "GOOGLE_API_KEY = \"AIzaSyA1*****************************\"\n",
    "GROQ_API_KEY = \"gsk_d1jpqr****************************\"\n",
    "WEATHER_API_KEY = \"05b7a01f****************************\"\n",
    "COHERE_API_KEY = \"06Mj24dE*****************************\"\n",
    "ANTHROPIC_API_KEY = \"sk-ant-api*************************\"\n",
    "SERPAPI_API_KEY = \"32944a96*****************************\"\n",
    "OPEN_ROUTER_KEY = \"sk-or-v1-****************************\""
   ]
  },
  {
   "cell_type": "code",
   "execution_count": 0,
   "metadata": {
    "application/vnd.databricks.v1+cell": {
     "cellMetadata": {
      "byteLimit": 2048000,
      "rowLimit": 10000
     },
     "inputWidgets": {},
     "nuid": "49fc84ed-fc35-4b7c-897c-4255b0cb8a5b",
     "showTitle": true,
     "tableResultSettingsMap": {},
     "title": "Create Databricks Workspace Client and Secret Scope"
    }
   },
   "outputs": [],
   "source": [
    "from databricks.sdk import WorkspaceClient\n",
    "\n",
    "# Initialize the Databricks workspace client (assumes environment variables are set for auth)\n",
    "w = WorkspaceClient()\n",
    "\n",
    "# Create a secret scope\n",
    "scope_name = \"AgenticAI\"\n",
    "try:\n",
    "    w.secrets.create_scope(scope=scope_name)\n",
    "except Exception as e:\n",
    "    print(f\"Scope may already exist: {e}\")"
   ]
  },
  {
   "cell_type": "code",
   "execution_count": 0,
   "metadata": {
    "application/vnd.databricks.v1+cell": {
     "cellMetadata": {
      "byteLimit": 2048000,
      "rowLimit": 10000
     },
     "inputWidgets": {},
     "nuid": "61d89f7b-93f7-43ec-9a74-77fba86f4ef5",
     "showTitle": true,
     "tableResultSettingsMap": {},
     "title": "Set Secret Keys for API Access"
    }
   },
   "outputs": [],
   "source": [
    "# List of key-value pairs from the first cell\n",
    "secrets = {\n",
    "    \"OPENAI_API_KEY\": OPENAI_API_KEY,\n",
    "    \"LANGCHAIN_API_KEY\": LANGCHAIN_API_KEY,\n",
    "    \"OPENBB_PAT\": OPENBB_PAT,\n",
    "    \"TAVILY_API_KEY\": TAVILY_API_KEY,\n",
    "    \"HF_TOKEN\": HF_TOKEN,\n",
    "    \"HUGGINGFACEHUB_API_TOKEN\": HUGGINGFACEHUB_API_TOKEN,\n",
    "    \"GOOGLE_API_KEY\": GOOGLE_API_KEY,\n",
    "    \"GROQ_API_KEY\": GROQ_API_KEY,\n",
    "    \"WEATHER_API_KEY\": WEATHER_API_KEY,\n",
    "    \"COHERE_API_KEY\": COHERE_API_KEY,\n",
    "    \"ANTHROPIC_API_KEY\": ANTHROPIC_API_KEY,\n",
    "    \"SERPAPI_API_KEY\": SERPAPI_API_KEY,\n",
    "    \"OPEN_ROUTER_KEY\": OPEN_ROUTER_KEY\n",
    "}\n",
    "\n",
    "for key, value in secrets.items():\n",
    "    try:\n",
    "        w.secrets.put_secret(scope=scope_name, key=key, string_value=value)\n",
    "    except Exception as e:\n",
    "        print(f\"Key {key} may already exist: {e}\")"
   ]
  },
  {
   "cell_type": "code",
   "execution_count": 0,
   "metadata": {
    "application/vnd.databricks.v1+cell": {
     "cellMetadata": {
      "byteLimit": 2048000,
      "rowLimit": 10000
     },
     "inputWidgets": {},
     "nuid": "ed052ce8-da19-4e60-8929-75ad2d4e8806",
     "showTitle": false,
     "tableResultSettingsMap": {},
     "title": ""
    }
   },
   "outputs": [],
   "source": [
    "key = \"fmp_api_key\"\n",
    "value = \"pfK8AP344Oiw4xOKdNMChZarDUjUYfDz\"\n",
    "w.secrets.put_secret(scope=scope_name, key=key, string_value=value)"
   ]
  },
  {
   "cell_type": "code",
   "execution_count": 0,
   "metadata": {
    "application/vnd.databricks.v1+cell": {
     "cellMetadata": {
      "byteLimit": 2048000,
      "rowLimit": 10000
     },
     "inputWidgets": {},
     "nuid": "0cbfbe1e-f038-413d-b06c-ba63472a40c7",
     "showTitle": false,
     "tableResultSettingsMap": {},
     "title": ""
    }
   },
   "outputs": [],
   "source": [
    "key = \"polygon_api_key\"\n",
    "value = \"PVLKbutCZ7E9CipXHSxFKUPoQeQnoYO7\"\n",
    "w.secrets.put_secret(scope=scope_name, key=key, string_value=value)"
   ]
  },
  {
   "cell_type": "code",
   "execution_count": 0,
   "metadata": {
    "application/vnd.databricks.v1+cell": {
     "cellMetadata": {
      "byteLimit": 2048000,
      "rowLimit": 10000
     },
     "inputWidgets": {},
     "nuid": "6cc4220f-01f9-4d99-b3b8-f4496867a47e",
     "showTitle": false,
     "tableResultSettingsMap": {},
     "title": ""
    }
   },
   "outputs": [],
   "source": [
    "dbutils.secrets.list(scope=scope_name)"
   ]
  },
  {
   "cell_type": "code",
   "execution_count": 0,
   "metadata": {
    "application/vnd.databricks.v1+cell": {
     "cellMetadata": {},
     "inputWidgets": {},
     "nuid": "091c7f42-83bc-4798-9f50-24a8df15a53c",
     "showTitle": false,
     "tableResultSettingsMap": {},
     "title": ""
    }
   },
   "outputs": [],
   "source": []
  }
 ],
 "metadata": {
  "application/vnd.databricks.v1+notebook": {
   "computePreferences": {
    "hardware": {
     "accelerator": null,
     "gpuPoolId": null,
     "memory": null
    }
   },
   "dashboards": [],
   "environmentMetadata": {
    "base_environment": "",
    "environment_version": "4"
   },
   "inputWidgetPreferences": null,
   "language": "python",
   "notebookMetadata": {
    "pythonIndentUnit": 4
   },
   "notebookName": "Create Secrets for Keys",
   "widgets": {}
  },
  "language_info": {
   "name": "python"
  }
 },
 "nbformat": 4,
 "nbformat_minor": 0
}
