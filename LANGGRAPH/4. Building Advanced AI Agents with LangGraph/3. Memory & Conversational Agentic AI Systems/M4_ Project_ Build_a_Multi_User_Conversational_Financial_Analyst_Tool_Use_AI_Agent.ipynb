{
 "cells": [
  {
   "cell_type": "markdown",
   "metadata": {
    "application/vnd.databricks.v1+cell": {
     "cellMetadata": {},
     "inputWidgets": {},
     "nuid": "d686d7bd-f117-4335-91a4-fe21e3b7a869",
     "showTitle": false,
     "tableResultSettingsMap": {},
     "title": ""
    },
    "id": "8pdRDlVs1MJs"
   },
   "source": [
    "# Build a Multi-User Conversational Financial Analyst Tool-Use AI Agent with In-Memory Persistence with LangGraph"
   ]
  },
  {
   "cell_type": "markdown",
   "metadata": {
    "application/vnd.databricks.v1+cell": {
     "cellMetadata": {},
     "inputWidgets": {},
     "nuid": "de5e256b-5442-44c6-9909-7d90e3ecc5fa",
     "showTitle": false,
     "tableResultSettingsMap": {},
     "title": ""
    },
    "id": "NYBpZTjLnEXb"
   },
   "source": [
    "This project will focus on building a Tool-Use Agentic AI System which acts as a Financial Analyst & Advisor. This agent will be conversational and can handle multiple user-sessions with their own separate conversational history.\n",
    "\n",
    "The first project here will build a conversational tool-use agentic system with in-memory persistence.\n",
    "\n",
    "![](https://i.imgur.com/dKD7L6Q.png)\n",
    "\n",
    "### Financial Analyst Tool-Use Agentic AI System with In-Memory Persistence\n",
    "\n",
    "This project focuses on building a **Tool-Use Agentic AI System** that acts as a Financial Analyst & Advisor. The agent will be conversational and can handle multiple user sessions with their own separate conversational history. By leveraging the `create_react_agent` function from **LangGraph**, this project adds in-memory persistence for enhanced user interaction continuity. The workflow comprises the following components:\n",
    "\n",
    "1. **Agent System Prompt**:\n",
    "   - The agent validates input queries for relevance and specificity.\n",
    "   - It provides detailed market analysis or stock-specific insights depending on the user's query.\n",
    "   - For invalid queries, the agent responds professionally and guides the user appropriately.\n",
    "   - The system delivers concise, professional responses emphasizing data clarity and accuracy.\n",
    "\n",
    "   **Flows**:\n",
    "   - **Flow 1**: For general market trends, the agent analyzes data and suggests stock opportunities using tools like `SEARCH_WEB` and `GET_GENERAL_MARKET_DATA`.\n",
    "   - **Flow 2**: For stock-specific queries, the agent validates the stock ticker, retrieves relevant data, and provides insights using tools such as `GET_STOCK_FUNDAMENTAL_INDICATOR_METRICS` and `GET_STOCK_PRICE_METRICS`.\n",
    "\n",
    "2. **Financial Analysis Tools**:\n",
    "   The system integrates multiple tools to ensure comprehensive and precise insights:\n",
    "   - **SEARCH_WEB**: Fetches general stock market information from the web.\n",
    "   - **GET_STOCK_FUNDAMENTAL_INDICATOR_METRICS**: Provides insights into key financial metrics such as P/E ratio, ROE, etc.\n",
    "   - **GET_STOCK_NEWS**: Extracts the latest news and updates related to stocks or markets.\n",
    "   - **GET_GENERAL_MARKET_DATA**: Fetches data on overall market trends and performance.\n",
    "   - **GET_STOCK_TICKER**: Validates and fetches stock ticker symbols based on user queries.\n",
    "   - **GET_STOCK_PRICE_METRICS**: Retrieves price trends, performance, and metrics for specific stocks.\n",
    "\n",
    "3. **Stock Market Data Providers**:\n",
    "   The system ensures real-time, reliable data by integrating with top providers like Yahoo Finance, Finviz, TMX, Cboe, and more, through platforms such as **OpenBB**.\n",
    "\n",
    "4. **Memory Module**:\n",
    "   - A memory module is introduced to store and manage user-specific conversational histories.\n",
    "   - This enables the agent to maintain session continuity and provide context-aware responses for recurring users or prolonged interactions. __Here we store this in-memory.__\n",
    "\n",
    "5. **Message Trimmer**:\n",
    "   - Trims responses to ensure they are concise, professional, and reader-friendly, improving user experience and response quality.\n",
    "\n",
    "6. **ReAct Reasoning Framework**:\n",
    "   - The system employs **ReAct reasoning**, combining logical deduction with dynamic tool usage. This framework ensures precise and actionable results by dynamically selecting the right tools based on the query.\n",
    "\n",
    "7. **Final Response**:\n",
    "   - After processing the data from tool calls, the agentic system generates the final response.\n",
    "\n",
    "\n",
    "\n",
    "\n"
   ]
  },
  {
   "cell_type": "markdown",
   "metadata": {
    "application/vnd.databricks.v1+cell": {
     "cellMetadata": {},
     "inputWidgets": {},
     "nuid": "a07fe480-f8d7-48dd-bd4f-704352e4d60a",
     "showTitle": false,
     "tableResultSettingsMap": {},
     "title": ""
    },
    "id": "9hEI3WL328vZ"
   },
   "source": [
    "## Install OpenAI, LangGraph and LangChain dependencies"
   ]
  },
  {
   "cell_type": "code",
   "execution_count": 0,
   "metadata": {
    "application/vnd.databricks.v1+cell": {
     "cellMetadata": {},
     "inputWidgets": {},
     "nuid": "504399a1-48e2-4077-817a-f74e469c41d8",
     "showTitle": false,
     "tableResultSettingsMap": {},
     "title": ""
    },
    "colab": {
     "base_uri": "https://localhost:8080/"
    },
    "id": "2evPp14fy258",
    "outputId": "16772b3a-881d-405d-e69e-42b9c45d570e"
   },
   "outputs": [],
   "source": [
    "!pip install langchain==0.3.14\n",
    "!pip install langchain-openai==0.3.0\n",
    "!pip install langchain-community==0.3.14\n",
    "!pip install langgraph==0.2.64\n",
    "!pip install langgraph-checkpoint-sqlite==3.0.5\n",
    "# fix yfinance to stable version\n",
    "!pip install yfinance==0.2.51"
   ]
  },
  {
   "cell_type": "markdown",
   "metadata": {
    "application/vnd.databricks.v1+cell": {
     "cellMetadata": {},
     "inputWidgets": {},
     "nuid": "5fafc98a-52f8-4439-a536-44b20ae260e5",
     "showTitle": false,
     "tableResultSettingsMap": {},
     "title": ""
    },
    "id": "pSE8EoRXyuxx"
   },
   "source": [
    "## Install OpenBB"
   ]
  },
  {
   "cell_type": "code",
   "execution_count": 0,
   "metadata": {
    "application/vnd.databricks.v1+cell": {
     "cellMetadata": {},
     "inputWidgets": {},
     "nuid": "6fc0ccac-c22f-4017-abfe-9969bc95e8d4",
     "showTitle": false,
     "tableResultSettingsMap": {},
     "title": ""
    },
    "colab": {
     "base_uri": "https://localhost:8080/",
     "height": 1000
    },
    "id": "fO4gOIVIjGH7",
    "outputId": "4beccfe3-df5b-485a-fff2-ee7115f3e7ea"
   },
   "outputs": [],
   "source": [
    "!pip install openbb[all]==4.3.5"
   ]
  },
  {
   "cell_type": "markdown",
   "metadata": {
    "application/vnd.databricks.v1+cell": {
     "cellMetadata": {},
     "inputWidgets": {},
     "nuid": "49dfbd4a-15aa-4edb-8c9e-1158fe948292",
     "showTitle": false,
     "tableResultSettingsMap": {},
     "title": ""
    },
    "id": "H9c37cLnSrbg"
   },
   "source": [
    "## Enter Open AI API Key"
   ]
  },
  {
   "cell_type": "code",
   "execution_count": 0,
   "metadata": {
    "application/vnd.databricks.v1+cell": {
     "cellMetadata": {},
     "inputWidgets": {},
     "nuid": "78a42047-5a50-45f2-8d59-7dfea9c0f658",
     "showTitle": false,
     "tableResultSettingsMap": {},
     "title": ""
    },
    "colab": {
     "base_uri": "https://localhost:8080/"
    },
    "id": "cv3JzCEx_PAd",
    "outputId": "d71dc3b3-9537-49fc-e91c-3878d83cca1d"
   },
   "outputs": [],
   "source": [
    "from getpass import getpass\n",
    "\n",
    "OPENAI_KEY = getpass('Enter Open AI API Key: ')"
   ]
  },
  {
   "cell_type": "markdown",
   "metadata": {
    "application/vnd.databricks.v1+cell": {
     "cellMetadata": {},
     "inputWidgets": {},
     "nuid": "682ba95e-ccec-45d3-9819-17b50511557c",
     "showTitle": false,
     "tableResultSettingsMap": {},
     "title": ""
    },
    "id": "-tsLsa9b3Dxg"
   },
   "source": [
    "## Enter OpenBB Key\n",
    "\n",
    "Get a free API key from [here](https://my.openbb.co/app/platform/pat)"
   ]
  },
  {
   "cell_type": "code",
   "execution_count": 0,
   "metadata": {
    "application/vnd.databricks.v1+cell": {
     "cellMetadata": {},
     "inputWidgets": {},
     "nuid": "3fdcd390-af32-4aed-868d-fad9da24d7c1",
     "showTitle": false,
     "tableResultSettingsMap": {},
     "title": ""
    },
    "colab": {
     "base_uri": "https://localhost:8080/"
    },
    "id": "q2sKDYgEqOaP",
    "outputId": "43620fa0-43cd-4a07-c822-1d5f6893b6a3"
   },
   "outputs": [],
   "source": [
    "from getpass import getpass\n",
    "\n",
    "OPENBB_PAT = getpass('Enter OpenBB Personal Access Token (PAT): ')"
   ]
  },
  {
   "cell_type": "markdown",
   "metadata": {
    "application/vnd.databricks.v1+cell": {
     "cellMetadata": {},
     "inputWidgets": {},
     "nuid": "b6c5a839-c364-42e6-8864-b8654f72ff06",
     "showTitle": false,
     "tableResultSettingsMap": {},
     "title": ""
    },
    "id": "ucWRRI3QztL2"
   },
   "source": [
    "## Enter Tavily Search API Key\n",
    "\n",
    "Get a free API key from [here](https://tavily.com/#api)"
   ]
  },
  {
   "cell_type": "code",
   "execution_count": 0,
   "metadata": {
    "application/vnd.databricks.v1+cell": {
     "cellMetadata": {},
     "inputWidgets": {},
     "nuid": "1c479e51-04a1-47b8-a92c-c0fa9e2c455e",
     "showTitle": false,
     "tableResultSettingsMap": {},
     "title": ""
    },
    "colab": {
     "base_uri": "https://localhost:8080/"
    },
    "id": "mK-1WLzOrJdb",
    "outputId": "4b3067eb-6944-480c-a25a-4b32625b3d18"
   },
   "outputs": [],
   "source": [
    "TAVILY_API_KEY = getpass('Enter Tavily Search API Key: ')"
   ]
  },
  {
   "cell_type": "markdown",
   "metadata": {
    "application/vnd.databricks.v1+cell": {
     "cellMetadata": {},
     "inputWidgets": {},
     "nuid": "327bfe1e-18ee-4450-acf5-742b69a059b1",
     "showTitle": false,
     "tableResultSettingsMap": {},
     "title": ""
    },
    "id": "1T0s0um5Svfa"
   },
   "source": [
    "## Setup Environment Variables"
   ]
  },
  {
   "cell_type": "code",
   "execution_count": 0,
   "metadata": {
    "application/vnd.databricks.v1+cell": {
     "cellMetadata": {},
     "inputWidgets": {},
     "nuid": "f4833536-d63f-48c2-ac37-d9c8fd2f7759",
     "showTitle": false,
     "tableResultSettingsMap": {},
     "title": ""
    },
    "id": "x1YSuHNF_lbh"
   },
   "outputs": [],
   "source": [
    "import os\n",
    "\n",
    "os.environ['OPENAI_API_KEY'] = OPENAI_KEY\n",
    "os.environ['TAVILY_API_KEY'] = TAVILY_API_KEY"
   ]
  },
  {
   "cell_type": "code",
   "execution_count": 0,
   "metadata": {
    "application/vnd.databricks.v1+cell": {
     "cellMetadata": {},
     "inputWidgets": {},
     "nuid": "09022407-d711-4d02-aa1d-de5fd17339f8",
     "showTitle": false,
     "tableResultSettingsMap": {},
     "title": ""
    },
    "colab": {
     "base_uri": "https://localhost:8080/"
    },
    "id": "V4a3LQeClFoi",
    "outputId": "9666b943-e150-49b3-b25b-497de51829ac"
   },
   "outputs": [],
   "source": [
    "from openbb import obb\n",
    "# takes 1 min to setup\n",
    "obb.account.login(pat=OPENBB_PAT)"
   ]
  },
  {
   "cell_type": "markdown",
   "metadata": {
    "application/vnd.databricks.v1+cell": {
     "cellMetadata": {},
     "inputWidgets": {},
     "nuid": "c136fcd5-684a-4a47-9d11-10b90b283008",
     "showTitle": false,
     "tableResultSettingsMap": {},
     "title": ""
    },
    "id": "TW0QaP_RzG2h"
   },
   "source": [
    "## Create Financial Tools\n",
    "\n",
    "**Financial Analysis Tools**:\n",
    "   The system integrates multiple tools to get useful financial data and metrics:\n",
    "   - **SEARCH_WEB**: Fetches general stock market information from the web.\n",
    "   - **GET_STOCK_FUNDAMENTAL_INDICATOR_METRICS**: Provides insights into key financial metrics such as P/E ratio, ROE, etc.\n",
    "   - **GET_STOCK_NEWS**: Extracts the latest news and updates related to stocks or markets.\n",
    "   - **GET_GENERAL_MARKET_DATA**: Fetches data on overall market trends and performance.\n",
    "   - **GET_STOCK_TICKER**: Validates and fetches stock ticker symbols based on user queries.\n",
    "   - **GET_STOCK_PRICE_METRICS**: Retrieves price trends, performance, and metrics for specific stocks."
   ]
  },
  {
   "cell_type": "code",
   "execution_count": 0,
   "metadata": {
    "application/vnd.databricks.v1+cell": {
     "cellMetadata": {},
     "inputWidgets": {},
     "nuid": "57a236f1-ea8f-472b-83d6-e665b9ef4fe6",
     "showTitle": false,
     "tableResultSettingsMap": {},
     "title": ""
    },
    "id": "Ue8xgu9WpuPi"
   },
   "outputs": [],
   "source": [
    "from langchain_community.utilities.tavily_search import TavilySearchAPIWrapper\n",
    "from langchain_core.tools import tool\n",
    "import json\n",
    "import requests\n",
    "from tqdm import tqdm\n",
    "from bs4 import BeautifulSoup\n",
    "from datetime import datetime, timedelta\n",
    "\n",
    "tavily_search = TavilySearchAPIWrapper()\n",
    "\n",
    "@tool\n",
    "def search_web(query: str, num_results=8) -> list:\n",
    "    \"\"\"Search the web for a query. Userful for general information or general news\"\"\"\n",
    "    results = tavily_search.raw_results(query=query,\n",
    "                                        max_results=num_results,\n",
    "                                        search_depth='advanced',\n",
    "                                        include_answer=False,\n",
    "                                        include_raw_content=True)\n",
    "    return results\n",
    "\n",
    "@tool\n",
    "def get_stock_ticker_symbol(stock_name: str) -> str:\n",
    "    \"\"\"Get the symbol, name and CIK for any publicly traded company\"\"\"\n",
    "    # Use OpenBB to search for stock ticker symbol and company details by name.\n",
    "    # The provider \"sec\" fetches data from the U.S. Securities and Exchange Commission (SEC).\n",
    "    res = obb.equity.search(stock_name, provider=\"sec\")\n",
    "\n",
    "    # Convert the result to a DataFrame and format it as markdown for readability.\n",
    "    stock_ticker_details = res.to_df().to_markdown()\n",
    "\n",
    "    # Prepare the output with the stock details.\n",
    "    output = \"\"\"Here are the details of the company and its stock ticker symbol:\\n\\n\"\"\" + stock_ticker_details\n",
    "    return output\n",
    "\n",
    "@tool\n",
    "def get_stock_price_metrics(stock_ticker: str) -> str:\n",
    "    \"\"\"Get historical stock price data, stock price quote and price performance data\n",
    "       like price changes for a specific stock ticker\"\"\"\n",
    "\n",
    "    # Fetch the latest stock price quote using \"cboe\" provider.\n",
    "    res = obb.equity.price.quote(stock_ticker, provider='cboe')\n",
    "    price_quote = res.to_df().to_markdown()\n",
    "\n",
    "    # Retrieve stock price performance metrics (e.g., percentage change) using \"finviz\" provider.\n",
    "    res = obb.equity.price.performance(symbol=stock_ticker, provider='finviz')\n",
    "    price_performance = res.to_df().to_markdown()\n",
    "\n",
    "    # Fetch historical price data for the past year using \"yfinance\" provider.\n",
    "    end_date = datetime.now()\n",
    "    start_date = (end_date - timedelta(days=365)).strftime(\"%Y-%m-%d\")\n",
    "    res = obb.equity.price.historical(symbol=stock_ticker, start_date=start_date,\n",
    "                                      interval='1d', provider='yfinance')\n",
    "    price_historical = res.to_df().to_markdown()\n",
    "\n",
    "    # Combine the results into a formatted output.\n",
    "    output = (\"\"\"Here are the stock price metrics and data for the stock ticker symbol \"\"\" + stock_ticker + \"\"\": \\n\\n\"\"\" +\n",
    "              \"Price Quote Metrics:\\n\\n\" + price_quote +\n",
    "              \"\\n\\nPrice Performance Metrics:\\n\\n\" + price_performance +\n",
    "              \"\\n\\nPrice Historical Data:\\n\\n\" + price_historical)\n",
    "    return output\n",
    "\n",
    "@tool\n",
    "def get_stock_fundamental_indicator_metrics(stock_ticker: str) -> str:\n",
    "    \"\"\"Get fundamental indicator metrics for a specific stock ticker\"\"\"\n",
    "\n",
    "    # Retrieve fundamental financial ratios (e.g., P/E ratio, ROE) using \"fmp\" provider.\n",
    "    res = obb.equity.fundamental.ratios(symbol=stock_ticker, period='annual',\n",
    "                                        limit=10, provider='fmp')\n",
    "    fundamental_ratios = res.to_df().to_markdown()\n",
    "\n",
    "    # Fetch additional fundamental metrics (e.g., EBITDA, revenue growth) using \"yfinance\" provider.\n",
    "    res = obb.equity.fundamental.metrics(symbol=stock_ticker, period='annual',\n",
    "                                        limit=10, provider='yfinance')\n",
    "    fundamental_metrics = res.to_df().to_markdown()\n",
    "\n",
    "    # Combine fundamental ratios and metrics into a single output.\n",
    "    output = (\"\"\"Here are the fundamental indicator metrics and data for the stock ticker symbol \"\"\" + stock_ticker + \"\"\": \\n\\n\"\"\" +\n",
    "              \"Fundamental Ratios:\\n\\n\" + fundamental_ratios +\n",
    "              \"\\n\\nFundamental Metrics:\\n\\n\" + fundamental_metrics)\n",
    "    return output\n",
    "\n",
    "@tool\n",
    "def get_stock_news(stock_ticker: str) -> str:\n",
    "    \"\"\"Get news article headlines for a specific stock ticker\"\"\"\n",
    "\n",
    "    # Define the date range to fetch news (last 45 days).\n",
    "    end_date = datetime.now()\n",
    "    start_date = (end_date - timedelta(days=45)).strftime(\"%Y-%m-%d\")\n",
    "\n",
    "    # Retrieve news headlines for the stock using \"tmx\" provider.\n",
    "    res = obb.news.company(symbol=stock_ticker, start_date=start_date, provider='tmx', limit=50)\n",
    "    news = res.to_df()\n",
    "\n",
    "    # Extract relevant columns (symbols and titles) and format as markdown.\n",
    "    news = news[['symbols', 'title']].to_markdown()\n",
    "\n",
    "    # Prepare the output with the news headlines.\n",
    "    output = (\"\"\"Here are the recent news headlines for the stock ticker symbol \"\"\" + stock_ticker + \"\"\": \\n\\n\"\"\" + news)\n",
    "    return output\n",
    "\n",
    "@tool\n",
    "def get_general_market_data() -> str:\n",
    "    \"\"\"Get general data and indicators for the whole stock market including,\n",
    "       most actively traded stocks based on volume, top price gainers and top price losers.\n",
    "       Useful when you want an overview of the market and what stocks to look at.\"\"\"\n",
    "\n",
    "    # Retrieve the most actively traded stocks using \"yfinance\" provider.\n",
    "    res = obb.equity.discovery.active(sort='desc', provider='yfinance', limit=15)\n",
    "    most_active_stocks = res.to_df().to_markdown()\n",
    "\n",
    "    # Fetch the top price gainers using \"yfinance\" provider.\n",
    "    res = obb.equity.discovery.gainers(sort='desc', provider='yfinance', limit=15)\n",
    "    price_gainers = res.to_df().to_markdown()\n",
    "\n",
    "    # Retrieve the top price losers using \"yfinance\" provider.\n",
    "    res = obb.equity.discovery.losers(sort='desc', provider='yfinance', limit=15)\n",
    "    price_losers = res.to_df().to_markdown()\n",
    "\n",
    "    # Combine the market data into a single formatted output.\n",
    "    output = (\"\"\"Here's some detailed information of the stock market which includes most actively traded stocks, gainers and losers:\\n\\n\"\"\" +\n",
    "              \"Most actively traded stocks:\\n\\n\" + most_active_stocks +\n",
    "              \"\\n\\nTop price gainers:\\n\\n\" + price_gainers +\n",
    "              \"\\n\\nTop price losers:\\n\\n\" + price_losers)\n",
    "    return output\n"
   ]
  },
  {
   "cell_type": "markdown",
   "metadata": {
    "application/vnd.databricks.v1+cell": {
     "cellMetadata": {},
     "inputWidgets": {},
     "nuid": "1ec6411a-53d4-4d27-bcd4-a57e1d46e62c",
     "showTitle": false,
     "tableResultSettingsMap": {},
     "title": ""
    },
    "id": "JPcJl2m-vYMZ"
   },
   "source": [
    "## Build the Conversational Tool-use Agentic AI System with Transient In-Memory Store\n",
    "\n",
    "Here we use an in-memory store for persisting conversational messages between the user and the agent temporarily (transient). This is in-memory so it would be deleted once you shut down the agent or your system."
   ]
  },
  {
   "cell_type": "code",
   "execution_count": 0,
   "metadata": {
    "application/vnd.databricks.v1+cell": {
     "cellMetadata": {},
     "inputWidgets": {},
     "nuid": "d8c1ec98-a4f4-4711-b66b-90e1a9bd885f",
     "showTitle": false,
     "tableResultSettingsMap": {},
     "title": ""
    },
    "id": "RaZ88m_mnZ87"
   },
   "outputs": [],
   "source": [
    "AGENT_SYS_PROMPT = \"\"\"Role: You are an AI stock market assistant tasked with providing investors\n",
    "with up-to-date, detailed information on individual stocks or advice based on general market data.\n",
    "\n",
    "Objective: Assist data-driven stock market investors by giving accurate,\n",
    "complete, but concise information relevant to their questions about individual\n",
    "stocks or general advice on useful stocks based on general market data and trends.\n",
    "\n",
    "Capabilities: You are given a number of tools as functions. Use as many tools\n",
    "as needed to ensure all information provided is timely, accurate, concise,\n",
    "relevant, and responsive to the user's query.\n",
    "\n",
    "Starting Flow:\n",
    "Input validation: Determine if the input is asking about a specific company\n",
    "or stock ticker (Flow 2). If not, check if they are asking for general advice on potentially useful stocks\n",
    "based on current market data (Flow 1). Otherwise, respond in a friendly, positive, professional tone\n",
    "that you don't have information to answer as you can only provide financial advice based on market data.\n",
    "For each of the flows related to valid questions use the following instructions:\n",
    "\n",
    "Flow 1:\n",
    "A. Market Analysis: If the query is valid and the user wants to get general advice on the market\n",
    "or stocks worth looking into for investing, leverage the general market data tool to get relevant data.\n",
    "In case you need more information then you can also use web search.\n",
    "\n",
    "Flow 2:\n",
    "A. Symbol extraction: If the query is valid and is related to a specific company or companies,\n",
    "extract the company name or ticker symbol from the question.\n",
    "If a company name is given, look up the ticker symbol using a tool.\n",
    "If the ticker symbol is not found based on the company, try to\n",
    "correct the spelling and try again, like changing \"microsfot\" to \"microsoft\",\n",
    "or broadening the search, like changng \"southwest airlines\" to a shorter variation\n",
    "like \"southwest\" and increasing \"limit\" to 10 or more. If the company or ticker is\n",
    "still unclear based on the question or conversation so far, and the results of the\n",
    "symbol lookup, then ask the user to clarify which company or ticker.\n",
    "\n",
    "B. Information retrieval: Determine what data the user is seeking on the symbol\n",
    "identified. Use the appropriate tools to fetch the requested information. Only use\n",
    "data obtained from the tools. You may use multiple tools in a sequence. For instance,\n",
    "first determine the company's symbol, then retrieve price data using the symbol\n",
    "and fundamental indicator data etc. For specific queries only retrieve data using the most relevant tool.\n",
    "If detailed analysis is needed, you can call multiple tools to retrieve data first.\n",
    "In case you still need more information then you can also use web search.\n",
    "\n",
    "Response Generation Flow:\n",
    "Compose Response: Analyze the retrieved data carefully and provide a comprehensive answer to the user in a clear and concise format,\n",
    "in a friendly professional tone, emphasizing the data retrieved.\n",
    "If the user asks for recommendations you can give some recommendations\n",
    "but emphasize the user to do their own research before investing.\n",
    "When generating the final response in markdown,\n",
    "if there are special characters in the text, such as the dollar symbol,\n",
    "ensure they are escaped properly for correct rendering e.g $25.5 should become \\$25.5\n",
    "\n",
    "Example Interaction:\n",
    "User asks: \"What is the PE ratio for Eli Lilly?\"\n",
    "Chatbot recognizes 'Eli Lilly' as a company name.\n",
    "Chatbot uses symbol lookup to find the ticker for Eli Lilly, returning LLY.\n",
    "Chatbot retrieves the PE ratio using the proper function with symbol LLY.\n",
    "Chatbot responds: \"The PE ratio for Eli Lilly (symbol: LLY) as of May 12, 2024 is 30.\"\n",
    "\n",
    "Check carefully and only call the tools which are specifically named below.\n",
    "Only use data obtained from these tools.\n",
    "\"\"\""
   ]
  },
  {
   "cell_type": "code",
   "execution_count": 0,
   "metadata": {
    "application/vnd.databricks.v1+cell": {
     "cellMetadata": {},
     "inputWidgets": {},
     "nuid": "ebe7ec1e-415a-4ebb-8692-11da9c78a86c",
     "showTitle": false,
     "tableResultSettingsMap": {},
     "title": ""
    },
    "colab": {
     "base_uri": "https://localhost:8080/"
    },
    "id": "1q8nEDoHnv6E",
    "outputId": "41f9c899-61a3-42d3-e6ce-fccaa00a2b09"
   },
   "outputs": [],
   "source": [
    "import tiktoken\n",
    "\n",
    "enc = tiktoken.encoding_for_model(\"gpt-4o\")\n",
    "tokens = enc.encode(AGENT_SYS_PROMPT)\n",
    "print(f\"Number of tokens: {len(tokens)}\")"
   ]
  },
  {
   "cell_type": "code",
   "execution_count": 0,
   "metadata": {
    "application/vnd.databricks.v1+cell": {
     "cellMetadata": {},
     "inputWidgets": {},
     "nuid": "02d246c0-18f8-472e-8be9-f70654233a03",
     "showTitle": false,
     "tableResultSettingsMap": {},
     "title": ""
    },
    "id": "rdBRSLehwMm_"
   },
   "outputs": [],
   "source": [
    "from typing import Annotated\n",
    "\n",
    "from langchain_openai import ChatOpenAI\n",
    "from langchain_core.messages import BaseMessage\n",
    "from typing_extensions import TypedDict\n",
    "\n",
    "from langgraph.graph import StateGraph, START, END\n",
    "from langgraph.graph.message import add_messages\n",
    "from langgraph.prebuilt import ToolNode, tools_condition\n",
    "from langchain_core.messages import HumanMessage, SystemMessage, RemoveMessage\n",
    "from langchain_core.messages import trim_messages\n",
    "from langgraph.checkpoint.memory import MemorySaver\n",
    "\n",
    "\n",
    "class State(TypedDict):\n",
    "    messages: Annotated[list, add_messages]\n",
    "\n",
    "\n",
    "graph_builder = StateGraph(State)\n",
    "\n",
    "tools = [get_stock_ticker_symbol,\n",
    "         get_stock_price_metrics,\n",
    "         get_stock_fundamental_indicator_metrics,\n",
    "         get_stock_news,\n",
    "         search_web,\n",
    "         get_general_market_data]\n",
    "\n",
    "llm = ChatOpenAI(model=\"gpt-4o\", temperature=0)\n",
    "llm_with_tools = llm.bind_tools(tools)\n",
    "\n",
    "\n",
    "\n",
    "SYS_MSG = SystemMessage(content=AGENT_SYS_PROMPT)\n",
    "def chatbot(state: State):\n",
    "    messages = trim_messages(\n",
    "            state[\"messages\"],\n",
    "            max_tokens=127000,\n",
    "            strategy=\"last\",\n",
    "            token_counter=ChatOpenAI(model=\"gpt-4o\"),\n",
    "            include_system=True, # not necessary here as we send the sys prompt separately\n",
    "            allow_partial=True,\n",
    "    )\n",
    "    return {\"messages\": [llm_with_tools.invoke([SYS_MSG] + messages)]}\n",
    "\n",
    "graph_builder.add_node(\"chatbot\", chatbot)\n",
    "\n",
    "tool_node = ToolNode(tools=tools)\n",
    "graph_builder.add_node(\"tools\", tool_node)\n",
    "\n",
    "graph_builder.add_conditional_edges(\n",
    "    \"chatbot\",\n",
    "    tools_condition,\n",
    "    ['tools', END]\n",
    ")\n",
    "# Any time a tool is called, we return to the chatbot to decide the next step\n",
    "graph_builder.add_edge(\"tools\", \"chatbot\")\n",
    "graph_builder.set_entry_point(\"chatbot\")\n",
    "\n",
    "memory = MemorySaver()\n",
    "financial_analyst_agent = graph_builder.compile(checkpointer=memory)"
   ]
  },
  {
   "cell_type": "code",
   "execution_count": 0,
   "metadata": {
    "application/vnd.databricks.v1+cell": {
     "cellMetadata": {},
     "inputWidgets": {},
     "nuid": "d3817d8b-ca1f-475e-8006-1248fa60411b",
     "showTitle": false,
     "tableResultSettingsMap": {},
     "title": ""
    },
    "colab": {
     "base_uri": "https://localhost:8080/",
     "height": 266
    },
    "id": "LWi44TWcoHpD",
    "outputId": "1aa860c2-cda4-465c-99ef-40e8e925cfc5"
   },
   "outputs": [],
   "source": [
    "from IPython.display import display, Image, Markdown\n",
    "\n",
    "Image(financial_analyst_agent.get_graph().draw_mermaid_png())"
   ]
  },
  {
   "cell_type": "code",
   "execution_count": 0,
   "metadata": {
    "application/vnd.databricks.v1+cell": {
     "cellMetadata": {
      "byteLimit": 2048000,
      "rowLimit": 10000
     },
     "inputWidgets": {},
     "nuid": "e9dc42e8-20ef-4017-bc22-d7d2e07f2fe7",
     "showTitle": false,
     "tableResultSettingsMap": {},
     "title": ""
    },
    "id": "dabt40FjQXyK"
   },
   "outputs": [],
   "source": [
    "def call_conversational_agent(agent, prompt, user_session_id, verbose=False):\n",
    "    events = agent.stream(\n",
    "        {\"messages\": [{\"role\": \"user\", \"content\": prompt}]},\n",
    "        {\"configurable\": {\"thread_id\": user_session_id}},\n",
    "        stream_mode=\"values\",\n",
    "    )\n",
    "\n",
    "    print('Running Agent. Please wait...')\n",
    "    for event in events:\n",
    "        if verbose:\n",
    "            event[\"messages\"][-1].pretty_print()\n",
    "\n",
    "    display(Markdown(event[\"messages\"][-1].content))"
   ]
  },
  {
   "cell_type": "markdown",
   "metadata": {
    "application/vnd.databricks.v1+cell": {
     "cellMetadata": {},
     "inputWidgets": {},
     "nuid": "bad47930-94c8-4843-a49a-c74442c7c8ba",
     "showTitle": false,
     "tableResultSettingsMap": {},
     "title": ""
    },
    "id": "GxwUg1sA3oPy"
   },
   "source": [
    "## Test the Agentic System with In-Memory Persistence"
   ]
  },
  {
   "cell_type": "markdown",
   "metadata": {
    "application/vnd.databricks.v1+cell": {
     "cellMetadata": {},
     "inputWidgets": {},
     "nuid": "143557b9-4a95-427e-a5c4-4a777c4254f8",
     "showTitle": false,
     "tableResultSettingsMap": {},
     "title": ""
    },
    "id": "knvZnBOv4CPF"
   },
   "source": [
    "### Simulating User 1"
   ]
  },
  {
   "cell_type": "code",
   "execution_count": 0,
   "metadata": {
    "application/vnd.databricks.v1+cell": {
     "cellMetadata": {},
     "inputWidgets": {},
     "nuid": "b3c5bb57-c1cb-4a54-9cfe-840984e3067c",
     "showTitle": false,
     "tableResultSettingsMap": {},
     "title": ""
    },
    "colab": {
     "base_uri": "https://localhost:8080/",
     "height": 465
    },
    "id": "_IpCPBMIog7K",
    "outputId": "1d019910-3bcd-43b5-b76c-6d660ba15a79"
   },
   "outputs": [],
   "source": [
    "uid = 'john001'\n",
    "query = 'what are 2 most important metrics for fundamental analysis to pick stocks?'\n",
    "call_conversational_agent(agent=financial_analyst_agent,\n",
    "                          prompt=query,\n",
    "                          user_session_id=uid,\n",
    "                          verbose=True)"
   ]
  },
  {
   "cell_type": "code",
   "execution_count": 0,
   "metadata": {
    "application/vnd.databricks.v1+cell": {
     "cellMetadata": {},
     "inputWidgets": {},
     "nuid": "83dfac59-7f26-409d-9f04-a80cf69c2180",
     "showTitle": false,
     "tableResultSettingsMap": {},
     "title": ""
    },
    "colab": {
     "base_uri": "https://localhost:8080/",
     "height": 1000
    },
    "id": "oEdjrx5NQhi7",
    "outputId": "f9857ad4-af82-474e-826a-733ca377d9dc"
   },
   "outputs": [],
   "source": [
    "query = 'get these two for Amazon?'\n",
    "call_conversational_agent(agent=financial_analyst_agent,\n",
    "                          prompt=query,\n",
    "                          user_session_id=uid,\n",
    "                          verbose=True)"
   ]
  },
  {
   "cell_type": "code",
   "execution_count": 0,
   "metadata": {
    "application/vnd.databricks.v1+cell": {
     "cellMetadata": {},
     "inputWidgets": {},
     "nuid": "da8ca2f1-e1bf-4907-add1-c4360ae06433",
     "showTitle": false,
     "tableResultSettingsMap": {},
     "title": ""
    },
    "colab": {
     "base_uri": "https://localhost:8080/",
     "height": 202
    },
    "id": "d31YzMp0QePA",
    "outputId": "1b2835e6-becb-4f6f-ce1c-3721b20df735"
   },
   "outputs": [],
   "source": [
    "query = 'do the same for google'\n",
    "call_conversational_agent(agent=financial_analyst_agent,\n",
    "                          prompt=query,\n",
    "                          user_session_id=uid,\n",
    "                          verbose=False)"
   ]
  },
  {
   "cell_type": "code",
   "execution_count": 0,
   "metadata": {
    "application/vnd.databricks.v1+cell": {
     "cellMetadata": {},
     "inputWidgets": {},
     "nuid": "eb83c114-c7eb-4374-a95a-00840a2344d9",
     "showTitle": false,
     "tableResultSettingsMap": {},
     "title": ""
    },
    "colab": {
     "base_uri": "https://localhost:8080/",
     "height": 947
    },
    "id": "5RrG_amC6GdX",
    "outputId": "f2ccb17d-c5bc-46f9-d019-967e56bcc600"
   },
   "outputs": [],
   "source": [
    "query = 'which stock might be the better pick?'\n",
    "call_conversational_agent(agent=financial_analyst_agent,\n",
    "                          prompt=query,\n",
    "                          user_session_id=uid,\n",
    "                          verbose=True)"
   ]
  },
  {
   "cell_type": "code",
   "execution_count": 0,
   "metadata": {
    "application/vnd.databricks.v1+cell": {
     "cellMetadata": {},
     "inputWidgets": {},
     "nuid": "ab982776-c48c-44f7-8850-183a50d82ebc",
     "showTitle": false,
     "tableResultSettingsMap": {},
     "title": ""
    },
    "colab": {
     "base_uri": "https://localhost:8080/",
     "height": 1000
    },
    "id": "1aOil0mA6X5b",
    "outputId": "99d1f702-cecb-4cac-871a-71463b168341"
   },
   "outputs": [],
   "source": [
    "uid = 'bond007'\n",
    "query = 'how is nvidia doing currently?'\n",
    "call_conversational_agent(agent=financial_analyst_agent,\n",
    "                          prompt=query,\n",
    "                          user_session_id=uid,\n",
    "                          verbose=True)"
   ]
  },
  {
   "cell_type": "code",
   "execution_count": 0,
   "metadata": {
    "application/vnd.databricks.v1+cell": {
     "cellMetadata": {},
     "inputWidgets": {},
     "nuid": "5b0cd7d3-ed70-4f5c-9849-f5425ce90d11",
     "showTitle": false,
     "tableResultSettingsMap": {},
     "title": ""
    },
    "colab": {
     "base_uri": "https://localhost:8080/",
     "height": 570
    },
    "id": "J5lhZPpe6iMK",
    "outputId": "8cee022e-4864-4d09-ce92-3678c9c0dcbd"
   },
   "outputs": [],
   "source": [
    "query = 'what about intel?'\n",
    "call_conversational_agent(agent=financial_analyst_agent,\n",
    "                          prompt=query,\n",
    "                          user_session_id=uid,\n",
    "                          verbose=False)"
   ]
  },
  {
   "cell_type": "code",
   "execution_count": 0,
   "metadata": {
    "application/vnd.databricks.v1+cell": {
     "cellMetadata": {},
     "inputWidgets": {},
     "nuid": "99a2d9de-5f58-4f50-b10f-4d0b4dcf9d51",
     "showTitle": false,
     "tableResultSettingsMap": {},
     "title": ""
    },
    "colab": {
     "base_uri": "https://localhost:8080/",
     "height": 553
    },
    "id": "vIVsr-Bn6oXl",
    "outputId": "143db8bb-ab59-4388-af8f-3f9f04a55bd3"
   },
   "outputs": [],
   "source": [
    "query = 'which is a better stock to pick?'\n",
    "call_conversational_agent(agent=financial_analyst_agent,\n",
    "                          prompt=query,\n",
    "                          user_session_id=uid,\n",
    "                          verbose=False)"
   ]
  },
  {
   "cell_type": "markdown",
   "metadata": {
    "application/vnd.databricks.v1+cell": {
     "cellMetadata": {},
     "inputWidgets": {},
     "nuid": "df5854ad-e9dc-4fec-8898-6e87c88e91f7",
     "showTitle": false,
     "tableResultSettingsMap": {},
     "title": ""
    },
    "id": "dtXAlOdBxt-j"
   },
   "source": [
    "We have successfully built an AI Agent which can do detailed financial analysis for us and is completely conversational. Next up we will see how to use persistent memory on the disk"
   ]
  },
  {
   "cell_type": "markdown",
   "metadata": {
    "application/vnd.databricks.v1+cell": {
     "cellMetadata": {},
     "inputWidgets": {},
     "nuid": "1e202978-7a8b-4ee0-8043-12d090431fbe",
     "showTitle": false,
     "tableResultSettingsMap": {},
     "title": ""
    },
    "id": "7-W4DpF43-1C"
   },
   "source": [
    "# Build a Multi-User Conversational Financial Analyst Tool-Use AI Agent with On-Disk Persistence with LangGraph"
   ]
  },
  {
   "cell_type": "markdown",
   "metadata": {
    "application/vnd.databricks.v1+cell": {
     "cellMetadata": {},
     "inputWidgets": {},
     "nuid": "d4ed35df-ce13-4092-b4c4-bfd6e7d35f7d",
     "showTitle": false,
     "tableResultSettingsMap": {},
     "title": ""
    },
    "id": "v8GYJC8w3-1D"
   },
   "source": [
    "This project will focus on building a Tool-Use Agentic AI System which acts as a Financial Analyst & Advisor. This agent will be conversational and can handle multiple user-sessions with their own separate conversational history.\n",
    "\n",
    "The first project here will build a conversational tool-use agentic system with on-disk persistence.\n",
    "\n",
    "![](https://i.imgur.com/dKD7L6Q.png)\n",
    "\n",
    "### Financial Analyst Tool-Use Agentic AI System with In-Memory Persistence\n",
    "\n",
    "This project focuses on building a **Tool-Use Agentic AI System** that acts as a Financial Analyst & Advisor. The agent will be conversational and can handle multiple user sessions with their own separate conversational history. By leveraging the `create_react_agent` function from **LangGraph**, this project adds in-memory persistence for enhanced user interaction continuity. The workflow comprises the following components:\n",
    "\n",
    "1. **Agent System Prompt**:\n",
    "   - The agent validates input queries for relevance and specificity.\n",
    "   - It provides detailed market analysis or stock-specific insights depending on the user's query.\n",
    "   - For invalid queries, the agent responds professionally and guides the user appropriately.\n",
    "   - The system delivers concise, professional responses emphasizing data clarity and accuracy.\n",
    "\n",
    "   **Flows**:\n",
    "   - **Flow 1**: For general market trends, the agent analyzes data and suggests stock opportunities using tools like `SEARCH_WEB` and `GET_GENERAL_MARKET_DATA`.\n",
    "   - **Flow 2**: For stock-specific queries, the agent validates the stock ticker, retrieves relevant data, and provides insights using tools such as `GET_STOCK_FUNDAMENTAL_INDICATOR_METRICS` and `GET_STOCK_PRICE_METRICS`.\n",
    "\n",
    "2. **Financial Analysis Tools**:\n",
    "   The system integrates multiple tools to ensure comprehensive and precise insights:\n",
    "   - **SEARCH_WEB**: Fetches general stock market information from the web.\n",
    "   - **GET_STOCK_FUNDAMENTAL_INDICATOR_METRICS**: Provides insights into key financial metrics such as P/E ratio, ROE, etc.\n",
    "   - **GET_STOCK_NEWS**: Extracts the latest news and updates related to stocks or markets.\n",
    "   - **GET_GENERAL_MARKET_DATA**: Fetches data on overall market trends and performance.\n",
    "   - **GET_STOCK_TICKER**: Validates and fetches stock ticker symbols based on user queries.\n",
    "   - **GET_STOCK_PRICE_METRICS**: Retrieves price trends, performance, and metrics for specific stocks.\n",
    "\n",
    "3. **Stock Market Data Providers**:\n",
    "   The system ensures real-time, reliable data by integrating with top providers like Yahoo Finance, Finviz, TMX, Cboe, and more, through platforms such as **OpenBB**.\n",
    "\n",
    "4. **Memory Module**:\n",
    "   - A memory module is introduced to store and manage user-specific conversational histories.\n",
    "   - This enables the agent to maintain session continuity and provide context-aware responses for recurring users or prolonged interactions. __Here we store this on-disk in a database.__\n",
    "\n",
    "5. **Message Trimmer**:\n",
    "   - Trims responses to ensure they are concise, professional, and reader-friendly, improving user experience and response quality.\n",
    "\n",
    "6. **ReAct Reasoning Framework**:\n",
    "   - The system employs **ReAct reasoning**, combining logical deduction with dynamic tool usage. This framework ensures precise and actionable results by dynamically selecting the right tools based on the query.\n",
    "\n",
    "7. **Final Response**:\n",
    "   - After processing the data from tool calls, the agentic system generates the final response.\n",
    "\n",
    "\n"
   ]
  },
  {
   "cell_type": "markdown",
   "metadata": {
    "application/vnd.databricks.v1+cell": {
     "cellMetadata": {},
     "inputWidgets": {},
     "nuid": "5a474f9f-3648-425f-a1f1-00baded0a52a",
     "showTitle": false,
     "tableResultSettingsMap": {},
     "title": ""
    },
    "id": "rcfps7EJy570"
   },
   "source": [
    "### Build the Conversational Tool-use Agentic AI System with Persistent On-disk External Memory Store\n",
    "\n",
    "Here we use a persistent SQLite database to permanently store our conversations between the agent and the user.\n",
    "\n",
    "We will use `SqliteSaver` which helps to store separate conversation histories per user or session.\n",
    "\n",
    "This will help us build a conversational Agentic Chatbot which will be accessed by many users at the same time. The memory is persisted on-disk so can be accessed anytime.\n",
    "\n"
   ]
  },
  {
   "cell_type": "code",
   "execution_count": 0,
   "metadata": {
    "application/vnd.databricks.v1+cell": {
     "cellMetadata": {},
     "inputWidgets": {},
     "nuid": "41c675c9-d68c-4270-889d-dffae9b6e34e",
     "showTitle": false,
     "tableResultSettingsMap": {},
     "title": ""
    },
    "id": "Cph9LvyvIRrA"
   },
   "outputs": [],
   "source": [
    "# removes the memory database file - usually not needed\n",
    "# you can run this only when you want to remove ALL conversation histories\n",
    "# ok if you get rm: cannot remove 'memory.db': No such file or directory  because initially no memory exists\n",
    "!rm memory.db*"
   ]
  },
  {
   "cell_type": "code",
   "execution_count": 0,
   "metadata": {
    "application/vnd.databricks.v1+cell": {
     "cellMetadata": {},
     "inputWidgets": {},
     "nuid": "2b2ec8dd-781a-424e-bf79-154f8cfe1b2f",
     "showTitle": false,
     "tableResultSettingsMap": {},
     "title": ""
    },
    "id": "qzwnf7vfzTiI"
   },
   "outputs": [],
   "source": [
    "from typing import Annotated\n",
    "\n",
    "from langchain_openai import ChatOpenAI\n",
    "from langchain_core.messages import BaseMessage\n",
    "from typing_extensions import TypedDict\n",
    "\n",
    "from langgraph.graph import StateGraph, START, END\n",
    "from langgraph.graph.message import add_messages\n",
    "from langgraph.prebuilt import ToolNode, tools_condition\n",
    "from langchain_core.messages import HumanMessage, SystemMessage, RemoveMessage\n",
    "from langchain_core.messages import trim_messages\n",
    "\n",
    "\n",
    "class State(TypedDict):\n",
    "    messages: Annotated[list, add_messages]\n",
    "\n",
    "\n",
    "graph_builder = StateGraph(State)\n",
    "\n",
    "tools = [get_stock_ticker_symbol,\n",
    "         get_stock_price_metrics,\n",
    "         get_stock_fundamental_indicator_metrics,\n",
    "         get_stock_news,\n",
    "         search_web,\n",
    "         get_general_market_data]\n",
    "\n",
    "llm = ChatOpenAI(model=\"gpt-4o\", temperature=0)\n",
    "llm_with_tools = llm.bind_tools(tools)\n",
    "\n",
    "\n",
    "\n",
    "SYS_MSG = SystemMessage(content=AGENT_SYS_PROMPT)\n",
    "def chatbot(state: State):\n",
    "    messages = trim_messages(\n",
    "            state[\"messages\"],\n",
    "            max_tokens=127000,\n",
    "            strategy=\"last\",\n",
    "            token_counter=ChatOpenAI(model=\"gpt-4o\"),\n",
    "            allow_partial=True,\n",
    "    )\n",
    "    return {\"messages\": [llm_with_tools.invoke([SYS_MSG] + messages)]}\n",
    "\n",
    "graph_builder.add_node(\"chatbot\", chatbot)\n",
    "\n",
    "tool_node = ToolNode(tools=tools)\n",
    "graph_builder.add_node(\"tools\", tool_node)\n",
    "\n",
    "graph_builder.add_conditional_edges(\n",
    "    \"chatbot\",\n",
    "    tools_condition,\n",
    ")\n",
    "# Any time a tool is called, we return to the chatbot to decide the next step\n",
    "graph_builder.add_edge(\"tools\", \"chatbot\")\n",
    "graph_builder.set_entry_point(\"chatbot\")\n",
    "\n",
    "memory = MemorySaver()\n",
    "financial_analyst_agent = graph_builder.compile()"
   ]
  },
  {
   "cell_type": "code",
   "execution_count": 0,
   "metadata": {
    "application/vnd.databricks.v1+cell": {
     "cellMetadata": {},
     "inputWidgets": {},
     "nuid": "88a48384-6cfb-4480-b956-d263523ee2dc",
     "showTitle": false,
     "tableResultSettingsMap": {},
     "title": ""
    },
    "id": "d8jgYAwTIptc"
   },
   "outputs": [],
   "source": [
    "from IPython.display import Image, display, Markdown\n",
    "\n",
    "display(Image(financial_analyst_agent.get_graph().draw_mermaid_png()))"
   ]
  },
  {
   "cell_type": "code",
   "execution_count": 0,
   "metadata": {
    "application/vnd.databricks.v1+cell": {
     "cellMetadata": {},
     "inputWidgets": {},
     "nuid": "8364a3ea-c428-42b0-accf-c89c700b345d",
     "showTitle": false,
     "tableResultSettingsMap": {},
     "title": ""
    },
    "id": "byfUQ9vZ-Yjk"
   },
   "outputs": [],
   "source": [
    "from langgraph.checkpoint.sqlite import SqliteSaver\n",
    "\n",
    "def call_conversational_agent(agent_graph, prompt, user_session_id, verbose=False):\n",
    "    with SqliteSaver.from_conn_string(\"memory.db\") as memory:\n",
    "        agent = agent_graph.compile(checkpointer=memory)\n",
    "        events = agent.stream(\n",
    "            {\"messages\": [{\"role\": \"user\", \"content\": prompt}]},\n",
    "            {\"configurable\": {\"thread_id\": user_session_id}},\n",
    "            stream_mode=\"values\",\n",
    "        )\n",
    "\n",
    "        print('Running Agent, please wait...')\n",
    "        for event in events:\n",
    "            if verbose:\n",
    "                event[\"messages\"][-1].pretty_print()\n",
    "\n",
    "    display(Markdown(event[\"messages\"][-1].content))"
   ]
  },
  {
   "cell_type": "markdown",
   "metadata": {
    "application/vnd.databricks.v1+cell": {
     "cellMetadata": {},
     "inputWidgets": {},
     "nuid": "f6a27e28-c137-48db-ad24-d4f022d4ee1f",
     "showTitle": false,
     "tableResultSettingsMap": {},
     "title": ""
    },
    "id": "NIzN83ZV4imG"
   },
   "source": [
    "## Test the Agentic System with On-Disk Persistence"
   ]
  },
  {
   "cell_type": "markdown",
   "metadata": {
    "application/vnd.databricks.v1+cell": {
     "cellMetadata": {},
     "inputWidgets": {},
     "nuid": "9e77b15a-9005-4348-abc8-d7a0c0e4e6e0",
     "showTitle": false,
     "tableResultSettingsMap": {},
     "title": ""
    },
    "id": "vYTNL_iJ6ibC"
   },
   "source": [
    "Let's now simulate User 1 using the agent"
   ]
  },
  {
   "cell_type": "code",
   "execution_count": 0,
   "metadata": {
    "application/vnd.databricks.v1+cell": {
     "cellMetadata": {},
     "inputWidgets": {},
     "nuid": "e0370cfa-0953-46e4-b427-0d7022c43b42",
     "showTitle": false,
     "tableResultSettingsMap": {},
     "title": ""
    },
    "id": "irMU68Ds0NTm"
   },
   "outputs": [],
   "source": [
    "uid = 'john001'\n",
    "query = 'analyze overall stock price trends for NVIDIA'\n",
    "call_conversational_agent(agent_graph=graph_builder,\n",
    "                          prompt=query,\n",
    "                          user_session_id=uid,\n",
    "                          verbose=True)"
   ]
  },
  {
   "cell_type": "code",
   "execution_count": 0,
   "metadata": {
    "application/vnd.databricks.v1+cell": {
     "cellMetadata": {},
     "inputWidgets": {},
     "nuid": "6ea4a2fa-81b7-4066-ac66-ef5d5e80b626",
     "showTitle": false,
     "tableResultSettingsMap": {},
     "title": ""
    },
    "id": "XT4vtvku0TBW"
   },
   "outputs": [],
   "source": [
    "query = 'do the same for Intel please'\n",
    "call_conversational_agent(agent_graph=graph_builder,\n",
    "                          prompt=query,\n",
    "                          user_session_id=uid,\n",
    "                          verbose=False)"
   ]
  },
  {
   "cell_type": "code",
   "execution_count": 0,
   "metadata": {
    "application/vnd.databricks.v1+cell": {
     "cellMetadata": {},
     "inputWidgets": {},
     "nuid": "f2c1e653-cf33-47d9-84e1-b1ef2b9a8e49",
     "showTitle": false,
     "tableResultSettingsMap": {},
     "title": ""
    },
    "id": "c2WYu2_AUJ9F"
   },
   "outputs": [],
   "source": [
    "query = 'which is the better pick?'\n",
    "call_conversational_agent(agent_graph=graph_builder,\n",
    "                          prompt=query,\n",
    "                          user_session_id=uid,\n",
    "                          verbose=False)"
   ]
  },
  {
   "cell_type": "markdown",
   "metadata": {
    "application/vnd.databricks.v1+cell": {
     "cellMetadata": {},
     "inputWidgets": {},
     "nuid": "ac4c7c65-eb12-41c9-8701-a9cb0437fd2a",
     "showTitle": false,
     "tableResultSettingsMap": {},
     "title": ""
    },
    "id": "B4zIlISy6m-x"
   },
   "source": [
    "Let's now simulate User 2 using the agent"
   ]
  },
  {
   "cell_type": "code",
   "execution_count": 0,
   "metadata": {
    "application/vnd.databricks.v1+cell": {
     "cellMetadata": {},
     "inputWidgets": {},
     "nuid": "054fdce9-910e-4fde-9197-f7d5fc95ccaf",
     "showTitle": false,
     "tableResultSettingsMap": {},
     "title": ""
    },
    "id": "ta1RUF_81RxX"
   },
   "outputs": [],
   "source": [
    "uid = 'bond007'\n",
    "query = 'summarize key points from NVIDIA earnings call Q4 2024'\n",
    "call_conversational_agent(agent_graph=graph_builder,\n",
    "                          prompt=query,\n",
    "                          user_session_id=uid,\n",
    "                          verbose=True)"
   ]
  },
  {
   "cell_type": "code",
   "execution_count": 0,
   "metadata": {
    "application/vnd.databricks.v1+cell": {
     "cellMetadata": {},
     "inputWidgets": {},
     "nuid": "0403aa11-8d30-409b-983b-18da45c5a4c3",
     "showTitle": false,
     "tableResultSettingsMap": {},
     "title": ""
    },
    "id": "vfn_Wxxg42rZ"
   },
   "outputs": [],
   "source": [
    "query = 'do the same for intel'\n",
    "call_conversational_agent(agent_graph=graph_builder,\n",
    "                          prompt=query,\n",
    "                          user_session_id=uid,\n",
    "                          verbose=False)"
   ]
  },
  {
   "cell_type": "code",
   "execution_count": 0,
   "metadata": {
    "application/vnd.databricks.v1+cell": {
     "cellMetadata": {},
     "inputWidgets": {},
     "nuid": "7c780d0c-e4f4-44c7-9fac-74b4319dd741",
     "showTitle": false,
     "tableResultSettingsMap": {},
     "title": ""
    },
    "id": "I7jjxtmz6Qzi"
   },
   "outputs": [],
   "source": [
    "query = 'which has a better outlook?'\n",
    "call_conversational_agent(agent_graph=graph_builder,\n",
    "                          prompt=query,\n",
    "                          user_session_id=uid,\n",
    "                          verbose=False)"
   ]
  }
 ],
 "metadata": {
  "application/vnd.databricks.v1+notebook": {
   "computePreferences": null,
   "dashboards": [],
   "environmentMetadata": null,
   "inputWidgetPreferences": null,
   "language": "python",
   "notebookMetadata": {
    "pythonIndentUnit": 4
   },
   "notebookName": "M4_ Project_ Build_a_Multi_User_Conversational_Financial_Analyst_Tool_Use_AI_Agent",
   "widgets": {}
  },
  "colab": {
   "provenance": []
  },
  "kernelspec": {
   "display_name": "Python 3",
   "name": "python3"
  },
  "language_info": {
   "name": "python"
  }
 },
 "nbformat": 4,
 "nbformat_minor": 0
}
