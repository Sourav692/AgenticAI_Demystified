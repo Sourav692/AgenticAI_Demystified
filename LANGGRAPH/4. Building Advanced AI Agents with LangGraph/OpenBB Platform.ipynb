{
 "cells": [
  {
   "cell_type": "markdown",
   "metadata": {
    "application/vnd.databricks.v1+cell": {
     "cellMetadata": {},
     "inputWidgets": {},
     "nuid": "ba2d18dd-087f-4d2f-b38c-c6999129b761",
     "showTitle": false,
     "tableResultSettingsMap": {},
     "title": ""
    }
   },
   "source": [
    "# Setup"
   ]
  },
  {
   "cell_type": "code",
   "execution_count": 0,
   "metadata": {
    "application/vnd.databricks.v1+cell": {
     "cellMetadata": {},
     "inputWidgets": {},
     "nuid": "a9b7c3b1-f92c-4cda-bef5-dc43b26a5cf3",
     "showTitle": false,
     "tableResultSettingsMap": {},
     "title": ""
    }
   },
   "outputs": [],
   "source": [
    "!pip install magentic\n",
    "!pip install openbb"
   ]
  },
  {
   "cell_type": "code",
   "execution_count": 0,
   "metadata": {
    "application/vnd.databricks.v1+cell": {
     "cellMetadata": {},
     "inputWidgets": {},
     "nuid": "120e7733-977d-4cc4-9c81-859ee3be882b",
     "showTitle": false,
     "tableResultSettingsMap": {},
     "title": ""
    },
    "id": "3ah6KFROrN_z"
   },
   "outputs": [],
   "source": [
    "import os\n",
    "os.environ[\"OPENAI_API_KEY\"] = \"...\""
   ]
  },
  {
   "cell_type": "code",
   "execution_count": 0,
   "metadata": {
    "application/vnd.databricks.v1+cell": {
     "cellMetadata": {},
     "inputWidgets": {},
     "nuid": "6ffa596f-af6c-43a9-80cf-6dbf521173a2",
     "showTitle": false,
     "tableResultSettingsMap": {},
     "title": ""
    },
    "id": "YG8DP-wLtwiK"
   },
   "outputs": [],
   "source": [
    "from openbb import obb\n",
    "obb.user.preferences.output_type=\"llm\"\n",
    "obb.system.python_settings.docstring_sections=[\"description\", \"parameters\"]\n",
    "obb.system.python_settings.docstring_max_length=1024"
   ]
  },
  {
   "cell_type": "code",
   "execution_count": 0,
   "metadata": {
    "application/vnd.databricks.v1+cell": {
     "cellMetadata": {},
     "inputWidgets": {},
     "nuid": "c7f716df-cb5e-4461-9a64-f057b6a5f2f3",
     "showTitle": false,
     "tableResultSettingsMap": {},
     "title": ""
    },
    "id": "3Vlc0TeEtlmB"
   },
   "outputs": [],
   "source": [
    "import openbb\n",
    "openbb.build()"
   ]
  },
  {
   "cell_type": "code",
   "execution_count": 0,
   "metadata": {
    "application/vnd.databricks.v1+cell": {
     "cellMetadata": {},
     "inputWidgets": {},
     "nuid": "345d322d-ae43-45ed-83e2-0f4eef4b4de5",
     "showTitle": false,
     "tableResultSettingsMap": {},
     "title": ""
    },
    "id": "OyYMin1y0j8M"
   },
   "outputs": [],
   "source": [
    "obb.account.login(pat=\"...\")"
   ]
  },
  {
   "cell_type": "markdown",
   "metadata": {
    "application/vnd.databricks.v1+cell": {
     "cellMetadata": {},
     "inputWidgets": {},
     "nuid": "f8634c9f-0a3b-48d9-90a6-b88bf88ef60e",
     "showTitle": false,
     "tableResultSettingsMap": {},
     "title": ""
    }
   },
   "source": [
    "# OpenBB Platform"
   ]
  },
  {
   "cell_type": "code",
   "execution_count": 0,
   "metadata": {
    "application/vnd.databricks.v1+cell": {
     "cellMetadata": {},
     "inputWidgets": {},
     "nuid": "0df2b14e-4a7d-4170-965e-10273c5ad658",
     "showTitle": false,
     "tableResultSettingsMap": {},
     "title": ""
    }
   },
   "outputs": [],
   "source": [
    "from openbb import obb"
   ]
  },
  {
   "cell_type": "code",
   "execution_count": 0,
   "metadata": {
    "application/vnd.databricks.v1+cell": {
     "cellMetadata": {},
     "inputWidgets": {},
     "nuid": "2aba48c0-8dfe-4b70-a939-b4749057e196",
     "showTitle": false,
     "tableResultSettingsMap": {},
     "title": ""
    }
   },
   "outputs": [],
   "source": [
    "obb.equity.profile?"
   ]
  },
  {
   "cell_type": "markdown",
   "metadata": {
    "application/vnd.databricks.v1+cell": {
     "cellMetadata": {},
     "inputWidgets": {},
     "nuid": "0cfe435e-adbd-49a7-b3db-e00b0fc62be0",
     "showTitle": false,
     "tableResultSettingsMap": {},
     "title": ""
    }
   },
   "source": [
    "# Example"
   ]
  },
  {
   "cell_type": "code",
   "execution_count": 0,
   "metadata": {
    "application/vnd.databricks.v1+cell": {
     "cellMetadata": {},
     "inputWidgets": {},
     "nuid": "ba39a4ff-dba4-484d-9b6d-f992b586886e",
     "showTitle": false,
     "tableResultSettingsMap": {},
     "title": ""
    }
   },
   "outputs": [],
   "source": [
    "from magentic import chatprompt, SystemMessage, UserMessage, FunctionCall\n",
    "\n",
    "@chatprompt(\n",
    "    SystemMessage(\"You are an expert financial analyst. Use the tools provided when answering a question.\"),\n",
    "    UserMessage(\"{query}\"),\n",
    "    functions=[\n",
    "        obb.equity.compare.peers,\n",
    "        obb.equity.profile,\n",
    "        obb.equity.estimates.price_target,\n",
    "    ],\n",
    ")\n",
    "def ask(query: str) -> str | FunctionCall: ...\n",
    "\n",
    "def execute(query: str) -> str:\n",
    "    response = ask(query)\n",
    "    fc_results = []\n",
    "\n",
    "    while isinstance(response, FunctionCall):\n",
    "        result = response()\n",
    "        fc_results.append(f\"Function `{response.function.__name__}` returned: {result}\")\n",
    "        response = ask(query=query + \"\\n\\n\" + \"\\n\".join(fc_results))\n",
    "\n",
    "    return response"
   ]
  },
  {
   "cell_type": "code",
   "execution_count": 0,
   "metadata": {
    "application/vnd.databricks.v1+cell": {
     "cellMetadata": {},
     "inputWidgets": {},
     "nuid": "24e816fb-48d7-4504-b687-2b19e8dc192b",
     "showTitle": false,
     "tableResultSettingsMap": {},
     "title": ""
    }
   },
   "outputs": [],
   "source": [
    "query = \"\"\"\n",
    "Check what are TSLA peers. From those, check which one has the highest market cap.\n",
    "Then, on the ticker that has the highest market cap get the most recent rating from an analyst.\n",
    "And tell me who was the analyst and what date was it that the rating was done.\n",
    "\"\"\"\n",
    "\n",
    "answer = execute(query)\n",
    "answer"
   ]
  },
  {
   "cell_type": "code",
   "execution_count": 0,
   "metadata": {
    "application/vnd.databricks.v1+cell": {
     "cellMetadata": {},
     "inputWidgets": {},
     "nuid": "84fee684-0332-4cfb-b987-f2bb3615879b",
     "showTitle": false,
     "tableResultSettingsMap": {},
     "title": ""
    }
   },
   "outputs": [],
   "source": [
    "peers = obb.equity.compare.peers(\"TSLA\").to_df()\n",
    "peers_list = list(peers[\"peers_list\"])\n",
    "peers_list"
   ]
  },
  {
   "cell_type": "code",
   "execution_count": 0,
   "metadata": {
    "application/vnd.databricks.v1+cell": {
     "cellMetadata": {},
     "inputWidgets": {},
     "nuid": "a05e86a6-648b-4530-9696-687c42d0ec91",
     "showTitle": false,
     "tableResultSettingsMap": {},
     "title": ""
    }
   },
   "outputs": [],
   "source": [
    "for peer in peers_list:\n",
    "    print(peer)\n",
    "    print(int(obb.equity.profile(peer).to_df()[\"market_cap\"][0]))"
   ]
  },
  {
   "cell_type": "code",
   "execution_count": 0,
   "metadata": {
    "application/vnd.databricks.v1+cell": {
     "cellMetadata": {},
     "inputWidgets": {},
     "nuid": "472e0c64-7e8b-40ee-bef4-371feb19663d",
     "showTitle": false,
     "tableResultSettingsMap": {},
     "title": ""
    }
   },
   "outputs": [],
   "source": [
    "obb.equity.estimates.price_target(\"GM\").to_df()"
   ]
  },
  {
   "cell_type": "code",
   "execution_count": 0,
   "metadata": {
    "application/vnd.databricks.v1+cell": {
     "cellMetadata": {},
     "inputWidgets": {},
     "nuid": "6c2365a7-7ce3-4b41-ad73-10264d61edc8",
     "showTitle": false,
     "tableResultSettingsMap": {},
     "title": ""
    }
   },
   "outputs": [],
   "source": []
  }
 ],
 "metadata": {
  "application/vnd.databricks.v1+notebook": {
   "computePreferences": null,
   "dashboards": [],
   "environmentMetadata": null,
   "inputWidgetPreferences": null,
   "language": "python",
   "notebookMetadata": {
    "pythonIndentUnit": 4
   },
   "notebookName": "OpenBB Platform",
   "widgets": {}
  },
  "colab": {
   "provenance": []
  },
  "kernelspec": {
   "display_name": "Python 3 (ipykernel)",
   "language": "python",
   "name": "python3"
  },
  "language_info": {
   "name": "python"
  }
 },
 "nbformat": 4,
 "nbformat_minor": 0
}
