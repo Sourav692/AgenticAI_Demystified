{
 "cells": [
  {
   "cell_type": "markdown",
   "metadata": {
    "application/vnd.databricks.v1+cell": {
     "cellMetadata": {},
     "inputWidgets": {},
     "nuid": "dc1eeac7-6dcd-4408-835d-c7daeed54f5f",
     "showTitle": false,
     "tableResultSettingsMap": {},
     "title": ""
    }
   },
   "source": [
    "\n",
    "# LangGraph with Vector Search Tool - RAG-Enabled AI Agent\n",
    "\n",
    "This code creates a **Retrieval-Augmented Generation (RAG)** system using LangGraph + Databricks Vector Search for intelligent document retrieval.\n",
    "\n",
    "## 🔧 **Setup & Components**\n",
    "- **LLM**: Databricks GPT OSS 120B model\n",
    "- **Vector Search**: Databricks Vector Search as a retrieval tool\n",
    "- **Graph**: LangGraph for orchestrating LLM + retrieval workflow\n",
    "\n",
    "## 🔍 **Vector Search Tool Configuration**\n",
    "```python\n",
    "vs_tool = VectorSearchRetrieverTool(\n",
    "  index_name=\"agents.main.foodly_policy_embedding_index\",\n",
    "  tool_name=\"foodly_policy_document_retrieval_tool\", \n",
    "  num_results=2,\n",
    "  tool_description=\"Search Foodly knowledge base for policies, procedures...\"\n",
    ")\n",
    "```\n",
    "- **Index**: Points to a pre-built vector index containing Foodly company documents\n",
    "- **Retrieval**: Returns top 2 most relevant document chunks\n",
    "- **Scope**: Searches policies, refund rules, delivery guidelines, etc.\n",
    "- **Smart description**: Helps LLM understand when to use this tool\n",
    "\n",
    "## 🤖 **LLM + Tool Integration**\n",
    "```python\n",
    "llm_with_tools = llm.bind_tools([vs_tool])  # LLM can now search documents\n",
    "```\n",
    "The LLM gains the ability to search through company documentation when needed.\n",
    "\n",
    "## 🕸️ **Graph Architecture**\n",
    "\n",
    "\n",
    "- **llm node**: Processes user queries and decides if document search is needed\n",
    "- **tools node**: Executes vector search to retrieve relevant documents  \n",
    "- **Conditional routing**: Automatically searches docs when LLM determines it's necessary\n",
    "\n",
    "## 🔄 **RAG Workflow**\n",
    "1. **User question**: e.g., *\"What's the refund policy?\"*\n",
    "2. **LLM analysis**: Determines this needs company policy information\n",
    "3. **Vector search**: Retrieves relevant policy documents from the index\n",
    "4. **Augmented response**: LLM answers using retrieved company documents\n",
    "5. **Accurate answer**: Response based on actual company policies, not general knowledge\n",
    "\n",
    "## 🎯 **Key Benefits**\n",
    "- **Up-to-date info**: Always uses current company documents\n",
    "- **Accurate responses**: Grounded in actual company policies\n",
    "- **Automatic retrieval**: LLM decides when to search documents\n",
    "- **Scalable**: Works with large document collections\n",
    "- **Enterprise-ready**: Uses Databricks' managed vector search\n",
    "\n",
    "This pattern enables AI assistants to provide accurate, company-specific answers by automatically retrieving relevant documentation when needed.\n"
   ]
  },
  {
   "cell_type": "code",
   "execution_count": 0,
   "metadata": {
    "application/vnd.databricks.v1+cell": {
     "cellMetadata": {
      "byteLimit": 2048000,
      "rowLimit": 10000
     },
     "inputWidgets": {},
     "nuid": "c1ea75d0-4658-43d5-9849-24c9b7abcf5e",
     "showTitle": false,
     "tableResultSettingsMap": {},
     "title": ""
    }
   },
   "outputs": [],
   "source": [
    "!pip install -q langchain==0.3.14\n",
    "!pip install -q langchain-openai==0.3.0\n",
    "!pip install -q langchain-community==0.3.14\n",
    "!pip install -q langgraph==0.2.64"
   ]
  },
  {
   "cell_type": "code",
   "execution_count": 0,
   "metadata": {
    "application/vnd.databricks.v1+cell": {
     "cellMetadata": {
      "byteLimit": 2048000,
      "rowLimit": 10000
     },
     "inputWidgets": {},
     "nuid": "c4fab8a1-0be0-4ff1-94fb-ca73a693a422",
     "showTitle": false,
     "tableResultSettingsMap": {},
     "title": ""
    }
   },
   "outputs": [],
   "source": [
    "%pip install -U -qqqq databricks-langchain uv databricks-agents mlflow-skinny[databricks]"
   ]
  },
  {
   "cell_type": "code",
   "execution_count": 0,
   "metadata": {
    "application/vnd.databricks.v1+cell": {
     "cellMetadata": {
      "byteLimit": 2048000,
      "rowLimit": 10000
     },
     "inputWidgets": {},
     "nuid": "4a9b1047-20cc-401c-b71a-d16b7afe7bea",
     "showTitle": false,
     "tableResultSettingsMap": {},
     "title": ""
    }
   },
   "outputs": [],
   "source": [
    "dbutils.library.restartPython()"
   ]
  },
  {
   "cell_type": "code",
   "execution_count": 0,
   "metadata": {
    "application/vnd.databricks.v1+cell": {
     "cellMetadata": {
      "byteLimit": 2048000,
      "rowLimit": 10000
     },
     "inputWidgets": {},
     "nuid": "8742e06e-f098-4c0e-8e18-67ca741881ae",
     "showTitle": false,
     "tableResultSettingsMap": {},
     "title": ""
    }
   },
   "outputs": [],
   "source": [
    "from dotenv import load_dotenv\n",
    "import os\n",
    "from typing import Literal, TypedDict\n",
    "from langchain_core.messages import HumanMessage, SystemMessage\n",
    "from langgraph.graph.message import add_messages\n",
    "from typing_extensions import Annotated\n",
    "from langgraph.graph import StateGraph, START, END\n",
    "from langgraph.graph import MessagesState\n",
    "from langgraph.prebuilt.tool_node import ToolNode, tools_condition\n",
    "\n",
    "\n",
    "\n",
    "from databricks_langchain import (\n",
    "    ChatDatabricks,\n",
    "    VectorSearchRetrieverTool\n",
    ")\n",
    "\n",
    "\n",
    "\n",
    "# Initialize LLM\n",
    "llm = ChatDatabricks(endpoint=\"databricks-gpt-oss-120b\")\n",
    "\n",
    "\n",
    "\n",
    "def call_llm(state: MessagesState):\n",
    "    return {\"messages\": [llm_with_tools.invoke(state['messages'])]}\n",
    "\n",
    "\n",
    "# Initialize the retriever tool.\n",
    "vs_tool = VectorSearchRetrieverTool(\n",
    "  index_name=\"agentic_ai.langgraph.router_agent_index\",\n",
    "  tool_name=\"customer_support_retrieval_tool\",\n",
    "  num_results=2,\n",
    "  tool_description=\"Use this tool to search the Customer Support Document for customer questions and category of the question. It retrieves the most relevant chunks from the company’s customer support documentation, including customer questions, and category of the question\"\n",
    ")"
   ]
  },
  {
   "cell_type": "code",
   "execution_count": 0,
   "metadata": {
    "application/vnd.databricks.v1+cell": {
     "cellMetadata": {
      "byteLimit": 2048000,
      "rowLimit": 10000
     },
     "inputWidgets": {},
     "nuid": "6b068d05-c256-47fa-a41a-50b3ccdfa3b2",
     "showTitle": false,
     "tableResultSettingsMap": {},
     "title": ""
    }
   },
   "outputs": [],
   "source": [
    "query = 'what is your refund policy?'\n",
    "metadata_filter = {'category' : 'general'}\n",
    "# Update retriever search_kwargs dynamically\n",
    "# vs_tool.search_kwargs[\"filter\"] = metadata_filter\n",
    "vs_tool.invoke(query)"
   ]
  },
  {
   "cell_type": "code",
   "execution_count": 0,
   "metadata": {
    "application/vnd.databricks.v1+cell": {
     "cellMetadata": {
      "byteLimit": 2048000,
      "rowLimit": 10000
     },
     "inputWidgets": {},
     "nuid": "25bb0c81-a43e-44e8-bb23-ec4033cc5793",
     "showTitle": false,
     "tableResultSettingsMap": {},
     "title": ""
    }
   },
   "outputs": [],
   "source": [
    "result = vs_tool.invoke({\"query\": \"what is your refund policy?\"})"
   ]
  },
  {
   "cell_type": "code",
   "execution_count": 0,
   "metadata": {
    "application/vnd.databricks.v1+cell": {
     "cellMetadata": {
      "byteLimit": 2048000,
      "rowLimit": 10000
     },
     "inputWidgets": {},
     "nuid": "4174cbb5-2e82-4cc0-9031-fc0441e7f8a3",
     "showTitle": false,
     "tableResultSettingsMap": {},
     "title": ""
    }
   },
   "outputs": [],
   "source": [
    "for elem in result:\n",
    "    print(type(elem))"
   ]
  },
  {
   "cell_type": "code",
   "execution_count": 0,
   "metadata": {
    "application/vnd.databricks.v1+cell": {
     "cellMetadata": {
      "byteLimit": 2048000,
      "rowLimit": 10000
     },
     "inputWidgets": {},
     "nuid": "eb12ca16-abbe-4597-a69d-a0fa95b2afac",
     "showTitle": false,
     "tableResultSettingsMap": {},
     "title": ""
    }
   },
   "outputs": [],
   "source": [
    "llm_with_tools = llm.bind_tools([vs_tool])\n",
    "\n",
    "builder = StateGraph(MessagesState)\n",
    "\n",
    "builder.add_node(\"llm\",call_llm)\n",
    "builder.add_node(\"tools\",ToolNode([vs_tool]))\n",
    "\n",
    "\n",
    "builder.add_edge(START,\"llm\")\n",
    "builder.add_conditional_edges(\"llm\" , tools_condition)\n",
    "builder.add_edge(\"tools\",\"llm\")\n",
    "\n",
    "\n",
    "agent = builder.compile()\n",
    "\n"
   ]
  },
  {
   "cell_type": "code",
   "execution_count": 0,
   "metadata": {
    "application/vnd.databricks.v1+cell": {
     "cellMetadata": {
      "byteLimit": 2048000,
      "rowLimit": 10000
     },
     "inputWidgets": {},
     "nuid": "12dff738-1bcb-4fc0-9da1-275c5a49d9a0",
     "showTitle": false,
     "tableResultSettingsMap": {},
     "title": ""
    }
   },
   "outputs": [],
   "source": [
    "from IPython.display import display, Image\n",
    "\n",
    "Image(agent.get_graph().draw_mermaid_png())"
   ]
  },
  {
   "cell_type": "code",
   "execution_count": 0,
   "metadata": {
    "application/vnd.databricks.v1+cell": {
     "cellMetadata": {
      "byteLimit": 2048000,
      "rowLimit": 10000
     },
     "inputWidgets": {},
     "nuid": "fcb42fd9-1afa-4aec-b6d0-62d91a20e232",
     "showTitle": false,
     "tableResultSettingsMap": {},
     "title": ""
    }
   },
   "outputs": [],
   "source": [
    "messages = agent.invoke({\"messages\": [HumanMessage(\"what is your refund policy? I am really fed up with this product and need to refund it?\")]})\n",
    "\n",
    "last_message = messages[\"messages\"][-1].content\n",
    "print(last_message)"
   ]
  },
  {
   "cell_type": "code",
   "execution_count": 0,
   "metadata": {
    "application/vnd.databricks.v1+cell": {
     "cellMetadata": {
      "byteLimit": 2048000,
      "rowLimit": 10000
     },
     "inputWidgets": {},
     "nuid": "d434e065-0c9b-4997-991a-70ff94866b4a",
     "showTitle": false,
     "tableResultSettingsMap": {},
     "title": ""
    }
   },
   "outputs": [],
   "source": [
    "messages = agent.invoke({\"messages\": [HumanMessage(\"what is your refund policy? I am really fed up with this product and need to refund it?\")]})\n",
    "\n",
    "last_message = messages[\"messages\"][-1].content\n",
    "\n",
    "\n",
    "import markdown\n",
    "\n",
    "# Convert markdown → HTML\n",
    "html = markdown.markdown(last_message, extensions=[\"tables\", \"fenced_code\"] )\n",
    "\n",
    "# Render in the notebook automatically\n",
    "displayHTML(html)"
   ]
  },
  {
   "cell_type": "markdown",
   "metadata": {
    "application/vnd.databricks.v1+cell": {
     "cellMetadata": {},
     "inputWidgets": {},
     "nuid": "5bc3e5bf-2c46-411e-a2bc-2f6d2d8a477d",
     "showTitle": false,
     "tableResultSettingsMap": {},
     "title": ""
    }
   },
   "source": [
    "\n"
   ]
  },
  {
   "cell_type": "code",
   "execution_count": 0,
   "metadata": {
    "application/vnd.databricks.v1+cell": {
     "cellMetadata": {
      "byteLimit": 2048000,
      "rowLimit": 10000
     },
     "inputWidgets": {},
     "nuid": "9dee51ba-11e5-4b3a-9849-395a595d9a5f",
     "showTitle": false,
     "tableResultSettingsMap": {},
     "title": ""
    }
   },
   "outputs": [],
   "source": [
    "messages = agent.invoke({\"messages\": [HumanMessage(\"I bought it like 10 days ago , can i make the refund?\")]})\n",
    "\n",
    "last_message = messages[\"messages\"][-1].content\n",
    "print(last_message)"
   ]
  }
 ],
 "metadata": {
  "application/vnd.databricks.v1+notebook": {
   "computePreferences": {
    "hardware": {
     "accelerator": null,
     "gpuPoolId": null,
     "memory": null
    }
   },
   "dashboards": [],
   "environmentMetadata": {
    "base_environment": "",
    "dependencies": [
     "-r /Workspace/Users/real.anirvan@gmail.com/ai-agents-masterclass/requirements.txt"
    ],
    "environment_version": "3"
   },
   "inputWidgetPreferences": null,
   "language": "python",
   "notebookMetadata": {
    "pythonIndentUnit": 4
   },
   "notebookName": "2.3-vector search retrieval tool",
   "widgets": {}
  },
  "language_info": {
   "name": "python"
  }
 },
 "nbformat": 4,
 "nbformat_minor": 0
}
