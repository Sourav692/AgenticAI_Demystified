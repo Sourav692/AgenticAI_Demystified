{
 "cells": [
  {
   "cell_type": "code",
   "execution_count": 0,
   "metadata": {
    "application/vnd.databricks.v1+cell": {
     "cellMetadata": {
      "byteLimit": 2048000,
      "rowLimit": 10000
     },
     "inputWidgets": {},
     "nuid": "7101d039-2175-4671-a2fb-7159543b5f7d",
     "showTitle": false,
     "tableResultSettingsMap": {},
     "title": ""
    }
   },
   "outputs": [],
   "source": [
    "1"
   ]
  },
  {
   "cell_type": "markdown",
   "metadata": {
    "application/vnd.databricks.v1+cell": {
     "cellMetadata": {
      "batchId": -7376512122275730,
      "byteLimit": 2048000,
      "rowLimit": 10000
     },
     "inputWidgets": {},
     "nuid": "e492abdd-641b-4589-ae3c-0aa9bb496d32",
     "showTitle": false,
     "tableResultSettingsMap": {},
     "title": ""
    }
   },
   "source": [
    "Create a research and summarization agent using LangGraph. The agent should process user queries by determining whether they require reasoning from an LLM, web research, or retrieval from a knowledge base. The agent should leverage multiple specialized sub-agents to generate well-structured responses.\n",
    "\n",
    "**The system should include:**\n",
    "- **Router Agent:**  \n",
    "  Determines whether a query should be answered using the LLM, web research, or retrieval-augmented generation (RAG).\n",
    "- **Web Research Agent:**  \n",
    "  If the query requires up-to-date information, this agent performs a web search and extracts relevant details.\n",
    "- **RAG Agent:**  \n",
    "  Handles queries related to a predefined dataset (e.g., any dataset that you have).\n",
    "- **Summarization Agent:**  \n",
    "  After gathering information, this agent synthesizes a final structured response."
   ]
  },
  {
   "cell_type": "code",
   "execution_count": 0,
   "metadata": {
    "application/vnd.databricks.v1+cell": {
     "cellMetadata": {
      "byteLimit": 2048000,
      "rowLimit": 10000
     },
     "inputWidgets": {},
     "nuid": "7228f291-7fd3-49b2-aed4-4bd694a9b404",
     "showTitle": false,
     "tableResultSettingsMap": {},
     "title": ""
    }
   },
   "outputs": [],
   "source": [
    "!pip install -q langchain==0.3.14\n",
    "!pip install -q langchain-openai==0.3.0\n",
    "!pip install -q langchain-community==0.3.14\n",
    "!pip install -q langgraph==0.2.64"
   ]
  },
  {
   "cell_type": "code",
   "execution_count": 0,
   "metadata": {
    "application/vnd.databricks.v1+cell": {
     "cellMetadata": {
      "byteLimit": 2048000,
      "rowLimit": 10000
     },
     "inputWidgets": {},
     "nuid": "a223cbfd-6f1f-4811-bc8a-3cae942f360e",
     "showTitle": false,
     "tableResultSettingsMap": {},
     "title": ""
    }
   },
   "outputs": [],
   "source": [
    "!pip install ddgs"
   ]
  },
  {
   "cell_type": "code",
   "execution_count": 0,
   "metadata": {
    "application/vnd.databricks.v1+cell": {
     "cellMetadata": {
      "byteLimit": 2048000,
      "rowLimit": 10000
     },
     "inputWidgets": {},
     "nuid": "96f47dc0-bd0e-4ab1-940b-6f677018137a",
     "showTitle": false,
     "tableResultSettingsMap": {},
     "title": ""
    }
   },
   "outputs": [],
   "source": [
    "!pip install -q langchain-chroma==0.2.0"
   ]
  },
  {
   "cell_type": "code",
   "execution_count": 0,
   "metadata": {
    "application/vnd.databricks.v1+cell": {
     "cellMetadata": {
      "byteLimit": 2048000,
      "rowLimit": 10000
     },
     "inputWidgets": {},
     "nuid": "1336d367-0f9e-475f-aa85-25cc883f5235",
     "showTitle": false,
     "tableResultSettingsMap": {},
     "title": ""
    }
   },
   "outputs": [],
   "source": [
    "dbutils.library.restartPython()"
   ]
  },
  {
   "cell_type": "code",
   "execution_count": 0,
   "metadata": {
    "application/vnd.databricks.v1+cell": {
     "cellMetadata": {
      "byteLimit": 2048000,
      "rowLimit": 10000
     },
     "inputWidgets": {},
     "nuid": "50f48403-4f06-4774-b353-9a181fac1b7a",
     "showTitle": false,
     "tableResultSettingsMap": {},
     "title": ""
    }
   },
   "outputs": [],
   "source": [
    "import os\n",
    "from typing import TypedDict, Annotated, List, Literal\n",
    "from datetime import datetime\n",
    "import operator\n",
    "\n",
    "# LangGraph and LangChain imports\n",
    "from langgraph.graph import StateGraph, END\n",
    "from langchain_openai import ChatOpenAI, OpenAIEmbeddings\n",
    "from langchain_community.document_loaders import TextLoader\n",
    "from langchain.text_splitter import RecursiveCharacterTextSplitter\n",
    "from langchain_core.messages import HumanMessage, SystemMessage\n",
    "from langchain_community.tools import DuckDuckGoSearchRun\n",
    "from langchain.tools import tool\n",
    "from langchain.docstore.document import Document\n",
    "from tqdm import tqdm\n",
    "import json\n",
    "from langchain_chroma import Chroma\n",
    "from ddgs import DDGS\n",
    "from langgraph.checkpoint.memory import MemorySaver\n",
    "# from langchain_chroma import Chroma"
   ]
  },
  {
   "cell_type": "code",
   "execution_count": 0,
   "metadata": {
    "application/vnd.databricks.v1+cell": {
     "cellMetadata": {
      "byteLimit": 2048000,
      "rowLimit": 10000
     },
     "inputWidgets": {},
     "nuid": "881eb865-cffa-42ad-8e22-1f1736c48e17",
     "showTitle": false,
     "tableResultSettingsMap": {},
     "title": ""
    }
   },
   "outputs": [],
   "source": [
    "# Disable OpenTelemetry if causing issues\n",
    "os.environ[\"OTEL_SDK_DISABLED\"] = \"true\""
   ]
  },
  {
   "cell_type": "code",
   "execution_count": 0,
   "metadata": {
    "application/vnd.databricks.v1+cell": {
     "cellMetadata": {
      "byteLimit": 2048000,
      "rowLimit": 10000
     },
     "inputWidgets": {},
     "nuid": "ee0f9e33-4191-4875-8038-4d48cd33c1de",
     "showTitle": false,
     "tableResultSettingsMap": {},
     "title": ""
    }
   },
   "outputs": [],
   "source": [
    "from getpass import getpass\n",
    "\n",
    "OPENAI_KEY = getpass('Enter Open AI API Key: ')"
   ]
  },
  {
   "cell_type": "code",
   "execution_count": 0,
   "metadata": {
    "application/vnd.databricks.v1+cell": {
     "cellMetadata": {
      "byteLimit": 2048000,
      "rowLimit": 10000
     },
     "inputWidgets": {},
     "nuid": "d0d511cf-bc6e-4a0b-bd23-7c71570d1403",
     "showTitle": false,
     "tableResultSettingsMap": {},
     "title": ""
    }
   },
   "outputs": [],
   "source": [
    "os.environ['OPENAI_API_KEY'] = OPENAI_KEY"
   ]
  },
  {
   "cell_type": "markdown",
   "metadata": {
    "application/vnd.databricks.v1+cell": {
     "cellMetadata": {
      "batchId": -7376512122275730,
      "byteLimit": 2048000,
      "rowLimit": 10000
     },
     "inputWidgets": {},
     "nuid": "270696bb-cb80-4d6c-b727-ecac2c609e2b",
     "showTitle": false,
     "tableResultSettingsMap": {},
     "title": ""
    }
   },
   "source": [
    "## State Definition"
   ]
  },
  {
   "cell_type": "code",
   "execution_count": 0,
   "metadata": {
    "application/vnd.databricks.v1+cell": {
     "cellMetadata": {
      "byteLimit": 2048000,
      "rowLimit": 10000
     },
     "inputWidgets": {},
     "nuid": "c0ae5bea-f080-4d42-b10b-1168a9313740",
     "showTitle": false,
     "tableResultSettingsMap": {},
     "title": ""
    }
   },
   "outputs": [],
   "source": [
    "class AgentState(TypedDict):\n",
    "    \"\"\"\n",
    "    Defines the state structure that flows through the agent graph.\n",
    "    \"\"\"\n",
    "    query: str\n",
    "    route_decision: str\n",
    "    web_results: str\n",
    "    rag_results: str\n",
    "    llm_response: str\n",
    "    final_summary: str\n",
    "    messages: Annotated[List[str], operator.add]\n",
    "    metadata: dict"
   ]
  },
  {
   "cell_type": "code",
   "execution_count": 0,
   "metadata": {
    "application/vnd.databricks.v1+cell": {
     "cellMetadata": {
      "byteLimit": 2048000,
      "rowLimit": 10000
     },
     "inputWidgets": {},
     "nuid": "34b043dc-4eda-411c-96ea-eea43a1064b8",
     "showTitle": false,
     "tableResultSettingsMap": {},
     "title": ""
    }
   },
   "outputs": [],
   "source": [
    "llm = ChatOpenAI(model=\"gpt-4o\", temperature=0)"
   ]
  },
  {
   "cell_type": "markdown",
   "metadata": {
    "application/vnd.databricks.v1+cell": {
     "cellMetadata": {
      "batchId": -7376512122275730,
      "byteLimit": 2048000,
      "rowLimit": 10000
     },
     "inputWidgets": {},
     "nuid": "fbeea45c-b461-46dd-8366-7ec2589ebbef",
     "showTitle": false,
     "tableResultSettingsMap": {},
     "title": ""
    }
   },
   "source": [
    "## Create Knowledge Base"
   ]
  },
  {
   "cell_type": "code",
   "execution_count": 0,
   "metadata": {
    "application/vnd.databricks.v1+cell": {
     "cellMetadata": {
      "byteLimit": 2048000,
      "rowLimit": 10000
     },
     "collapsed": true,
     "inputWidgets": {},
     "nuid": "85c1f964-8844-4ea2-a934-7199e11c6ffe",
     "showTitle": false,
     "tableResultSettingsMap": {},
     "title": ""
    }
   },
   "outputs": [],
   "source": [
    "# # restaurant_knowledge_base.py\n",
    "\n",
    "# \"\"\"\n",
    "# Food Factory Restaurant - Comprehensive Knowledge Base\n",
    "# A modern fine-dining establishment with industrial-chic ambiance\n",
    "# \"\"\"\n",
    "\n",
    "# FOOD_FACTORY_KNOWLEDGE_BASE = \"\"\"\n",
    "\n",
    "# === FOOD FACTORY - RESTAURANT OVERVIEW ===\n",
    "\n",
    "# Food Factory is a premium fine-dining restaurant located in the heart of downtown Bangalore, India. \n",
    "# Established in 2019, Food Factory combines industrial-chic aesthetics with culinary excellence, \n",
    "# offering a unique dining experience that celebrates both traditional and contemporary cuisine. \n",
    "# The restaurant is housed in a renovated 1950s textile factory, preserving the original brick walls, \n",
    "# exposed metal beams, and vintage machinery while incorporating modern luxury elements.\n",
    "\n",
    "# The restaurant spans 8,500 square feet across two levels, accommodating up to 120 guests in the main \n",
    "# dining area, with an additional private dining room for 24 guests and a rooftop bar that seats 40. \n",
    "# Food Factory has earned numerous accolades, including the Bangalore Fine Dining Award 2023, \n",
    "# recognition in India's Top 50 Restaurants 2024, and a prestigious AA Rosette for culinary excellence.\n",
    "\n",
    "\n",
    "# === CULINARY PHILOSOPHY ===\n",
    "\n",
    "# Food Factory's culinary philosophy centers on \"Industrial Craftsmanship\" - the meticulous transformation \n",
    "# of premium ingredients into edible art. Executive Chef Arjun Mehta, a Le Cordon Bleu graduate with \n",
    "# 15 years of international experience, leads a team of 12 skilled chefs who specialize in Modern Indian \n",
    "# Fusion cuisine with global influences.\n",
    "\n",
    "# The restaurant's approach emphasizes:\n",
    "# - Farm-to-table sourcing from local organic farms within 100 kilometers\n",
    "# - Seasonal menu rotations every quarter to showcase fresh, peak-season ingredients\n",
    "# - Molecular gastronomy techniques blended with traditional Indian cooking methods\n",
    "# - Zero-waste kitchen practices with comprehensive composting and recycling programs\n",
    "# - Artisanal preparation methods including in-house curing, smoking, and fermentation\n",
    "\n",
    "\n",
    "# === SIGNATURE DISHES ===\n",
    "\n",
    "# **Deconstructed Biryani Cloud**\n",
    "# Price: ₹1,850\n",
    "# A theatrical presentation of traditional Hyderabadi biryani reimagined. Slow-cooked lamb is served \n",
    "# with saffron-infused basmati rice air, crispy onion tuile, and a side of concentrated biryani essence. \n",
    "# The dish is finished tableside with aromatic smoke from burning bay leaves and cinnamon. \n",
    "# Preparation time: 48 hours for lamb marination and slow cooking.\n",
    "\n",
    "# **Tandoori Octopus with Black Garlic Aioli**\n",
    "# Price: ₹2,150\n",
    "# Spanish octopus marinated in traditional tandoori spices, sous-vide for 4 hours, then charred in \n",
    "# the tandoor oven. Served with black garlic aioli, pickled radish, and microgreens. The dish showcases \n",
    "# the perfect marriage of Mediterranean seafood and Indian spice profiles.\n",
    "\n",
    "# **Truffle Butter Chicken Ravioli**\n",
    "# Price: ₹1,650\n",
    "# House-made pasta filled with butter chicken reduction, topped with white truffle shavings, served \n",
    "# in a tomato-cream velouté. This dish represents Chef Arjun's signature fusion style, combining \n",
    "# Italian pasta-making techniques with India's most beloved curry.\n",
    "\n",
    "# **Molecular Pani Puri Experience**\n",
    "# Price: ₹950\n",
    "# An innovative take on India's favorite street food. Six spherified pani puri waters in different \n",
    "# flavors (tamarind, mint, pomegranate, mango, jaljeera, and chocolate) served with crispy semolina \n",
    "# spheres and potato-chickpea filling. Each sphere bursts with flavor when consumed.\n",
    "\n",
    "# **Miso-Glazed Tandoori Salmon**\n",
    "# Price: ₹2,450\n",
    "# Norwegian salmon marinated in white miso paste and tandoori spices, cooked in the tandoor, and \n",
    "# glazed with honey-miso reduction. Served with wasabi mashed potatoes and sautéed bok choy.\n",
    "\n",
    "# **Saffron Panna Cotta with Rose Jalebi**\n",
    "# Price: ₹750\n",
    "# Silky saffron-infused Italian panna cotta topped with miniature rose-flavored jalebis, crushed \n",
    "# pistachios, and edible gold leaf. A perfect blend of Italian and Indian dessert traditions.\n",
    "\n",
    "\n",
    "# === BEVERAGE PROGRAM ===\n",
    "\n",
    "# Food Factory boasts an extensive beverage program curated by Master Sommelier Priya Sharma, \n",
    "# featuring over 300 wine labels from 15 countries, with a special focus on Indian wines from \n",
    "# Nashik and Bangalore regions.\n",
    "\n",
    "# **Wine Collection:**\n",
    "# - 120 Old World wines (France, Italy, Spain, Germany)\n",
    "# - 100 New World wines (California, Australia, Chile, South Africa)\n",
    "# - 80 Indian wines featuring boutique wineries\n",
    "# - Temperature-controlled wine cellar maintaining optimal 55°F (13°C)\n",
    "# - Wine pairing menus available for 5-course and 7-course tasting menus\n",
    "\n",
    "# **Craft Cocktails:**\n",
    "# The bar program features 25 signature cocktails created by mixologist Rohan Desai, each inspired \n",
    "# by Indian spices and ingredients:\n",
    "\n",
    "# *Masala Old Fashioned* (₹850): Bourbon infused with cardamom and star anise, orange bitters, \n",
    "# demerara syrup, garnished with torched cinnamon stick.\n",
    "\n",
    "# *Curry Leaf Martini* (₹800): Gin infused with curry leaves, dry vermouth, green chili tincture, \n",
    "# garnished with fresh curry leaf.\n",
    "\n",
    "# *Saffron Negroni* (₹900): Saffron-infused gin, Campari, sweet vermouth, orange twist.\n",
    "\n",
    "# *Tamarind Margarita* (₹750): Tequila, tamarind concentrate, lime juice, chili salt rim.\n",
    "\n",
    "# **Non-Alcoholic Program:**\n",
    "# 15 house-made mocktails, fresh-pressed juices, and artisanal sodas, all priced between ₹350-₹550.\n",
    "\n",
    "\n",
    "# === DINING EXPERIENCES ===\n",
    "\n",
    "# **Chef's Table Experience**\n",
    "# Price: ₹8,500 per person (minimum 2 guests, maximum 6 guests)\n",
    "# An exclusive 10-course tasting menu served at the kitchen counter, with each course personally \n",
    "# presented by Chef Arjun. Includes wine pairing, behind-the-scenes kitchen tour, and personalized \n",
    "# menu card signed by the chef. Duration: approximately 3.5 hours. Advance reservation required \n",
    "# (minimum 48 hours notice).\n",
    "\n",
    "# **Tasting Menu - The Factory Journey**\n",
    "# 5-Course Menu: ₹3,500 per person\n",
    "# 7-Course Menu: ₹4,800 per person\n",
    "# Wine Pairing: Additional ₹2,200 (5-course) or ₹3,200 (7-course)\n",
    "\n",
    "# **Sunday Brunch**\n",
    "# Time: 11:00 AM - 3:30 PM\n",
    "# Price: ₹2,800 per person (includes unlimited mocktails)\n",
    "# Price with alcohol: ₹3,800 per person (includes unlimited cocktails, wine, and beer)\n",
    "# Features live cooking stations, seafood bar, dessert station, and live jazz music.\n",
    "\n",
    "# **Private Dining Room**\n",
    "# Capacity: 8-24 guests\n",
    "# Rental: ₹25,000 (includes room setup, dedicated service staff)\n",
    "# Customizable menus starting at ₹4,000 per person\n",
    "# Ideal for corporate events, celebrations, and intimate gatherings.\n",
    "\n",
    "\n",
    "# === AMBIANCE AND DESIGN ===\n",
    "\n",
    "# Food Factory's interior design, created by renowned architect Kavita Patel, celebrates the building's \n",
    "# industrial heritage while incorporating contemporary luxury. Key design elements include:\n",
    "\n",
    "# - Original exposed brick walls from the 1950s textile factory\n",
    "# - Vintage industrial pendant lighting throughout the space\n",
    "# - Custom-made tables crafted from reclaimed factory machinery\n",
    "# - Open kitchen design allowing guests to observe culinary artistry\n",
    "# - Floor-to-ceiling windows providing natural light during daytime\n",
    "# - Curated art collection featuring local Bangalore artists\n",
    "# - Acoustic design ensuring comfortable conversation despite high ceilings\n",
    "# - Climate-controlled environment maintaining 22°C (72°F) year-round\n",
    "\n",
    "# The rooftop bar, named \"The Smokehouse,\" features:\n",
    "# - Retractable glass roof for all-weather dining\n",
    "# - Vertical herb garden supplying fresh herbs for cocktails\n",
    "# - Wood-fired pizza oven for bar menu items\n",
    "# - Panoramic views of Bangalore's skyline\n",
    "# - DJ booth for weekend entertainment (Friday and Saturday, 8 PM - 12 AM)\n",
    "\n",
    "\n",
    "# === OPERATIONAL DETAILS ===\n",
    "\n",
    "# **Location and Contact:**\n",
    "# Address: 42 Industrial Avenue, Indiranagar, Bangalore, Karnataka 560038, India\n",
    "# Phone: +91-80-4567-8900\n",
    "# Email: reservations@foodfactory.in\n",
    "# Website: www.foodfactory.in\n",
    "\n",
    "# **Operating Hours:**\n",
    "# Monday - Thursday: 6:00 PM - 11:30 PM (Last order 10:45 PM)\n",
    "# Friday - Saturday: 6:00 PM - 12:30 AM (Last order 11:45 PM)\n",
    "# Sunday: 11:00 AM - 3:30 PM (Brunch), 6:00 PM - 11:00 PM (Dinner)\n",
    "# Closed: Second Monday of every month for staff training\n",
    "\n",
    "# **Reservation Policy:**\n",
    "# - Reservations highly recommended, especially for weekends\n",
    "# - Online booking available through website and OpenTable\n",
    "# - Phone reservations accepted during business hours\n",
    "# - Cancellation policy: 24-hour advance notice required\n",
    "# - No-show fee: ₹1,000 per person for dinner reservations\n",
    "# - Special occasions: Notify restaurant for birthday/anniversary celebrations\n",
    "\n",
    "# **Dress Code:**\n",
    "# Smart casual to formal attire. No shorts, flip-flops, or sleeveless shirts for gentlemen.\n",
    "# Jackets not required but recommended for fine-dining experience.\n",
    "\n",
    "# **Payment and Pricing:**\n",
    "# - Average per person cost: ₹3,500 - ₹5,000 (excluding alcohol)\n",
    "# - All major credit cards accepted (Visa, Mastercard, American Express)\n",
    "# - Digital payments: Paytm, Google Pay, PhonePe accepted\n",
    "# - Service charge: 10% added to bill\n",
    "# - GST: 5% on food, 18% on alcohol (as per Indian tax regulations)\n",
    "# - Gratuity: Not included, at guest's discretion\n",
    "\n",
    "\n",
    "# === TEAM AND LEADERSHIP ===\n",
    "\n",
    "# **Executive Chef Arjun Mehta**\n",
    "# Le Cordon Bleu Paris graduate, previously worked at Noma (Copenhagen), Gaggan (Bangkok), and \n",
    "# Indian Accent (New Delhi). Specializes in Modern Indian Fusion cuisine with molecular gastronomy \n",
    "# techniques. Winner of Young Chef of the Year Award 2022.\n",
    "\n",
    "# **Sous Chef Meera Krishnan**\n",
    "# 15 years of experience in fine dining, trained at Culinary Institute of America. Oversees kitchen \n",
    "# operations and menu development. Expert in South Indian cuisine and vegetarian preparations.\n",
    "\n",
    "# **Pastry Chef François Dubois**\n",
    "# French-trained pastry chef with 12 years of experience. Previously worked at Le Bernardin (New York) \n",
    "# and Eleven Madison Park. Specializes in French-Indian fusion desserts.\n",
    "\n",
    "# **Master Sommelier Priya Sharma**\n",
    "# India's youngest female Master Sommelier, certified by Court of Master Sommeliers. Curates wine \n",
    "# list and conducts monthly wine tasting events. Expert in Indian wine industry.\n",
    "\n",
    "# **General Manager Vikram Patel**\n",
    "# 20 years of hospitality experience, including positions at Taj Hotels and Oberoi Group. \n",
    "# Oversees all front-of-house operations and guest experience.\n",
    "\n",
    "\n",
    "# === SUSTAINABILITY INITIATIVES ===\n",
    "\n",
    "# Food Factory is committed to environmental responsibility and sustainable practices:\n",
    "\n",
    "# **Sourcing:**\n",
    "# - 80% of ingredients sourced from local farms within 100 km radius\n",
    "# - Direct partnerships with 25 organic farmers\n",
    "# - Seasonal menu changes to reduce carbon footprint\n",
    "# - Sustainable seafood certified by Marine Stewardship Council\n",
    "# - Antibiotic-free meats from certified humane farms\n",
    "\n",
    "# **Waste Management:**\n",
    "# - Zero-waste kitchen policy with 95% waste diversion rate\n",
    "# - Composting program processing 200 kg of organic waste monthly\n",
    "# - Partnership with local urban farms for compost distribution\n",
    "# - Food donation program with Feeding India NGO\n",
    "# - Recycling program for glass, plastic, and metal\n",
    "\n",
    "# **Energy and Water:**\n",
    "# - Solar panels providing 40% of restaurant's energy needs\n",
    "# - LED lighting throughout the facility\n",
    "# - Water-efficient dishwashing and kitchen equipment\n",
    "# - Rainwater harvesting system for landscaping irrigation\n",
    "# - Energy-efficient HVAC system with smart temperature control\n",
    "\n",
    "\n",
    "# === SPECIAL EVENTS AND PROGRAMS ===\n",
    "\n",
    "# **Monthly Wine Dinners**\n",
    "# First Thursday of every month, 7:00 PM\n",
    "# Price: ₹4,500 per person\n",
    "# Features guest winemakers, sommelier-led tastings, and specially paired 5-course menu.\n",
    "\n",
    "# **Cooking Classes**\n",
    "# Held every Saturday, 3:00 PM - 6:00 PM\n",
    "# Price: ₹5,500 per person (includes recipes, ingredients, and dinner)\n",
    "# Limited to 8 participants per class\n",
    "# Learn to prepare three signature dishes with Chef Arjun or Sous Chef Meera.\n",
    "\n",
    "# **Corporate Events and Buyouts**\n",
    "# Full restaurant buyout: ₹5,00,000 (includes venue, basic setup, service staff)\n",
    "# Capacity: 120 guests for seated dinner, 180 for cocktail reception\n",
    "# Customizable menus and beverage packages available\n",
    "# Dedicated event coordinator assigned for planning.\n",
    "\n",
    "# **Seasonal Festivals**\n",
    "# - Truffle Festival (October-November): Special truffle-focused menu\n",
    "# - Monsoon Menu (June-September): Comfort food and regional specialties\n",
    "# - Summer Grilling Series (March-May): Outdoor barbecue and grilled specialties\n",
    "# - Holiday Season (December): Special festive menu and decorations\n",
    "\n",
    "\n",
    "# === AWARDS AND RECOGNITION ===\n",
    "\n",
    "# - Bangalore Fine Dining Award 2023 - Winner\n",
    "# - India's Top 50 Restaurants 2024 - Ranked #17\n",
    "# - AA Rosette for Culinary Excellence 2023\n",
    "# - Best Wine Program in Bangalore 2023 - Sommelier India Awards\n",
    "# - Sustainable Restaurant Award 2024 - Green Restaurant Association\n",
    "# - TripAdvisor Travelers' Choice Award 2023, 2024\n",
    "# - OpenTable Diners' Choice Award 2023, 2024\n",
    "# - Featured in Condé Nast Traveler India - Best New Restaurants 2020\n",
    "# - Featured in Food & Wine Magazine - Restaurants to Watch 2021\n",
    "# - Chef Arjun Mehta - Young Chef of the Year 2022\n",
    "\n",
    "\n",
    "# === CUSTOMER REVIEWS AND TESTIMONIALS ===\n",
    "\n",
    "# \"Food Factory is not just a meal, it's an experience. The Deconstructed Biryani Cloud was the most \n",
    "# innovative dish I've had in years. The theatrical presentation and explosive flavors make this a \n",
    "# must-visit for any food enthusiast.\" - Rajeev Masand, Food Critic, Times of India\n",
    "\n",
    "# \"The Chef's Table experience at Food Factory exceeded all expectations. Chef Arjun's passion for \n",
    "# food and his innovative approach to Indian cuisine is truly remarkable. Every course was a masterpiece.\" \n",
    "# - Anjali Verma, Verified OpenTable Diner\n",
    "\n",
    "# \"Exceptional wine program curated by Sommelier Priya. Her recommendations were spot-on, and the \n",
    "# pairing elevated our dining experience to another level. The Saffron Panna Cotta was divine!\" \n",
    "# - Michael Thompson, Wine Enthusiast\n",
    "\n",
    "# Average ratings:\n",
    "# - Google Reviews: 4.7/5 (based on 1,245 reviews)\n",
    "# - TripAdvisor: 4.5/5 (based on 892 reviews)\n",
    "# - Zomato: 4.6/5 (based on 2,156 reviews)\n",
    "# - OpenTable: 4.8/5 (based on 678 reviews)\n",
    "\n",
    "\n",
    "# === FREQUENTLY ASKED QUESTIONS ===\n",
    "\n",
    "# **Q: Do you accommodate dietary restrictions?**\n",
    "# A: Yes, Food Factory accommodates all dietary restrictions including vegetarian, vegan, gluten-free, \n",
    "# dairy-free, nut allergies, and religious dietary requirements. Please inform us at the time of \n",
    "# reservation, and our chefs will prepare customized dishes.\n",
    "\n",
    "# **Q: Is there parking available?**\n",
    "# A: Yes, we offer complimentary valet parking for all guests. We also have a covered parking structure \n",
    "# with 50 spaces available on a first-come, first-served basis.\n",
    "\n",
    "# **Q: Can I bring my own wine?**\n",
    "# A: Yes, corkage fee is ₹1,500 per bottle (750ml) with a maximum of 2 bottles per table. \n",
    "# Not applicable on bottles already available in our wine list.\n",
    "\n",
    "# **Q: Do you have a children's menu?**\n",
    "# A: Yes, we offer a special children's menu for guests aged 12 and under, featuring kid-friendly \n",
    "# versions of our signature dishes, priced between ₹450-₹750 per dish.\n",
    "\n",
    "# **Q: Is the restaurant wheelchair accessible?**\n",
    "# A: Yes, Food Factory is fully wheelchair accessible with ramps, accessible restrooms, and \n",
    "# designated seating areas. Please inform us at reservation if you require special accommodations.\n",
    "\n",
    "# **Q: Do you offer gift cards?**\n",
    "# A: Yes, gift cards are available in denominations of ₹2,000, ₹5,000, and ₹10,000. They can be \n",
    "# purchased online or at the restaurant and are valid for 12 months from the date of purchase.\n",
    "\n",
    "# **Q: Can I host a private event at Food Factory?**\n",
    "# A: Yes, we have a private dining room that accommodates 8-24 guests, and we also offer full \n",
    "# restaurant buyouts for larger events. Please contact our events team at events@foodfactory.in \n",
    "# for more information.\n",
    "\n",
    "# **Q: Do you take walk-ins?**\n",
    "# A: While we accept walk-ins based on availability, we highly recommend making a reservation, \n",
    "# especially for weekend dining, as we often operate at full capacity.\n",
    "\n",
    "\n",
    "# === CONTACT INFORMATION FOR SPECIFIC INQUIRIES ===\n",
    "\n",
    "# General Reservations: reservations@foodfactory.in | +91-80-4567-8900\n",
    "# Private Events: events@foodfactory.in | +91-80-4567-8901\n",
    "# Chef's Table Bookings: chefstable@foodfactory.in | +91-80-4567-8902\n",
    "# Corporate Inquiries: corporate@foodfactory.in | +91-80-4567-8903\n",
    "# Press and Media: media@foodfactory.in | +91-80-4567-8904\n",
    "# Gift Cards: giftcards@foodfactory.in | +91-80-4567-8905\n",
    "\n",
    "# Social Media:\n",
    "# Instagram: @foodfactory_bangalore (125K followers)\n",
    "# Facebook: facebook.com/foodfactorybangalore (85K likes)\n",
    "# Twitter: @FoodFactoryBLR (42K followers)\n",
    "# YouTube: Food Factory Bangalore (cooking videos and behind-the-scenes content)\n",
    "\n",
    "# \"\"\"\n",
    "\n",
    "# # Additional structured data for enhanced RAG responses\n",
    "# MENU_DATA = {\n",
    "#     \"appetizers\": [\n",
    "#         {\n",
    "#             \"name\": \"Molecular Pani Puri Experience\",\n",
    "#             \"price\": 950,\n",
    "#             \"category\": \"Vegetarian\",\n",
    "#             \"description\": \"Six spherified pani puri waters with crispy semolina spheres\",\n",
    "#             \"preparation_time\": \"15 minutes\",\n",
    "#             \"allergens\": [\"gluten\", \"chickpeas\"]\n",
    "#         },\n",
    "#         {\n",
    "#             \"name\": \"Tandoori Octopus with Black Garlic Aioli\",\n",
    "#             \"price\": 2150,\n",
    "#             \"category\": \"Seafood\",\n",
    "#             \"description\": \"Spanish octopus marinated in tandoori spices, charred in tandoor\",\n",
    "#             \"preparation_time\": \"4+ hours\",\n",
    "#             \"allergens\": [\"seafood\", \"garlic\"]\n",
    "#         },\n",
    "#         {\n",
    "#             \"name\": \"Truffle Burrata with Beetroot Carpaccio\",\n",
    "#             \"price\": 1450,\n",
    "#             \"category\": \"Vegetarian\",\n",
    "#             \"description\": \"Imported burrata cheese with truffle oil and roasted beetroot\",\n",
    "#             \"preparation_time\": \"10 minutes\",\n",
    "#             \"allergens\": [\"dairy\"]\n",
    "#         }\n",
    "#     ],\n",
    "#     \"main_courses\": [\n",
    "#         {\n",
    "#             \"name\": \"Deconstructed Biryani Cloud\",\n",
    "#             \"price\": 1850,\n",
    "#             \"category\": \"Lamb\",\n",
    "#             \"description\": \"Slow-cooked lamb with saffron rice air and biryani essence\",\n",
    "#             \"preparation_time\": \"48 hours\",\n",
    "#             \"allergens\": [\"none\"]\n",
    "#         },\n",
    "#         {\n",
    "#             \"name\": \"Truffle Butter Chicken Ravioli\",\n",
    "#             \"price\": 1650,\n",
    "#             \"category\": \"Poultry\",\n",
    "#             \"description\": \"House-made pasta with butter chicken filling and truffle\",\n",
    "#             \"preparation_time\": \"2 hours\",\n",
    "#             \"allergens\": [\"gluten\", \"dairy\", \"eggs\"]\n",
    "#         },\n",
    "#         {\n",
    "#             \"name\": \"Miso-Glazed Tandoori Salmon\",\n",
    "#             \"price\": 2450,\n",
    "#             \"category\": \"Seafood\",\n",
    "#             \"description\": \"Norwegian salmon with miso-tandoori marinade\",\n",
    "#             \"preparation_time\": \"45 minutes\",\n",
    "#             \"allergens\": [\"seafood\", \"soy\"]\n",
    "#         }\n",
    "#     ],\n",
    "#     \"desserts\": [\n",
    "#         {\n",
    "#             \"name\": \"Saffron Panna Cotta with Rose Jalebi\",\n",
    "#             \"price\": 750,\n",
    "#             \"category\": \"Dessert\",\n",
    "#             \"description\": \"Italian panna cotta with Indian jalebi fusion\",\n",
    "#             \"preparation_time\": \"4+ hours\",\n",
    "#             \"allergens\": [\"dairy\"]\n",
    "#         },\n",
    "#         {\n",
    "#             \"name\": \"Chocolate Samosa with Vanilla Ice Cream\",\n",
    "#             \"price\": 650,\n",
    "#             \"category\": \"Dessert\",\n",
    "#             \"description\": \"Crispy chocolate-filled samosa with house-made ice cream\",\n",
    "#             \"preparation_time\": \"20 minutes\",\n",
    "#             \"allergens\": [\"gluten\", \"dairy\", \"nuts\"]\n",
    "#         }\n",
    "#     ]\n",
    "# }\n",
    "\n",
    "# RESERVATION_INFO = {\n",
    "#     \"peak_hours\": [\"Friday 7-9 PM\", \"Saturday 7-9 PM\", \"Sunday Brunch 12-2 PM\"],\n",
    "#     \"advance_booking_recommended\": \"2-3 weeks for weekends, 1 week for weekdays\",\n",
    "#     \"cancellation_policy\": \"24 hours notice required\",\n",
    "#     \"deposit_required\": \"For groups of 8 or more: ₹1,000 per person\",\n",
    "#     \"special_occasions\": \"Complimentary dessert for birthdays/anniversaries with advance notice\"\n",
    "# }\n",
    "\n"
   ]
  },
  {
   "cell_type": "code",
   "execution_count": 0,
   "metadata": {
    "application/vnd.databricks.v1+cell": {
     "cellMetadata": {
      "byteLimit": 2048000,
      "rowLimit": 10000
     },
     "inputWidgets": {},
     "nuid": "06fb611e-4933-488a-bd4c-0637f068a1a3",
     "showTitle": false,
     "tableResultSettingsMap": {},
     "title": ""
    }
   },
   "outputs": [],
   "source": [
    "# # def create_food_factory_vectorstore():\n",
    "# \"\"\"\n",
    "# Creates a vector store specifically for Food Factory restaurant data\n",
    "# \"\"\"\n",
    "\n",
    "# # Combine all knowledge base content\n",
    "# full_content = FOOD_FACTORY_KNOWLEDGE_BASE\n",
    "\n",
    "# # Add structured data as formatted text\n",
    "# full_content += \"\\n\\n=== MENU DATA (STRUCTURED) ===\\n\"\n",
    "# full_content += json.dumps(MENU_DATA, indent=2)\n",
    "\n",
    "# full_content += \"\\n\\n=== RESERVATION INFORMATION (STRUCTURED) ===\\n\"\n",
    "# full_content += json.dumps(RESERVATION_INFO, indent=2)\n",
    "\n",
    "# # Split into chunks\n",
    "# text_splitter = RecursiveCharacterTextSplitter(\n",
    "#     chunk_size=1000,\n",
    "#     chunk_overlap=150,\n",
    "#     length_function=len,\n",
    "#     separators=[\"\\n\\n===\", \"\\n\\n\", \"\\n\", \" \", \"\"]\n",
    "# )\n",
    "\n",
    "# chunks = text_splitter.split_text(full_content)\n",
    "\n",
    "# print(f\"Created {len(chunks)} chunks from Food Factory knowledge base\")\n",
    "\n",
    "# # Create embeddings and vector store\n",
    "# embeddings = OpenAIEmbeddings(model='text-embedding-3-small')\n",
    "# # vectorstore = FAISS.from_texts(chunks, embeddings)\n",
    "\n",
    "# vectorstore = Chroma.from_texts(texts=chunks,\n",
    "#                                 collection_name='knowledge_base',\n",
    "#                                 embedding=embeddings,\n",
    "#                                 # need to set the distance function to cosine else it uses euclidean by default\n",
    "#                                 # check https://docs.trychroma.com/guides#changing-the-distance-function\n",
    "#                                 collection_metadata={\"hnsw:space\": \"cosine\"},\n",
    "#                                 persist_directory=\"./databricks_knowledge_base\")\n",
    "\n",
    "# # Save for later use\n",
    "# # vectorstore.save_local(\"./food_factory_vectorstore\")\n",
    "\n",
    "# # print(\"Food Factory vector store created and saved successfully!\")\n",
    "\n",
    "# # return vectorstore"
   ]
  },
  {
   "cell_type": "markdown",
   "metadata": {
    "application/vnd.databricks.v1+cell": {
     "cellMetadata": {
      "batchId": -7376512122275730,
      "byteLimit": 2048000,
      "rowLimit": 10000
     },
     "inputWidgets": {},
     "nuid": "8f281837-bfc1-4977-a80e-727d674acba1",
     "showTitle": false,
     "tableResultSettingsMap": {},
     "title": ""
    }
   },
   "source": [
    "## Create RAG Agent"
   ]
  },
  {
   "cell_type": "code",
   "execution_count": 0,
   "metadata": {
    "application/vnd.databricks.v1+cell": {
     "cellMetadata": {
      "byteLimit": 2048000,
      "rowLimit": 10000
     },
     "inputWidgets": {},
     "nuid": "6dbb8470-7cc7-4b42-8433-9aba6f52c700",
     "showTitle": false,
     "tableResultSettingsMap": {},
     "title": ""
    }
   },
   "outputs": [],
   "source": [
    "def restaurant_rag_agent(state: AgentState) -> AgentState:\n",
    "    \"\"\"\n",
    "    Restaurant-specific RAG Agent using ChromaDB\n",
    "    \"\"\"\n",
    "\n",
    "    query = state[\"query\"]\n",
    "    try:\n",
    "        embeddings = OpenAIEmbeddings(model='text-embedding-3-small')\n",
    "        vs = Chroma(\n",
    "            collection_name='knowledge_base',\n",
    "            embedding_function=embeddings,\n",
    "            persist_directory=\"./databricks_knowledge_base\"\n",
    "        )\n",
    "        vectorSearch = vs.as_retriever(search_type=\"similarity_score_threshold\",\n",
    "                                            search_kwargs={\"k\": 3, \"score_threshold\": 0.2})\n",
    "\n",
    "        relevant_docs = vectorSearch.invoke(query)\n",
    "        # result = vs.similarity_search(query)\n",
    "\n",
    "        if not relevant_docs:\n",
    "            state[\"rag_results\"] = \"I apologize, but I couldn't find relevant information in our knowledge base to answer your query. Please contact the restaurant directly at +91-80-4567-8900 or reservations@foodfactory.in for assistance.\"\n",
    "            state[\"messages\"].append(\"No relevant documents found\")\n",
    "            state[\"metadata\"][\"rag_docs_count\"] = 0\n",
    "            state[\"metadata\"][\"rag_timestamp\"] = datetime.now().isoformat()\n",
    "            print(\"⚠️ No relevant documents found\")\n",
    "            return state    \n",
    "\n",
    "\n",
    "        # Combine retrieved documents\n",
    "        context = \"\\n\\n\".join([doc.page_content for doc in relevant_docs])\n",
    "\n",
    "        # Enhanced prompt for restaurant queries\n",
    "        rag_prompt = f\"\"\"\n",
    "        You are a knowledgeable assistant for Food Factory, a fine-dining restaurant in Bangalore.\n",
    "        Using the following information from the restaurant's knowledge base, provide a comprehensive \n",
    "        and helpful answer to the customer's query.\n",
    "\n",
    "        Context from Food Factory Knowledge Base:\n",
    "        {context}\n",
    "\n",
    "        Customer Query: {query}\n",
    "\n",
    "        Provide a detailed, friendly, and professional response that:\n",
    "        1. Directly answers the customer's question\n",
    "        2. Includes specific details like prices, times, or requirements when relevant\n",
    "        3. Suggests related information that might be helpful\n",
    "        4. Maintains a welcoming and enthusiastic tone about the restaurant\n",
    "        5. Includes contact information or booking instructions when appropriate\n",
    "\n",
    "        If the context doesn't contain enough information to fully answer the query, \n",
    "        mention what is available and suggest contacting the restaurant directly.\n",
    "        \"\"\"\n",
    "        messages = [\n",
    "                    SystemMessage(content=\"You are a helpful Food Factory restaurant assistant.\"),\n",
    "                    HumanMessage(content=rag_prompt)\n",
    "                ]\n",
    "                \n",
    "        response = llm.invoke(messages)\n",
    "        rag_answer = response.content\n",
    "        state[\"rag_results\"] = rag_answer\n",
    "        state[\"messages\"].append(f\"Restaurant RAG retrieval: {len(relevant_docs)} documents\")\n",
    "        if \"metadata\" not in state or state[\"metadata\"] is None:\n",
    "            state[\"metadata\"] = {}\n",
    "        state[\"metadata\"][\"rag_docs_count\"] = len(relevant_docs)\n",
    "        state[\"metadata\"][\"rag_timestamp\"] = datetime.now().isoformat()\n",
    "        \n",
    "        print(f\"✅ Restaurant information retrieved: {len(relevant_docs)} documents\")\n",
    "        \n",
    "    except Exception as e:\n",
    "        import traceback\n",
    "        error_msg = f\"Restaurant RAG error: {str(e)}\"\n",
    "        error_details = traceback.format_exc()\n",
    "        \n",
    "        state[\"rag_results\"] = f\"I apologize, but I encountered an error while retrieving information. Please try again or contact us directly.\"\n",
    "        state[\"messages\"].append(error_msg)\n",
    "        \n",
    "        # Safely update metadata\n",
    "        if \"metadata\" not in state or state[\"metadata\"] is None:\n",
    "            state[\"metadata\"] = {}\n",
    "        \n",
    "        state[\"metadata\"][\"error\"] = error_msg\n",
    "        state[\"metadata\"][\"error_timestamp\"] = datetime.now().isoformat()\n",
    "        \n",
    "        print(f\"❌ {error_msg}\")\n",
    "        print(f\"Details: {error_details}\")\n",
    "    \n",
    "    return state"
   ]
  },
  {
   "cell_type": "code",
   "execution_count": 0,
   "metadata": {
    "application/vnd.databricks.v1+cell": {
     "cellMetadata": {
      "byteLimit": 2048000,
      "rowLimit": 10000
     },
     "inputWidgets": {},
     "nuid": "b6f7cecd-e0f0-4919-adb2-8e097ce6478d",
     "showTitle": false,
     "tableResultSettingsMap": {},
     "title": ""
    }
   },
   "outputs": [],
   "source": [
    "1"
   ]
  },
  {
   "cell_type": "code",
   "execution_count": 0,
   "metadata": {
    "application/vnd.databricks.v1+cell": {
     "cellMetadata": {
      "byteLimit": 2048000,
      "rowLimit": 10000
     },
     "inputWidgets": {},
     "nuid": "2c3792bd-0d1f-4221-8ad9-ce2a83737a95",
     "showTitle": false,
     "tableResultSettingsMap": {},
     "title": ""
    }
   },
   "outputs": [],
   "source": [
    "# Initialize the graph\n",
    "workflow = StateGraph(AgentState)\n",
    "\n",
    "# Add nodes for each agent\n",
    "workflow.add_node(\"rag_agent\", restaurant_rag_agent)\n",
    "\n",
    "workflow.add_edge(\"rag_agent\", END)\n",
    "\n",
    "# Set entry point\n",
    "workflow.set_entry_point(\"rag_agent\")\n",
    "\n",
    "# Compile the graph\n",
    "agent = workflow.compile()"
   ]
  },
  {
   "cell_type": "code",
   "execution_count": 0,
   "metadata": {
    "application/vnd.databricks.v1+cell": {
     "cellMetadata": {
      "byteLimit": 2048000,
      "rowLimit": 10000
     },
     "inputWidgets": {},
     "nuid": "fd937142-e922-4180-a741-adf6000c7915",
     "showTitle": false,
     "tableResultSettingsMap": {},
     "title": ""
    }
   },
   "outputs": [],
   "source": [
    "from IPython.display import display, Image, Markdown\n",
    "\n",
    "display(Image(agent.get_graph().draw_mermaid_png()))"
   ]
  },
  {
   "cell_type": "code",
   "execution_count": 0,
   "metadata": {
    "application/vnd.databricks.v1+cell": {
     "cellMetadata": {
      "byteLimit": 2048000,
      "rowLimit": 10000
     },
     "inputWidgets": {},
     "nuid": "2160374a-fcde-462b-b7fa-cba45a81db5c",
     "showTitle": false,
     "tableResultSettingsMap": {},
     "title": ""
    }
   },
   "outputs": [],
   "source": [
    "def call_agent(agent, prompt, user_session_id, verbose=False):\n",
    "    events = agent.stream(\n",
    "        {\"query\": prompt}, # initial state of the agent\n",
    "        {\"configurable\": {\"thread_id\": user_session_id}},\n",
    "        stream_mode=\"values\",\n",
    "    )\n",
    "\n",
    "    print('Running Agent. Please wait...')\n",
    "    for event in events:\n",
    "        if verbose:\n",
    "                print(event)\n",
    "\n",
    "    display(Markdown(event['rag_results']))"
   ]
  },
  {
   "cell_type": "code",
   "execution_count": 0,
   "metadata": {
    "application/vnd.databricks.v1+cell": {
     "cellMetadata": {
      "byteLimit": 2048000,
      "rowLimit": 10000
     },
     "inputWidgets": {},
     "nuid": "d9bff4c5-31f6-4f76-987e-6868c8d9bd38",
     "showTitle": false,
     "tableResultSettingsMap": {},
     "title": ""
    }
   },
   "outputs": [],
   "source": [
    "user_session_id = \"u01\"\n",
    "call_agent(agent,\"Tell me about your Chef's Table experience\", user_session_id, verbose=True)"
   ]
  },
  {
   "cell_type": "markdown",
   "metadata": {
    "application/vnd.databricks.v1+cell": {
     "cellMetadata": {
      "batchId": -7376512122275730,
      "byteLimit": 2048000,
      "rowLimit": 10000
     },
     "inputWidgets": {},
     "nuid": "15b97416-4383-4520-a872-bcc82b4f3280",
     "showTitle": false,
     "tableResultSettingsMap": {},
     "title": ""
    }
   },
   "source": [
    "## Create Web Search Agent"
   ]
  },
  {
   "cell_type": "code",
   "execution_count": 0,
   "metadata": {
    "application/vnd.databricks.v1+cell": {
     "cellMetadata": {
      "byteLimit": 2048000,
      "rowLimit": 10000
     },
     "inputWidgets": {},
     "nuid": "3fbef97c-26b9-433f-a4b9-77c19f3813b2",
     "showTitle": false,
     "tableResultSettingsMap": {},
     "title": ""
    }
   },
   "outputs": [],
   "source": []
  },
  {
   "cell_type": "code",
   "execution_count": 0,
   "metadata": {
    "application/vnd.databricks.v1+cell": {
     "cellMetadata": {
      "byteLimit": 2048000,
      "rowLimit": 10000
     },
     "inputWidgets": {},
     "nuid": "67560d88-17ae-4b96-be12-280f0fd356f4",
     "showTitle": false,
     "tableResultSettingsMap": {},
     "title": ""
    }
   },
   "outputs": [],
   "source": [
    "def web_search_agent(state: AgentState) -> AgentState:\n",
    "    \"\"\"\n",
    "    Web Search Agent using DuckDuckGo\n",
    "    \"\"\"\n",
    "    query = state[\"query\"]\n",
    "    try:\n",
    "        ddgs = DDGS()\n",
    "        search_results = ddgs.text(query, max_results=10)\n",
    "        # Enhanced prompt for information extraction\n",
    "        extraction_prompt = f\"\"\"\n",
    "        Based on the following web search results, extract and organize the most relevant \n",
    "        and accurate information related to the query: \"{query}\"\n",
    "        \n",
    "        Search Results:\n",
    "        {search_results}\n",
    "        \n",
    "        Provide a well-structured summary with:\n",
    "        1. Key findings (3-5 bullet points)\n",
    "        2. Important details and context\n",
    "        3. Sources or references if mentioned\n",
    "        \n",
    "        Be concise but comprehensive.\n",
    "        \"\"\"\n",
    "        messages = [\n",
    "            SystemMessage(content=\"You are a web research analyst extracting key information.\"),\n",
    "            HumanMessage(content=extraction_prompt)\n",
    "        ]\n",
    "        response = llm.invoke(messages)\n",
    "        extracted_info = response.content\n",
    "        \n",
    "        state[\"web_results\"] = extracted_info\n",
    "        state[\"messages\"].append(f\"Web Research completed: {len(extracted_info)} characters\")\n",
    "        # Safely update metadata\n",
    "        if \"metadata\" not in state or state[\"metadata\"] is None:\n",
    "            state[\"metadata\"] = {}\n",
    "        state[\"metadata\"][\"web_search_timestamp\"] = datetime.now().isoformat()\n",
    "        \n",
    "        print(f\"✅ Web Research completed: {len(extracted_info)} characters retrieved\")\n",
    "        \n",
    "    except Exception as e:\n",
    "        error_msg = f\"Web search error: {str(e)}\"\n",
    "        state[\"web_results\"] = error_msg\n",
    "        state[\"messages\"].append(error_msg)\n",
    "        print(f\"❌ {error_msg}\")\n",
    "    \n",
    "    return state"
   ]
  },
  {
   "cell_type": "code",
   "execution_count": 0,
   "metadata": {
    "application/vnd.databricks.v1+cell": {
     "cellMetadata": {
      "byteLimit": 2048000,
      "rowLimit": 10000
     },
     "inputWidgets": {},
     "nuid": "34778bb9-79c7-42db-93d5-f3edc67471e3",
     "showTitle": false,
     "tableResultSettingsMap": {},
     "title": ""
    }
   },
   "outputs": [],
   "source": [
    "# Initialize the graph\n",
    "workflow = StateGraph(AgentState)\n",
    "\n",
    "# Add nodes for each agent\n",
    "workflow.add_node(\"web_search_agent\", web_search_agent)\n",
    "\n",
    "workflow.add_edge(\"web_search_agent\", END)\n",
    "\n",
    "# Set entry point\n",
    "workflow.set_entry_point(\"web_search_agent\")\n",
    "\n",
    "# Compile the graph\n",
    "agent = workflow.compile()"
   ]
  },
  {
   "cell_type": "code",
   "execution_count": 0,
   "metadata": {
    "application/vnd.databricks.v1+cell": {
     "cellMetadata": {
      "byteLimit": 2048000,
      "rowLimit": 10000
     },
     "inputWidgets": {},
     "nuid": "e4e1baf5-349a-49eb-b287-72acb945fe24",
     "showTitle": false,
     "tableResultSettingsMap": {},
     "title": ""
    }
   },
   "outputs": [],
   "source": [
    "from IPython.display import display, Image, Markdown\n",
    "\n",
    "display(Image(agent.get_graph().draw_mermaid_png()))"
   ]
  },
  {
   "cell_type": "code",
   "execution_count": 0,
   "metadata": {
    "application/vnd.databricks.v1+cell": {
     "cellMetadata": {
      "byteLimit": 2048000,
      "rowLimit": 10000
     },
     "inputWidgets": {},
     "nuid": "083ab370-d508-4214-acaf-e70dbd20b235",
     "showTitle": false,
     "tableResultSettingsMap": {},
     "title": ""
    }
   },
   "outputs": [],
   "source": [
    "def call_agent(agent, prompt, user_session_id, verbose=False):\n",
    "    events = agent.stream(\n",
    "        {\"query\": prompt}, # initial state of the agent\n",
    "        {\"configurable\": {\"thread_id\": user_session_id}},\n",
    "        stream_mode=\"values\",\n",
    "    )\n",
    "\n",
    "    print('Running Agent. Please wait...')\n",
    "    for event in events:\n",
    "        if verbose:\n",
    "                print(event)\n",
    "\n",
    "    display(Markdown(event['web_results']))"
   ]
  },
  {
   "cell_type": "code",
   "execution_count": 0,
   "metadata": {
    "application/vnd.databricks.v1+cell": {
     "cellMetadata": {
      "byteLimit": 2048000,
      "rowLimit": 10000
     },
     "inputWidgets": {},
     "nuid": "48f55a63-528e-407d-b37a-64135b4d0b91",
     "showTitle": false,
     "tableResultSettingsMap": {},
     "title": ""
    }
   },
   "outputs": [],
   "source": [
    "user_session_id = \"u01\"\n",
    "call_agent(agent,\"what is the PE ratio of Nvidia?\", user_session_id, verbose=True)"
   ]
  },
  {
   "cell_type": "markdown",
   "metadata": {
    "application/vnd.databricks.v1+cell": {
     "cellMetadata": {},
     "inputWidgets": {},
     "nuid": "0645e0fc-d221-412c-8e4e-0c6dd90bee75",
     "showTitle": false,
     "tableResultSettingsMap": {},
     "title": ""
    }
   },
   "source": [
    "## Create LLM Agent"
   ]
  },
  {
   "cell_type": "code",
   "execution_count": 0,
   "metadata": {
    "application/vnd.databricks.v1+cell": {
     "cellMetadata": {
      "byteLimit": 2048000,
      "rowLimit": 10000
     },
     "inputWidgets": {},
     "nuid": "3b697121-5fc8-4a33-b9e7-abd6398e06cb",
     "showTitle": false,
     "tableResultSettingsMap": {},
     "title": ""
    }
   },
   "outputs": [],
   "source": [
    "def llm_agent(state: AgentState) -> AgentState:\n",
    "    \"\"\"\n",
    "    LLM Agent: Handles general queries using direct LLM reasoning.\n",
    "    Used for creative tasks, general knowledge, and reasoning queries.\n",
    "    \"\"\"\n",
    "    query = state[\"query\"]\n",
    "    \n",
    "    print(f\"\\n🤖 LLM Agent: Processing '{query}'\")\n",
    "    \n",
    "    try:\n",
    "        llm_prompt = f\"\"\"\n",
    "        You are a helpful AI assistant with expertise in technology, data engineering, \n",
    "        and general knowledge. Provide a comprehensive and well-structured response \n",
    "        to the following query.\n",
    "        \n",
    "        Query: {query}\n",
    "\n",
    "        Sample Query:\n",
    "        1.Write Python Function for Prime Number.\n",
    "        2. What is Data Engineering.\n",
    "        \n",
    "        Provide a detailed, accurate, and helpful response. Use examples where appropriate.\n",
    "        \"\"\"\n",
    "        \n",
    "        messages = [\n",
    "            SystemMessage(content=\"You are an expert AI assistant.\"),\n",
    "            HumanMessage(content=llm_prompt)\n",
    "        ]\n",
    "        \n",
    "        response = llm.invoke(messages)\n",
    "        llm_answer = response.content\n",
    "        \n",
    "        state[\"llm_response\"] = llm_answer\n",
    "        state[\"messages\"].append(f\"LLM response generated: {len(llm_answer)} characters\")\n",
    "        # Safely update metadata\n",
    "        if \"metadata\" not in state or state[\"metadata\"] is None:\n",
    "            state[\"metadata\"] = {}\n",
    "        state[\"metadata\"][\"llm_timestamp\"] = datetime.now().isoformat()\n",
    "        \n",
    "        print(f\"✅ LLM response generated: {len(llm_answer)} characters\")\n",
    "        \n",
    "    except Exception as e:\n",
    "        error_msg = f\"LLM error: {str(e)}\"\n",
    "        state[\"llm_response\"] = error_msg\n",
    "        state[\"messages\"].append(error_msg)\n",
    "        print(f\"❌ {error_msg}\")\n",
    "    \n",
    "    return state"
   ]
  },
  {
   "cell_type": "markdown",
   "metadata": {
    "application/vnd.databricks.v1+cell": {
     "cellMetadata": {},
     "inputWidgets": {},
     "nuid": "0324f608-ef51-4a2d-86be-5451334e5c8f",
     "showTitle": false,
     "tableResultSettingsMap": {},
     "title": ""
    }
   },
   "source": [
    "## Create Router AGent"
   ]
  },
  {
   "cell_type": "code",
   "execution_count": 0,
   "metadata": {
    "application/vnd.databricks.v1+cell": {
     "cellMetadata": {
      "byteLimit": 2048000,
      "rowLimit": 10000
     },
     "inputWidgets": {},
     "nuid": "0a15e60a-d34c-437d-b2c3-d16e7357bad2",
     "showTitle": false,
     "tableResultSettingsMap": {},
     "title": ""
    }
   },
   "outputs": [],
   "source": [
    "def router_agent(state: AgentState) -> AgentState:\n",
    "    \"\"\"\n",
    "    Router Agent: Determines the appropriate path for query processing.\n",
    "    Routes to: Web Research, RAG, or Direct LLM response.\n",
    "    \"\"\"\n",
    "    query = state[\"query\"]\n",
    "    \n",
    "    # Keywords that indicate need for current/live information\n",
    "    web_keywords = [\n",
    "        \"latest\", \"current\", \"recent\", \"today\", \"now\", \"2024\", \"2025\",\n",
    "        \"breaking\", \"news\", \"update\", \"trending\", \"live\"\n",
    "    ]\n",
    "    \n",
    "    # Keywords that indicate knowledge base queries\n",
    "    rag_keywords = [\n",
    "        \"FOOD FACTORY - RESTAURANT\", \"SIGNATURE DISHES\", \"SIGNATURE DISHES\",\"BEVERAGE PROGRAM\",\"DINING EXPERIENCES\", \"restaurant\",\"Dishes\",\"restaurant\",\n",
    "        \"menu\",\"food\",\"Operating Hours\"\n",
    "    ]\n",
    "    \n",
    "    routing_prompt = f\"\"\"\n",
    "    You are a routing agent. Analyze the following query and determine the best processing path.\n",
    "    \n",
    "    Query: \"{query}\"\n",
    "    \n",
    "    Choose ONE of the following routes:\n",
    "    - \"web_research\": If the query asks about current events, latest news, or time-sensitive information\n",
    "    - \"rag\": If the query is about FOOD FACTORY - RESTAURANT.\n",
    "    - \"llm\": If the query is a general question, creative task, write some code or requires reasoning without specific data\n",
    "    \n",
    "    Respond with ONLY the route name (web_research, rag, or llm).\n",
    "    \"\"\"\n",
    "    \n",
    "    messages = [\n",
    "        SystemMessage(content=\"You are a query routing specialist.\"),\n",
    "        HumanMessage(content=routing_prompt)\n",
    "    ]\n",
    "    \n",
    "    response = llm.invoke(messages)\n",
    "    route = response.content.strip().lower()\n",
    "    \n",
    "    # Fallback logic with keyword matching\n",
    "    if route not in [\"web_research\", \"rag\", \"llm\"]:\n",
    "        query_lower = query.lower()\n",
    "        if any(keyword in query_lower for keyword in web_keywords):\n",
    "            route = \"web_research\"\n",
    "        elif any(keyword in query_lower for keyword in rag_keywords):\n",
    "            route = \"rag\"\n",
    "        else:\n",
    "            route = \"llm\"\n",
    "    \n",
    "    state[\"route_decision\"] = route\n",
    "    state[\"messages\"].append(f\"Router Decision: {route}\")\n",
    "    # Safely update metadata\n",
    "    if \"metadata\" not in state or state[\"metadata\"] is None:\n",
    "        state[\"metadata\"] = {}\n",
    "    state[\"metadata\"][\"routing_timestamp\"] = datetime.now().isoformat()\n",
    "    \n",
    "    print(f\"\\n🔀 Router Agent: Routing to '{route}'\")\n",
    "    \n",
    "    return state"
   ]
  },
  {
   "cell_type": "markdown",
   "metadata": {
    "application/vnd.databricks.v1+cell": {
     "cellMetadata": {},
     "inputWidgets": {},
     "nuid": "62ef97e1-4172-4d9e-87d0-36d38ec92615",
     "showTitle": false,
     "tableResultSettingsMap": {},
     "title": ""
    }
   },
   "source": [
    "## Create Summarization Agent"
   ]
  },
  {
   "cell_type": "code",
   "execution_count": 0,
   "metadata": {
    "application/vnd.databricks.v1+cell": {
     "cellMetadata": {
      "byteLimit": 2048000,
      "rowLimit": 10000
     },
     "inputWidgets": {},
     "nuid": "38199bae-fa43-4d90-a8bb-ff4905e70a91",
     "showTitle": false,
     "tableResultSettingsMap": {},
     "title": ""
    }
   },
   "outputs": [],
   "source": [
    "def summarization_agent(state: AgentState) -> AgentState:\n",
    "    \"\"\"\n",
    "    Summarization Agent: Synthesizes information from all sources into a \n",
    "    coherent, well-structured final response.\n",
    "    \"\"\"\n",
    "    query = state[\"query\"]\n",
    "    route = state[\"route_decision\"]\n",
    "    \n",
    "    print(f\"\\n📝 Summarization Agent: Creating final summary\")\n",
    "    \n",
    "    # Gather all available information\n",
    "    information_sources = []\n",
    "    \n",
    "    if state.get(\"web_results\"):\n",
    "        information_sources.append(f\"Web Research Results:\\n{state['web_results']}\")\n",
    "    \n",
    "    if state.get(\"rag_results\"):\n",
    "        information_sources.append(f\"Knowledge Base Results:\\n{state['rag_results']}\")\n",
    "    \n",
    "    if state.get(\"llm_response\"):\n",
    "        information_sources.append(f\"LLM Response:\\n{state['llm_response']}\")\n",
    "    \n",
    "    combined_info = \"\\n\\n---\\n\\n\".join(information_sources)\n",
    "    \n",
    "    summarization_prompt = f\"\"\"\n",
    "    You are a summarization specialist. Create a comprehensive, well-structured final response \n",
    "    by synthesizing the following information sources.\n",
    "    \n",
    "    Original Query: {query}\n",
    "    Processing Route: {route}\n",
    "    \n",
    "    Information Sources:\n",
    "    {combined_info}\n",
    "    \n",
    "    Create a final response that:\n",
    "    1. Directly answers the user's query\n",
    "    2. Integrates information from all sources coherently\n",
    "    3. Is well-structured with clear sections\n",
    "    4. Includes relevant details and examples\n",
    "    5. Maintains accuracy and clarity\n",
    "    6. Ends with a brief summary or key takeaways if appropriate\n",
    "    \n",
    "    Format the response professionally with proper markdown formatting.\n",
    "    \"\"\"\n",
    "    \n",
    "    messages = [\n",
    "        SystemMessage(content=\"You are an expert at synthesizing information into clear, comprehensive responses.\"),\n",
    "        HumanMessage(content=summarization_prompt)\n",
    "    ]\n",
    "    \n",
    "    response = llm.invoke(messages)\n",
    "    final_summary = response.content\n",
    "    \n",
    "    state[\"final_summary\"] = final_summary\n",
    "    state[\"messages\"].append(\"Final summary generated\")\n",
    "    # Safely update metadata\n",
    "    if \"metadata\" not in state or state[\"metadata\"] is None:\n",
    "        state[\"metadata\"] = {}\n",
    "    state[\"metadata\"][\"summary_timestamp\"] = datetime.now().isoformat()\n",
    "    state[\"metadata\"][\"summary_length\"] = len(final_summary)\n",
    "    \n",
    "    print(f\"✅ Final summary generated: {len(final_summary)} characters\")\n",
    "    \n",
    "    return state"
   ]
  },
  {
   "cell_type": "code",
   "execution_count": 0,
   "metadata": {
    "application/vnd.databricks.v1+cell": {
     "cellMetadata": {
      "byteLimit": 2048000,
      "rowLimit": 10000
     },
     "inputWidgets": {},
     "nuid": "b5e8cdd5-d859-4821-9cce-2f611fcb4c12",
     "showTitle": false,
     "tableResultSettingsMap": {},
     "title": ""
    }
   },
   "outputs": [],
   "source": [
    "# ==================== Routing Logic ====================\n",
    "\n",
    "def route_query(state: AgentState) -> Literal[\"web_research\", \"rag\", \"llm\"]:\n",
    "    \"\"\"\n",
    "    Conditional edge function that determines which agent to call next.\n",
    "    \"\"\"\n",
    "    return state[\"route_decision\"]"
   ]
  },
  {
   "cell_type": "code",
   "execution_count": 0,
   "metadata": {
    "application/vnd.databricks.v1+cell": {
     "cellMetadata": {
      "byteLimit": 2048000,
      "rowLimit": 10000
     },
     "inputWidgets": {},
     "nuid": "ea4f7946-a1f6-422a-a1d6-2fac164f3afe",
     "showTitle": false,
     "tableResultSettingsMap": {},
     "title": ""
    }
   },
   "outputs": [],
   "source": [
    "\"\"\"\n",
    "Creates and compiles the LangGraph workflow with all agents and routing logic.\n",
    "\"\"\"\n",
    "\n",
    "# Initialize the graph\n",
    "workflow = StateGraph(AgentState)\n",
    "\n",
    "# Add nodes for each agent\n",
    "workflow.add_node(\"router\", router_agent)\n",
    "workflow.add_node(\"web_research\", web_search_agent)\n",
    "workflow.add_node(\"rag\", restaurant_rag_agent)\n",
    "workflow.add_node(\"llm\", llm_agent)\n",
    "workflow.add_node(\"summarizer\", summarization_agent)\n",
    "\n",
    "# Set entry point\n",
    "workflow.set_entry_point(\"router\")\n",
    "\n",
    "# Add conditional edges from router to specialized agents\n",
    "workflow.add_conditional_edges(\n",
    "    \"router\",\n",
    "    route_query,\n",
    "    {\n",
    "        \"web_research\": \"web_research\",\n",
    "        \"rag\": \"rag\",\n",
    "        \"llm\": \"llm\"\n",
    "    }\n",
    ")\n",
    "\n",
    "# All specialized agents flow to summarizer\n",
    "workflow.add_edge(\"web_research\", \"summarizer\")\n",
    "workflow.add_edge(\"rag\", \"summarizer\")\n",
    "workflow.add_edge(\"llm\", \"summarizer\")\n",
    "\n",
    "# Summarizer is the final node\n",
    "workflow.add_edge(\"summarizer\", END)\n",
    "\n",
    "memory = MemorySaver()\n",
    "\n",
    "# Compile the graph\n",
    "research_agent = workflow.compile(checkpointer=memory)"
   ]
  },
  {
   "cell_type": "code",
   "execution_count": 0,
   "metadata": {
    "application/vnd.databricks.v1+cell": {
     "cellMetadata": {
      "byteLimit": 2048000,
      "rowLimit": 10000
     },
     "inputWidgets": {},
     "nuid": "64407b87-34df-470a-9d46-ab37b46319e2",
     "showTitle": false,
     "tableResultSettingsMap": {},
     "title": ""
    }
   },
   "outputs": [],
   "source": [
    "def call_agent(agent, prompt, user_session_id, verbose=False):\n",
    "    events = agent.stream(\n",
    "        {\"query\": prompt}, # initial state of the agent\n",
    "        {\"configurable\": {\"thread_id\": user_session_id}},\n",
    "        stream_mode=\"values\",\n",
    "    )\n",
    "\n",
    "    print('Running Agent. Please wait...')\n",
    "    for event in events:\n",
    "        if verbose:\n",
    "                print(event)\n",
    "\n",
    "    display(Markdown(event['final_summary']))"
   ]
  },
  {
   "cell_type": "code",
   "execution_count": 0,
   "metadata": {
    "application/vnd.databricks.v1+cell": {
     "cellMetadata": {
      "byteLimit": 2048000,
      "rowLimit": 10000
     },
     "inputWidgets": {},
     "nuid": "aba5d5fd-5666-4397-a872-051c8d3dc43b",
     "showTitle": false,
     "tableResultSettingsMap": {},
     "title": ""
    }
   },
   "outputs": [],
   "source": [
    "from IPython.display import display, Image, Markdown\n",
    "\n",
    "display(Image(research_agent.get_graph(xray=True).draw_mermaid_png()))"
   ]
  },
  {
   "cell_type": "markdown",
   "metadata": {
    "application/vnd.databricks.v1+cell": {
     "cellMetadata": {},
     "inputWidgets": {},
     "nuid": "affda81d-1ab1-43b6-ad43-f092b8c28ee6",
     "showTitle": false,
     "tableResultSettingsMap": {},
     "title": ""
    }
   },
   "source": [
    "## Question is for some Latest News. So our Agent would use Web_Search Subagent."
   ]
  },
  {
   "cell_type": "code",
   "execution_count": 0,
   "metadata": {
    "application/vnd.databricks.v1+cell": {
     "cellMetadata": {
      "byteLimit": 2048000,
      "rowLimit": 10000
     },
     "inputWidgets": {},
     "nuid": "2d5e8814-89ca-465c-ad60-cb82a9d0bf09",
     "showTitle": false,
     "tableResultSettingsMap": {},
     "title": ""
    }
   },
   "outputs": [],
   "source": [
    "user_session_id = \"u01\"\n",
    "call_agent(research_agent,\"what is the PE ratio of Nvidia?\", user_session_id, verbose=True)"
   ]
  },
  {
   "cell_type": "markdown",
   "metadata": {
    "application/vnd.databricks.v1+cell": {
     "cellMetadata": {},
     "inputWidgets": {},
     "nuid": "98143646-81d9-4a69-99ca-f7e843ded910",
     "showTitle": false,
     "tableResultSettingsMap": {},
     "title": ""
    }
   },
   "source": [
    "\n",
    "## Question is for some Generic Coding Question. So our Agent would use Web_Search Subagent."
   ]
  },
  {
   "cell_type": "code",
   "execution_count": 0,
   "metadata": {
    "application/vnd.databricks.v1+cell": {
     "cellMetadata": {
      "byteLimit": 2048000,
      "rowLimit": 10000
     },
     "inputWidgets": {},
     "nuid": "09264b03-8f72-4053-aed9-a58e334991a7",
     "showTitle": false,
     "tableResultSettingsMap": {},
     "title": ""
    }
   },
   "outputs": [],
   "source": [
    "user_session_id = \"u01\"\n",
    "call_agent(research_agent,\"Write a Python function to calculate fibonacci numbers\", user_session_id, verbose=True)"
   ]
  },
  {
   "cell_type": "markdown",
   "metadata": {
    "application/vnd.databricks.v1+cell": {
     "cellMetadata": {},
     "inputWidgets": {},
     "nuid": "ec44d14c-01f8-45d0-986f-1a766e0a6e14",
     "showTitle": false,
     "tableResultSettingsMap": {},
     "title": ""
    }
   },
   "source": [
    "## RAG Agent in Action"
   ]
  },
  {
   "cell_type": "code",
   "execution_count": 0,
   "metadata": {
    "application/vnd.databricks.v1+cell": {
     "cellMetadata": {
      "byteLimit": 2048000,
      "rowLimit": 10000
     },
     "inputWidgets": {},
     "nuid": "6ed2b7dd-fe3d-4fba-a0c7-0dd85fdb3b1c",
     "showTitle": false,
     "tableResultSettingsMap": {},
     "title": ""
    }
   },
   "outputs": [],
   "source": [
    "user_session_id = \"u01\"\n",
    "call_agent(research_agent,\"Can I host a private event for 20 people in Food Factory Restaurant\", user_session_id, verbose=True)"
   ]
  },
  {
   "cell_type": "code",
   "execution_count": 0,
   "metadata": {
    "application/vnd.databricks.v1+cell": {
     "cellMetadata": {
      "byteLimit": 2048000,
      "rowLimit": 10000
     },
     "inputWidgets": {},
     "nuid": "f0f6ec99-6155-4ccd-9a27-320524287ede",
     "showTitle": false,
     "tableResultSettingsMap": {},
     "title": ""
    }
   },
   "outputs": [],
   "source": [
    "call_agent(research_agent,\"What about private event with 40 people\", user_session_id, verbose=True)"
   ]
  },
  {
   "cell_type": "code",
   "execution_count": 0,
   "metadata": {
    "application/vnd.databricks.v1+cell": {
     "cellMetadata": {
      "byteLimit": 2048000,
      "rowLimit": 10000
     },
     "inputWidgets": {},
     "nuid": "d676cd63-b79a-4b6c-967a-58f374c6c072",
     "showTitle": false,
     "tableResultSettingsMap": {},
     "title": ""
    }
   },
   "outputs": [],
   "source": [
    "user_session_id = \"u01\"\n",
    "call_agent(research_agent,\"what about 60 people event\", user_session_id, verbose=True)"
   ]
  },
  {
   "cell_type": "code",
   "execution_count": 0,
   "metadata": {
    "application/vnd.databricks.v1+cell": {
     "cellMetadata": {
      "byteLimit": 2048000,
      "rowLimit": 10000
     },
     "inputWidgets": {},
     "nuid": "93ec1f71-4e3c-485b-b8a9-321845407f6f",
     "showTitle": false,
     "tableResultSettingsMap": {},
     "title": ""
    }
   },
   "outputs": [],
   "source": [
    "user_session_id = \"u02\"\n",
    "call_agent(research_agent,\"what about 40 people\", user_session_id, verbose=True)"
   ]
  },
  {
   "cell_type": "code",
   "execution_count": 0,
   "metadata": {
    "application/vnd.databricks.v1+cell": {
     "cellMetadata": {
      "byteLimit": 2048000,
      "rowLimit": 10000
     },
     "inputWidgets": {},
     "nuid": "2b77a5d3-e5da-4d30-a2a9-2af6dd3edbed",
     "showTitle": false,
     "tableResultSettingsMap": {},
     "title": ""
    }
   },
   "outputs": [],
   "source": [
    "user_session_id = \"u02\"\n",
    "call_agent(research_agent,\"what about 60 people event\", user_session_id, verbose=True)"
   ]
  },
  {
   "cell_type": "code",
   "execution_count": 0,
   "metadata": {
    "application/vnd.databricks.v1+cell": {
     "cellMetadata": {},
     "inputWidgets": {},
     "nuid": "b722ba08-99fb-4f64-b5c3-2e81e3dd06a7",
     "showTitle": false,
     "tableResultSettingsMap": {},
     "title": ""
    }
   },
   "outputs": [],
   "source": []
  }
 ],
 "metadata": {
  "application/vnd.databricks.v1+notebook": {
   "computePreferences": null,
   "dashboards": [],
   "environmentMetadata": {
    "base_environment": "",
    "environment_version": "4"
   },
   "inputWidgetPreferences": null,
   "language": "python",
   "notebookMetadata": {
    "pythonIndentUnit": 4
   },
   "notebookName": "Assignment: Multi-Agent Research and Summarization System",
   "widgets": {}
  },
  "language_info": {
   "name": "python"
  }
 },
 "nbformat": 4,
 "nbformat_minor": 0
}
