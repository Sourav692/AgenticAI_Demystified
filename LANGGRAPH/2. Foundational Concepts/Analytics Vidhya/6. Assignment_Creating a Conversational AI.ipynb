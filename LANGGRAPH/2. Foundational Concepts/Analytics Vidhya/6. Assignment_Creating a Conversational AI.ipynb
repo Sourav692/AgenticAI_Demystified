{
 "cells": [
  {
   "cell_type": "markdown",
   "id": "bcab240a",
   "metadata": {},
   "source": [
    "# Building a Conversational AI Assistant with LangGraph\n",
    "\n",
    "This notebook demonstrates how to build a conversational AI assistant using LangGraph that can help businesses, marketers, analysts, and investors monitor and analyze competitor activity in retail, with a special focus on clothing stores in high-traffic urban locations.\n",
    "\n",
    "## Key Features\n",
    "\n",
    "- **Competitor Insights**: Provides real-time information on nearby clothing store competitors\n",
    "- **Business Strategy Support**: Generates actionable insights for market positioning\n",
    "- **Marketing Optimization**: Assists in identifying trends and optimizing campaigns\n",
    "- **Location Analysis**: Provides data for real estate and location analysts\n",
    "- **Investment Analysis**: Supports investors in assessing business potential and risks\n",
    "\n",
    "## Architecture\n",
    "\n",
    "The system uses LangGraph to create a conversational agent with tool integration, allowing it to search for real-time information and provide comprehensive business insights.\n"
   ]
  },
  {
   "cell_type": "code",
   "execution_count": null,
   "id": "8cfc2b32",
   "metadata": {},
   "outputs": [],
   "source": [
    "# Install required dependencies\n",
    "!pip install -q langgraph==0.2.59"
   ]
  },
  {
   "cell_type": "markdown",
   "id": "3ccc8bdd",
   "metadata": {},
   "source": [
    "## 1. Import Required Libraries\n",
    "\n",
    "First, we import all the necessary libraries for building our conversational AI assistant:\n"
   ]
  },
  {
   "cell_type": "code",
   "execution_count": null,
   "id": "124cbe2c",
   "metadata": {},
   "outputs": [],
   "source": [
    "# Core LangGraph imports for building the conversational agent\n",
    "from langgraph.graph import StateGraph, MessagesState, START, END\n",
    "from typing import TypedDict\n",
    "from langchain_openai import ChatOpenAI\n",
    "from langgraph.prebuilt import ToolNode\n",
    "from IPython.display import Image\n",
    "from dotenv import load_dotenv, find_dotenv\n",
    "from typing import Annotated\n",
    "from langgraph.graph.message import add_messages\n",
    "import os\n",
    "from langchain_core.prompts import ChatPromptTemplate"
   ]
  },
  {
   "cell_type": "code",
   "execution_count": null,
   "id": "6881b391",
   "metadata": {},
   "outputs": [],
   "source": [
    "# Import search tool for real-time information gathering\n",
    "from langchain_community.tools.tavily_search import TavilySearchResults"
   ]
  },
  {
   "cell_type": "markdown",
   "id": "83baef3a",
   "metadata": {},
   "source": [
    "## 2. Environment Setup\n",
    "\n",
    "Load environment variables and configure API keys:\n"
   ]
  },
  {
   "cell_type": "code",
   "execution_count": null,
   "id": "bbd27519",
   "metadata": {},
   "outputs": [],
   "source": [
    "# Load environment variables from .env file\n",
    "_ = load_dotenv(find_dotenv())\n",
    "OPENAI_KEY = os.environ['OPENAI_API_KEY']"
   ]
  },
  {
   "cell_type": "markdown",
   "id": "57b40261",
   "metadata": {},
   "source": [
    "## 3. Define State Schema\n",
    "\n",
    "The `MessagesState` defines the structure of our conversation state, which maintains a list of messages throughout the conversation:\n"
   ]
  },
  {
   "cell_type": "code",
   "execution_count": null,
   "id": "3e3f488a",
   "metadata": {},
   "outputs": [],
   "source": [
    "# Define the state schema for our conversational agent\n",
    "class MessagesState(TypedDict):\n",
    "    messages: Annotated[list, add_messages]  # List of conversation messages"
   ]
  },
  {
   "cell_type": "markdown",
   "id": "893b5076",
   "metadata": {},
   "source": [
    "## 4. Initialize Language Model\n",
    "\n",
    "Configure the OpenAI language model for our conversational agent:\n"
   ]
  },
  {
   "cell_type": "code",
   "execution_count": null,
   "id": "e76ac436",
   "metadata": {},
   "outputs": [],
   "source": [
    "# Initialize the language model with GPT-4o-mini for cost efficiency\n",
    "llm = ChatOpenAI(model='gpt-4o-mini', temperature=0)"
   ]
  },
  {
   "cell_type": "markdown",
   "id": "4476c6ea",
   "metadata": {},
   "source": [
    "## 5. Create System Prompt\n",
    "\n",
    "Define the system prompt that establishes the AI assistant's role and capabilities for business intelligence and competitor analysis:\n"
   ]
  },
  {
   "cell_type": "code",
   "execution_count": null,
   "id": "1cbc6ca0",
   "metadata": {},
   "outputs": [],
   "source": [
    "# Create a comprehensive system prompt for the business intelligence assistant\n",
    "prompt = ChatPromptTemplate.from_messages([\n",
    "    (\"system\", \"\"\"You are a Conversational AI Assistant designed to help businesses, marketers, analysts, and investors monitor and analyze competitor activity in retail, with a special focus on clothing stores in high-traffic urban locations.\n",
    "\n",
    "Your core objectives are:\n",
    "\n",
    "Competitor Insights – Provide real-time information on nearby clothing store competitors, including store footfall, busiest times, and peak customer hours.\n",
    "\n",
    "Business Strategy Support – Generate actionable insights that help business owners and managers adjust strategies to improve market positioning.\n",
    "\n",
    "Marketing Optimization – Assist marketing teams in identifying trends, optimizing promotions, and aligning campaigns with or against competitor activities.\n",
    "\n",
    "Location Analysis – Provide data to real estate and location analysts on high-footfall times and ideal store placement for new launches.\n",
    "\n",
    "Investment Analysis – Support investors and market analysts in assessing business potential, risks, and opportunities in competitive retail areas.\n",
    "\n",
    "Guidelines for Response:\n",
    "\n",
    "Always provide insights in a clear, structured, and business-oriented format.\n",
    "\n",
    "Where possible, highlight trends, risks, and opportunities.\n",
    "\n",
    "Adapt explanations for the intended beneficiary (business owner, marketer, analyst, or investor).\n",
    "\n",
    "Use a professional, analytical, and action-driven tone.\n",
    "\n",
    "If real-time or location-specific data is requested, explain how it would be obtained (e.g., search, analytics, external APIs) and provide example insights.\"\"\"),\n",
    "    (\"human\", \"{message}\")\n",
    "])"
   ]
  },
  {
   "cell_type": "markdown",
   "id": "dfd03374",
   "metadata": {},
   "source": [
    "## 6. Define Agent Functions\n",
    "\n",
    "Create the core functions that will power our conversational agent:\n"
   ]
  },
  {
   "cell_type": "code",
   "execution_count": null,
   "id": "64c0e7ee",
   "metadata": {},
   "outputs": [],
   "source": [
    "# Function to call the language model with the current conversation state\n",
    "def call_model(state: MessagesState):\n",
    "    messages  = state['messages']\n",
    "    llm_chain = prompt | llm\n",
    "    response = llm_chain.invoke({\"messages\": messages})\n",
    "    \n",
    "    return {'messages':  response}"
   ]
  },
  {
   "cell_type": "code",
   "execution_count": null,
   "id": "edb1f8d6",
   "metadata": {},
   "outputs": [],
   "source": [
    "# Function to determine whether to continue with tool calls or end the conversation\n",
    "def should_continue(state: MessagesState) -> bool:\n",
    "    messages = state['messages']\n",
    "    last_message = messages[-1]\n",
    "    if last_message.tool_calls:  # If the LLM wants to use tools\n",
    "        return 'tools'\n",
    "    else:  # If no tools needed, end the conversation\n",
    "        return END"
   ]
  },
  {
   "cell_type": "markdown",
   "id": "960d1c65",
   "metadata": {},
   "source": [
    "## 7. Initialize the Graph\n",
    "\n",
    "Create the StateGraph that will orchestrate our conversational agent:\n"
   ]
  },
  {
   "cell_type": "code",
   "execution_count": null,
   "id": "1acabcb9",
   "metadata": {},
   "outputs": [],
   "source": [
    "# Initialize the StateGraph with our MessagesState schema\n",
    "graph = StateGraph(MessagesState)"
   ]
  },
  {
   "cell_type": "markdown",
   "id": "9b001629",
   "metadata": {},
   "source": [
    "## 8. Configure Tools\n",
    "\n",
    "Set up the search tool that will allow our agent to gather real-time information:\n"
   ]
  },
  {
   "cell_type": "code",
   "execution_count": null,
   "id": "beef54d2",
   "metadata": {},
   "outputs": [],
   "source": [
    "# Configure Tavily search tool for real-time information gathering\n",
    "search_tool = TavilySearchResults(max_results=5)\n",
    "tools = [search_tool]\n",
    "\n",
    "# Create a tool node to execute the tools\n",
    "tool_node = ToolNode(tools)"
   ]
  },
  {
   "cell_type": "markdown",
   "id": "4797ffcb",
   "metadata": {},
   "source": [
    "## 9. Build the Graph Structure\n",
    "\n",
    "Add nodes and edges to create the conversational agent workflow:\n"
   ]
  },
  {
   "cell_type": "code",
   "execution_count": null,
   "id": "d3629a6e",
   "metadata": {},
   "outputs": [
    {
     "data": {
      "text/plain": [
       "<langgraph.graph.state.StateGraph at 0x2827c067680>"
      ]
     },
     "execution_count": 15,
     "metadata": {},
     "output_type": "execute_result"
    }
   ],
   "source": [
    "# Add nodes to the graph: agent node and tools node\n",
    "graph.add_node('agent', call_model)  # Main agent that processes messages\n",
    "graph.add_node('tools', tool_node)   # Tool execution node"
   ]
  },
  {
   "cell_type": "code",
   "execution_count": null,
   "id": "a0e6844d",
   "metadata": {},
   "outputs": [
    {
     "data": {
      "text/plain": [
       "<langgraph.graph.state.StateGraph at 0x2827c067680>"
      ]
     },
     "execution_count": 16,
     "metadata": {},
     "output_type": "execute_result"
    }
   ],
   "source": [
    "# Set the starting point of the graph to the agent node\n",
    "graph.add_edge(START, \"agent\")"
   ]
  },
  {
   "cell_type": "code",
   "execution_count": null,
   "id": "4c6a43fc",
   "metadata": {},
   "outputs": [
    {
     "data": {
      "text/plain": [
       "<langgraph.graph.state.StateGraph at 0x2827c067680>"
      ]
     },
     "execution_count": 17,
     "metadata": {},
     "output_type": "execute_result"
    }
   ],
   "source": [
    "# Add conditional edges from agent to either tools or END based on should_continue function\n",
    "graph.add_conditional_edges('agent', \n",
    "                            should_continue,\n",
    "                            [\"tools\",END])"
   ]
  },
  {
   "cell_type": "code",
   "execution_count": null,
   "id": "871d3941",
   "metadata": {},
   "outputs": [
    {
     "data": {
      "text/plain": [
       "<langgraph.graph.state.StateGraph at 0x2827c067680>"
      ]
     },
     "execution_count": 18,
     "metadata": {},
     "output_type": "execute_result"
    }
   ],
   "source": [
    "# After tool execution, return control to the agent for processing results\n",
    "graph.add_edge('tools', 'agent')"
   ]
  },
  {
   "cell_type": "code",
   "execution_count": null,
   "id": "a900aca4",
   "metadata": {},
   "outputs": [
    {
     "data": {
      "text/plain": [
       "<langgraph.graph.state.StateGraph at 0x2827c067680>"
      ]
     },
     "execution_count": 19,
     "metadata": {},
     "output_type": "execute_result"
    }
   ],
   "source": [
    "# Set the entry point of the graph (alternative to add_edge(START, \"agent\"))\n",
    "graph.set_entry_point('agent')"
   ]
  },
  {
   "cell_type": "markdown",
   "id": "e9f147f5",
   "metadata": {},
   "source": [
    "## 10. Compile and Visualize the Graph\n",
    "\n",
    "Compile the graph into an executable format and visualize its structure:\n"
   ]
  },
  {
   "cell_type": "code",
   "execution_count": null,
   "id": "9b3476b2",
   "metadata": {},
   "outputs": [],
   "source": [
    "# Compile the graph into an executable format\n",
    "graph_compiled = graph.compile()"
   ]
  },
  {
   "cell_type": "code",
   "execution_count": null,
   "id": "8b97e4ad",
   "metadata": {},
   "outputs": [
    {
     "data": {
      "image/png": "[encoded data removed]",
      "text/plain": [
       "<IPython.core.display.Image object>"
      ]
     },
     "execution_count": 21,
     "metadata": {},
     "output_type": "execute_result"
    }
   ],
   "source": [
    "# Visualize the graph structure to understand the workflow\n",
    "Image(graph_compiled.get_graph().draw_mermaid_png())"
   ]
  },
  {
   "cell_type": "markdown",
   "id": "a53046bc",
   "metadata": {},
   "source": [
    "## 11. Test the Conversational Agent\n",
    "\n",
    "Now let's test our conversational AI assistant with various business intelligence queries:\n"
   ]
  },
  {
   "cell_type": "code",
   "execution_count": null,
   "id": "66ac8c01",
   "metadata": {},
   "outputs": [
    {
     "name": "stdout",
     "output_type": "stream",
     "text": [
      "While I can't provide real-time data or specific current details, I can suggest some popular clothing stores in and around Koramangala, Bangalore, that are known to be competitive in the retail market. Here are five notable clothing stores:\n",
      "\n",
      "1. **H&M** - A global fashion retailer known for trendy clothing at affordable prices.\n",
      "2. **Zara** - Offers a wide range of stylish clothing and is popular for its fast-fashion approach.\n",
      "3. **FabIndia** - Specializes in traditional Indian clothing and handloom products, appealing to both locals and tourists.\n",
      "4. **Levi's** - Known for denim and casual wear, Levi's has a strong presence in the market.\n",
      "5. **Lifestyle** - A department store that offers a variety of clothing brands under one roof, catering to different styles and budgets.\n",
      "\n",
      "### Busiest Hours\n",
      "Typically, the busiest hours for clothing stores are:\n",
      "\n",
      "- **Weekdays (Monday to Friday)**: 5 PM to 8 PM, as people tend to shop after work.\n",
      "- **Weekends (Saturday and Sunday)**: 11 AM to 3 PM and 5 PM to 8 PM, as families and individuals often shop during these times.\n",
      "\n",
      "For the most accurate and current information, it’s best to check with the stores directly or use local business directories and review platforms.\n"
     ]
    }
   ],
   "source": [
    "# Test 1: Competitor analysis query\n",
    "output = graph_compiled.invoke({'messages': [\n",
    "    ('user', 'Who are the top 5 clothing store competitors near Koramangala, Bangalore, and when are their busiest hours?')\n",
    "]})\n",
    "print(output[\"messages\"][-1].content)"
   ]
  },
  {
   "cell_type": "code",
   "execution_count": null,
   "id": "2e7e2fd7",
   "metadata": {},
   "outputs": [
    {
     "name": "stdout",
     "output_type": "stream",
     "text": [
      "Optimizing promotions for the upcoming festive season in Indiranagar, or any specific area, requires a data-driven approach that takes into account footfall trends, customer behavior, and local preferences. Here are several strategies to consider:\n",
      "\n",
      "### 1. **Analyze Footfall Data**\n",
      "   - **Historical Data Review**: Look at footfall data from previous festive seasons to identify peak times and trends. Analyze which days had the highest foot traffic and what types of promotions were most effective.\n",
      "   - **Real-Time Analytics**: Use footfall tracking technology (like sensors or mobile data) to monitor current trends. This can help you adjust promotions dynamically.\n",
      "\n",
      "### 2. **Targeted Promotions**\n",
      "   - **Segmented Offers**: Create promotions tailored to different customer segments based on their shopping habits. For example, offer discounts on popular items during peak hours or special deals for families.\n",
      "   - **Time-Limited Offers**: Implement flash sales or limited-time offers during high footfall periods to create urgency and encourage immediate purchases.\n",
      "\n",
      "### 3. **Leverage Local Events**\n",
      "   - **Collaborate with Local Events**: Partner with local festivals, markets, or events happening in Indiranagar to create joint promotions. This can increase visibility and attract more foot traffic.\n",
      "   - **Sponsorships**: Consider sponsoring local events to enhance brand visibility and attract customers to your store.\n",
      "\n",
      "### 4. **Enhance In-Store Experience**\n",
      "   - **Visual Merchandising**: Optimize store layout and displays to attract foot traffic. Use festive themes to create an inviting atmosphere.\n",
      "   - **Interactive Promotions**: Engage customers with interactive promotions, such as contests or giveaways, that encourage them to visit your store.\n",
      "\n",
      "### 5. **Utilize Digital Marketing**\n",
      "   - **Social Media Campaigns**: Promote your festive offers on social media platforms popular in the area. Use targeted ads to reach specific demographics.\n",
      "   - **Email Marketing**: Send personalized emails to your customer base highlighting special promotions and events during the festive season.\n",
      "\n",
      "### 6. **Incentivize Referrals**\n",
      "   - **Referral Programs**: Encourage existing customers to bring friends and family by offering referral discounts or rewards for both the referrer and the new customer.\n",
      "\n",
      "### 7. **Feedback and Adaptation**\n",
      "   - **Customer Feedback**: Collect feedback from customers about their shopping experience and preferences. Use this information to refine your promotions.\n",
      "   - **Adapt Strategies**: Be flexible and ready to adapt your promotional strategies based on real-time footfall data and customer responses.\n",
      "\n",
      "### 8. **Cross-Promotions with Local Businesses**\n",
      "   - **Collaborate with Neighbors**: Partner with nearby businesses for cross-promotions. For example, a clothing store could collaborate with a nearby café to offer discounts to each other's customers.\n",
      "\n",
      "### 9. **Loyalty Programs**\n",
      "   - **Enhance Loyalty Programs**: If you have a loyalty program, consider offering double points or exclusive rewards during the festive season to encourage repeat visits.\n",
      "\n",
      "### 10. **Monitor and Evaluate**\n",
      "   - **Post-Season Analysis**: After the festive season, analyze the effectiveness of your promotions. Look at sales data, footfall changes, and customer feedback to inform future strategies.\n",
      "\n",
      "By combining these strategies with a thorough understanding of footfall trends in Indiranagar, you can create effective promotions that resonate with your target audience and maximize sales during the festive season.\n"
     ]
    }
   ],
   "source": [
    "# Test 2: Marketing optimization query\n",
    "output = graph_compiled.invoke({'messages': [\n",
    "    ('user', 'How can we optimize promotions for the upcoming festive season based on footfall trends in Indiranagar?')\n",
    "]})\n",
    "print(output[\"messages\"][-1].content)"
   ]
  },
  {
   "cell_type": "code",
   "execution_count": null,
   "id": "8af97aa5",
   "metadata": {},
   "outputs": [
    {
     "name": "stdout",
     "output_type": "stream",
     "text": [
      "To identify the best locations in Whitefield for launching a new mid-range clothing store, it's essential to consider several factors, including competitor activity, foot traffic, demographics, and accessibility. Here are some key areas and considerations:\n",
      "\n",
      "1. **Forum Neighbourhood Mall**: This is one of the most popular shopping destinations in Whitefield. The presence of various retail brands can attract a significant number of shoppers. An analysis of competitors in the mall can help identify gaps in the market.\n",
      "\n",
      "2. **Phoenix Marketcity**: Another major shopping hub, Phoenix Marketcity, has a diverse range of retail options. Observing the types of clothing stores present and their price points can help position your store effectively.\n",
      "\n",
      "3. **ITPL Main Road**: This area is bustling with IT professionals and has a high footfall due to nearby tech parks. A mid-range clothing store here could cater to the working population looking for convenient shopping options.\n",
      "\n",
      "4. **Whitefield Main Road**: This road connects various residential areas and commercial establishments. Setting up a store here can attract both local residents and commuters.\n",
      "\n",
      "5. **Nearby Residential Complexes**: Areas with high-density residential complexes, such as Prestige Shantiniketan and Brigade Metropolis, can be ideal for a mid-range clothing store, as residents often prefer shopping close to home.\n",
      "\n",
      "6. **Local Markets and Shopping Streets**: Exploring local markets or shopping streets can provide opportunities to tap into the community. These areas may have less competition from larger brands and can attract customers looking for unique offerings.\n",
      "\n",
      "7. **Proximity to Educational Institutions**: If there are colleges or universities nearby, consider locations that can attract students looking for affordable yet stylish clothing options.\n",
      "\n",
      "8. **Online Presence and Delivery Options**: While physical location is crucial, consider how an online presence can complement your store. Offering delivery services can expand your reach beyond just foot traffic.\n",
      "\n",
      "9. **Competitor Analysis**: Conduct a thorough analysis of existing mid-range clothing stores in the area. Identify their strengths and weaknesses, customer reviews, and product offerings to find a unique selling proposition for your store.\n",
      "\n",
      "10. **Accessibility and Parking**: Ensure that the location is easily accessible and has adequate parking facilities, as this can significantly influence customer footfall.\n",
      "\n",
      "By analyzing these factors and conducting market research, you can identify the best locations in Whitefield for your new mid-range clothing store.\n"
     ]
    }
   ],
   "source": [
    "# Test 3: Location analysis query\n",
    "output = graph_compiled.invoke({'messages': [\n",
    "    ('user', 'Identify the best locations in Whitefield for launching a new mid-range clothing store, based on competitor activity.')\n",
    "]})\n",
    "print(output[\"messages\"][-1].content)"
   ]
  },
  {
   "cell_type": "markdown",
   "id": "f5ebd178",
   "metadata": {},
   "source": [
    "## Summary\n",
    "\n",
    "This notebook demonstrates how to build a sophisticated conversational AI assistant using LangGraph that can:\n",
    "\n",
    "1. **Process Natural Language Queries**: Accept business intelligence questions in natural language\n",
    "2. **Integrate with External Tools**: Use Tavily search to gather real-time information\n",
    "3. **Maintain Conversation Context**: Track the conversation state throughout the interaction\n",
    "4. **Provide Business Insights**: Generate structured, actionable recommendations for various stakeholders\n",
    "\n",
    "### Key Components:\n",
    "\n",
    "- **State Management**: Uses `MessagesState` to maintain conversation history\n",
    "- **Tool Integration**: Leverages Tavily search for real-time data gathering\n",
    "- **Conditional Routing**: Intelligently decides when to use tools vs. providing direct responses\n",
    "- **Business Focus**: Specialized for retail and clothing store competitive analysis\n",
    "\n",
    "### Use Cases:\n",
    "\n",
    "- **Competitor Analysis**: Identify and analyze competing businesses\n",
    "- **Marketing Optimization**: Develop data-driven promotional strategies\n",
    "- **Location Intelligence**: Assess optimal locations for new store launches\n",
    "- **Investment Research**: Support investment decisions with market insights\n",
    "\n",
    "The system is designed to be modular and extensible, allowing for easy addition of new tools and capabilities as business needs evolve.\n"
   ]
  }
 ],
 "metadata": {
  "kernelspec": {
   "display_name": "base",
   "language": "python",
   "name": "python3"
  },
  "language_info": {
   "codemirror_mode": {
    "name": "ipython",
    "version": 3
   },
   "file_extension": ".py",
   "mimetype": "text/x-python",
   "name": "python",
   "nbconvert_exporter": "python",
   "pygments_lexer": "ipython3",
   "version": "3.12.7"
  }
 },
 "nbformat": 4,
 "nbformat_minor": 5
}
