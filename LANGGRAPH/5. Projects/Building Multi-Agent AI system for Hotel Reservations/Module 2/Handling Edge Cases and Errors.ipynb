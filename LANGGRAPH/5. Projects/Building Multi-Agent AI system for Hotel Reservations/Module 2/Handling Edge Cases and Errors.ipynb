{
 "cells": [
  {
   "cell_type": "code",
   "execution_count": 1,
   "metadata": {
    "executionInfo": {
     "elapsed": 5628,
     "status": "ok",
     "timestamp": 1743175771221,
     "user": {
      "displayName": "Vasilii Ganishev",
      "userId": "00019832618199310932"
     },
     "user_tz": -60
    },
    "id": "98UgYLgNTFtK"
   },
   "outputs": [],
   "source": [
    "%%capture --no-stderr\n",
    "%pip install --quiet -U langgraph langchain_openai langchain_chroma langchain_core langchain_community chromadb pypdf fpdf"
   ]
  },
  {
   "cell_type": "code",
   "execution_count": 10,
   "metadata": {
    "colab": {
     "base_uri": "https://localhost:8080/"
    },
    "executionInfo": {
     "elapsed": 10714,
     "status": "ok",
     "timestamp": 1743175793571,
     "user": {
      "displayName": "Vasilii Ganishev",
      "userId": "00019832618199310932"
     },
     "user_tz": -60
    },
    "id": "q-UVLpkqVCRd",
    "outputId": "9c7f73c4-63ad-427d-f736-7562e13e7451"
   },
   "outputs": [
    {
     "name": "stdout",
     "output_type": "stream",
     "text": [
      "Database initialized successfully.\n"
     ]
    },
    {
     "name": "stdout",
     "output_type": "stream",
     "text": [
      "VectorStore initialized successfully.\n",
      "VectorStore connected to LangGraph successfully.\n"
     ]
    }
   ],
   "source": [
    "import sqlite3\n",
    "import chromadb\n",
    "\n",
    "from chromadb.utils.embedding_functions import OpenAIEmbeddingFunction\n",
    "from langchain_chroma import Chroma\n",
    "from langchain_openai import ChatOpenAI\n",
    "from langchain_openai.embeddings import OpenAIEmbeddings\n",
    "from langgraph.graph import MessagesState, START, StateGraph\n",
    "from langchain_core.messages import SystemMessage, HumanMessage\n",
    "from langchain_core.tools import tool\n",
    "# from google.colab import userdata\n",
    "from langgraph.checkpoint.memory import MemorySaver\n",
    "from langchain_community.utilities import SQLDatabase\n",
    "from langchain_community.agent_toolkits import SQLDatabaseToolkit\n",
    "from langgraph.prebuilt import ToolNode, tools_condition\n",
    "from typing import Literal\n",
    "\n",
    "#connect to SQLite DB\n",
    "conn = sqlite3.connect('hotel.db')\n",
    "cursor = conn.cursor()\n",
    "\n",
    "from dotenv import load_dotenv\n",
    "\n",
    "load_dotenv()\n",
    "\n",
    "# Create the rooms table\n",
    "cursor.execute('''\n",
    "CREATE TABLE IF NOT EXISTS rooms (\n",
    "  room_number INTEGER PRIMARY KEY,\n",
    "  room_type TEXT NOT NULL,\n",
    "  price REAL NOT NULL,\n",
    "  max_capacity INTEGER NOT NULL,\n",
    "  amenities TEXT\n",
    ")\n",
    "''')\n",
    "\n",
    "# Create the reservations table\n",
    "cursor.execute('''\n",
    "CREATE TABLE IF NOT EXISTS reservations (\n",
    "  reservation_id INTEGER PRIMARY KEY AUTOINCREMENT,\n",
    "  guest_name TEXT NOT NULL,\n",
    "  room_number INTEGER NOT NULL,\n",
    "  start_date DATE NOT NULL,\n",
    "  end_date DATE NOT NULL,\n",
    "  FOREIGN KEY (room_number) REFERENCES rooms(room_number)\n",
    ")\n",
    "''')\n",
    "\n",
    "\n",
    "# Example data for rooms\n",
    "rooms_data = [\n",
    "  (101, 'Single', 100, 1, 'TV, Wi-Fi'),\n",
    "  (102, 'Double', 150, 2, 'TV, Wi-Fi, Balcony'),\n",
    "  (103, 'Suite', 250, 3, 'TV, Wi-Fi, Balcony, Jacuzzi'),\n",
    "  (104, 'Deluxe', 200, 2, 'TV, Wi-Fi, Mini-bar'),\n",
    "  (105, 'Family Suite', 300, 4, 'TV, Wi-Fi, Balcony, Kitchenette'),\n",
    "  (106, 'Executive Suite', 350, 2, 'TV, Wi-Fi, Balcony, Jacuzzi, City View'),\n",
    "  (107, 'Double', 150, 2, 'TV, Wi-Fi'),\n",
    "  (108, 'Deluxe', 200, 2, 'TV, Wi-Fi, Balcony, Fireplace')\n",
    "]\n",
    "\n",
    "# Insert the data\n",
    "cursor.executemany('INSERT OR IGNORE INTO rooms VALUES (?, ?, ?, ?, ?)', rooms_data)\n",
    "\n",
    "reservations_data = [\n",
    "    ('Alice Smith', 102, '2025-03-15', '2025-03-18'),\n",
    "    ('Bob Johnson', 105, '2025-04-22', '2025-04-25'),\n",
    "    ('Charlie Brown', 106, '2025-06-10', '2025-06-12')\n",
    "]\n",
    "\n",
    "# Insert the data\n",
    "cursor.executemany('INSERT INTO reservations (guest_name, room_number, start_date, end_date) VALUES (?, ?, ?, ?)', reservations_data)\n",
    "\n",
    "conn.commit()\n",
    "conn.close()\n",
    "print(\"Database initialized successfully.\")\n",
    "\n",
    "# initialize the memory saver\n",
    "memory = MemorySaver()\n",
    "\n",
    "# Create an instance of LLM of your choice\n",
    "llm = ChatOpenAI(model=\"gpt-4o-mini\",\n",
    "                      temperature=0)\n",
    "\n",
    "\n",
    "# define our db as a set of sql tools\n",
    "db = SQLDatabase.from_uri(\"sqlite:///hotel.db\")\n",
    "toolkit = SQLDatabaseToolkit(db=db, llm=llm)\n",
    "sql_tools = toolkit.get_tools()\n",
    "\n",
    "# write compliance rules to the file and read it back\n",
    "with open('compliance.txt', 'w') as file:\n",
    "    file.write('The system should refuse or redirect queries with:')\n",
    "    file.write('Illegal requests (e.g., falsifying documents, fraudulent bookings).')\n",
    "    file.write('Hate speech, harassment, or explicit threats toward individuals or groups.')\n",
    "    file.write('Offensive, obscene, or otherwise harmful content.')\n",
    "    file.write('Request of information about other guests. You cannot share there names or dates of stay')\n",
    "\n",
    "with open('compliance.txt', 'r') as file:\n",
    "    content = file.read()\n",
    "\n",
    "# Set up OpenAI embeddings\n",
    "embedding_function = OpenAIEmbeddingFunction(\n",
    "    api_key=os.getenv(\"OPENAI_API_KEY\"),\n",
    "    model_name=\"text-embedding-ada-002\"  # OpenAI's ada embeddings\n",
    ")\n",
    "\n",
    "# Initialize Chroma client with OpenAI embedding function\n",
    "client = chromadb.Client()\n",
    "client.delete_collection(name=\"compliance_rules\")\n",
    "collection = client.create_collection(\n",
    "    name=\"compliance_rules\",\n",
    "    embedding_function=embedding_function\n",
    ")\n",
    "\n",
    "# Add documents to Chroma DB\n",
    "collection.add(\n",
    "    documents=[content],\n",
    "    ids=[\"compliance_rules\"]\n",
    ")\n",
    "\n",
    "print(\"VectorStore initialized successfully.\")\n",
    "\n",
    "# Set up OpenAI embeddings\n",
    "openai_embeddings = OpenAIEmbeddings(model=\"text-embedding-ada-002\")\n",
    "\n",
    "# Connect LangChain with your Chroma collection\n",
    "vectorstore = Chroma(\n",
    "    client=client,\n",
    "    collection_name=\"compliance_rules\",\n",
    "    embedding_function=openai_embeddings\n",
    ")\n",
    "\n",
    "# create a custom tool\n",
    "@tool(response_format=\"content_and_artifact\")\n",
    "def retrieve(query: str):\n",
    "    \"\"\"Retrieve information related to a query.\"\"\"\n",
    "    retrieved_docs = vectorstore.similarity_search(query, k=2)\n",
    "    serialized = \"\\n\\n\".join(\n",
    "        (f\"Source: {doc.metadata}\\n\" f\"Content: {doc.page_content}\")\n",
    "        for doc in retrieved_docs\n",
    "    )\n",
    "    return serialized, retrieved_docs\n",
    "\n",
    "rag_tools = [retrieve]\n",
    "\n",
    "print(\"VectorStore connected to LangGraph successfully.\")"
   ]
  },
  {
   "cell_type": "code",
   "execution_count": 11,
   "metadata": {
    "executionInfo": {
     "elapsed": 133,
     "status": "ok",
     "timestamp": 1743175806627,
     "user": {
      "displayName": "Vasilii Ganishev",
      "userId": "00019832618199310932"
     },
     "user_tz": -60
    },
    "id": "QpO-cO7dU_vp"
   },
   "outputs": [],
   "source": [
    "from langgraph.errors import NodeInterrupt\n",
    "from datetime import datetime\n",
    "from langchain_core.messages import AIMessage\n",
    "from random import random\n",
    "\n",
    "# bind LLM with tools\n",
    "llm_with_sql_tools = llm.bind_tools(tools=sql_tools)\n",
    "llm_with_rag_tools = llm.bind_tools(tools=rag_tools)\n",
    "\n",
    "\n",
    "# System message for conversational agent\n",
    "sys_msg_conversation = SystemMessage(content=\"\"\"\n",
    "\n",
    "  Role: You are the Conversation Coordinator for a hotel chain’s customer support system. Your role is to manage the flow of the conversation with the guest and decide whether to handle the request yourself or forward the conversation to the next agent based on the user’s needs.\n",
    "\n",
    "  Primary Tasks:\n",
    "\n",
    "  Engage with the user: Start the conversation politely and ask how you can assist them.\n",
    "  Identify the nature of the request: Listen to the guest’s inquiry and determine if it’s a general question, booking-related, issue resolution, or any other category that might require specialized handling.\n",
    "  Route the conversation if necessary: If the request requires expertise outside your scope, forward it to a specialized agent by answering with the name of the corresponding agent. There are the following agents available:\n",
    "\n",
    "  - reservation_assistant;\n",
    "  - compliance_checker.\n",
    "\n",
    "  Maintain a friendly and helpful tone: Always aim for a customer-friendly and empathetic response. Ensure the guest feels heard and cared for.\n",
    "\n",
    "  Guidelines:\n",
    "\n",
    "  - First you need to forward every query to compliance checker. If it violates any rule then do not respond, otherwise respond yourself or forward the query to the next agent.\n",
    "  - For general inquiries (e.g., facilities, amenities, location details), assist the user directly.\n",
    "  - If user wants to book a room. The following information: room type, required dates. Only if user has provided this information forward to the reservation_assistant otherwise do not mention reservation_assistant.\n",
    "   \"\"\")\n",
    "\n",
    "# System message for sql-based reservation agent\n",
    "sys_msg_sql = SystemMessage(content=\"\"\"\n",
    "\n",
    "  You are AI assistant specialized in SQL. You have access to the following database schema:\n",
    "\n",
    "  Table: rooms\n",
    "    room_number (INTEGER PRIMARY KEY)\n",
    "    room_type (TEXT NOT NULL)\n",
    "    price (REAL NOT NULL)\n",
    "    max_capacity (INTEGER NOT NULL)\n",
    "    amenities (TEXT)\n",
    "\n",
    "  Table: reservations\n",
    "    reservation_id (INTEGER PRIMARY KEY AUTOINCREMENT)\n",
    "    guest_name (TEXT NOT NULL)\n",
    "    room_number (INTEGER NOT NULL, FOREIGN KEY REFERENCES rooms(room_number))\n",
    "    start_date (DATE NOT NULL)\n",
    "    end_date (DATE NOT NULL)\n",
    "\n",
    "  You must:\n",
    "    Provide SQL queries or instructions referencing only these two tables and the columns defined above.\n",
    "    Generate valid SQL statements that accurately address the user’s questions or requests.\n",
    "    Include explanations about how the queries work or how they address the request.\n",
    "    Use best practices for SQL (proper joins, filters, etc.).\n",
    "    Do not reference any tables or columns other than rooms and reservations.\n",
    "    If the user’s request is unclear or not possible with the given schema, ask for clarification or note the limitations.\n",
    "    If user want to book a room check if the room is not already booked for the corresponding dates\n",
    "\n",
    "   \"\"\")\n",
    "\n",
    "# System message for rag-based compliance checker\n",
    "sys_msg_rag = SystemMessage(content=f\"\"\"\n",
    "\n",
    "  You are the Compliance Checker agent. Your role is to:\n",
    "  - Understand the user’s request and determine which rules, regulations, or guidelines are relevant to the query.\n",
    "  - Search a vector database (embedding-based document retrieval) to find the most pertinent guidelines or regulations that must be checked.\n",
    "\n",
    "      You have read-only access to this vector database containing short texts, summaries, or entire regulations.\n",
    "      You can pass a query (the user’s question, plus any relevant context) to retrieve the top related guidelines or rules.\n",
    "  - Synthesize the results of your vector DB retrieval to provide a clear compliance assessment or recommendation.\n",
    "      If the user’s question is ambiguous, incomplete, or requires additional detail to ensure compliance, politely request clarification.\n",
    "      If no relevant guidelines can be found, state that no matching guidelines are found and ask the user if they have additional info.\n",
    "  - Never fabricate guidelines. Only cite or summarize what is actually found in the vector database. If you cannot find relevant information, say so.\n",
    "\n",
    "\n",
    "  Please follow these steps when generating a response:\n",
    "    - you should not try to answer the request you should just check if it is compliant.\n",
    "    - Retrieve the relevant guidelines from the vector DB using the user’s question or text as the query.\n",
    "    - Summarize or quote the most critical points from those guidelines.\n",
    "    - Provide your compliance assessment, specifying:\n",
    "      Which guidelines apply\n",
    "    - If you cannot find any rules to apply it means that the request is compliant.\n",
    "\n",
    "    \\n\\n\n",
    "        {0}\n",
    "\n",
    "   \"\"\")\n",
    "\n",
    "# Agent node\n",
    "def conv_assistant(state: MessagesState) -> MessagesState:\n",
    "   \"\"\"\n",
    "   SQL Assistant Agent\n",
    "\n",
    "   Args:\n",
    "     state (MessagesState): The current state of the conversation.\n",
    "\n",
    "   Returns:\n",
    "     MessagesState: The updated state of the conversation.\n",
    "   \"\"\"\n",
    "   messages = state[\"messages\"]\n",
    "   return {\"messages\": [llm.invoke([sys_msg_conversation] + messages)]}\n",
    "\n",
    "# SQL Agent node\n",
    "def sql_assistant(state: MessagesState) -> MessagesState:\n",
    "  \"\"\"\n",
    "   SQL Assistant Agent\n",
    "\n",
    "   Args:\n",
    "     state (MessagesState): The current state of the conversation.\n",
    "\n",
    "   Returns:\n",
    "     MessagesState: The updated state of the conversation.\n",
    "   \"\"\"\n",
    "  messages = state[\"messages\"]\n",
    "  return {\"messages\": [llm_with_sql_tools.invoke([sys_msg_sql] + messages)]}\n",
    "\n",
    "# RAG Agent node\n",
    "def rag_assistant(state: MessagesState) -> MessagesState:\n",
    "  \"\"\"\n",
    "   RAG Assistant Agent\n",
    "\n",
    "   Args:\n",
    "     state (MessagesState): The current state of the conversation.\n",
    "\n",
    "   Returns:\n",
    "     MessagesState: The updated state of the conversation.\n",
    "   \"\"\"\n",
    "  messages = state[\"messages\"]\n",
    "  return {\"messages\": [llm_with_rag_tools.invoke([sys_msg_rag] + messages)]}\n",
    "\n",
    "#\n",
    "def generate(state: MessagesState) -> MessagesState:\n",
    "    \"\"\"\n",
    "    Node for answer generation based on retrieved documents.\n",
    "\n",
    "    Args:\n",
    "      state (MessagesState): The current state of the conversation.\n",
    "\n",
    "    Returns:\n",
    "      MessagesState: The updated state of the conversation.\n",
    "    \"\"\"\n",
    "    # Get generated ToolMessages\n",
    "    recent_tool_messages = []\n",
    "    for message in reversed(state[\"messages\"]):\n",
    "        if message.type == \"tool\":\n",
    "            recent_tool_messages.append(message)\n",
    "        else:\n",
    "            break\n",
    "    tool_messages = recent_tool_messages[::-1]\n",
    "\n",
    "    docs_content = \"\\n\\n\".join(doc.content for doc in tool_messages)\n",
    "\n",
    "    conversation_messages = [\n",
    "        message\n",
    "        for message in state[\"messages\"]\n",
    "        if message.type in (\"human\", \"system\")\n",
    "        or (message.type == \"ai\" and not message.tool_calls)\n",
    "    ]\n",
    "\n",
    "    # Run\n",
    "    response = llm.invoke([sys_msg_rag] + conversation_messages)\n",
    "    return {\"messages\": [response]}\n",
    "\n",
    "def choose_next_node(state: MessagesState) -> Literal[\"reservation_assistant\", \"compliance_checker\", \"__end__\"]:\n",
    "  \"\"\"\n",
    "  Choose the next node based on the last message.\n",
    "\n",
    "  Args:\n",
    "    state (MessagesState): The current state of the conversation.\n",
    "\n",
    "  Returns:\n",
    "    str: The name of the next node.\n",
    "  \"\"\"\n",
    "  last_message = state[\"messages\"][-1]\n",
    "  if (\"reservation_assistant\" in last_message.content) or (\"reservation assistant\" in last_message.content):\n",
    "    return \"reservation_assistant\"\n",
    "  elif (\"compliance_checker\" in last_message.content) or (\"compliance checker\" in last_message.content):\n",
    "    return \"compliance_checker\"\n",
    "  else:\n",
    "    return \"__end__\"\n",
    "\n",
    "\n",
    "# Graph\n",
    "builder = StateGraph(MessagesState)\n",
    "\n",
    "# Define nodes: these do the work\n",
    "builder.add_node(\"conv_assistant\", conv_assistant)\n",
    "builder.add_node(\"reservation_assistant\", sql_assistant)\n",
    "builder.add_node(\"compliance_checker\", rag_assistant)\n",
    "builder.add_node(\"retriever\", generate)\n",
    "builder.add_node(\"sql_tools\", ToolNode(sql_tools))\n",
    "builder.add_node(\"rag_tools\", ToolNode(rag_tools))\n",
    "\n",
    "# Define edges: these determine how the control flow moves\n",
    "builder.add_edge(START, \"conv_assistant\")\n",
    "builder.add_conditional_edges(\n",
    "    \"conv_assistant\",\n",
    "    # If the message from assistant is a tool call -> routes to tools\n",
    "    #Otherwise to the END\n",
    "    choose_next_node, path_map=[\"reservation_assistant\", \"compliance_checker\", \"__end__\"])\n",
    "builder.add_conditional_edges(\"reservation_assistant\", tools_condition, path_map={\"tools\": \"sql_tools\", \"__end__\": \"__end__\"})\n",
    "builder.add_conditional_edges(\"compliance_checker\", tools_condition, path_map={\"tools\": \"rag_tools\", \"__end__\": \"conv_assistant\"})\n",
    "builder.add_edge(\"sql_tools\", \"reservation_assistant\")\n",
    "builder.add_edge(\"rag_tools\", \"retriever\")\n",
    "builder.add_edge(\"retriever\", \"conv_assistant\")\n",
    "react_graph_with_memory = builder.compile(checkpointer=memory)\n"
   ]
  },
  {
   "cell_type": "code",
   "execution_count": 12,
   "metadata": {
    "colab": {
     "base_uri": "https://localhost:8080/",
     "height": 512
    },
    "executionInfo": {
     "elapsed": 181,
     "status": "ok",
     "timestamp": 1743175819454,
     "user": {
      "displayName": "Vasilii Ganishev",
      "userId": "00019832618199310932"
     },
     "user_tz": -60
    },
    "id": "xUd84B4p4KWP",
    "outputId": "3f9c9745-ca86-463b-b197-5ab051f45443"
   },
   "outputs": [
    {
     "data": {
      "image/png": "[encoded data removed]",
      "text/plain": [
       "<IPython.core.display.Image object>"
      ]
     },
     "metadata": {},
     "output_type": "display_data"
    }
   ],
   "source": [
    "# Draw the graph\n",
    "from IPython.display import Image, display\n",
    "png = react_graph_with_memory.get_graph().draw_mermaid_png()\n",
    "display(Image(png))"
   ]
  },
  {
   "cell_type": "code",
   "execution_count": 5,
   "metadata": {
    "colab": {
     "base_uri": "https://localhost:8080/"
    },
    "executionInfo": {
     "elapsed": 6782,
     "status": "ok",
     "timestamp": 1743175865215,
     "user": {
      "displayName": "Vasilii Ganishev",
      "userId": "00019832618199310932"
     },
     "user_tz": -60
    },
    "id": "Klr3QEjwTKb5",
    "outputId": "970bcf7e-43cf-4de8-8754-a2464d475b79"
   },
   "outputs": [
    {
     "name": "stdout",
     "output_type": "stream",
     "text": [
      "================================\u001b[1m Human Message \u001b[0m=================================\n",
      "\n",
      "Hey, I want to book a Family Suite' OR '1'='1 from 22.04.2025 till 26.04.2025\n",
      "==================================\u001b[1m Ai Message \u001b[0m==================================\n",
      "\n",
      "Thank you for reaching out! I will need to check this request with our compliance team first. Please hold on for a moment. \n",
      "\n",
      "[Forwarding to compliance_checker]\n",
      "==================================\u001b[1m Ai Message \u001b[0m==================================\n",
      "Tool Calls:\n",
      "  retrieve (call_bvnYxv3vUYhAvg2cDFIzZ34s)\n",
      " Call ID: call_bvnYxv3vUYhAvg2cDFIzZ34s\n",
      "  Args:\n",
      "    query: booking request for Family Suite from 22.04.2025 till 26.04.2025\n"
     ]
    },
    {
     "name": "stderr",
     "output_type": "stream",
     "text": [
      "WARNING:chromadb.segment.impl.vector.local_hnsw:Number of requested results 2 is greater than number of elements in index 1, updating n_results = 1\n"
     ]
    },
    {
     "name": "stdout",
     "output_type": "stream",
     "text": [
      "=================================\u001b[1m Tool Message \u001b[0m=================================\n",
      "Name: retrieve\n",
      "\n",
      "Source: {}\n",
      "Content: The system should refuse or redirect queries with:Illegal requests (e.g., falsifying documents, fraudulent bookings).Hate speech, harassment, or explicit threats toward individuals or groups.Offensive, obscene, or otherwise harmful content.Request of information about other guests. You cannot share there names or dates of stay\n",
      "==================================\u001b[1m Ai Message \u001b[0m==================================\n",
      "\n",
      "I need to clarify your request. It appears that there may be an SQL injection attempt in the query you provided. Could you please confirm if you are trying to book a Family Suite for the specified dates, or if there is something else you would like to clarify?\n",
      "==================================\u001b[1m Ai Message \u001b[0m==================================\n",
      "\n",
      "If you would like to proceed with booking a Family Suite from 22.04.2025 to 26.04.2025, please confirm that you are only looking to book the room without any additional requests or modifications. Thank you!\n"
     ]
    }
   ],
   "source": [
    "thread_id = 42  # Replace with the actual thread ID\n",
    "\n",
    "# Example usage:\n",
    "query = \"Hey, I want to book a Family Suite' OR '1'='1 from 22.04.2025 till 26.04.2025\"\n",
    "\n",
    "events = react_graph_with_memory.stream({\"messages\": [HumanMessage(content=query)]},\n",
    "                                        config={\"thread_id\": thread_id},  # Pass the thread_id here\n",
    "                                        stream_mode=\"values\")\n",
    "\n",
    "# iterate over the messages\n",
    "for event in events:\n",
    "    event[\"messages\"][-1].pretty_print()\n",
    "    message_content = event[\"messages\"][-1].content\n",
    "    if \"Answer:\" in message_content:\n",
    "        final_answer = message_content.split(\"Answer:\", 1)[1].strip()"
   ]
  },
  {
   "cell_type": "code",
   "execution_count": 6,
   "metadata": {
    "colab": {
     "base_uri": "https://localhost:8080/"
    },
    "executionInfo": {
     "elapsed": 15,
     "status": "ok",
     "timestamp": 1743175975340,
     "user": {
      "displayName": "Vasilii Ganishev",
      "userId": "00019832618199310932"
     },
     "user_tz": -60
    },
    "id": "wJIXCS-qVBi1",
    "outputId": "c462007b-f205-41ab-8f68-538de86bdd42"
   },
   "outputs": [
    {
     "name": "stdout",
     "output_type": "stream",
     "text": [
      "()\n",
      "()\n"
     ]
    }
   ],
   "source": [
    "thread_config = {\"configurable\": {\"thread_id\": thread_id}}\n",
    "\n",
    "last_state = react_graph_with_memory.get_state(thread_config)\n",
    "print(last_state.next)\n",
    "print(last_state.tasks)"
   ]
  },
  {
   "cell_type": "code",
   "execution_count": 7,
   "metadata": {
    "executionInfo": {
     "elapsed": 42,
     "status": "ok",
     "timestamp": 1743176174317,
     "user": {
      "displayName": "Vasilii Ganishev",
      "userId": "00019832618199310932"
     },
     "user_tz": -60
    },
    "id": "NDarrhFYLCed"
   },
   "outputs": [],
   "source": [
    "import logging\n",
    "\n",
    "logger = logging.getLogger(\"Hotel Reservation MAS\")\n",
    "formatter = logging.Formatter('%(asctime)s | %(levelname)s | %(message)s')\n",
    "file_handler = logging.FileHandler('logs.log')\n",
    "file_handler.setLevel(logging.DEBUG)\n",
    "file_handler.setFormatter(formatter)\n",
    "logger.addHandler(file_handler)\n",
    "\n",
    "def choose_next_node(state: MessagesState) -> Literal[\"reservation_assistant\", \"compliance_checker\", \"__end__\"]:\n",
    "  \"\"\"\n",
    "  Choose the next node based on the last message.\n",
    "\n",
    "  Args:\n",
    "    state (MessagesState): The current state of the conversation.\n",
    "\n",
    "  Returns:\n",
    "    str: The name of the next node.\n",
    "  \"\"\"\n",
    "  last_message = state[\"messages\"][-1]\n",
    "  if (\"reservation_assistant\" in last_message.content) or (\"reservation assistant\" in last_message.content):\n",
    "    return \"reservation_assistant\"\n",
    "  elif (\"compliance_checker\" in last_message.content) or (\"compliance checker\" in last_message.content):\n",
    "    return \"compliance_checker\"\n",
    "\n",
    "  # Add Node Interrup for incompliant conversations\n",
    "  elif ((\"violate\" in last_message.content) or (\"concern\" in last_message.content)\n",
    "  or (\"illegal\" in last_message.content) or (\"manipultion\" in last_message.content)):\n",
    "\n",
    "    logger.error(f\"\"\"Warning! The user request violates our policies. The conversation is forwarded\n",
    "    to a human assistant for the investigation. Please check the thread with id {thread_id}\"\"\")\n",
    "    raise NodeInterrupt(\n",
    "            f\"Warning! The user request violates our policies. The conversation is forwarded to a human assistant for the investigation.\"\n",
    "        )\n",
    "  else:\n",
    "    return \"__end__\"\n",
    "\n",
    "\n",
    "# Graph\n",
    "builder = StateGraph(MessagesState)\n",
    "\n",
    "# Define nodes: these do the work\n",
    "builder.add_node(\"conv_assistant\", conv_assistant)\n",
    "builder.add_node(\"reservation_assistant\", sql_assistant)\n",
    "builder.add_node(\"compliance_checker\", rag_assistant)\n",
    "builder.add_node(\"retriever\", generate)\n",
    "builder.add_node(\"sql_tools\", ToolNode(sql_tools))\n",
    "builder.add_node(\"rag_tools\", ToolNode(rag_tools))\n",
    "\n",
    "# Define edges: these determine how the control flow moves\n",
    "builder.add_edge(START, \"conv_assistant\")\n",
    "builder.add_conditional_edges(\n",
    "    \"conv_assistant\",\n",
    "    # If the message from assistant is a tool call -> routes to tools\n",
    "    #Otherwise to the END\n",
    "    choose_next_node, path_map=[\"reservation_assistant\", \"compliance_checker\", \"__end__\"])\n",
    "builder.add_conditional_edges(\"reservation_assistant\", tools_condition, path_map={\"tools\": \"sql_tools\", \"__end__\": \"__end__\"})\n",
    "builder.add_conditional_edges(\"compliance_checker\", tools_condition, path_map={\"tools\": \"rag_tools\", \"__end__\": \"conv_assistant\"})\n",
    "builder.add_edge(\"sql_tools\", \"reservation_assistant\")\n",
    "builder.add_edge(\"rag_tools\", \"retriever\")\n",
    "builder.add_edge(\"retriever\", \"conv_assistant\")\n",
    "react_graph_with_memory = builder.compile(checkpointer=memory)\n"
   ]
  },
  {
   "cell_type": "code",
   "execution_count": 8,
   "metadata": {
    "colab": {
     "base_uri": "https://localhost:8080/"
    },
    "executionInfo": {
     "elapsed": 7207,
     "status": "ok",
     "timestamp": 1743176191978,
     "user": {
      "displayName": "Vasilii Ganishev",
      "userId": "00019832618199310932"
     },
     "user_tz": -60
    },
    "id": "b_CD8HhVT-IK",
    "outputId": "fd96cfd6-8a49-4dd3-f2ee-0e51cdb8951f"
   },
   "outputs": [
    {
     "name": "stdout",
     "output_type": "stream",
     "text": [
      "================================\u001b[1m Human Message \u001b[0m=================================\n",
      "\n",
      "Hey, I want to book a Family Suite' OR '1'='1 from 22.04.2025 till 26.04.2025\n",
      "==================================\u001b[1m Ai Message \u001b[0m==================================\n",
      "\n",
      "Thank you for reaching out! I will need to check this request with our compliance team first. Please hold on for a moment. \n",
      "\n",
      "[Forwarding to compliance_checker]\n",
      "==================================\u001b[1m Ai Message \u001b[0m==================================\n",
      "Tool Calls:\n",
      "  retrieve (call_knxIkprO2yYanPRVv4ukLCqx)\n",
      " Call ID: call_knxIkprO2yYanPRVv4ukLCqx\n",
      "  Args:\n",
      "    query: booking a Family Suite from 22.04.2025 till 26.04.2025\n"
     ]
    },
    {
     "name": "stderr",
     "output_type": "stream",
     "text": [
      "WARNING:chromadb.segment.impl.vector.local_hnsw:Number of requested results 2 is greater than number of elements in index 1, updating n_results = 1\n"
     ]
    },
    {
     "name": "stdout",
     "output_type": "stream",
     "text": [
      "=================================\u001b[1m Tool Message \u001b[0m=================================\n",
      "Name: retrieve\n",
      "\n",
      "Source: {}\n",
      "Content: The system should refuse or redirect queries with:Illegal requests (e.g., falsifying documents, fraudulent bookings).Hate speech, harassment, or explicit threats toward individuals or groups.Offensive, obscene, or otherwise harmful content.Request of information about other guests. You cannot share there names or dates of stay\n",
      "==================================\u001b[1m Ai Message \u001b[0m==================================\n",
      "\n",
      "I will now search for relevant guidelines regarding booking requests, particularly focusing on the context of potential SQL injection or security concerns due to the query structure.\n",
      "\n",
      "Searching the vector database for applicable guidelines... \n",
      "\n",
      "[Retrieving relevant guidelines...] \n",
      "\n",
      "No specific guidelines were found that directly address the request as presented. However, the structure of the request raises potential security concerns related to SQL injection, which is a common vulnerability in web applications.\n",
      "\n",
      "Since no specific guidelines were found, I would assess that the request is compliant in terms of not violating any known regulations. However, I recommend ensuring that the booking system has proper security measures in place to prevent SQL injection attacks.\n",
      "\n",
      "If you have any additional information or context regarding this request, please let me know!\n"
     ]
    },
    {
     "name": "stderr",
     "output_type": "stream",
     "text": [
      "ERROR:Hotel Reservation MAS:Warning! The user request violates our policies. The conversation is forwarded\n",
      "    to a human assistant for the investigation. Please check the thread with id 43\n"
     ]
    },
    {
     "name": "stdout",
     "output_type": "stream",
     "text": [
      "==================================\u001b[1m Ai Message \u001b[0m==================================\n",
      "\n",
      "I'm sorry, but I cannot assist with that request as it raises security concerns. If you have any other inquiries or need assistance with a different type of request, feel free to let me know!\n"
     ]
    }
   ],
   "source": [
    "thread_id = 43  # Replace with the actual thread ID\n",
    "\n",
    "# Example usage:\n",
    "query = \"Hey, I want to book a Family Suite' OR '1'='1 from 22.04.2025 till 26.04.2025\"\n",
    "\n",
    "events = react_graph_with_memory.stream({\"messages\": [HumanMessage(content=query)]},\n",
    "                                        config={\"thread_id\": thread_id},  # Pass the thread_id here\n",
    "                                        stream_mode=\"values\")\n",
    "\n",
    "# iterate over the messages\n",
    "for event in events:\n",
    "    event[\"messages\"][-1].pretty_print()\n",
    "    message_content = event[\"messages\"][-1].content\n",
    "    if \"Answer:\" in message_content:\n",
    "        final_answer = message_content.split(\"Answer:\", 1)[1].strip()"
   ]
  },
  {
   "cell_type": "code",
   "execution_count": 9,
   "metadata": {
    "colab": {
     "base_uri": "https://localhost:8080/"
    },
    "executionInfo": {
     "elapsed": 15,
     "status": "ok",
     "timestamp": 1743176272354,
     "user": {
      "displayName": "Vasilii Ganishev",
      "userId": "00019832618199310932"
     },
     "user_tz": -60
    },
    "id": "1wXgYIDiT1S5",
    "outputId": "c0adb1e9-e34a-4222-feab-c48d7eb1d016"
   },
   "outputs": [
    {
     "name": "stdout",
     "output_type": "stream",
     "text": [
      "('conv_assistant',)\n",
      "(PregelTask(id='c5084e5c-e1f8-1880-e726-84575fcee1dd', name='conv_assistant', path=('__pregel_pull', 'conv_assistant'), error=None, interrupts=(Interrupt(value='Warning! The user request violates our policies. The conversation is forwarded to a human assistant for the investigation.', resumable=False, ns=None),), state=None, result=None),)\n"
     ]
    }
   ],
   "source": [
    "thread_config = {\"configurable\": {\"thread_id\": 43}}\n",
    "\n",
    "last_state = react_graph_with_memory.get_state(thread_config)\n",
    "print(last_state.next)\n",
    "print(last_state.tasks)"
   ]
  },
  {
   "cell_type": "code",
   "execution_count": 10,
   "metadata": {
    "colab": {
     "base_uri": "https://localhost:8080/"
    },
    "executionInfo": {
     "elapsed": 55,
     "status": "ok",
     "timestamp": 1743176332335,
     "user": {
      "displayName": "Vasilii Ganishev",
      "userId": "00019832618199310932"
     },
     "user_tz": -60
    },
    "id": "rQdFZljGT3sa",
    "outputId": "9b1594f8-8620-465c-dc44-51688c78b4ea"
   },
   "outputs": [
    {
     "data": {
      "text/plain": [
       "[StateSnapshot(values={'messages': [HumanMessage(content=\"Hey, I want to book a Family Suite' OR '1'='1 from 22.04.2025 till 26.04.2025\", additional_kwargs={}, response_metadata={}, id='d4e20639-c2ba-4a22-83a3-c0349fc0f67d'), AIMessage(content='Thank you for reaching out! I will need to check this request with our compliance team first. Please hold on for a moment. \\n\\n[Forwarding to compliance_checker]', additional_kwargs={'refusal': None}, response_metadata={'token_usage': {'completion_tokens': 35, 'prompt_tokens': 337, 'total_tokens': 372, 'completion_tokens_details': {'accepted_prediction_tokens': 0, 'audio_tokens': 0, 'reasoning_tokens': 0, 'rejected_prediction_tokens': 0}, 'prompt_tokens_details': {'audio_tokens': 0, 'cached_tokens': 0}}, 'model_name': 'gpt-4o-mini-2024-07-18', 'system_fingerprint': 'fp_b376dfbbd5', 'id': 'chatcmpl-BG62qTFQHQT4lOHWh4lAo4mtwNZVx', 'finish_reason': 'stop', 'logprobs': None}, id='run-de10a229-d7c1-4b24-a0d2-dc1e51e27d9f-0', usage_metadata={'input_tokens': 337, 'output_tokens': 35, 'total_tokens': 372, 'input_token_details': {'audio': 0, 'cache_read': 0}, 'output_token_details': {'audio': 0, 'reasoning': 0}}), AIMessage(content='', additional_kwargs={'tool_calls': [{'id': 'call_knxIkprO2yYanPRVv4ukLCqx', 'function': {'arguments': '{\"query\":\"booking a Family Suite from 22.04.2025 till 26.04.2025\"}', 'name': 'retrieve'}, 'type': 'function'}], 'refusal': None}, response_metadata={'token_usage': {'completion_tokens': 33, 'prompt_tokens': 421, 'total_tokens': 454, 'completion_tokens_details': {'accepted_prediction_tokens': 0, 'audio_tokens': 0, 'reasoning_tokens': 0, 'rejected_prediction_tokens': 0}, 'prompt_tokens_details': {'audio_tokens': 0, 'cached_tokens': 0}}, 'model_name': 'gpt-4o-mini-2024-07-18', 'system_fingerprint': 'fp_b376dfbbd5', 'id': 'chatcmpl-BG62rfeQbq9VUnnMoEyfBkEeck97f', 'finish_reason': 'tool_calls', 'logprobs': None}, id='run-31960cab-ab52-47f5-8f27-6b7c83df1590-0', tool_calls=[{'name': 'retrieve', 'args': {'query': 'booking a Family Suite from 22.04.2025 till 26.04.2025'}, 'id': 'call_knxIkprO2yYanPRVv4ukLCqx', 'type': 'tool_call'}], usage_metadata={'input_tokens': 421, 'output_tokens': 33, 'total_tokens': 454, 'input_token_details': {'audio': 0, 'cache_read': 0}, 'output_token_details': {'audio': 0, 'reasoning': 0}}), ToolMessage(content='Source: {}\\nContent: The system should refuse or redirect queries with:Illegal requests (e.g., falsifying documents, fraudulent bookings).Hate speech, harassment, or explicit threats toward individuals or groups.Offensive, obscene, or otherwise harmful content.Request of information about other guests. You cannot share there names or dates of stay', name='retrieve', id='e97aceb6-a038-413b-9e91-2777eee3ac8e', tool_call_id='call_knxIkprO2yYanPRVv4ukLCqx', artifact=[{'id': 'compliance_rules', 'metadata': {}, 'page_content': 'The system should refuse or redirect queries with:Illegal requests (e.g., falsifying documents, fraudulent bookings).Hate speech, harassment, or explicit threats toward individuals or groups.Offensive, obscene, or otherwise harmful content.Request of information about other guests. You cannot share there names or dates of stay', 'type': 'Document'}]), AIMessage(content='I will now search for relevant guidelines regarding booking requests, particularly focusing on the context of potential SQL injection or security concerns due to the query structure.\\n\\nSearching the vector database for applicable guidelines... \\n\\n[Retrieving relevant guidelines...] \\n\\nNo specific guidelines were found that directly address the request as presented. However, the structure of the request raises potential security concerns related to SQL injection, which is a common vulnerability in web applications.\\n\\nSince no specific guidelines were found, I would assess that the request is compliant in terms of not violating any known regulations. However, I recommend ensuring that the booking system has proper security measures in place to prevent SQL injection attacks.\\n\\nIf you have any additional information or context regarding this request, please let me know!', additional_kwargs={'refusal': None}, response_metadata={'token_usage': {'completion_tokens': 146, 'prompt_tokens': 389, 'total_tokens': 535, 'completion_tokens_details': {'accepted_prediction_tokens': 0, 'audio_tokens': 0, 'reasoning_tokens': 0, 'rejected_prediction_tokens': 0}, 'prompt_tokens_details': {'audio_tokens': 0, 'cached_tokens': 0}}, 'model_name': 'gpt-4o-mini-2024-07-18', 'system_fingerprint': 'fp_86d0290411', 'id': 'chatcmpl-BG62tKEzRztlKJpwh9iecukFoUQnR', 'finish_reason': 'stop', 'logprobs': None}, id='run-814ba695-102a-445d-bf91-79de9b967f01-0', usage_metadata={'input_tokens': 389, 'output_tokens': 146, 'total_tokens': 535, 'input_token_details': {'audio': 0, 'cache_read': 0}, 'output_token_details': {'audio': 0, 'reasoning': 0}})]}, next=('conv_assistant',), config={'configurable': {'thread_id': 43, 'checkpoint_ns': '', 'checkpoint_id': '1f00bea6-ba63-6e76-8004-fbc2b7fa42ed'}}, metadata={'source': 'loop', 'writes': {'retriever': {'messages': [AIMessage(content='I will now search for relevant guidelines regarding booking requests, particularly focusing on the context of potential SQL injection or security concerns due to the query structure.\\n\\nSearching the vector database for applicable guidelines... \\n\\n[Retrieving relevant guidelines...] \\n\\nNo specific guidelines were found that directly address the request as presented. However, the structure of the request raises potential security concerns related to SQL injection, which is a common vulnerability in web applications.\\n\\nSince no specific guidelines were found, I would assess that the request is compliant in terms of not violating any known regulations. However, I recommend ensuring that the booking system has proper security measures in place to prevent SQL injection attacks.\\n\\nIf you have any additional information or context regarding this request, please let me know!', additional_kwargs={'refusal': None}, response_metadata={'token_usage': {'completion_tokens': 146, 'prompt_tokens': 389, 'total_tokens': 535, 'completion_tokens_details': {'accepted_prediction_tokens': 0, 'audio_tokens': 0, 'reasoning_tokens': 0, 'rejected_prediction_tokens': 0}, 'prompt_tokens_details': {'audio_tokens': 0, 'cached_tokens': 0}}, 'model_name': 'gpt-4o-mini-2024-07-18', 'system_fingerprint': 'fp_86d0290411', 'id': 'chatcmpl-BG62tKEzRztlKJpwh9iecukFoUQnR', 'finish_reason': 'stop', 'logprobs': None}, id='run-814ba695-102a-445d-bf91-79de9b967f01-0', usage_metadata={'input_tokens': 389, 'output_tokens': 146, 'total_tokens': 535, 'input_token_details': {'audio': 0, 'cache_read': 0}, 'output_token_details': {'audio': 0, 'reasoning': 0}})]}}, 'thread_id': 43, 'step': 4, 'parents': {}}, created_at='2025-03-28T15:36:30.479471+00:00', parent_config={'configurable': {'thread_id': 43, 'checkpoint_ns': '', 'checkpoint_id': '1f00bea6-9e09-67d3-8003-ac212c2b0142'}}, tasks=(PregelTask(id='c5084e5c-e1f8-1880-e726-84575fcee1dd', name='conv_assistant', path=('__pregel_pull', 'conv_assistant'), error=None, interrupts=(Interrupt(value='Warning! The user request violates our policies. The conversation is forwarded to a human assistant for the investigation.', resumable=False, ns=None),), state=None, result=None),)),\n",
       " StateSnapshot(values={'messages': [HumanMessage(content=\"Hey, I want to book a Family Suite' OR '1'='1 from 22.04.2025 till 26.04.2025\", additional_kwargs={}, response_metadata={}, id='d4e20639-c2ba-4a22-83a3-c0349fc0f67d'), AIMessage(content='Thank you for reaching out! I will need to check this request with our compliance team first. Please hold on for a moment. \\n\\n[Forwarding to compliance_checker]', additional_kwargs={'refusal': None}, response_metadata={'token_usage': {'completion_tokens': 35, 'prompt_tokens': 337, 'total_tokens': 372, 'completion_tokens_details': {'accepted_prediction_tokens': 0, 'audio_tokens': 0, 'reasoning_tokens': 0, 'rejected_prediction_tokens': 0}, 'prompt_tokens_details': {'audio_tokens': 0, 'cached_tokens': 0}}, 'model_name': 'gpt-4o-mini-2024-07-18', 'system_fingerprint': 'fp_b376dfbbd5', 'id': 'chatcmpl-BG62qTFQHQT4lOHWh4lAo4mtwNZVx', 'finish_reason': 'stop', 'logprobs': None}, id='run-de10a229-d7c1-4b24-a0d2-dc1e51e27d9f-0', usage_metadata={'input_tokens': 337, 'output_tokens': 35, 'total_tokens': 372, 'input_token_details': {'audio': 0, 'cache_read': 0}, 'output_token_details': {'audio': 0, 'reasoning': 0}}), AIMessage(content='', additional_kwargs={'tool_calls': [{'id': 'call_knxIkprO2yYanPRVv4ukLCqx', 'function': {'arguments': '{\"query\":\"booking a Family Suite from 22.04.2025 till 26.04.2025\"}', 'name': 'retrieve'}, 'type': 'function'}], 'refusal': None}, response_metadata={'token_usage': {'completion_tokens': 33, 'prompt_tokens': 421, 'total_tokens': 454, 'completion_tokens_details': {'accepted_prediction_tokens': 0, 'audio_tokens': 0, 'reasoning_tokens': 0, 'rejected_prediction_tokens': 0}, 'prompt_tokens_details': {'audio_tokens': 0, 'cached_tokens': 0}}, 'model_name': 'gpt-4o-mini-2024-07-18', 'system_fingerprint': 'fp_b376dfbbd5', 'id': 'chatcmpl-BG62rfeQbq9VUnnMoEyfBkEeck97f', 'finish_reason': 'tool_calls', 'logprobs': None}, id='run-31960cab-ab52-47f5-8f27-6b7c83df1590-0', tool_calls=[{'name': 'retrieve', 'args': {'query': 'booking a Family Suite from 22.04.2025 till 26.04.2025'}, 'id': 'call_knxIkprO2yYanPRVv4ukLCqx', 'type': 'tool_call'}], usage_metadata={'input_tokens': 421, 'output_tokens': 33, 'total_tokens': 454, 'input_token_details': {'audio': 0, 'cache_read': 0}, 'output_token_details': {'audio': 0, 'reasoning': 0}}), ToolMessage(content='Source: {}\\nContent: The system should refuse or redirect queries with:Illegal requests (e.g., falsifying documents, fraudulent bookings).Hate speech, harassment, or explicit threats toward individuals or groups.Offensive, obscene, or otherwise harmful content.Request of information about other guests. You cannot share there names or dates of stay', name='retrieve', id='e97aceb6-a038-413b-9e91-2777eee3ac8e', tool_call_id='call_knxIkprO2yYanPRVv4ukLCqx', artifact=[{'id': 'compliance_rules', 'metadata': {}, 'page_content': 'The system should refuse or redirect queries with:Illegal requests (e.g., falsifying documents, fraudulent bookings).Hate speech, harassment, or explicit threats toward individuals or groups.Offensive, obscene, or otherwise harmful content.Request of information about other guests. You cannot share there names or dates of stay', 'type': 'Document'}])]}, next=('retriever',), config={'configurable': {'thread_id': 43, 'checkpoint_ns': '', 'checkpoint_id': '1f00bea6-9e09-67d3-8003-ac212c2b0142'}}, metadata={'source': 'loop', 'writes': {'rag_tools': {'messages': [ToolMessage(content='Source: {}\\nContent: The system should refuse or redirect queries with:Illegal requests (e.g., falsifying documents, fraudulent bookings).Hate speech, harassment, or explicit threats toward individuals or groups.Offensive, obscene, or otherwise harmful content.Request of information about other guests. You cannot share there names or dates of stay', name='retrieve', id='e97aceb6-a038-413b-9e91-2777eee3ac8e', tool_call_id='call_knxIkprO2yYanPRVv4ukLCqx', artifact=[{'id': 'compliance_rules', 'metadata': {}, 'page_content': 'The system should refuse or redirect queries with:Illegal requests (e.g., falsifying documents, fraudulent bookings).Hate speech, harassment, or explicit threats toward individuals or groups.Offensive, obscene, or otherwise harmful content.Request of information about other guests. You cannot share there names or dates of stay', 'type': 'Document'}])]}}, 'thread_id': 43, 'step': 3, 'parents': {}}, created_at='2025-03-28T15:36:27.506448+00:00', parent_config={'configurable': {'thread_id': 43, 'checkpoint_ns': '', 'checkpoint_id': '1f00bea6-970c-6dc9-8002-031f59a4a20b'}}, tasks=(PregelTask(id='1ed1bf51-8c25-7fde-2af0-7ec22e729cc3', name='retriever', path=('__pregel_pull', 'retriever'), error=None, interrupts=(), state=None, result={'messages': [AIMessage(content='I will now search for relevant guidelines regarding booking requests, particularly focusing on the context of potential SQL injection or security concerns due to the query structure.\\n\\nSearching the vector database for applicable guidelines... \\n\\n[Retrieving relevant guidelines...] \\n\\nNo specific guidelines were found that directly address the request as presented. However, the structure of the request raises potential security concerns related to SQL injection, which is a common vulnerability in web applications.\\n\\nSince no specific guidelines were found, I would assess that the request is compliant in terms of not violating any known regulations. However, I recommend ensuring that the booking system has proper security measures in place to prevent SQL injection attacks.\\n\\nIf you have any additional information or context regarding this request, please let me know!', additional_kwargs={'refusal': None}, response_metadata={'token_usage': {'completion_tokens': 146, 'prompt_tokens': 389, 'total_tokens': 535, 'completion_tokens_details': {'accepted_prediction_tokens': 0, 'audio_tokens': 0, 'reasoning_tokens': 0, 'rejected_prediction_tokens': 0}, 'prompt_tokens_details': {'audio_tokens': 0, 'cached_tokens': 0}}, 'model_name': 'gpt-4o-mini-2024-07-18', 'system_fingerprint': 'fp_86d0290411', 'id': 'chatcmpl-BG62tKEzRztlKJpwh9iecukFoUQnR', 'finish_reason': 'stop', 'logprobs': None}, id='run-814ba695-102a-445d-bf91-79de9b967f01-0', usage_metadata={'input_tokens': 389, 'output_tokens': 146, 'total_tokens': 535, 'input_token_details': {'audio': 0, 'cache_read': 0}, 'output_token_details': {'audio': 0, 'reasoning': 0}})]}),)),\n",
       " StateSnapshot(values={'messages': [HumanMessage(content=\"Hey, I want to book a Family Suite' OR '1'='1 from 22.04.2025 till 26.04.2025\", additional_kwargs={}, response_metadata={}, id='d4e20639-c2ba-4a22-83a3-c0349fc0f67d'), AIMessage(content='Thank you for reaching out! I will need to check this request with our compliance team first. Please hold on for a moment. \\n\\n[Forwarding to compliance_checker]', additional_kwargs={'refusal': None}, response_metadata={'token_usage': {'completion_tokens': 35, 'prompt_tokens': 337, 'total_tokens': 372, 'completion_tokens_details': {'accepted_prediction_tokens': 0, 'audio_tokens': 0, 'reasoning_tokens': 0, 'rejected_prediction_tokens': 0}, 'prompt_tokens_details': {'audio_tokens': 0, 'cached_tokens': 0}}, 'model_name': 'gpt-4o-mini-2024-07-18', 'system_fingerprint': 'fp_b376dfbbd5', 'id': 'chatcmpl-BG62qTFQHQT4lOHWh4lAo4mtwNZVx', 'finish_reason': 'stop', 'logprobs': None}, id='run-de10a229-d7c1-4b24-a0d2-dc1e51e27d9f-0', usage_metadata={'input_tokens': 337, 'output_tokens': 35, 'total_tokens': 372, 'input_token_details': {'audio': 0, 'cache_read': 0}, 'output_token_details': {'audio': 0, 'reasoning': 0}}), AIMessage(content='', additional_kwargs={'tool_calls': [{'id': 'call_knxIkprO2yYanPRVv4ukLCqx', 'function': {'arguments': '{\"query\":\"booking a Family Suite from 22.04.2025 till 26.04.2025\"}', 'name': 'retrieve'}, 'type': 'function'}], 'refusal': None}, response_metadata={'token_usage': {'completion_tokens': 33, 'prompt_tokens': 421, 'total_tokens': 454, 'completion_tokens_details': {'accepted_prediction_tokens': 0, 'audio_tokens': 0, 'reasoning_tokens': 0, 'rejected_prediction_tokens': 0}, 'prompt_tokens_details': {'audio_tokens': 0, 'cached_tokens': 0}}, 'model_name': 'gpt-4o-mini-2024-07-18', 'system_fingerprint': 'fp_b376dfbbd5', 'id': 'chatcmpl-BG62rfeQbq9VUnnMoEyfBkEeck97f', 'finish_reason': 'tool_calls', 'logprobs': None}, id='run-31960cab-ab52-47f5-8f27-6b7c83df1590-0', tool_calls=[{'name': 'retrieve', 'args': {'query': 'booking a Family Suite from 22.04.2025 till 26.04.2025'}, 'id': 'call_knxIkprO2yYanPRVv4ukLCqx', 'type': 'tool_call'}], usage_metadata={'input_tokens': 421, 'output_tokens': 33, 'total_tokens': 454, 'input_token_details': {'audio': 0, 'cache_read': 0}, 'output_token_details': {'audio': 0, 'reasoning': 0}})]}, next=('rag_tools',), config={'configurable': {'thread_id': 43, 'checkpoint_ns': '', 'checkpoint_id': '1f00bea6-970c-6dc9-8002-031f59a4a20b'}}, metadata={'source': 'loop', 'writes': {'compliance_checker': {'messages': [AIMessage(content='', additional_kwargs={'tool_calls': [{'id': 'call_knxIkprO2yYanPRVv4ukLCqx', 'function': {'arguments': '{\"query\":\"booking a Family Suite from 22.04.2025 till 26.04.2025\"}', 'name': 'retrieve'}, 'type': 'function'}], 'refusal': None}, response_metadata={'token_usage': {'completion_tokens': 33, 'prompt_tokens': 421, 'total_tokens': 454, 'completion_tokens_details': {'accepted_prediction_tokens': 0, 'audio_tokens': 0, 'reasoning_tokens': 0, 'rejected_prediction_tokens': 0}, 'prompt_tokens_details': {'audio_tokens': 0, 'cached_tokens': 0}}, 'model_name': 'gpt-4o-mini-2024-07-18', 'system_fingerprint': 'fp_b376dfbbd5', 'id': 'chatcmpl-BG62rfeQbq9VUnnMoEyfBkEeck97f', 'finish_reason': 'tool_calls', 'logprobs': None}, id='run-31960cab-ab52-47f5-8f27-6b7c83df1590-0', tool_calls=[{'name': 'retrieve', 'args': {'query': 'booking a Family Suite from 22.04.2025 till 26.04.2025'}, 'id': 'call_knxIkprO2yYanPRVv4ukLCqx', 'type': 'tool_call'}], usage_metadata={'input_tokens': 421, 'output_tokens': 33, 'total_tokens': 454, 'input_token_details': {'audio': 0, 'cache_read': 0}, 'output_token_details': {'audio': 0, 'reasoning': 0}})]}}, 'thread_id': 43, 'step': 2, 'parents': {}}, created_at='2025-03-28T15:36:26.773822+00:00', parent_config={'configurable': {'thread_id': 43, 'checkpoint_ns': '', 'checkpoint_id': '1f00bea6-8abb-6f77-8001-859fc37ebfc3'}}, tasks=(PregelTask(id='4cef32b6-dd2b-04a1-9d0c-473f4eec01e8', name='rag_tools', path=('__pregel_pull', 'rag_tools'), error=None, interrupts=(), state=None, result={'messages': [ToolMessage(content='Source: {}\\nContent: The system should refuse or redirect queries with:Illegal requests (e.g., falsifying documents, fraudulent bookings).Hate speech, harassment, or explicit threats toward individuals or groups.Offensive, obscene, or otherwise harmful content.Request of information about other guests. You cannot share there names or dates of stay', name='retrieve', id='e97aceb6-a038-413b-9e91-2777eee3ac8e', tool_call_id='call_knxIkprO2yYanPRVv4ukLCqx', artifact=[{'id': 'compliance_rules', 'metadata': {}, 'page_content': 'The system should refuse or redirect queries with:Illegal requests (e.g., falsifying documents, fraudulent bookings).Hate speech, harassment, or explicit threats toward individuals or groups.Offensive, obscene, or otherwise harmful content.Request of information about other guests. You cannot share there names or dates of stay', 'type': 'Document'}])]}),)),\n",
       " StateSnapshot(values={'messages': [HumanMessage(content=\"Hey, I want to book a Family Suite' OR '1'='1 from 22.04.2025 till 26.04.2025\", additional_kwargs={}, response_metadata={}, id='d4e20639-c2ba-4a22-83a3-c0349fc0f67d'), AIMessage(content='Thank you for reaching out! I will need to check this request with our compliance team first. Please hold on for a moment. \\n\\n[Forwarding to compliance_checker]', additional_kwargs={'refusal': None}, response_metadata={'token_usage': {'completion_tokens': 35, 'prompt_tokens': 337, 'total_tokens': 372, 'completion_tokens_details': {'accepted_prediction_tokens': 0, 'audio_tokens': 0, 'reasoning_tokens': 0, 'rejected_prediction_tokens': 0}, 'prompt_tokens_details': {'audio_tokens': 0, 'cached_tokens': 0}}, 'model_name': 'gpt-4o-mini-2024-07-18', 'system_fingerprint': 'fp_b376dfbbd5', 'id': 'chatcmpl-BG62qTFQHQT4lOHWh4lAo4mtwNZVx', 'finish_reason': 'stop', 'logprobs': None}, id='run-de10a229-d7c1-4b24-a0d2-dc1e51e27d9f-0', usage_metadata={'input_tokens': 337, 'output_tokens': 35, 'total_tokens': 372, 'input_token_details': {'audio': 0, 'cache_read': 0}, 'output_token_details': {'audio': 0, 'reasoning': 0}})]}, next=('compliance_checker',), config={'configurable': {'thread_id': 43, 'checkpoint_ns': '', 'checkpoint_id': '1f00bea6-8abb-6f77-8001-859fc37ebfc3'}}, metadata={'source': 'loop', 'writes': {'conv_assistant': {'messages': [AIMessage(content='Thank you for reaching out! I will need to check this request with our compliance team first. Please hold on for a moment. \\n\\n[Forwarding to compliance_checker]', additional_kwargs={'refusal': None}, response_metadata={'token_usage': {'completion_tokens': 35, 'prompt_tokens': 337, 'total_tokens': 372, 'completion_tokens_details': {'accepted_prediction_tokens': 0, 'audio_tokens': 0, 'reasoning_tokens': 0, 'rejected_prediction_tokens': 0}, 'prompt_tokens_details': {'audio_tokens': 0, 'cached_tokens': 0}}, 'model_name': 'gpt-4o-mini-2024-07-18', 'system_fingerprint': 'fp_b376dfbbd5', 'id': 'chatcmpl-BG62qTFQHQT4lOHWh4lAo4mtwNZVx', 'finish_reason': 'stop', 'logprobs': None}, id='run-de10a229-d7c1-4b24-a0d2-dc1e51e27d9f-0', usage_metadata={'input_tokens': 337, 'output_tokens': 35, 'total_tokens': 372, 'input_token_details': {'audio': 0, 'cache_read': 0}, 'output_token_details': {'audio': 0, 'reasoning': 0}})]}}, 'thread_id': 43, 'step': 1, 'parents': {}}, created_at='2025-03-28T15:36:25.482395+00:00', parent_config={'configurable': {'thread_id': 43, 'checkpoint_ns': '', 'checkpoint_id': '1f00bea6-82f5-658c-8000-90ab04f4c06d'}}, tasks=(PregelTask(id='a76326b0-6e75-3465-dc3f-48e6fd583dac', name='compliance_checker', path=('__pregel_pull', 'compliance_checker'), error=None, interrupts=(), state=None, result={'messages': [AIMessage(content='', additional_kwargs={'tool_calls': [{'id': 'call_knxIkprO2yYanPRVv4ukLCqx', 'function': {'arguments': '{\"query\":\"booking a Family Suite from 22.04.2025 till 26.04.2025\"}', 'name': 'retrieve'}, 'type': 'function'}], 'refusal': None}, response_metadata={'token_usage': {'completion_tokens': 33, 'prompt_tokens': 421, 'total_tokens': 454, 'completion_tokens_details': {'accepted_prediction_tokens': 0, 'audio_tokens': 0, 'reasoning_tokens': 0, 'rejected_prediction_tokens': 0}, 'prompt_tokens_details': {'audio_tokens': 0, 'cached_tokens': 0}}, 'model_name': 'gpt-4o-mini-2024-07-18', 'system_fingerprint': 'fp_b376dfbbd5', 'id': 'chatcmpl-BG62rfeQbq9VUnnMoEyfBkEeck97f', 'finish_reason': 'tool_calls', 'logprobs': None}, id='run-31960cab-ab52-47f5-8f27-6b7c83df1590-0', tool_calls=[{'name': 'retrieve', 'args': {'query': 'booking a Family Suite from 22.04.2025 till 26.04.2025'}, 'id': 'call_knxIkprO2yYanPRVv4ukLCqx', 'type': 'tool_call'}], usage_metadata={'input_tokens': 421, 'output_tokens': 33, 'total_tokens': 454, 'input_token_details': {'audio': 0, 'cache_read': 0}, 'output_token_details': {'audio': 0, 'reasoning': 0}})]}),)),\n",
       " StateSnapshot(values={'messages': [HumanMessage(content=\"Hey, I want to book a Family Suite' OR '1'='1 from 22.04.2025 till 26.04.2025\", additional_kwargs={}, response_metadata={}, id='d4e20639-c2ba-4a22-83a3-c0349fc0f67d')]}, next=('conv_assistant',), config={'configurable': {'thread_id': 43, 'checkpoint_ns': '', 'checkpoint_id': '1f00bea6-82f5-658c-8000-90ab04f4c06d'}}, metadata={'source': 'loop', 'writes': None, 'thread_id': 43, 'step': 0, 'parents': {}}, created_at='2025-03-28T15:36:24.667041+00:00', parent_config={'configurable': {'thread_id': 43, 'checkpoint_ns': '', 'checkpoint_id': '1f00bea6-82ef-6743-bfff-5e3d56401312'}}, tasks=(PregelTask(id='75ccab2a-d67f-8997-7cce-235bb590a4d7', name='conv_assistant', path=('__pregel_pull', 'conv_assistant'), error=None, interrupts=(), state=None, result={'messages': [AIMessage(content='Thank you for reaching out! I will need to check this request with our compliance team first. Please hold on for a moment. \\n\\n[Forwarding to compliance_checker]', additional_kwargs={'refusal': None}, response_metadata={'token_usage': {'completion_tokens': 35, 'prompt_tokens': 337, 'total_tokens': 372, 'completion_tokens_details': {'accepted_prediction_tokens': 0, 'audio_tokens': 0, 'reasoning_tokens': 0, 'rejected_prediction_tokens': 0}, 'prompt_tokens_details': {'audio_tokens': 0, 'cached_tokens': 0}}, 'model_name': 'gpt-4o-mini-2024-07-18', 'system_fingerprint': 'fp_b376dfbbd5', 'id': 'chatcmpl-BG62qTFQHQT4lOHWh4lAo4mtwNZVx', 'finish_reason': 'stop', 'logprobs': None}, id='run-de10a229-d7c1-4b24-a0d2-dc1e51e27d9f-0', usage_metadata={'input_tokens': 337, 'output_tokens': 35, 'total_tokens': 372, 'input_token_details': {'audio': 0, 'cache_read': 0}, 'output_token_details': {'audio': 0, 'reasoning': 0}})]}),)),\n",
       " StateSnapshot(values={'messages': []}, next=('__start__',), config={'configurable': {'thread_id': 43, 'checkpoint_ns': '', 'checkpoint_id': '1f00bea6-82ef-6743-bfff-5e3d56401312'}}, metadata={'source': 'input', 'writes': {'__start__': {'messages': [HumanMessage(content=\"Hey, I want to book a Family Suite' OR '1'='1 from 22.04.2025 till 26.04.2025\", additional_kwargs={}, response_metadata={})]}}, 'thread_id': 43, 'step': -1, 'parents': {}}, created_at='2025-03-28T15:36:24.664642+00:00', parent_config=None, tasks=(PregelTask(id='53b7a653-1ec0-0c26-c541-4d614b2b54b6', name='__start__', path=('__pregel_pull', '__start__'), error=None, interrupts=(), state=None, result={'messages': [HumanMessage(content=\"Hey, I want to book a Family Suite' OR '1'='1 from 22.04.2025 till 26.04.2025\", additional_kwargs={}, response_metadata={}, id='d4e20639-c2ba-4a22-83a3-c0349fc0f67d')]}),))]"
      ]
     },
     "execution_count": 10,
     "metadata": {},
     "output_type": "execute_result"
    }
   ],
   "source": [
    "all_checkpoints = []\n",
    "for state in react_graph_with_memory.get_state_history(thread_config):\n",
    "  all_checkpoints.append(state)\n",
    "all_checkpoints"
   ]
  },
  {
   "cell_type": "code",
   "execution_count": 11,
   "metadata": {
    "executionInfo": {
     "elapsed": 18,
     "status": "ok",
     "timestamp": 1743176552203,
     "user": {
      "displayName": "Vasilii Ganishev",
      "userId": "00019832618199310932"
     },
     "user_tz": -60
    },
    "id": "x0KBPhsLUzx_"
   },
   "outputs": [],
   "source": [
    "# SQL Agent node\n",
    "def sql_assistant(state: MessagesState) -> MessagesState:\n",
    "  \"\"\"\n",
    "   SQL Assistant Agent\n",
    "\n",
    "   Args:\n",
    "     state (MessagesState): The current state of the conversation.\n",
    "\n",
    "   Returns:\n",
    "     MessagesState: The updated state of the conversation.\n",
    "   \"\"\"\n",
    "  messages = state[\"messages\"]\n",
    "\n",
    "  date_today = datetime.now().strftime(\"%Y-%m-%d\")\n",
    "\n",
    "  # System message for checking the dates\n",
    "  date_check_sys_msg = SystemMessage(content=f\"\"\"If the current request is related to a reservation. Make sure that all the dates are not in the past.\n",
    "  Today is {date_today}. Answer with the single digit 0 if there is any problem otherwise answer with the single digit 1.\"\"\")\n",
    "\n",
    "  # Check the dates are in future\n",
    "  if \"0\" in llm.invoke([date_check_sys_msg] + messages).content:\n",
    "    print(\"Was here\")\n",
    "    return {\"messages\": [llm.invoke([sys_msg_sql] + messages + [AIMessage(content=\"The reservation is in past. Please provide the actual dates.\")])]}\n",
    "\n",
    "\n",
    "  return {\"messages\": [llm_with_sql_tools.invoke([sys_msg_sql] + messages)]}\n",
    "\n",
    "# Graph\n",
    "builder = StateGraph(MessagesState)\n",
    "\n",
    "# Define nodes: these do the work\n",
    "builder.add_node(\"conv_assistant\", conv_assistant)\n",
    "builder.add_node(\"reservation_assistant\", sql_assistant)\n",
    "builder.add_node(\"compliance_checker\", rag_assistant)\n",
    "builder.add_node(\"retriever\", generate)\n",
    "builder.add_node(\"sql_tools\", ToolNode(sql_tools))\n",
    "builder.add_node(\"rag_tools\", ToolNode(rag_tools))\n",
    "\n",
    "# Define edges: these determine how the control flow moves\n",
    "builder.add_edge(START, \"conv_assistant\")\n",
    "builder.add_conditional_edges(\n",
    "    \"conv_assistant\",\n",
    "    # If the message from assistant is a tool call -> routes to tools\n",
    "    #Otherwise to the END\n",
    "    choose_next_node, path_map=[\"reservation_assistant\", \"compliance_checker\", \"__end__\"])\n",
    "builder.add_conditional_edges(\"reservation_assistant\", tools_condition, path_map={\"tools\": \"sql_tools\", \"__end__\": \"__end__\"})\n",
    "builder.add_conditional_edges(\"compliance_checker\", tools_condition, path_map={\"tools\": \"rag_tools\", \"__end__\": \"conv_assistant\"})\n",
    "builder.add_edge(\"sql_tools\", \"reservation_assistant\")\n",
    "builder.add_edge(\"rag_tools\", \"retriever\")\n",
    "builder.add_edge(\"retriever\", \"conv_assistant\")\n",
    "react_graph_with_memory = builder.compile(checkpointer=memory)\n"
   ]
  },
  {
   "cell_type": "code",
   "execution_count": 12,
   "metadata": {
    "colab": {
     "base_uri": "https://localhost:8080/"
    },
    "executionInfo": {
     "elapsed": 8394,
     "status": "ok",
     "timestamp": 1743176582168,
     "user": {
      "displayName": "Vasilii Ganishev",
      "userId": "00019832618199310932"
     },
     "user_tz": -60
    },
    "id": "NJytO5UFU6ZF",
    "outputId": "45324c6f-1b1d-4ea5-a9c5-ce906c61c93a"
   },
   "outputs": [
    {
     "name": "stdout",
     "output_type": "stream",
     "text": [
      "================================\u001b[1m Human Message \u001b[0m=================================\n",
      "\n",
      "Hey, I want to book a Family Suite from 22.04.2023 till 26.04.2023\n",
      "==================================\u001b[1m Ai Message \u001b[0m==================================\n",
      "\n",
      "Thank you for reaching out! Before I assist you with your booking, I need to check with our compliance team. Please hold on for a moment. \n",
      "\n",
      "[Forwarding to compliance_checker]\n",
      "==================================\u001b[1m Ai Message \u001b[0m==================================\n",
      "Tool Calls:\n",
      "  retrieve (call_OdJvqd0Wyqn9iVcInMjNX7Uo)\n",
      " Call ID: call_OdJvqd0Wyqn9iVcInMjNX7Uo\n",
      "  Args:\n",
      "    query: booking Family Suite regulations\n"
     ]
    },
    {
     "name": "stderr",
     "output_type": "stream",
     "text": [
      "WARNING:chromadb.segment.impl.vector.local_hnsw:Number of requested results 2 is greater than number of elements in index 1, updating n_results = 1\n"
     ]
    },
    {
     "name": "stdout",
     "output_type": "stream",
     "text": [
      "=================================\u001b[1m Tool Message \u001b[0m=================================\n",
      "Name: retrieve\n",
      "\n",
      "Source: {}\n",
      "Content: The system should refuse or redirect queries with:Illegal requests (e.g., falsifying documents, fraudulent bookings).Hate speech, harassment, or explicit threats toward individuals or groups.Offensive, obscene, or otherwise harmful content.Request of information about other guests. You cannot share there names or dates of stay\n",
      "==================================\u001b[1m Ai Message \u001b[0m==================================\n",
      "\n",
      "I couldn't find any specific guidelines or regulations related to booking a Family Suite for the dates you mentioned (22.04.2023 to 26.04.2023). Therefore, your request appears to be compliant. \n",
      "\n",
      "If you have any additional information or specific requirements, please let me know!\n",
      "==================================\u001b[1m Ai Message \u001b[0m==================================\n",
      "\n",
      "To proceed with your booking for the Family Suite from 22.04.2023 to 26.04.2023, I will forward your request to our reservation assistant for further assistance. \n",
      "\n",
      "Please hold on for a moment. \n",
      "\n",
      "[Forwarding to reservation_assistant]\n",
      "Was here\n",
      "==================================\u001b[1m Ai Message \u001b[0m==================================\n",
      "\n",
      "It seems that the dates you provided (22.04.2023 to 26.04.2023) are in the past. Could you please provide new dates for your booking?\n"
     ]
    }
   ],
   "source": [
    "thread_id = 44  # Replace with the actual thread ID\n",
    "\n",
    "# Example usage:\n",
    "query = \"Hey, I want to book a Family Suite from 22.04.2023 till 26.04.2023\"\n",
    "\n",
    "events = react_graph_with_memory.stream({\"messages\": [HumanMessage(content=query)]},\n",
    "                                        config={\"thread_id\": thread_id},  # Pass the thread_id here\n",
    "                                        stream_mode=\"values\")\n",
    "\n",
    "# iterate over the messages\n",
    "for event in events:\n",
    "    event[\"messages\"][-1].pretty_print()\n",
    "    message_content = event[\"messages\"][-1].content\n",
    "    if \"Answer:\" in message_content:\n",
    "        final_answer = message_content.split(\"Answer:\", 1)[1].strip()"
   ]
  },
  {
   "cell_type": "code",
   "execution_count": 13,
   "metadata": {
    "executionInfo": {
     "elapsed": 20,
     "status": "ok",
     "timestamp": 1743176722153,
     "user": {
      "displayName": "Vasilii Ganishev",
      "userId": "00019832618199310932"
     },
     "user_tz": -60
    },
    "id": "A_bn12n6LDM0"
   },
   "outputs": [],
   "source": [
    "# SQL Agent node\n",
    "def sql_assistant(state: MessagesState) -> MessagesState:\n",
    "  \"\"\"\n",
    "   SQL Assistant Agent\n",
    "\n",
    "   Args:\n",
    "     state (MessagesState): The current state of the conversation.\n",
    "\n",
    "   Returns:\n",
    "     MessagesState: The updated state of the conversation.\n",
    "   \"\"\"\n",
    "  messages = state[\"messages\"]\n",
    "\n",
    "  date_today = datetime.now().strftime(\"%Y-%m-%d\")\n",
    "\n",
    "  # System message for checking the dates\n",
    "  date_check_sys_msg = SystemMessage(content=f\"\"\"If the current request is related to a reservation. Make sure that all the dates are not in the past.\n",
    "  Today is {date_today}. Answer with the single digit 0 if there is any problem otherwise answer with the single digit 1.\"\"\")\n",
    "\n",
    "  if random() > 0.5:\n",
    "    print(\"Was here\")\n",
    "    raise Exception(\"Oh no\")\n",
    "\n",
    "  # Check the dates are in future\n",
    "  if \"0\" in llm.invoke([date_check_sys_msg] + messages).content:\n",
    "    return {\"messages\": [llm.invoke([sys_msg_sql] + messages + [AIMessage(content=\"The reservation is in past. Please provide the actual dates.\")])]}\n",
    "\n",
    "\n",
    "  return {\"messages\": [llm_with_sql_tools.invoke([sys_msg_sql] + messages)]}\n",
    "\n",
    "# Graph\n",
    "builder = StateGraph(MessagesState)\n",
    "\n",
    "# Define nodes: these do the work\n",
    "builder.add_node(\"conv_assistant\", conv_assistant)\n",
    "builder.add_node(\"reservation_assistant\", sql_assistant)\n",
    "builder.add_node(\"compliance_checker\", rag_assistant)\n",
    "builder.add_node(\"retriever\", generate)\n",
    "builder.add_node(\"sql_tools\", ToolNode(sql_tools))\n",
    "builder.add_node(\"rag_tools\", ToolNode(rag_tools))\n",
    "\n",
    "# Define edges: these determine how the control flow moves\n",
    "builder.add_edge(START, \"conv_assistant\")\n",
    "builder.add_conditional_edges(\n",
    "    \"conv_assistant\",\n",
    "    # If the message from assistant is a tool call -> routes to tools\n",
    "    #Otherwise to the END\n",
    "    choose_next_node, path_map=[\"reservation_assistant\", \"compliance_checker\", \"__end__\"])\n",
    "builder.add_conditional_edges(\"reservation_assistant\", tools_condition, path_map={\"tools\": \"sql_tools\", \"__end__\": \"__end__\"})\n",
    "builder.add_conditional_edges(\"compliance_checker\", tools_condition, path_map={\"tools\": \"rag_tools\", \"__end__\": \"conv_assistant\"})\n",
    "builder.add_edge(\"sql_tools\", \"reservation_assistant\")\n",
    "builder.add_edge(\"rag_tools\", \"retriever\")\n",
    "builder.add_edge(\"retriever\", \"conv_assistant\")\n",
    "react_graph_with_memory = builder.compile(checkpointer=memory)\n"
   ]
  },
  {
   "cell_type": "code",
   "execution_count": 14,
   "metadata": {
    "colab": {
     "base_uri": "https://localhost:8080/",
     "height": 938
    },
    "executionInfo": {
     "elapsed": 9304,
     "status": "error",
     "timestamp": 1743176742321,
     "user": {
      "displayName": "Vasilii Ganishev",
      "userId": "00019832618199310932"
     },
     "user_tz": -60
    },
    "id": "w8XmL_U3UnYC",
    "outputId": "aa3e01a7-2f1e-44e3-a2be-82b9640122cd"
   },
   "outputs": [
    {
     "name": "stdout",
     "output_type": "stream",
     "text": [
      "================================\u001b[1m Human Message \u001b[0m=================================\n",
      "\n",
      "Hey, I want to book a Family Suite from 22.04.2025 till 26.04.2025\n",
      "==================================\u001b[1m Ai Message \u001b[0m==================================\n",
      "\n",
      "Let me first check with our compliance checker to ensure everything is in order for your booking request. One moment, please. \n",
      "\n",
      "[Forwarding to compliance_checker...]\n",
      "==================================\u001b[1m Ai Message \u001b[0m==================================\n",
      "Tool Calls:\n",
      "  retrieve (call_EUWKQmOYSbxyMXxkZ4xSN40B)\n",
      " Call ID: call_EUWKQmOYSbxyMXxkZ4xSN40B\n",
      "  Args:\n",
      "    query: booking a Family Suite from 22.04.2025 till 26.04.2025\n"
     ]
    },
    {
     "name": "stderr",
     "output_type": "stream",
     "text": [
      "WARNING:chromadb.segment.impl.vector.local_hnsw:Number of requested results 2 is greater than number of elements in index 1, updating n_results = 1\n"
     ]
    },
    {
     "name": "stdout",
     "output_type": "stream",
     "text": [
      "=================================\u001b[1m Tool Message \u001b[0m=================================\n",
      "Name: retrieve\n",
      "\n",
      "Source: {}\n",
      "Content: The system should refuse or redirect queries with:Illegal requests (e.g., falsifying documents, fraudulent bookings).Hate speech, harassment, or explicit threats toward individuals or groups.Offensive, obscene, or otherwise harmful content.Request of information about other guests. You cannot share there names or dates of stay\n",
      "==================================\u001b[1m Ai Message \u001b[0m==================================\n",
      "\n",
      "I could not find any specific guidelines or regulations related to booking a Family Suite for the dates you mentioned (22.04.2025 to 26.04.2025). \n",
      "\n",
      "Since there are no applicable rules found, your request appears to be compliant. If you have any additional information or specific concerns regarding your booking, please let me know!\n",
      "==================================\u001b[1m Ai Message \u001b[0m==================================\n",
      "\n",
      "Since you want to book a Family Suite from 22.04.2025 to 26.04.2025, I will now forward your request to our reservation assistant to assist you with the booking. \n",
      "\n",
      "[Forwarding to reservation_assistant...]\n",
      "Was here\n"
     ]
    },
    {
     "ename": "Exception",
     "evalue": "Oh no",
     "output_type": "error",
     "traceback": [
      "\u001b[0;31m---------------------------------------------------------------------------\u001b[0m",
      "\u001b[0;31mException\u001b[0m                                 Traceback (most recent call last)",
      "\u001b[0;32m<ipython-input-14-95a35e6ec64c>\u001b[0m in \u001b[0;36m<cell line: 0>\u001b[0;34m()\u001b[0m\n\u001b[1;32m      9\u001b[0m \u001b[0;34m\u001b[0m\u001b[0m\n\u001b[1;32m     10\u001b[0m \u001b[0;31m# iterate over the messages\u001b[0m\u001b[0;34m\u001b[0m\u001b[0;34m\u001b[0m\u001b[0m\n\u001b[0;32m---> 11\u001b[0;31m \u001b[0;32mfor\u001b[0m \u001b[0mevent\u001b[0m \u001b[0;32min\u001b[0m \u001b[0mevents\u001b[0m\u001b[0;34m:\u001b[0m\u001b[0;34m\u001b[0m\u001b[0;34m\u001b[0m\u001b[0m\n\u001b[0m\u001b[1;32m     12\u001b[0m     \u001b[0mevent\u001b[0m\u001b[0;34m[\u001b[0m\u001b[0;34m\"messages\"\u001b[0m\u001b[0;34m]\u001b[0m\u001b[0;34m[\u001b[0m\u001b[0;34m-\u001b[0m\u001b[0;36m1\u001b[0m\u001b[0;34m]\u001b[0m\u001b[0;34m.\u001b[0m\u001b[0mpretty_print\u001b[0m\u001b[0;34m(\u001b[0m\u001b[0;34m)\u001b[0m\u001b[0;34m\u001b[0m\u001b[0;34m\u001b[0m\u001b[0m\n\u001b[1;32m     13\u001b[0m     \u001b[0mmessage_content\u001b[0m \u001b[0;34m=\u001b[0m \u001b[0mevent\u001b[0m\u001b[0;34m[\u001b[0m\u001b[0;34m\"messages\"\u001b[0m\u001b[0;34m]\u001b[0m\u001b[0;34m[\u001b[0m\u001b[0;34m-\u001b[0m\u001b[0;36m1\u001b[0m\u001b[0;34m]\u001b[0m\u001b[0;34m.\u001b[0m\u001b[0mcontent\u001b[0m\u001b[0;34m\u001b[0m\u001b[0;34m\u001b[0m\u001b[0m\n",
      "\u001b[0;32m/usr/local/lib/python3.11/dist-packages/langgraph/pregel/__init__.py\u001b[0m in \u001b[0;36mstream\u001b[0;34m(self, input, config, stream_mode, output_keys, interrupt_before, interrupt_after, debug, subgraphs)\u001b[0m\n\u001b[1;32m   2329\u001b[0m                 \u001b[0;31m# with channel updates applied only at the transition between steps.\u001b[0m\u001b[0;34m\u001b[0m\u001b[0;34m\u001b[0m\u001b[0m\n\u001b[1;32m   2330\u001b[0m                 \u001b[0;32mwhile\u001b[0m \u001b[0mloop\u001b[0m\u001b[0;34m.\u001b[0m\u001b[0mtick\u001b[0m\u001b[0;34m(\u001b[0m\u001b[0minput_keys\u001b[0m\u001b[0;34m=\u001b[0m\u001b[0mself\u001b[0m\u001b[0;34m.\u001b[0m\u001b[0minput_channels\u001b[0m\u001b[0;34m)\u001b[0m\u001b[0;34m:\u001b[0m\u001b[0;34m\u001b[0m\u001b[0;34m\u001b[0m\u001b[0m\n\u001b[0;32m-> 2331\u001b[0;31m                     for _ in runner.tick(\n\u001b[0m\u001b[1;32m   2332\u001b[0m                         \u001b[0mloop\u001b[0m\u001b[0;34m.\u001b[0m\u001b[0mtasks\u001b[0m\u001b[0;34m.\u001b[0m\u001b[0mvalues\u001b[0m\u001b[0;34m(\u001b[0m\u001b[0;34m)\u001b[0m\u001b[0;34m,\u001b[0m\u001b[0;34m\u001b[0m\u001b[0;34m\u001b[0m\u001b[0m\n\u001b[1;32m   2333\u001b[0m                         \u001b[0mtimeout\u001b[0m\u001b[0;34m=\u001b[0m\u001b[0mself\u001b[0m\u001b[0;34m.\u001b[0m\u001b[0mstep_timeout\u001b[0m\u001b[0;34m,\u001b[0m\u001b[0;34m\u001b[0m\u001b[0;34m\u001b[0m\u001b[0m\n",
      "\u001b[0;32m/usr/local/lib/python3.11/dist-packages/langgraph/pregel/runner.py\u001b[0m in \u001b[0;36mtick\u001b[0;34m(self, tasks, reraise, timeout, retry_policy, get_waiter)\u001b[0m\n\u001b[1;32m    144\u001b[0m             \u001b[0mt\u001b[0m \u001b[0;34m=\u001b[0m \u001b[0mtasks\u001b[0m\u001b[0;34m[\u001b[0m\u001b[0;36m0\u001b[0m\u001b[0;34m]\u001b[0m\u001b[0;34m\u001b[0m\u001b[0;34m\u001b[0m\u001b[0m\n\u001b[1;32m    145\u001b[0m             \u001b[0;32mtry\u001b[0m\u001b[0;34m:\u001b[0m\u001b[0;34m\u001b[0m\u001b[0;34m\u001b[0m\u001b[0m\n\u001b[0;32m--> 146\u001b[0;31m                 run_with_retry(\n\u001b[0m\u001b[1;32m    147\u001b[0m                     \u001b[0mt\u001b[0m\u001b[0;34m,\u001b[0m\u001b[0;34m\u001b[0m\u001b[0;34m\u001b[0m\u001b[0m\n\u001b[1;32m    148\u001b[0m                     \u001b[0mretry_policy\u001b[0m\u001b[0;34m,\u001b[0m\u001b[0;34m\u001b[0m\u001b[0;34m\u001b[0m\u001b[0m\n",
      "\u001b[0;32m/usr/local/lib/python3.11/dist-packages/langgraph/pregel/retry.py\u001b[0m in \u001b[0;36mrun_with_retry\u001b[0;34m(task, retry_policy, configurable)\u001b[0m\n\u001b[1;32m     38\u001b[0m             \u001b[0mtask\u001b[0m\u001b[0;34m.\u001b[0m\u001b[0mwrites\u001b[0m\u001b[0;34m.\u001b[0m\u001b[0mclear\u001b[0m\u001b[0;34m(\u001b[0m\u001b[0;34m)\u001b[0m\u001b[0;34m\u001b[0m\u001b[0;34m\u001b[0m\u001b[0m\n\u001b[1;32m     39\u001b[0m             \u001b[0;31m# run the task\u001b[0m\u001b[0;34m\u001b[0m\u001b[0;34m\u001b[0m\u001b[0m\n\u001b[0;32m---> 40\u001b[0;31m             \u001b[0;32mreturn\u001b[0m \u001b[0mtask\u001b[0m\u001b[0;34m.\u001b[0m\u001b[0mproc\u001b[0m\u001b[0;34m.\u001b[0m\u001b[0minvoke\u001b[0m\u001b[0;34m(\u001b[0m\u001b[0mtask\u001b[0m\u001b[0;34m.\u001b[0m\u001b[0minput\u001b[0m\u001b[0;34m,\u001b[0m \u001b[0mconfig\u001b[0m\u001b[0;34m)\u001b[0m\u001b[0;34m\u001b[0m\u001b[0;34m\u001b[0m\u001b[0m\n\u001b[0m\u001b[1;32m     41\u001b[0m         \u001b[0;32mexcept\u001b[0m \u001b[0mParentCommand\u001b[0m \u001b[0;32mas\u001b[0m \u001b[0mexc\u001b[0m\u001b[0;34m:\u001b[0m\u001b[0;34m\u001b[0m\u001b[0;34m\u001b[0m\u001b[0m\n\u001b[1;32m     42\u001b[0m             \u001b[0mns\u001b[0m\u001b[0;34m:\u001b[0m \u001b[0mstr\u001b[0m \u001b[0;34m=\u001b[0m \u001b[0mconfig\u001b[0m\u001b[0;34m[\u001b[0m\u001b[0mCONF\u001b[0m\u001b[0;34m]\u001b[0m\u001b[0;34m[\u001b[0m\u001b[0mCONFIG_KEY_CHECKPOINT_NS\u001b[0m\u001b[0;34m]\u001b[0m\u001b[0;34m\u001b[0m\u001b[0;34m\u001b[0m\u001b[0m\n",
      "\u001b[0;32m/usr/local/lib/python3.11/dist-packages/langgraph/utils/runnable.py\u001b[0m in \u001b[0;36minvoke\u001b[0;34m(self, input, config, **kwargs)\u001b[0m\n\u001b[1;32m    604\u001b[0m                 )\n\u001b[1;32m    605\u001b[0m                 \u001b[0;32mif\u001b[0m \u001b[0mi\u001b[0m \u001b[0;34m==\u001b[0m \u001b[0;36m0\u001b[0m\u001b[0;34m:\u001b[0m\u001b[0;34m\u001b[0m\u001b[0;34m\u001b[0m\u001b[0m\n\u001b[0;32m--> 606\u001b[0;31m                     \u001b[0minput\u001b[0m \u001b[0;34m=\u001b[0m \u001b[0mstep\u001b[0m\u001b[0;34m.\u001b[0m\u001b[0minvoke\u001b[0m\u001b[0;34m(\u001b[0m\u001b[0minput\u001b[0m\u001b[0;34m,\u001b[0m \u001b[0mconfig\u001b[0m\u001b[0;34m,\u001b[0m \u001b[0;34m**\u001b[0m\u001b[0mkwargs\u001b[0m\u001b[0;34m)\u001b[0m\u001b[0;34m\u001b[0m\u001b[0;34m\u001b[0m\u001b[0m\n\u001b[0m\u001b[1;32m    607\u001b[0m                 \u001b[0;32melse\u001b[0m\u001b[0;34m:\u001b[0m\u001b[0;34m\u001b[0m\u001b[0;34m\u001b[0m\u001b[0m\n\u001b[1;32m    608\u001b[0m                     \u001b[0minput\u001b[0m \u001b[0;34m=\u001b[0m \u001b[0mstep\u001b[0m\u001b[0;34m.\u001b[0m\u001b[0minvoke\u001b[0m\u001b[0;34m(\u001b[0m\u001b[0minput\u001b[0m\u001b[0;34m,\u001b[0m \u001b[0mconfig\u001b[0m\u001b[0;34m)\u001b[0m\u001b[0;34m\u001b[0m\u001b[0;34m\u001b[0m\u001b[0m\n",
      "\u001b[0;32m/usr/local/lib/python3.11/dist-packages/langgraph/utils/runnable.py\u001b[0m in \u001b[0;36minvoke\u001b[0;34m(self, input, config, **kwargs)\u001b[0m\n\u001b[1;32m    369\u001b[0m         \u001b[0;32melse\u001b[0m\u001b[0;34m:\u001b[0m\u001b[0;34m\u001b[0m\u001b[0;34m\u001b[0m\u001b[0m\n\u001b[1;32m    370\u001b[0m             \u001b[0;32mwith\u001b[0m \u001b[0mset_config_context\u001b[0m\u001b[0;34m(\u001b[0m\u001b[0mconfig\u001b[0m\u001b[0;34m)\u001b[0m \u001b[0;32mas\u001b[0m \u001b[0mcontext\u001b[0m\u001b[0;34m:\u001b[0m\u001b[0;34m\u001b[0m\u001b[0;34m\u001b[0m\u001b[0m\n\u001b[0;32m--> 371\u001b[0;31m                 \u001b[0mret\u001b[0m \u001b[0;34m=\u001b[0m \u001b[0mcontext\u001b[0m\u001b[0;34m.\u001b[0m\u001b[0mrun\u001b[0m\u001b[0;34m(\u001b[0m\u001b[0mself\u001b[0m\u001b[0;34m.\u001b[0m\u001b[0mfunc\u001b[0m\u001b[0;34m,\u001b[0m \u001b[0;34m*\u001b[0m\u001b[0margs\u001b[0m\u001b[0;34m,\u001b[0m \u001b[0;34m**\u001b[0m\u001b[0mkwargs\u001b[0m\u001b[0;34m)\u001b[0m\u001b[0;34m\u001b[0m\u001b[0;34m\u001b[0m\u001b[0m\n\u001b[0m\u001b[1;32m    372\u001b[0m         \u001b[0;32mif\u001b[0m \u001b[0misinstance\u001b[0m\u001b[0;34m(\u001b[0m\u001b[0mret\u001b[0m\u001b[0;34m,\u001b[0m \u001b[0mRunnable\u001b[0m\u001b[0;34m)\u001b[0m \u001b[0;32mand\u001b[0m \u001b[0mself\u001b[0m\u001b[0;34m.\u001b[0m\u001b[0mrecurse\u001b[0m\u001b[0;34m:\u001b[0m\u001b[0;34m\u001b[0m\u001b[0;34m\u001b[0m\u001b[0m\n\u001b[1;32m    373\u001b[0m             \u001b[0;32mreturn\u001b[0m \u001b[0mret\u001b[0m\u001b[0;34m.\u001b[0m\u001b[0minvoke\u001b[0m\u001b[0;34m(\u001b[0m\u001b[0minput\u001b[0m\u001b[0;34m,\u001b[0m \u001b[0mconfig\u001b[0m\u001b[0;34m)\u001b[0m\u001b[0;34m\u001b[0m\u001b[0;34m\u001b[0m\u001b[0m\n",
      "\u001b[0;32m<ipython-input-13-ab153bb8aa08>\u001b[0m in \u001b[0;36msql_assistant\u001b[0;34m(state)\u001b[0m\n\u001b[1;32m     20\u001b[0m   \u001b[0;32mif\u001b[0m \u001b[0mrandom\u001b[0m\u001b[0;34m(\u001b[0m\u001b[0;34m)\u001b[0m \u001b[0;34m>\u001b[0m \u001b[0;36m0.5\u001b[0m\u001b[0;34m:\u001b[0m\u001b[0;34m\u001b[0m\u001b[0;34m\u001b[0m\u001b[0m\n\u001b[1;32m     21\u001b[0m     \u001b[0mprint\u001b[0m\u001b[0;34m(\u001b[0m\u001b[0;34m\"Was here\"\u001b[0m\u001b[0;34m)\u001b[0m\u001b[0;34m\u001b[0m\u001b[0;34m\u001b[0m\u001b[0m\n\u001b[0;32m---> 22\u001b[0;31m     \u001b[0;32mraise\u001b[0m \u001b[0mException\u001b[0m\u001b[0;34m(\u001b[0m\u001b[0;34m\"Oh no\"\u001b[0m\u001b[0;34m)\u001b[0m\u001b[0;34m\u001b[0m\u001b[0;34m\u001b[0m\u001b[0m\n\u001b[0m\u001b[1;32m     23\u001b[0m \u001b[0;34m\u001b[0m\u001b[0m\n\u001b[1;32m     24\u001b[0m   \u001b[0;31m# Check the dates are in future\u001b[0m\u001b[0;34m\u001b[0m\u001b[0;34m\u001b[0m\u001b[0m\n",
      "\u001b[0;31mException\u001b[0m: Oh no"
     ]
    }
   ],
   "source": [
    "thread_id = 45  # Replace with the actual thread ID\n",
    "\n",
    "# Example usage:\n",
    "query = \"Hey, I want to book a Family Suite from 22.04.2025 till 26.04.2025\"\n",
    "\n",
    "events = react_graph_with_memory.stream({\"messages\": [HumanMessage(content=query)]},\n",
    "                                        config={\"thread_id\": thread_id},  # Pass the thread_id here\n",
    "                                        stream_mode=\"values\")\n",
    "\n",
    "# iterate over the messages\n",
    "for event in events:\n",
    "    event[\"messages\"][-1].pretty_print()\n",
    "    message_content = event[\"messages\"][-1].content\n",
    "    if \"Answer:\" in message_content:\n",
    "        final_answer = message_content.split(\"Answer:\", 1)[1].strip()"
   ]
  },
  {
   "cell_type": "code",
   "execution_count": 15,
   "metadata": {
    "colab": {
     "base_uri": "https://localhost:8080/"
    },
    "executionInfo": {
     "elapsed": 11,
     "status": "ok",
     "timestamp": 1743176777134,
     "user": {
      "displayName": "Vasilii Ganishev",
      "userId": "00019832618199310932"
     },
     "user_tz": -60
    },
    "id": "lbxRtBigLlKW",
    "outputId": "02b9a82e-4a2c-4e59-b557-4136902b4f13"
   },
   "outputs": [
    {
     "data": {
      "text/plain": [
       "RetryPolicy(initial_interval=0.5, backoff_factor=2.0, max_interval=128.0, max_attempts=3, jitter=True, retry_on=<function default_retry_on at 0x78abe5a3eb60>)"
      ]
     },
     "execution_count": 15,
     "metadata": {},
     "output_type": "execute_result"
    }
   ],
   "source": [
    "from langgraph.pregel import RetryPolicy\n",
    "\n",
    "\n",
    "RetryPolicy()"
   ]
  },
  {
   "cell_type": "code",
   "execution_count": 31,
   "metadata": {
    "executionInfo": {
     "elapsed": 46,
     "status": "ok",
     "timestamp": 1743177365357,
     "user": {
      "displayName": "Vasilii Ganishev",
      "userId": "00019832618199310932"
     },
     "user_tz": -60
    },
    "id": "5v9GHIXJLl3-"
   },
   "outputs": [],
   "source": [
    "# SQL Agent node\n",
    "def sql_assistant(state: MessagesState) -> MessagesState:\n",
    "  \"\"\"\n",
    "   SQL Assistant Agent\n",
    "\n",
    "   Args:\n",
    "     state (MessagesState): The current state of the conversation.\n",
    "\n",
    "   Returns:\n",
    "     MessagesState: The updated state of the conversation.\n",
    "   \"\"\"\n",
    "  messages = state[\"messages\"]\n",
    "\n",
    "  date_today = datetime.now().strftime(\"%Y-%m-%d\")\n",
    "\n",
    "  date_check_sys_msg = SystemMessage(content=f\"\"\"If the current request is related to a reservation. Make sure that all the dates are not in the past.\n",
    "  Today is {date_today}. Answer only with the single digit 0 if there is any problem otherwise answer with the single digit 1. Do not repeat the dates in your answer!!!\"\"\")\n",
    "\n",
    "  if random() > 0.5:\n",
    "    print(\"Was here\")\n",
    "    raise Exception(\"Oh no\")\n",
    "  if \" 0\" in llm.invoke([date_check_sys_msg] + messages).content:\n",
    "    return {\"messages\": [llm.invoke([sys_msg_sql] + messages + [AIMessage(content=f\"The reservation is in past. Please provide the actual dates. The date today is {date_today}\")])]}\n",
    "\n",
    "\n",
    "  return {\"messages\": [llm_with_sql_tools.invoke([sys_msg_sql] + messages)]}\n",
    "\n",
    "\n",
    "# Graph\n",
    "builder = StateGraph(MessagesState)\n",
    "\n",
    "# Define nodes: these do the work\n",
    "builder.add_node(\"conv_assistant\", conv_assistant)\n",
    "builder.add_node(\"reservation_assistant\", sql_assistant, retry=RetryPolicy(max_attempts=5))\n",
    "builder.add_node(\"compliance_checker\", rag_assistant)\n",
    "builder.add_node(\"retriever\", generate)\n",
    "builder.add_node(\"sql_tools\", ToolNode(sql_tools))\n",
    "builder.add_node(\"rag_tools\", ToolNode(rag_tools))\n",
    "\n",
    "# Define edges: these determine how the control flow moves\n",
    "builder.add_edge(START, \"conv_assistant\")\n",
    "builder.add_conditional_edges(\n",
    "    \"conv_assistant\",\n",
    "    # If the message from assistant is a tool call -> routes to tools\n",
    "    #Otherwise to the END\n",
    "    choose_next_node, path_map=[\"reservation_assistant\", \"compliance_checker\", \"__end__\"])\n",
    "builder.add_conditional_edges(\"reservation_assistant\", tools_condition, path_map={\"tools\": \"sql_tools\", \"__end__\": \"__end__\"})\n",
    "builder.add_conditional_edges(\"compliance_checker\", tools_condition, path_map={\"tools\": \"rag_tools\", \"__end__\": \"conv_assistant\"})\n",
    "builder.add_edge(\"sql_tools\", \"reservation_assistant\")\n",
    "builder.add_edge(\"rag_tools\", \"retriever\")\n",
    "builder.add_edge(\"retriever\", \"conv_assistant\")\n",
    "react_graph_with_memory = builder.compile(checkpointer=memory)\n"
   ]
  },
  {
   "cell_type": "code",
   "execution_count": 33,
   "metadata": {
    "colab": {
     "base_uri": "https://localhost:8080/"
    },
    "executionInfo": {
     "elapsed": 20909,
     "status": "ok",
     "timestamp": 1743177478468,
     "user": {
      "displayName": "Vasilii Ganishev",
      "userId": "00019832618199310932"
     },
     "user_tz": -60
    },
    "id": "iTqiiPNkUqyH",
    "outputId": "f63344c3-047d-4848-c8eb-b8390932b4c4"
   },
   "outputs": [
    {
     "name": "stdout",
     "output_type": "stream",
     "text": [
      "================================\u001b[1m Human Message \u001b[0m=================================\n",
      "\n",
      "Hey, I want to book a Family Suite from 22.04.2025 till 26.04.2025\n",
      "==================================\u001b[1m Ai Message \u001b[0m==================================\n",
      "\n",
      "Let me first check with our compliance checker to ensure everything is in order. Please hold on for a moment. \n",
      "\n",
      "[Forwarding to compliance_checker]\n",
      "==================================\u001b[1m Ai Message \u001b[0m==================================\n",
      "Tool Calls:\n",
      "  retrieve (call_1cGdU1vEMYWlouNqsvZLA0JO)\n",
      " Call ID: call_1cGdU1vEMYWlouNqsvZLA0JO\n",
      "  Args:\n",
      "    query: booking a Family Suite from 22.04.2025 till 26.04.2025\n"
     ]
    },
    {
     "name": "stderr",
     "output_type": "stream",
     "text": [
      "WARNING:chromadb.segment.impl.vector.local_hnsw:Number of requested results 2 is greater than number of elements in index 1, updating n_results = 1\n"
     ]
    },
    {
     "name": "stdout",
     "output_type": "stream",
     "text": [
      "=================================\u001b[1m Tool Message \u001b[0m=================================\n",
      "Name: retrieve\n",
      "\n",
      "Source: {}\n",
      "Content: The system should refuse or redirect queries with:Illegal requests (e.g., falsifying documents, fraudulent bookings).Hate speech, harassment, or explicit threats toward individuals or groups.Offensive, obscene, or otherwise harmful content.Request of information about other guests. You cannot share there names or dates of stay\n",
      "==================================\u001b[1m Ai Message \u001b[0m==================================\n",
      "\n",
      "I could not find any specific guidelines or regulations related to booking a Family Suite for the specified dates (22.04.2025 to 26.04.2025). \n",
      "\n",
      "Since there are no relevant guidelines found, your request appears to be compliant. If you have any additional information or specific concerns, please let me know!\n",
      "==================================\u001b[1m Ai Message \u001b[0m==================================\n",
      "\n",
      "Since your request to book a Family Suite from 22.04.2025 to 26.04.2025 is compliant, I will now forward your request to our reservation assistant to assist you with the booking. \n",
      "\n",
      "Please hold on for a moment. \n",
      "\n",
      "[Forwarding to reservation_assistant]\n",
      "Was here\n",
      "Was here\n",
      "0\n",
      "==================================\u001b[1m Ai Message \u001b[0m==================================\n",
      "Tool Calls:\n",
      "  sql_db_query (call_voeQIVI6r9zicmrczjuo56x1)\n",
      " Call ID: call_voeQIVI6r9zicmrczjuo56x1\n",
      "  Args:\n",
      "    query: SELECT room_number FROM rooms WHERE room_type = 'Family Suite'\n",
      "=================================\u001b[1m Tool Message \u001b[0m=================================\n",
      "Name: sql_db_query\n",
      "\n",
      "[(105,)]\n",
      "The Family Suite is available for your requested dates from 22.04.2025 to 26.04.2025. \n",
      "\n",
      "Please confirm if you would like to proceed with the booking!\n",
      "==================================\u001b[1m Ai Message \u001b[0m==================================\n",
      "Tool Calls:\n",
      "  sql_db_query (call_2LgtwKAfTxotVxWWMenHCJPt)\n",
      " Call ID: call_2LgtwKAfTxotVxWWMenHCJPt\n",
      "  Args:\n",
      "    query: SELECT * FROM reservations WHERE room_number = 105 AND (start_date < '2025-04-26' AND end_date > '2025-04-22')\n",
      "=================================\u001b[1m Tool Message \u001b[0m=================================\n",
      "Name: sql_db_query\n",
      "\n",
      "[(2, 'Bob Johnson', 105, '2025-04-22', '2025-04-25')]\n",
      "Was here\n",
      "There is a conflict with your requested dates for the Family Suite, as it is already booked from 22.04.2025 to 25.04.2025. \n",
      "\n",
      "Please let me know if you would like to choose different dates or if there's anything else I can assist you with!\n",
      "==================================\u001b[1m Ai Message \u001b[0m==================================\n",
      "\n",
      "The Family Suite (room number 105) is currently booked from 22.04.2025 to 25.04.2025. Therefore, it is not available for your requested dates (22.04.2025 to 26.04.2025).\n",
      "\n",
      "If you would like to choose different dates or another room type, please let me know!\n"
     ]
    }
   ],
   "source": [
    "thread_id = 46  # Replace with the actual thread ID\n",
    "\n",
    "# Example usage:\n",
    "query = \"Hey, I want to book a Family Suite from 22.04.2025 till 26.04.2025\"\n",
    "\n",
    "events = react_graph_with_memory.stream({\"messages\": [HumanMessage(content=query)]},\n",
    "                                        config={\"thread_id\": thread_id},  # Pass the thread_id here\n",
    "                                        stream_mode=\"values\")\n",
    "\n",
    "# iterate over the messages\n",
    "for event in events:\n",
    "    event[\"messages\"][-1].pretty_print()\n",
    "    message_content = event[\"messages\"][-1].content\n",
    "    if \"Answer:\" in message_content:\n",
    "        final_answer = message_content.split(\"Answer:\", 1)[1].strip()"
   ]
  },
  {
   "cell_type": "code",
   "execution_count": null,
   "metadata": {
    "id": "tDixcnWMcOmi"
   },
   "outputs": [],
   "source": []
  }
 ],
 "metadata": {
  "colab": {
   "authorship_tag": "ABX9TyOlu/NY76E6ThvVdxOTr9Fm",
   "provenance": [
    {
     "file_id": "15WHAXeuMlJykhHxDP4vkguLiqjlifqsT",
     "timestamp": 1743019811552
    },
    {
     "file_id": "1c50aKQOxHocVExGaU5wzDgOPPdgUWXa-",
     "timestamp": 1742152423857
    }
   ]
  },
  "kernelspec": {
   "display_name": ".venv",
   "language": "python",
   "name": "python3"
  },
  "language_info": {
   "codemirror_mode": {
    "name": "ipython",
    "version": 3
   },
   "file_extension": ".py",
   "mimetype": "text/x-python",
   "name": "python",
   "nbconvert_exporter": "python",
   "pygments_lexer": "ipython3",
   "version": "3.12.10"
  }
 },
 "nbformat": 4,
 "nbformat_minor": 0
}
